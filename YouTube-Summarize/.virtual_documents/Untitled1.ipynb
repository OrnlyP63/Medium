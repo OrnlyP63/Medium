import matplotlib.pyplot as plt
import yfinance as yf
import numpy as np


ticker = "^GSPC"

# Download the data
spx_data = yf.download(ticker, interval="1d")


spx_data = spx_data[spx_data.index.year > 2018]


ret = np.log(spx_data['Close']).diff()


ret.plot()


ret.hist(bins=100)



