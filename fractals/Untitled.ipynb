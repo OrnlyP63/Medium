{
 "cells": [
  {
   "cell_type": "markdown",
   "id": "cadba482-fe9a-4ba2-bdbc-96352e91ce92",
   "metadata": {},
   "source": [
    "# Only power laws are scale free\n",
    "\n",
    "Power-Law definition: $P(X=x) = Ax^{-\\alpha}$\n",
    "\n",
    "Consider \n",
    "\n",
    "$$\\frac{P(X = x)}{P(X = 2x)} = \\frac{Ax^{-\\alpha}}{A(2x)^{-\\alpha}} = 2^{\\alpha}$$\n",
    "\n",
    "--- \n",
    "\n",
    "If $P(X)$ is scale free then: $$\\frac{P(X = x)}{P(X = bx)} = g(b)$$\n",
    "\n",
    "Let $X = 1$\n",
    "\n",
    "$$\\frac{P(X = 1)}{P(X = b)} = g(b)\\rightarrow \\frac{P(X = x)}{P(X = bx)} = \\frac{P(X = 1)}{P(X = b)}$$\n",
    "\n",
    "So\n",
    "\n",
    "$$\\begin{align}\n",
    "P(bx)P(1) &= P(x)P(b)\\\\\\\\\n",
    "P(bx) &= \\frac{P(x)P(b)}{P(1)}\\\\\\\\\n",
    "\\frac{d}{db}P(bx) &= \\frac{d}{db}\\frac{P(x)P(b)}{P(1)}\\\\\\\\\n",
    "xP'(bx) &= P'(b)\\frac{P(x)}{P(1)}\n",
    "\\end{align}$$\n",
    "\n",
    "Set $b=1$ and $a = \\frac{P'(1)}{P(1)}$ Then\n",
    "\n",
    "$$xP'(x) = \\frac{P'(1)}{P(1)}P(x) = aP(x)$$\n",
    "\n",
    "And\n",
    "\n",
    "$$\\begin{align}\n",
    "x\\frac{dP}{dx} &= aP\\\\\\\\\n",
    "\\int\\frac{1}{P}dP &= \\int \\frac{a}{x}dx\\\\\\\\\n",
    "\\ln(P) &= a\\ln(x) + K\n",
    "\\end{align}$$\n",
    "\n",
    "Set $x = 1$\n",
    "\n",
    "$$\\begin{align}\n",
    "\\ln(P(1)) &= a\\ln(1) + K \\\\\\\\\n",
    "K &= \\ln(P(1))\n",
    "\\end{align}$$\n",
    "\n",
    "Then\n",
    "\n",
    "$$\\begin{align}\n",
    "\\ln(P) &= a\\ln(x) + \\ln(P(1))\\\\\n",
    "e^{\\ln(P)} &=  e^{a\\ln(x) + \\ln(P(1))}\\\\\n",
    "e^{\\ln(P)} &=  e^{a\\ln(x)}e^{\\ln(P(1))}\\\\\n",
    "&=  e^{\\ln(x^a)}e^{\\ln(P(1))}\\\\\n",
    "P(x) &= x^a P(1)\\\\\n",
    "P(x) &= A x^a \n",
    "\\end{align}$$"
   ]
  },
  {
   "cell_type": "code",
   "execution_count": null,
   "id": "23594b32-9450-40d5-9d2a-4353c211818e",
   "metadata": {},
   "outputs": [],
   "source": []
  }
 ],
 "metadata": {
  "kernelspec": {
   "display_name": "AIML",
   "language": "python",
   "name": "aiml"
  },
  "language_info": {
   "codemirror_mode": {
    "name": "ipython",
    "version": 3
   },
   "file_extension": ".py",
   "mimetype": "text/x-python",
   "name": "python",
   "nbconvert_exporter": "python",
   "pygments_lexer": "ipython3",
   "version": "3.8.17"
  }
 },
 "nbformat": 4,
 "nbformat_minor": 5
}
