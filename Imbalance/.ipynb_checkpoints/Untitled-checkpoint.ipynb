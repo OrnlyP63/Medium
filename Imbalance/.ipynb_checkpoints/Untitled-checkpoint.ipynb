{
 "cells": [
  {
   "cell_type": "markdown",
   "id": "0659286c-8331-48c7-ac06-0f6a0e41d385",
   "metadata": {},
   "source": [
    "# Example for Imbalance Regression "
   ]
  },
  {
   "cell_type": "code",
   "execution_count": 1,
   "id": "015b5802-01d0-42d9-916b-e7c9097a437b",
   "metadata": {},
   "outputs": [],
   "source": [
    "from sklearn.datasets import load_boston\n",
    "import pandas as pd"
   ]
  },
  {
   "cell_type": "code",
   "execution_count": 2,
   "id": "64b028d1-7bd7-4743-b24d-c00cc9a5864b",
   "metadata": {},
   "outputs": [],
   "source": [
    "import numpy as np \n",
    "import scipy as sp\n",
    "import matplotlib.pyplot as plt"
   ]
  },
  {
   "cell_type": "code",
   "execution_count": 3,
   "id": "525398ab-b1d0-4344-bb38-339c0c0e43ac",
   "metadata": {},
   "outputs": [],
   "source": [
    "boston = load_boston()"
   ]
  },
  {
   "cell_type": "code",
   "execution_count": 4,
   "id": "d4c3c330-0b14-49b9-83d2-5fd874ba0a9e",
   "metadata": {},
   "outputs": [],
   "source": [
    "df = pd.DataFrame(boston.data, columns=boston.feature_names.tolist())"
   ]
  },
  {
   "cell_type": "code",
   "execution_count": 5,
   "id": "742d8f63-9f30-4457-b819-b88339cb0bf4",
   "metadata": {},
   "outputs": [],
   "source": [
    "df['taget'] = boston.target"
   ]
  },
  {
   "cell_type": "code",
   "execution_count": 6,
   "id": "f2a1acc7-b674-45d6-bb67-6f881c273cc7",
   "metadata": {},
   "outputs": [
    {
     "data": {
      "text/html": [
       "<div>\n",
       "<style scoped>\n",
       "    .dataframe tbody tr th:only-of-type {\n",
       "        vertical-align: middle;\n",
       "    }\n",
       "\n",
       "    .dataframe tbody tr th {\n",
       "        vertical-align: top;\n",
       "    }\n",
       "\n",
       "    .dataframe thead th {\n",
       "        text-align: right;\n",
       "    }\n",
       "</style>\n",
       "<table border=\"1\" class=\"dataframe\">\n",
       "  <thead>\n",
       "    <tr style=\"text-align: right;\">\n",
       "      <th></th>\n",
       "      <th>CRIM</th>\n",
       "      <th>ZN</th>\n",
       "      <th>INDUS</th>\n",
       "      <th>CHAS</th>\n",
       "      <th>NOX</th>\n",
       "      <th>RM</th>\n",
       "      <th>AGE</th>\n",
       "      <th>DIS</th>\n",
       "      <th>RAD</th>\n",
       "      <th>TAX</th>\n",
       "      <th>PTRATIO</th>\n",
       "      <th>B</th>\n",
       "      <th>LSTAT</th>\n",
       "      <th>taget</th>\n",
       "    </tr>\n",
       "  </thead>\n",
       "  <tbody>\n",
       "    <tr>\n",
       "      <th>0</th>\n",
       "      <td>0.00632</td>\n",
       "      <td>18.0</td>\n",
       "      <td>2.31</td>\n",
       "      <td>0.0</td>\n",
       "      <td>0.538</td>\n",
       "      <td>6.575</td>\n",
       "      <td>65.2</td>\n",
       "      <td>4.0900</td>\n",
       "      <td>1.0</td>\n",
       "      <td>296.0</td>\n",
       "      <td>15.3</td>\n",
       "      <td>396.90</td>\n",
       "      <td>4.98</td>\n",
       "      <td>24.0</td>\n",
       "    </tr>\n",
       "    <tr>\n",
       "      <th>1</th>\n",
       "      <td>0.02731</td>\n",
       "      <td>0.0</td>\n",
       "      <td>7.07</td>\n",
       "      <td>0.0</td>\n",
       "      <td>0.469</td>\n",
       "      <td>6.421</td>\n",
       "      <td>78.9</td>\n",
       "      <td>4.9671</td>\n",
       "      <td>2.0</td>\n",
       "      <td>242.0</td>\n",
       "      <td>17.8</td>\n",
       "      <td>396.90</td>\n",
       "      <td>9.14</td>\n",
       "      <td>21.6</td>\n",
       "    </tr>\n",
       "    <tr>\n",
       "      <th>2</th>\n",
       "      <td>0.02729</td>\n",
       "      <td>0.0</td>\n",
       "      <td>7.07</td>\n",
       "      <td>0.0</td>\n",
       "      <td>0.469</td>\n",
       "      <td>7.185</td>\n",
       "      <td>61.1</td>\n",
       "      <td>4.9671</td>\n",
       "      <td>2.0</td>\n",
       "      <td>242.0</td>\n",
       "      <td>17.8</td>\n",
       "      <td>392.83</td>\n",
       "      <td>4.03</td>\n",
       "      <td>34.7</td>\n",
       "    </tr>\n",
       "    <tr>\n",
       "      <th>3</th>\n",
       "      <td>0.03237</td>\n",
       "      <td>0.0</td>\n",
       "      <td>2.18</td>\n",
       "      <td>0.0</td>\n",
       "      <td>0.458</td>\n",
       "      <td>6.998</td>\n",
       "      <td>45.8</td>\n",
       "      <td>6.0622</td>\n",
       "      <td>3.0</td>\n",
       "      <td>222.0</td>\n",
       "      <td>18.7</td>\n",
       "      <td>394.63</td>\n",
       "      <td>2.94</td>\n",
       "      <td>33.4</td>\n",
       "    </tr>\n",
       "    <tr>\n",
       "      <th>4</th>\n",
       "      <td>0.06905</td>\n",
       "      <td>0.0</td>\n",
       "      <td>2.18</td>\n",
       "      <td>0.0</td>\n",
       "      <td>0.458</td>\n",
       "      <td>7.147</td>\n",
       "      <td>54.2</td>\n",
       "      <td>6.0622</td>\n",
       "      <td>3.0</td>\n",
       "      <td>222.0</td>\n",
       "      <td>18.7</td>\n",
       "      <td>396.90</td>\n",
       "      <td>5.33</td>\n",
       "      <td>36.2</td>\n",
       "    </tr>\n",
       "  </tbody>\n",
       "</table>\n",
       "</div>"
      ],
      "text/plain": [
       "      CRIM    ZN  INDUS  CHAS    NOX     RM   AGE     DIS  RAD    TAX  \\\n",
       "0  0.00632  18.0   2.31   0.0  0.538  6.575  65.2  4.0900  1.0  296.0   \n",
       "1  0.02731   0.0   7.07   0.0  0.469  6.421  78.9  4.9671  2.0  242.0   \n",
       "2  0.02729   0.0   7.07   0.0  0.469  7.185  61.1  4.9671  2.0  242.0   \n",
       "3  0.03237   0.0   2.18   0.0  0.458  6.998  45.8  6.0622  3.0  222.0   \n",
       "4  0.06905   0.0   2.18   0.0  0.458  7.147  54.2  6.0622  3.0  222.0   \n",
       "\n",
       "   PTRATIO       B  LSTAT  taget  \n",
       "0     15.3  396.90   4.98   24.0  \n",
       "1     17.8  396.90   9.14   21.6  \n",
       "2     17.8  392.83   4.03   34.7  \n",
       "3     18.7  394.63   2.94   33.4  \n",
       "4     18.7  396.90   5.33   36.2  "
      ]
     },
     "execution_count": 6,
     "metadata": {},
     "output_type": "execute_result"
    }
   ],
   "source": [
    "df.head()"
   ]
  },
  {
   "cell_type": "code",
   "execution_count": 7,
   "id": "510322ea-24cd-4951-9091-4b968ac4dedd",
   "metadata": {},
   "outputs": [
    {
     "name": "stdout",
     "output_type": "stream",
     "text": [
      "<class 'pandas.core.frame.DataFrame'>\n",
      "RangeIndex: 506 entries, 0 to 505\n",
      "Data columns (total 14 columns):\n",
      " #   Column   Non-Null Count  Dtype  \n",
      "---  ------   --------------  -----  \n",
      " 0   CRIM     506 non-null    float64\n",
      " 1   ZN       506 non-null    float64\n",
      " 2   INDUS    506 non-null    float64\n",
      " 3   CHAS     506 non-null    float64\n",
      " 4   NOX      506 non-null    float64\n",
      " 5   RM       506 non-null    float64\n",
      " 6   AGE      506 non-null    float64\n",
      " 7   DIS      506 non-null    float64\n",
      " 8   RAD      506 non-null    float64\n",
      " 9   TAX      506 non-null    float64\n",
      " 10  PTRATIO  506 non-null    float64\n",
      " 11  B        506 non-null    float64\n",
      " 12  LSTAT    506 non-null    float64\n",
      " 13  taget    506 non-null    float64\n",
      "dtypes: float64(14)\n",
      "memory usage: 55.5 KB\n"
     ]
    }
   ],
   "source": [
    "df.info()"
   ]
  },
  {
   "cell_type": "code",
   "execution_count": 8,
   "id": "6d70b415-f601-46f6-a295-2f66ab3babab",
   "metadata": {},
   "outputs": [
    {
     "data": {
      "image/png": "[encoded data removed]",
      "text/plain": [
       "<Figure size 432x288 with 1 Axes>"
      ]
     },
     "metadata": {
      "needs_background": "light"
     },
     "output_type": "display_data"
    }
   ],
   "source": [
    "y = boston.target\n",
    "plt.hist(y)\n",
    "plt.show()"
   ]
  },
  {
   "cell_type": "code",
   "execution_count": 9,
   "id": "f346c611-04a5-4824-a196-2f4acba8866c",
   "metadata": {},
   "outputs": [
    {
     "data": {
      "text/plain": [
       "NormaltestResult(statistic=90.9746873700967, pvalue=1.7583188871696095e-20)"
      ]
     },
     "execution_count": 9,
     "metadata": {},
     "output_type": "execute_result"
    }
   ],
   "source": [
    "sp.stats.normaltest(y)"
   ]
  },
  {
   "cell_type": "markdown",
   "id": "05b9ae28-d057-40e6-b8a5-30418d7cfb39",
   "metadata": {},
   "source": [
    "## Scaling Label"
   ]
  },
  {
   "cell_type": "markdown",
   "id": "d158c379-4c35-4715-9152-9f360b2419da",
   "metadata": {},
   "source": [
    "- Squre Root"
   ]
  },
  {
   "cell_type": "code",
   "execution_count": 10,
   "id": "5e7a73ca-055e-4bf1-bfd3-95d7f03a4fe0",
   "metadata": {},
   "outputs": [
    {
     "data": {
      "image/png": "[encoded data removed]",
      "text/plain": [
       "<Figure size 432x288 with 1 Axes>"
      ]
     },
     "metadata": {
      "needs_background": "light"
     },
     "output_type": "display_data"
    }
   ],
   "source": [
    "y_sqrt = np.sqrt(y)\n",
    "plt.hist(y_sqrt)\n",
    "plt.show()"
   ]
  },
  {
   "cell_type": "code",
   "execution_count": 11,
   "id": "32e25ca5-8bb3-431f-bf71-0d0bbdf8d948",
   "metadata": {},
   "outputs": [
    {
     "data": {
      "text/plain": [
       "NormaltestResult(statistic=20.487090826863067, pvalue=3.558645701429252e-05)"
      ]
     },
     "execution_count": 11,
     "metadata": {},
     "output_type": "execute_result"
    }
   ],
   "source": [
    "sp.stats.normaltest(y_sqrt)"
   ]
  },
  {
   "cell_type": "markdown",
   "id": "058da2ec-979e-444a-a447-e359bd752009",
   "metadata": {},
   "source": [
    "- Log"
   ]
  },
  {
   "cell_type": "code",
   "execution_count": 12,
   "id": "f284f8a1-31f1-45d0-910f-05646cb761d3",
   "metadata": {},
   "outputs": [
    {
     "data": {
      "image/png": "[encoded data removed]",
      "text/plain": [
       "<Figure size 432x288 with 1 Axes>"
      ]
     },
     "metadata": {
      "needs_background": "light"
     },
     "output_type": "display_data"
    }
   ],
   "source": [
    "y_log = np.log(y)\n",
    "plt.hist(y_log)\n",
    "plt.show()"
   ]
  },
  {
   "cell_type": "code",
   "execution_count": 13,
   "id": "32d4de17-03fd-47a4-96e9-6673417e3c63",
   "metadata": {},
   "outputs": [
    {
     "data": {
      "text/plain": [
       "NormaltestResult(statistic=17.21801696640698, pvalue=0.00018245472768345196)"
      ]
     },
     "execution_count": 13,
     "metadata": {},
     "output_type": "execute_result"
    }
   ],
   "source": [
    "sp.stats.normaltest(y_log)"
   ]
  },
  {
   "cell_type": "markdown",
   "id": "0fef1a00-0f88-41d7-9aef-f066279cad2f",
   "metadata": {},
   "source": [
    "- Box Cox"
   ]
  },
  {
   "cell_type": "code",
   "execution_count": 14,
   "id": "72e08b2f-972c-4fff-993c-5989faf0e378",
   "metadata": {},
   "outputs": [
    {
     "data": {
      "image/png": "[encoded data removed]",
      "text/plain": [
       "<Figure size 432x288 with 1 Axes>"
      ]
     },
     "metadata": {
      "needs_background": "light"
     },
     "output_type": "display_data"
    }
   ],
   "source": [
    "y_bc, lambda_bc = sp.stats.boxcox(y)\n",
    "plt.hist(y_bc)\n",
    "plt.show()"
   ]
  },
  {
   "cell_type": "code",
   "execution_count": 15,
   "id": "4cefe6af-0414-4da9-bb4f-efc7bcaa1ff7",
   "metadata": {},
   "outputs": [
    {
     "data": {
      "text/plain": [
       "NormaltestResult(statistic=4.513528775533045, pvalue=0.1046886692817602)"
      ]
     },
     "execution_count": 15,
     "metadata": {},
     "output_type": "execute_result"
    }
   ],
   "source": [
    "sp.stats.normaltest(y_bc)"
   ]
  },
  {
   "cell_type": "markdown",
   "id": "605103ea-37fa-49e1-b6f3-004a0075c3d1",
   "metadata": {},
   "source": [
    "# Seismic Scaling"
   ]
  },
  {
   "cell_type": "code",
   "execution_count": 16,
   "id": "a2826a84-1334-4df6-891a-71a76f4a56a5",
   "metadata": {},
   "outputs": [],
   "source": [
    "seismic = pd.read_csv('catalogue.csv', index_col=0)"
   ]
  },
  {
   "cell_type": "code",
   "execution_count": 17,
   "id": "0eedcc05-a4e8-4a3f-81c5-3485f0f1f452",
   "metadata": {},
   "outputs": [
    {
     "data": {
      "text/html": [
       "<div>\n",
       "<style scoped>\n",
       "    .dataframe tbody tr th:only-of-type {\n",
       "        vertical-align: middle;\n",
       "    }\n",
       "\n",
       "    .dataframe tbody tr th {\n",
       "        vertical-align: top;\n",
       "    }\n",
       "\n",
       "    .dataframe thead th {\n",
       "        text-align: right;\n",
       "    }\n",
       "</style>\n",
       "<table border=\"1\" class=\"dataframe\">\n",
       "  <thead>\n",
       "    <tr style=\"text-align: right;\">\n",
       "      <th></th>\n",
       "      <th>time</th>\n",
       "      <th>lat</th>\n",
       "      <th>lon</th>\n",
       "      <th>depth</th>\n",
       "      <th>mag</th>\n",
       "    </tr>\n",
       "  </thead>\n",
       "  <tbody>\n",
       "    <tr>\n",
       "      <th>0</th>\n",
       "      <td>2014-12-31T06:27:41.700000Z</td>\n",
       "      <td>34.6303</td>\n",
       "      <td>-118.6233</td>\n",
       "      <td>12600.0</td>\n",
       "      <td>3.1</td>\n",
       "    </tr>\n",
       "    <tr>\n",
       "      <th>1</th>\n",
       "      <td>2014-12-30T23:26:17.810000Z</td>\n",
       "      <td>33.5762</td>\n",
       "      <td>-118.2761</td>\n",
       "      <td>17300.0</td>\n",
       "      <td>4.0</td>\n",
       "    </tr>\n",
       "    <tr>\n",
       "      <th>2</th>\n",
       "      <td>2014-12-30T00:12:02.390000Z</td>\n",
       "      <td>35.9243</td>\n",
       "      <td>-117.2180</td>\n",
       "      <td>1000.0</td>\n",
       "      <td>3.5</td>\n",
       "    </tr>\n",
       "    <tr>\n",
       "      <th>3</th>\n",
       "      <td>2014-12-23T07:59:00.730000Z</td>\n",
       "      <td>34.0259</td>\n",
       "      <td>-117.2206</td>\n",
       "      <td>19100.0</td>\n",
       "      <td>3.0</td>\n",
       "    </tr>\n",
       "    <tr>\n",
       "      <th>4</th>\n",
       "      <td>2014-12-15T10:09:33.710000Z</td>\n",
       "      <td>33.4562</td>\n",
       "      <td>-118.0810</td>\n",
       "      <td>8800.0</td>\n",
       "      <td>3.0</td>\n",
       "    </tr>\n",
       "  </tbody>\n",
       "</table>\n",
       "</div>"
      ],
      "text/plain": [
       "                          time      lat       lon    depth  mag\n",
       "0  2014-12-31T06:27:41.700000Z  34.6303 -118.6233  12600.0  3.1\n",
       "1  2014-12-30T23:26:17.810000Z  33.5762 -118.2761  17300.0  4.0\n",
       "2  2014-12-30T00:12:02.390000Z  35.9243 -117.2180   1000.0  3.5\n",
       "3  2014-12-23T07:59:00.730000Z  34.0259 -117.2206  19100.0  3.0\n",
       "4  2014-12-15T10:09:33.710000Z  33.4562 -118.0810   8800.0  3.0"
      ]
     },
     "execution_count": 17,
     "metadata": {},
     "output_type": "execute_result"
    }
   ],
   "source": [
    "seismic.head()"
   ]
  },
  {
   "cell_type": "code",
   "execution_count": 18,
   "id": "d295cc0e-fa2d-444b-8867-5e009a59e4ed",
   "metadata": {},
   "outputs": [
    {
     "data": {
      "image/png": "[encoded data removed]",
      "text/plain": [
       "<Figure size 432x288 with 1 Axes>"
      ]
     },
     "metadata": {
      "needs_background": "light"
     },
     "output_type": "display_data"
    }
   ],
   "source": [
    "t_depth = seismic.depth\n",
    "plt.hist(t_depth)\n",
    "plt.show()"
   ]
  },
  {
   "cell_type": "code",
   "execution_count": 19,
   "id": "d26d2e98-cdb7-48a1-b9cb-4a14860719be",
   "metadata": {},
   "outputs": [
    {
     "data": {
      "text/plain": [
       "NormaltestResult(statistic=63.725832643264944, pvalue=1.4524836893012754e-14)"
      ]
     },
     "execution_count": 19,
     "metadata": {},
     "output_type": "execute_result"
    }
   ],
   "source": [
    "sp.stats.normaltest(t_depth)"
   ]
  },
  {
   "cell_type": "code",
   "execution_count": 20,
   "id": "5668067d-9307-4e97-89c4-e213b91854e8",
   "metadata": {},
   "outputs": [
    {
     "data": {
      "image/png": "[encoded data removed]",
      "text/plain": [
       "<Figure size 432x288 with 1 Axes>"
      ]
     },
     "metadata": {
      "needs_background": "light"
     },
     "output_type": "display_data"
    }
   ],
   "source": [
    "t_mag = seismic.mag\n",
    "plt.hist(t_mag)\n",
    "plt.show()"
   ]
  },
  {
   "cell_type": "code",
   "execution_count": 21,
   "id": "297cdbc4-4e64-4ac4-a8ca-84c7ffb7fdc6",
   "metadata": {},
   "outputs": [
    {
     "data": {
      "text/plain": [
       "NormaltestResult(statistic=516.2187809855135, pvalue=8.026310963166343e-113)"
      ]
     },
     "execution_count": 21,
     "metadata": {},
     "output_type": "execute_result"
    }
   ],
   "source": [
    "sp.stats.normaltest(t_mag)"
   ]
  },
  {
   "cell_type": "markdown",
   "id": "c7aa58aa-c783-4e4b-9b12-26595bb9e831",
   "metadata": {},
   "source": [
    "- Squre Root"
   ]
  },
  {
   "cell_type": "code",
   "execution_count": 22,
   "id": "8c26dc03-08a4-412e-a4d0-3539c3aa3338",
   "metadata": {},
   "outputs": [
    {
     "data": {
      "image/png": "[encoded data removed]",
      "text/plain": [
       "<Figure size 432x288 with 1 Axes>"
      ]
     },
     "metadata": {
      "needs_background": "light"
     },
     "output_type": "display_data"
    }
   ],
   "source": [
    "t_depth_sqrt = np.sqrt(t_depth)\n",
    "plt.hist(t_depth_sqrt)\n",
    "plt.show()"
   ]
  },
  {
   "cell_type": "code",
   "execution_count": 23,
   "id": "e41a3264-7d29-4af0-a121-ca084e38abda",
   "metadata": {},
   "outputs": [
    {
     "data": {
      "text/plain": [
       "NormaltestResult(statistic=19.792817691003393, pvalue=5.035519101512945e-05)"
      ]
     },
     "execution_count": 23,
     "metadata": {},
     "output_type": "execute_result"
    }
   ],
   "source": [
    "sp.stats.normaltest(t_depth_sqrt)"
   ]
  },
  {
   "cell_type": "code",
   "execution_count": 24,
   "id": "6d8bbd27-8265-4b6f-846b-578f45b739a6",
   "metadata": {},
   "outputs": [
    {
     "data": {
      "image/png": "[encoded data removed]",
      "text/plain": [
       "<Figure size 432x288 with 1 Axes>"
      ]
     },
     "metadata": {
      "needs_background": "light"
     },
     "output_type": "display_data"
    }
   ],
   "source": [
    "t_mag_sqrt = np.sqrt(t_mag)\n",
    "plt.hist(t_mag_sqrt)\n",
    "plt.show()"
   ]
  },
  {
   "cell_type": "code",
   "execution_count": 25,
   "id": "ac616230-2618-4790-8cfd-1c30c1dc67e2",
   "metadata": {},
   "outputs": [
    {
     "data": {
      "text/plain": [
       "NormaltestResult(statistic=427.5262823436142, pvalue=1.4583016083625571e-93)"
      ]
     },
     "execution_count": 25,
     "metadata": {},
     "output_type": "execute_result"
    }
   ],
   "source": [
    "sp.stats.normaltest(t_mag_sqrt)"
   ]
  },
  {
   "cell_type": "markdown",
   "id": "0bdd9379-689f-43e0-9ec5-39108fcdae7f",
   "metadata": {},
   "source": [
    "- Log"
   ]
  },
  {
   "cell_type": "code",
   "execution_count": 26,
   "id": "ae34a2ce-1e92-4196-9914-47fd3f5eb22a",
   "metadata": {},
   "outputs": [
    {
     "data": {
      "image/png": "[encoded data removed]",
      "text/plain": [
       "<Figure size 432x288 with 1 Axes>"
      ]
     },
     "metadata": {
      "needs_background": "light"
     },
     "output_type": "display_data"
    }
   ],
   "source": [
    "t_depth_log = np.log(t_depth + 1)\n",
    "plt.hist(t_depth_log)\n",
    "plt.show()"
   ]
  },
  {
   "cell_type": "code",
   "execution_count": 27,
   "id": "7782326b-d1c2-42a8-831f-acfdadff7c9d",
   "metadata": {},
   "outputs": [
    {
     "data": {
      "text/plain": [
       "NormaltestResult(statistic=1295.0573299450823, pvalue=6.0516517528459076e-282)"
      ]
     },
     "execution_count": 27,
     "metadata": {},
     "output_type": "execute_result"
    }
   ],
   "source": [
    "sp.stats.normaltest(t_depth_log)"
   ]
  },
  {
   "cell_type": "code",
   "execution_count": 28,
   "id": "c4048811-0f02-4ced-ab9f-81e68f130b77",
   "metadata": {},
   "outputs": [
    {
     "data": {
      "image/png": "[encoded data removed]",
      "text/plain": [
       "<Figure size 432x288 with 1 Axes>"
      ]
     },
     "metadata": {
      "needs_background": "light"
     },
     "output_type": "display_data"
    }
   ],
   "source": [
    "t_mag_log = np.log(t_mag,)\n",
    "plt.hist(t_mag_log)\n",
    "plt.show()"
   ]
  },
  {
   "cell_type": "code",
   "execution_count": 29,
   "id": "4bd2cfcb-8188-42ba-969c-bc708d9a030a",
   "metadata": {},
   "outputs": [
    {
     "data": {
      "text/plain": [
       "NormaltestResult(statistic=345.73664153009577, pvalue=8.39928264249552e-76)"
      ]
     },
     "execution_count": 29,
     "metadata": {},
     "output_type": "execute_result"
    }
   ],
   "source": [
    "sp.stats.normaltest(t_mag_log)"
   ]
  },
  {
   "cell_type": "markdown",
   "id": "702f197e-9e6c-4d1d-8364-51b50b14967d",
   "metadata": {},
   "source": [
    "- Box Cox"
   ]
  },
  {
   "cell_type": "code",
   "execution_count": 30,
   "id": "2521a21c-38d9-476d-8611-543eca744e10",
   "metadata": {},
   "outputs": [
    {
     "data": {
      "text/plain": [
       "1.0"
      ]
     },
     "execution_count": 30,
     "metadata": {},
     "output_type": "execute_result"
    }
   ],
   "source": [
    "min(t_depth + 1)"
   ]
  },
  {
   "cell_type": "code",
   "execution_count": 31,
   "id": "a5b44a74-52f3-4628-af81-263785a4ec4f",
   "metadata": {},
   "outputs": [
    {
     "data": {
      "image/png": "[encoded data removed]",
      "text/plain": [
       "<Figure size 432x288 with 1 Axes>"
      ]
     },
     "metadata": {
      "needs_background": "light"
     },
     "output_type": "display_data"
    }
   ],
   "source": [
    "t_depth_bc, lambda_depth_bc = sp.stats.boxcox(t_depth + 1)\n",
    "plt.hist(t_depth_bc)\n",
    "plt.show()"
   ]
  },
  {
   "cell_type": "code",
   "execution_count": 32,
   "id": "ec2107d7-7860-4028-96eb-7f9049c82275",
   "metadata": {},
   "outputs": [
    {
     "data": {
      "text/plain": [
       "NormaltestResult(statistic=22.591961267250237, pvalue=1.2422755655752902e-05)"
      ]
     },
     "execution_count": 32,
     "metadata": {},
     "output_type": "execute_result"
    }
   ],
   "source": [
    "sp.stats.normaltest(t_depth_bc)"
   ]
  },
  {
   "cell_type": "code",
   "execution_count": 33,
   "id": "5a369f7e-38f7-48e8-8412-5608b01948bf",
   "metadata": {},
   "outputs": [
    {
     "data": {
      "image/png": "[encoded data removed]",
      "text/plain": [
       "<Figure size 432x288 with 1 Axes>"
      ]
     },
     "metadata": {
      "needs_background": "light"
     },
     "output_type": "display_data"
    }
   ],
   "source": [
    "t_mag_bc = sp.stats.boxcox(t_mag, -1)\n",
    "plt.hist(t_mag_bc)\n",
    "plt.show()"
   ]
  },
  {
   "cell_type": "code",
   "execution_count": 34,
   "id": "b14961aa-927c-4932-bf4e-6750e26da343",
   "metadata": {},
   "outputs": [
    {
     "data": {
      "text/plain": [
       "NormaltestResult(statistic=208.88214685138146, pvalue=4.383470893607824e-46)"
      ]
     },
     "execution_count": 34,
     "metadata": {},
     "output_type": "execute_result"
    }
   ],
   "source": [
    "sp.stats.normaltest(t_mag_bc)"
   ]
  },
  {
   "cell_type": "markdown",
   "id": "723f9432-c98b-405f-bdbc-9b1622fbe3c8",
   "metadata": {},
   "source": [
    "# Long Tail"
   ]
  },
  {
   "cell_type": "code",
   "execution_count": 35,
   "id": "94a37ffe-588b-4d1e-ac32-aae509f92782",
   "metadata": {},
   "outputs": [],
   "source": [
    "# histogram plot of data with a long tail\n",
    "from numpy.random import seed\n",
    "from numpy.random import randn\n",
    "from numpy.random import rand\n",
    "from numpy import append\n",
    "from matplotlib import pyplot\n",
    "# seed the random number generator\n",
    "seed(1)"
   ]
  },
  {
   "cell_type": "code",
   "execution_count": 36,
   "id": "c202ca68-a96e-4dd8-b092-d8bc4c8f0da3",
   "metadata": {},
   "outputs": [
    {
     "data": {
      "image/png": "[encoded data removed]",
      "text/plain": [
       "<Figure size 432x288 with 1 Axes>"
      ]
     },
     "metadata": {
      "needs_background": "light"
     },
     "output_type": "display_data"
    }
   ],
   "source": [
    "# generate a univariate data sample\n",
    "data = 5 * randn(100) + 10\n",
    "tail = 10 + (rand(50) * 100)\n",
    "# add long tail\n",
    "data = append(data, tail)\n",
    "# histogram\n",
    "pyplot.hist(data)\n",
    "pyplot.show()"
   ]
  },
  {
   "cell_type": "code",
   "execution_count": 37,
   "id": "f13c6d66-19a5-4666-a126-9609e18a4818",
   "metadata": {},
   "outputs": [
    {
     "data": {
      "image/png": "[encoded data removed]",
      "text/plain": [
       "<Figure size 432x288 with 1 Axes>"
      ]
     },
     "metadata": {
      "needs_background": "light"
     },
     "output_type": "display_data"
    }
   ],
   "source": [
    "# generate a univariate data sample\n",
    "data = 5 * randn(100) + 10\n",
    "tail = 10 + (rand(10) * 100)\n",
    "# add long tail\n",
    "data = append(data, tail)\n",
    "# trim values\n",
    "data = [x for x in data if x < 25]\n",
    "# histogram\n",
    "pyplot.hist(data)\n",
    "pyplot.show()"
   ]
  },
  {
   "cell_type": "markdown",
   "id": "c9ef47ce-a06e-48f1-a716-cf97190e4f25",
   "metadata": {},
   "source": [
    "# Power Transforms"
   ]
  },
  {
   "cell_type": "code",
   "execution_count": 38,
   "id": "a7468b11-34d8-4e2f-84e0-0cbcf897e0b5",
   "metadata": {},
   "outputs": [
    {
     "data": {
      "image/png": "[encoded data removed]",
      "text/plain": [
       "<Figure size 432x288 with 1 Axes>"
      ]
     },
     "metadata": {
      "needs_background": "light"
     },
     "output_type": "display_data"
    }
   ],
   "source": [
    "# generate two sets of univariate observations\n",
    "data = 5 * randn(100) + 50\n",
    "# transform to be exponential\n",
    "data = np.exp(data)\n",
    "# histogram\n",
    "pyplot.hist(data)\n",
    "pyplot.show()"
   ]
  },
  {
   "cell_type": "code",
   "execution_count": 39,
   "id": "aeb2ab7e-c712-4bbf-a1a4-039234297c03",
   "metadata": {},
   "outputs": [
    {
     "data": {
      "image/png": "[encoded data removed]",
      "text/plain": [
       "<Figure size 432x288 with 1 Axes>"
      ]
     },
     "metadata": {
      "needs_background": "light"
     },
     "output_type": "display_data"
    }
   ],
   "source": [
    "# generate two sets of univariate observations\n",
    "data = 5 * randn(100) + 100\n",
    "# transform to be exponential\n",
    "data = np.exp(data)\n",
    "# power transform\n",
    "data = sp.stats.boxcox(data, 0)\n",
    "# histogram\n",
    "pyplot.hist(data)\n",
    "pyplot.show()"
   ]
  },
  {
   "cell_type": "code",
   "execution_count": null,
   "id": "fb00178a-d26f-42d0-bb1d-3c378472c3e2",
   "metadata": {},
   "outputs": [],
   "source": []
  }
 ],
 "metadata": {
  "kernelspec": {
   "display_name": "Python (AIML)",
   "language": "python",
   "name": "aiml"
  },
  "language_info": {
   "codemirror_mode": {
    "name": "ipython",
    "version": 3
   },
   "file_extension": ".py",
   "mimetype": "text/x-python",
   "name": "python",
   "nbconvert_exporter": "python",
   "pygments_lexer": "ipython3",
   "version": "3.7.9"
  }
 },
 "nbformat": 4,
 "nbformat_minor": 5
}
