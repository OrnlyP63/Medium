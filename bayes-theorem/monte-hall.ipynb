{
 "cells": [
  {
   "cell_type": "markdown",
   "id": "ba922c15-37f7-42bd-a145-12ee017f43ba",
   "metadata": {},
   "source": [
    "# Mote Hall's Problem"
   ]
  },
  {
   "cell_type": "markdown",
   "id": "0b8fbe73-f871-4620-8939-a9796fdb771e",
   "metadata": {},
   "source": [
    "## Simluation"
   ]
  },
  {
   "cell_type": "code",
   "execution_count": 1,
   "id": "fdd15ab5-c70a-47e8-9dff-42d351c4606e",
   "metadata": {},
   "outputs": [],
   "source": [
    "import numpy as np"
   ]
  },
  {
   "cell_type": "code",
   "execution_count": 2,
   "id": "da241f9b-dd61-4839-8b31-ec447f296501",
   "metadata": {},
   "outputs": [],
   "source": [
    "N = 100000 # A number of simulations\n",
    "prize_are_in_door = np.random.choice([1, 2, 3], size=N) # The door that has a prize.\n",
    "chosen_door = np.random.choice([1, 2, 3], size=N) # The player choosed door."
   ]
  },
  {
   "cell_type": "code",
   "execution_count": 3,
   "id": "ac723ee5-29fd-421d-a363-2eff4f88b278",
   "metadata": {},
   "outputs": [],
   "source": [
    "opened_door = []\n",
    "for p, c in zip(prize_are_in_door, chosen_door):\n",
    "    the_door_can_be_opened = [i for i in [1, 2, 3] if (p!=i and c!=i)]\n",
    "    opened_door.append(np.random.choice(the_door_can_be_opened))"
   ]
  },
  {
   "cell_type": "code",
   "execution_count": 4,
   "id": "a8d14089-8ca6-45a7-8122-81af34280216",
   "metadata": {},
   "outputs": [],
   "source": [
    "switching_door = []\n",
    "for o, c in zip(opened_door, chosen_door):\n",
    "    switching_door.append([i for i in [1, 2, 3] if (o!=i and c!=i)][-1])"
   ]
  },
  {
   "cell_type": "code",
   "execution_count": 5,
   "id": "9b2c2f48-e02d-4f3b-8025-2aa96d413bb9",
   "metadata": {},
   "outputs": [
    {
     "data": {
      "text/plain": [
       "0.32926"
      ]
     },
     "execution_count": 5,
     "metadata": {},
     "output_type": "execute_result"
    }
   ],
   "source": [
    "sum(prize_are_in_door == chosen_door) / N"
   ]
  },
  {
   "cell_type": "code",
   "execution_count": 6,
   "id": "9fb16623-d598-4d74-9740-2d9c748c1b3a",
   "metadata": {},
   "outputs": [
    {
     "data": {
      "text/plain": [
       "0.67074"
      ]
     },
     "execution_count": 6,
     "metadata": {},
     "output_type": "execute_result"
    }
   ],
   "source": [
    "sum(prize_are_in_door == np.array(switching_door)) / N"
   ]
  },
  {
   "cell_type": "markdown",
   "id": "9acb93a3-42ba-43e1-8a22-db2f9cc89b5b",
   "metadata": {},
   "source": [
    "## Bayes' Theorem\n",
    "\n",
    "Let $B_1, B_2,\\ldots, B_n$ form a partition of the sample space $\\Omega$,\n",
    "\n",
    "$$P(B_j\\vert A) = \\frac{P(A\\vert B_j) P(B_j)}{\\sum_{i=1}^n P(A\\vert B_i)P(B_i)}$$\n",
    "<center><img src=\"./monte-hall.png\"/></center>\n",
    "\n",
    "---\n",
    "\n",
    "Consider $\\sum_{i=1}^n P(A\\vert B_i)P(B_i) = (1/2)(1/3) + (0)(1/3) + (1)(1/3) = 1 / 2$\n",
    "\n",
    "So, \n",
    "$$\\begin{align*} \n",
    "P(B_3\\vert A) &=  \\frac{P(A\\vert B_3)P(B_3)}{(1/2)} \\\\\\\\ \n",
    "&=  \\frac{(1)(1/3)}{(1/2)}\\\\\\\\\n",
    "&= \\frac{2}{3} \\approx 0.666...\n",
    "\\end{align*}$$\n",
    "\n",
    "And, \n",
    "$$\\begin{align*} \n",
    "P(B_1\\vert A) &=  \\frac{P(A\\vert B_1)P(B_1)}{(1/2)} \\\\\\\\ \n",
    "&=  \\frac{(1/2)(1/3)}{(1/2)}\\\\\\\\\n",
    "&= \\frac{1}{3}\\approx 0.333...\n",
    "\\end{align*}$$"
   ]
  },
  {
   "cell_type": "code",
   "execution_count": null,
   "id": "cbf1631a-3367-40bc-b17d-97578671229e",
   "metadata": {},
   "outputs": [],
   "source": []
  }
 ],
 "metadata": {
  "kernelspec": {
   "display_name": "AIML",
   "language": "python",
   "name": "aiml"
  },
  "language_info": {
   "codemirror_mode": {
    "name": "ipython",
    "version": 3
   },
   "file_extension": ".py",
   "mimetype": "text/x-python",
   "name": "python",
   "nbconvert_exporter": "python",
   "pygments_lexer": "ipython3",
   "version": "3.8.17"
  }
 },
 "nbformat": 4,
 "nbformat_minor": 5
}
