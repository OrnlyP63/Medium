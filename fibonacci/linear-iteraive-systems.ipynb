{
 "cells": [
  {
   "cell_type": "markdown",
   "id": "ac28cfe4-6f96-4b8e-917d-ab3548710ca0",
   "metadata": {},
   "source": [
    "## [Linear Iterative Systems](https://www-users.cse.umn.edu/~olver/num_/lni.pdf)\n",
    "\n",
    "*Definition 1:* A linear iterative system takes the from\n",
    "\n",
    "$$u^{(k+1)} = Tu^{(k)}$$\n",
    "\n",
    "where $u^{(0)} = a$, the coefficient matrix $T\\in\\mathbb{R}^{n\\times n}$, and iterates are column vectors $u^{(k)}\\in\\mathbb{R}^n$"
   ]
  },
  {
   "cell_type": "code",
   "execution_count": 1,
   "id": "8dafd783-84d6-48b3-b030-679526f804f0",
   "metadata": {},
   "outputs": [],
   "source": [
    "import numpy as np"
   ]
  },
  {
   "cell_type": "code",
   "execution_count": 2,
   "id": "dd5c3449-2d98-4d37-9858-e1075da59523",
   "metadata": {},
   "outputs": [],
   "source": [
    "# create the coefficient matrix T\n",
    "n = 3\n",
    "T = np.random.rand(n, n)\n",
    "\n",
    "# Creta initial iterate u_0\n",
    "u_0 = np.random.rand(n, 1)"
   ]
  },
  {
   "cell_type": "code",
   "execution_count": 3,
   "id": "27a0b3d7-fc5a-4a1e-b21b-a973d5c7e169",
   "metadata": {},
   "outputs": [
    {
     "data": {
      "text/plain": [
       "array([[1.02660157],\n",
       "       [0.46008334],\n",
       "       [0.75031572]])"
      ]
     },
     "execution_count": 3,
     "metadata": {},
     "output_type": "execute_result"
    }
   ],
   "source": [
    "u_1 = T @ u_0\n",
    "u_1"
   ]
  },
  {
   "cell_type": "markdown",
   "id": "67ee465e-ff42-461e-afc9-71c7d899fa13",
   "metadata": {},
   "source": [
    "Consider \n",
    "\n",
    "$$\n",
    "\\begin{align}\n",
    "u^{(1)} &= Tu^{(0)} = Ta\\\\\n",
    "u^{(2)} &= Tu^{(1)} = T^2a\\\\\n",
    "u^{(3)} &= Tu^{(2)} = T^3a\\\\\n",
    "\\end{align}\n",
    "$$\n",
    "\n",
    "So, in general \n",
    "$$u^{(k)} = T^k a$$"
   ]
  },
  {
   "cell_type": "code",
   "execution_count": 4,
   "id": "9328da9f-fefa-4a6f-91a8-739dfda18ffe",
   "metadata": {},
   "outputs": [],
   "source": [
    "def u_k(k, a, T):\n",
    "    return np.linalg.matrix_power(T, k) @ a"
   ]
  },
  {
   "cell_type": "code",
   "execution_count": 5,
   "id": "07518550-e182-4b97-b258-ffd9ca5a64f3",
   "metadata": {},
   "outputs": [
    {
     "data": {
      "text/plain": [
       "array([[2.57063012],\n",
       "       [1.69985621],\n",
       "       [2.350547  ]])"
      ]
     },
     "execution_count": 5,
     "metadata": {},
     "output_type": "execute_result"
    }
   ],
   "source": [
    "u_k(3, u_0, T)"
   ]
  },
  {
   "cell_type": "markdown",
   "id": "6619033d-e85a-4b8b-aa3b-ae656d08747c",
   "metadata": {},
   "source": [
    "Next, let's examine the eigenvalues $\\lambda$ and corresponding eigenvectors $v$ of the matrix $T$:\n",
    "\n",
    "$$Tv = \\lambda v$$\n",
    "\n",
    "Let $v = u^{(0)}$, and consider \n",
    "$$\n",
    "\\begin{align*}\n",
    "T^kv &= T^{k-1}(Tv) \\\\\n",
    "&= T^{k-1}(\\lambda v)\\\\\n",
    "&= T^{k-2}(\\lambda Tv)\\\\\n",
    "&= T^{k-2}(\\lambda^2 v)\\\\\n",
    "&\\vdots\\\\\n",
    "u^{(k)} &= \\lambda^k v\n",
    "\\end{align*}\n",
    "$$\n",
    "\n",
    "By leveraging this, we can transform the solution into an exponential form: \n",
    "$$u^{(k)} = \\lambda^k v$$\n",
    "\n",
    "Consequently, it follows that, $$Tu^{(k)} = T(\\lambda^k v) = \\lambda^kTv$$\n",
    "\n",
    "---"
   ]
  },
  {
   "cell_type": "code",
   "execution_count": 6,
   "id": "834b96de-b618-445c-8868-2e709de81ca0",
   "metadata": {},
   "outputs": [],
   "source": [
    "# create the coefficient matrix T\n",
    "n = 5\n",
    "T = np.array([[2, -3, 0],\n",
    "              [2, -5, 0],\n",
    "              [0, 0, 3]])\n",
    "\n",
    "l, v = np.linalg.eig(T)"
   ]
  },
  {
   "cell_type": "code",
   "execution_count": 7,
   "id": "8e8660ff-2a03-4be0-8376-cd2769b92eb5",
   "metadata": {},
   "outputs": [],
   "source": [
    "k = 3\n",
    "lambda_value = l[0]\n",
    "vect = v[:, 0]\n",
    "u_k = lambda_value**k * vect"
   ]
  },
  {
   "cell_type": "code",
   "execution_count": 8,
   "id": "174704ea-a4f0-42f7-9204-119ef8106869",
   "metadata": {},
   "outputs": [
    {
     "data": {
      "text/plain": [
       "array([0.9486833 , 0.31622777, 0.        ])"
      ]
     },
     "execution_count": 8,
     "metadata": {},
     "output_type": "execute_result"
    }
   ],
   "source": [
    "np.dot(T, u_k)"
   ]
  },
  {
   "cell_type": "code",
   "execution_count": 9,
   "id": "610811db-ad2c-4fe7-88d0-6d8ccdecbe7d",
   "metadata": {},
   "outputs": [
    {
     "data": {
      "text/plain": [
       "array([0.9486833 , 0.31622777, 0.        ])"
      ]
     },
     "execution_count": 9,
     "metadata": {},
     "output_type": "execute_result"
    }
   ],
   "source": [
    "(lambda_value ** k) * np.dot(T, vect)"
   ]
  },
  {
   "cell_type": "markdown",
   "id": "79a499ec-dced-459e-bbea-67a2c2fe8f25",
   "metadata": {},
   "source": [
    "*Theorem 1:* If the coefficient matrix T is complete, then the general solution to the linear iterative system $u^{(k+1)} = Tu^{(k)}$ is given by\n",
    "\n",
    "$$u^{(k)} = c_1\\lambda_1^kv_1 + c_2\\lambda_2^kv_2 + \\cdots +c_n\\lambda_n^kv_n$$\n",
    "\n",
    "where $v_1, \\ldots, v_n$ are the linearly independent eigenvectors and $\\lambda_1, \\ldots, \\lambda_n$ the corresponding eigenvalues of $T$. The coefficient $c_1, \\ldots, c_n$ are arbitrary scalars and are uniquely prescribed b the initial conditions $u^{(0)} = a$.\n",
    "\n",
    "---"
   ]
  },
  {
   "cell_type": "markdown",
   "id": "a28882a6-1dad-4190-83d0-63375481f640",
   "metadata": {},
   "source": [
    "*Example:* The Fibonacci numbers are defined by the second order iterative scheme\n",
    "$$u^{(k+2)} = u^{(k+1)} + u^{(k)}$$\n",
    "\n",
    "with initial conditions $u^{(0)} = a,\\ u^{(1)} = b$\n",
    "\n",
    "we define the vector\n",
    "$$\\pmb{u}^{(k)} = \n",
    "\\begin{bmatrix}\n",
    "u^{(k))}\\\\\n",
    "u^{(k+1))}\n",
    "\\end{bmatrix}\n",
    "$$\n",
    "\n",
    "So, the iterative systems is\n",
    "\n",
    "$$\n",
    "\\begin{bmatrix}\n",
    "u^{(k+1))}\\\\\n",
    "u^{(k+2))}\n",
    "\\end{bmatrix} = \n",
    "\\begin{bmatrix}\n",
    "0 & 1\\\\\n",
    "1 & 1\n",
    "\\end{bmatrix}\n",
    "\\begin{bmatrix}\n",
    "u^{(k))}\\\\\n",
    "u^{(k+1))}\n",
    "\\end{bmatrix}\n",
    "$$\n",
    "\n",
    "or \n",
    "\n",
    "$$\\pmb{u}^{(k+1)} = T\\pmb{u}^{(k)}$$\n",
    "\n",
    "where $T = \\begin{bmatrix}\n",
    "0 & 1\\\\\n",
    "1 & 1\n",
    "\\end{bmatrix}$."
   ]
  },
  {
   "cell_type": "code",
   "execution_count": 20,
   "id": "49ad7eb8-f3ba-490d-be1f-d550563392c1",
   "metadata": {},
   "outputs": [],
   "source": [
    "from sympy import Matrix"
   ]
  },
  {
   "cell_type": "code",
   "execution_count": 13,
   "id": "03f1b303-8dce-4156-85c1-bd4e03f6fa7c",
   "metadata": {},
   "outputs": [],
   "source": [
    "T = Matrix([[0, 1],\n",
    "            [1, 1]])"
   ]
  },
  {
   "cell_type": "code",
   "execution_count": 19,
   "id": "27b0bbf4-9c4e-4dc6-9316-1741d3d50705",
   "metadata": {},
   "outputs": [
    {
     "data": {
      "text/plain": [
       "{1/2 - sqrt(5)/2: 1, 1/2 + sqrt(5)/2: 1}"
      ]
     },
     "execution_count": 19,
     "metadata": {},
     "output_type": "execute_result"
    }
   ],
   "source": [
    "T.eigenvals()"
   ]
  },
  {
   "cell_type": "code",
   "execution_count": 16,
   "id": "383059ff-11a5-49a2-b2f3-c0d08c081557",
   "metadata": {},
   "outputs": [
    {
     "data": {
      "text/plain": [
       "[(1/2 - sqrt(5)/2,\n",
       "  1,\n",
       "  [Matrix([\n",
       "   [-sqrt(5)/2 - 1/2],\n",
       "   [               1]])]),\n",
       " (1/2 + sqrt(5)/2,\n",
       "  1,\n",
       "  [Matrix([\n",
       "   [-1/2 + sqrt(5)/2],\n",
       "   [               1]])])]"
      ]
     },
     "execution_count": 16,
     "metadata": {},
     "output_type": "execute_result"
    }
   ],
   "source": [
    "T.eigenvects()"
   ]
  },
  {
   "cell_type": "markdown",
   "id": "01470f8e-0120-4319-b402-0bdfb16000ae",
   "metadata": {},
   "source": [
    "The eigenvalues of the $T$ matrix are\n",
    "$$\\begin{align}\n",
    "\\lambda_1 &= \\frac{1+\\sqrt{5}}{2}\\\\\n",
    "\\lambda_2 &= \\frac{1-\\sqrt{5}}{2}\n",
    "\\end{align}$$.\n",
    "\n",
    "And, the eigenvalues of the $T$ matrix are\n",
    "$$\\begin{align}\n",
    "v_1 &= \\begin{bmatrix}\\frac{-1+\\sqrt{5}}{2} \\\\ 1\\end{bmatrix}\\\\\n",
    "v_2 &= \\begin{bmatrix}\\frac{-1-\\sqrt{5}}{2} \\\\ 1\\end{bmatrix}\n",
    "\\end{align}$$.\n",
    "\n",
    "---\n",
    "From the *theorem 1* we can write\n",
    "\n",
    "$$\\pmb{u}^{(k)} = \n",
    "\\begin{bmatrix}\n",
    "u^{(k))}\\\\\n",
    "u^{(k+1))}\n",
    "\\end{bmatrix}\n",
    "= c_1\\lambda^k_1\\begin{bmatrix}\\frac{-1+\\sqrt{5}}{2} \\\\ 1\\end{bmatrix} \n",
    "+ c_2\\lambda^k_2\\begin{bmatrix}\\frac{-1-\\sqrt{5}}{2} \\\\ 1\\end{bmatrix}$$\n",
    "\n",
    "From the initial data\n",
    "\n",
    "$$\\pmb{u}^{(0)} \n",
    "= c_1\\begin{bmatrix}\\frac{-1+\\sqrt{5}}{2} \\\\ 1\\end{bmatrix} \n",
    "+ c_2\\begin{bmatrix}\\frac{-1-\\sqrt{5}}{2} \\\\ 1\\end{bmatrix}\n",
    "=\\begin{bmatrix}a\\\\ b \\end{bmatrix}$$\n",
    "\n",
    "So\n",
    "\n",
    "$$c_1 = \\frac{2a+(1+\\sqrt{5})b}{2\\sqrt{5}},\\quad c_2 = \\frac{2a+(1-\\sqrt{5})b}{2\\sqrt{5}}.$$\n",
    "\n",
    "Finally\n",
    "\n",
    "$$u^{(k)} = \\frac{2a+(1+\\sqrt{5})b}{2\\sqrt{5}}\\left(\\frac{1+\\sqrt{5}}{2}\\right)^k + \n",
    "\\frac{2a+(1-\\sqrt{5})b}{2\\sqrt{5}}\\left(\\frac{1-\\sqrt{5}}{2}\\right)^k.$$\n",
    "\n",
    "Assume $a=0,\\ b=1$, we got the *Binet formula*\n",
    "$$u^{(k)} = \\frac{1}{\\sqrt{5}}\\left[\\left(\\frac{1+\\sqrt{5}}{2}\\right)^k - \\left(\\frac{1-\\sqrt{5}}{2}\\right)^k\\right]$$"
   ]
  },
  {
   "cell_type": "code",
   "execution_count": null,
   "id": "12fde104-ea81-4da6-b6ab-45e824471d73",
   "metadata": {},
   "outputs": [],
   "source": []
  }
 ],
 "metadata": {
  "kernelspec": {
   "display_name": "AIML",
   "language": "python",
   "name": "aiml"
  },
  "language_info": {
   "codemirror_mode": {
    "name": "ipython",
    "version": 3
   },
   "file_extension": ".py",
   "mimetype": "text/x-python",
   "name": "python",
   "nbconvert_exporter": "python",
   "pygments_lexer": "ipython3",
   "version": "3.8.12"
  }
 },
 "nbformat": 4,
 "nbformat_minor": 5
}
