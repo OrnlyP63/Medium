{
 "cells": [
  {
   "cell_type": "markdown",
   "id": "fe373db8-2cff-4989-9d74-e984ea0077de",
   "metadata": {},
   "source": [
    "# Eigenvalue & Eigenvector\n",
    "Consider \n",
    "\n",
    "$$Av = \\lambda v$$\n",
    "\n",
    "$v$ is called \"eigenvector\", and $\\lambda$ is called \"eigenvalue\" of matrix $A$. The eigenvector $v$ is scaled by eigenvalue $\\lambda$\n",
    "- Finding Eigenvalue\n",
    "\n",
    "    Consider $Av = \\lambda v$\n",
    "\n",
    "    $$\n",
    "    \\begin{align}\n",
    "    Av &= \\lambda v\\\\\n",
    "    Av - \\lambda v &= 0\\\\\n",
    "    (A - \\lambda I) v &= 0\\\\\n",
    "    \\end{align}\n",
    "    $$\n",
    "\n",
    "    $A - \\lambda I$ has nontrivial null space. So $det(A-\\lambda I) = 0$. The previous equation is called \"Characteristic equation\".\n",
    "\n",
    "    $$|A - \\lambda I| = 0$$\n",
    "    \n",
    "    Consider Example matrix 2x2\n",
    "    $$A = \\begin{bmatrix}a & b\\\\ c & d\\end{bmatrix}$$\n",
    "\n",
    "    So\n",
    "    $$\\begin{align}\n",
    "    \\left |\n",
    "    \\begin{bmatrix}a & b\\\\ c & d\\end{bmatrix} - \n",
    "    \\lambda\\begin{bmatrix}1 & 0\\\\ 0 & 1\\end{bmatrix}\\right | =&  0\\\\\n",
    "    \\left |\n",
    "    \\begin{bmatrix}a - \\lambda& b\\\\ c & d - \\lambda\\end{bmatrix}\\right | =&  0\\\\\n",
    "    \\lambda^2 - (a + d)\\lambda + (ad - bc) =& 0\\\\\n",
    "    \\lambda^2 - tr(A)\\lambda + det(A) =& 0\\\\\n",
    "    \\end{align}$$\n",
    "    \n",
    "- FInding Eigenvectors \n",
    "\n",
    "    Find all $v$ that $(A-\\lambda I)v = 0$\n",
    "    "
   ]
  },
  {
   "cell_type": "code",
   "execution_count": 1,
   "id": "5c38e74b-24e2-4e05-913d-ee4b86801c64",
   "metadata": {},
   "outputs": [],
   "source": [
    "import numpy as np\n",
    "import matplotlib.pyplot as plt\n",
    "plt.style.use('seaborn')"
   ]
  },
  {
   "cell_type": "code",
   "execution_count": 2,
   "id": "5c631846-7549-4d9e-90a9-614731f1db68",
   "metadata": {},
   "outputs": [
    {
     "data": {
      "image/png": "[encoded data removed]",
      "text/plain": [
       "<Figure size 600x600 with 1 Axes>"
      ]
     },
     "metadata": {},
     "output_type": "display_data"
    }
   ],
   "source": [
    "# Define a square matrix\n",
    "A = np.random.rand(2, 2)\n",
    "\n",
    "A = A.T @ A\n",
    "# Compute eigenvalues and eigenvectors\n",
    "eigenvalues, eigenvectors = np.linalg.eig(A)\n",
    "\n",
    "# Plot the eigenvectors and eigenvalues\n",
    "plt.figure(figsize=(6, 6))\n",
    "plt.axhline(0, color='black', linewidth=0.5)\n",
    "plt.axvline(0, color='black', linewidth=0.5)\n",
    "\n",
    "# Plot eigenvectors\n",
    "for i in range(len(eigenvectors)):\n",
    "    plt.quiver(0, 0, eigenvectors[0, i], eigenvectors[1, i], angles='xy', scale_units='xy', scale=1, color='r',\n",
    "               label=f'Eigenvector {i+1}')\n",
    "\n",
    "\n",
    "plt.xlim([-5, 5])\n",
    "plt.ylim([-5, 5])\n",
    "plt.grid(True)\n",
    "plt.legend()\n",
    "plt.title('Eigenvalues and Eigenvectors')\n",
    "plt.show()"
   ]
  },
  {
   "cell_type": "markdown",
   "id": "e444c290-a4c4-4e67-ad48-6f1a02f908b5",
   "metadata": {},
   "source": [
    "# Generate The Fibonacci Sequence\n",
    "\n",
    "Let $\\{f_n\\}$ be the fibonacci sequence; \n",
    "$$f_{n} = f_{n-1} + f_{n-2}$$\n",
    "\n",
    "where $f_0 = 0,\\  f_1 = 1$"
   ]
  },
  {
   "cell_type": "code",
   "execution_count": 3,
   "id": "5d590fb6-a41e-4786-940b-4ce72f38b098",
   "metadata": {},
   "outputs": [],
   "source": [
    "def fibo(n):\n",
    "    f1, f2 = 0, 1\n",
    "    \n",
    "    for _ in range(n):\n",
    "        fn = f1 + f2\n",
    "        f1, f2 = f2, fn\n",
    "        \n",
    "        yield fn"
   ]
  },
  {
   "cell_type": "code",
   "execution_count": 4,
   "id": "3b8483db-9d8e-42ad-9452-22e3af6eece1",
   "metadata": {},
   "outputs": [
    {
     "data": {
      "text/plain": [
       "[1, 2, 3, 5, 8, 13, 21, 34, 55, 89]"
      ]
     },
     "execution_count": 4,
     "metadata": {},
     "output_type": "execute_result"
    }
   ],
   "source": [
    "list(fibo(10))"
   ]
  },
  {
   "cell_type": "markdown",
   "id": "2fde6783-bd5e-463b-847f-509980836954",
   "metadata": {},
   "source": [
    "Transform the fibonacci sequence function to first-order function.\n",
    "\n",
    "$$\\begin{align}\n",
    "f_n &= f_{n-1} + s_{n-1}\\\\\n",
    "s_n &= f_{n-1}\n",
    "\\end{align}$$\n",
    "\n",
    "Let reconstruct this functions into a matrix transform\n",
    "\n",
    "$$\\begin{bmatrix}\n",
    "f_n\\\\\n",
    "s_n\n",
    "\\end{bmatrix}\n",
    "=\n",
    "\\begin{bmatrix}\n",
    "1 & 1\\\\\n",
    "1 & 0\n",
    "\\end{bmatrix}\n",
    "\\begin{bmatrix}\n",
    "f_{n-1}\\\\\n",
    "s_{n-1}\n",
    "\\end{bmatrix}$$"
   ]
  },
  {
   "cell_type": "code",
   "execution_count": 5,
   "id": "b30762d0-02be-4531-9e62-d62410d3cd67",
   "metadata": {},
   "outputs": [],
   "source": [
    "fibo_transformer = np.array([[1, 1], \n",
    "                             [1, 0]])\n",
    "\n",
    "init_vect = np.array([[0],\n",
    "                      [1]])"
   ]
  },
  {
   "cell_type": "code",
   "execution_count": 6,
   "id": "eaca856b-1a70-4aff-9078-612b85b81f3b",
   "metadata": {},
   "outputs": [
    {
     "name": "stdout",
     "output_type": "stream",
     "text": [
      "[[1]\n",
      " [0]]\n",
      "--------------------\n",
      "[[1]\n",
      " [1]]\n",
      "--------------------\n",
      "[[2]\n",
      " [1]]\n",
      "--------------------\n",
      "[[3]\n",
      " [2]]\n",
      "--------------------\n",
      "[[5]\n",
      " [3]]\n",
      "--------------------\n",
      "[[8]\n",
      " [5]]\n",
      "--------------------\n",
      "[[13]\n",
      " [ 8]]\n",
      "--------------------\n",
      "[[21]\n",
      " [13]]\n",
      "--------------------\n",
      "[[34]\n",
      " [21]]\n",
      "--------------------\n",
      "[[55]\n",
      " [34]]\n",
      "--------------------\n"
     ]
    }
   ],
   "source": [
    "new_vect = fibo_transformer @ init_vect\n",
    "\n",
    "for _ in range(10):\n",
    "    print(new_vect)\n",
    "    print('-'*20)\n",
    "    new_vect = fibo_transformer @ new_vect"
   ]
  },
  {
   "cell_type": "markdown",
   "id": "d4fa62a8-384e-4003-945a-44cb8bcf5d65",
   "metadata": {},
   "source": [
    "# Finding Golden Ratio\n",
    "\n",
    "Find the eigenvalue of fibonacci transformer matrix:\n",
    "\n",
    "Consider \n",
    "$$\\left |\\begin{bmatrix}1 - \\lambda & 1\\\\ 1 & 0 - \\lambda\\end{bmatrix}\\right | =  0$$\n",
    "\n",
    "Implies\n",
    "$$\\begin{align}\n",
    "\\lambda^2 - (1 + 0)\\lambda + (1 \\times 0 - 1\\times 1) &= 0\\\\\n",
    "\\lambda^2 - \\lambda - 1 &= 0\n",
    "\\end{align}$$\n",
    "\n",
    "From quadratic formula:\n",
    "$$\n",
    "x = \\frac{{-b \\pm \\sqrt{{b^2 - 4ac}}}}{{2a}}\n",
    "$$\n",
    "\n",
    "where $a$, $b$, and $c$ are coefficients, and $x$ represents the variable.\n",
    "\n",
    "Implies\n",
    "\n",
    "$$\\lambda = \\frac{{-(-1) \\pm \\sqrt{{(-1)^2 - 4\\times 1\\times -1)}}}}{{2\\times 1}} = \\frac{{1 \\pm \\sqrt{{1 + 4}}}}{{2}} = \\frac{{1 \\pm \\sqrt{{5}}}}{{2}}$$\n",
    "\n",
    "That means $\\lambda_1 \\approx 1.618,\\ \\lambda_2 \\approx -0.618$. \n",
    "\n",
    "Eigen value of fibonacci transformer matrix is the golden ratio."
   ]
  },
  {
   "cell_type": "code",
   "execution_count": 7,
   "id": "4205b10f-1b8a-4a38-a967-bdd632743a86",
   "metadata": {},
   "outputs": [
    {
     "data": {
      "text/plain": [
       "array([ 1.61803399, -0.61803399])"
      ]
     },
     "execution_count": 7,
     "metadata": {},
     "output_type": "execute_result"
    }
   ],
   "source": [
    "# Find the eigenvalues and eigenvectors of the matrix\n",
    "\n",
    "eigvals, eigvects = np.linalg.eig(fibo_transformer)\n",
    "\n",
    "eigvals"
   ]
  },
  {
   "cell_type": "code",
   "execution_count": 8,
   "id": "6a704e3f-6f1b-40eb-9f05-aa62509eb046",
   "metadata": {},
   "outputs": [
    {
     "data": {
      "text/plain": [
       "array([[ 0.85065081, -0.52573111],\n",
       "       [ 0.52573111,  0.85065081]])"
      ]
     },
     "execution_count": 8,
     "metadata": {},
     "output_type": "execute_result"
    }
   ],
   "source": [
    "eigvects"
   ]
  },
  {
   "cell_type": "markdown",
   "id": "528057c2-b278-4ba0-a759-643c42f8e8a1",
   "metadata": {},
   "source": [
    "Consider the first eigenvalue and the first eigenvector"
   ]
  },
  {
   "cell_type": "code",
   "execution_count": 9,
   "id": "98daf780-d79c-4a2a-8abe-8d655cca6a3f",
   "metadata": {},
   "outputs": [
    {
     "data": {
      "text/plain": [
       "1.618033988749895"
      ]
     },
     "execution_count": 9,
     "metadata": {},
     "output_type": "execute_result"
    }
   ],
   "source": [
    "eigvals[0]"
   ]
  },
  {
   "cell_type": "code",
   "execution_count": 10,
   "id": "065a5fc9-ab08-4b90-b110-6a5a2021b493",
   "metadata": {},
   "outputs": [
    {
     "data": {
      "text/plain": [
       "array([0.85065081, 0.52573111])"
      ]
     },
     "execution_count": 10,
     "metadata": {},
     "output_type": "execute_result"
    }
   ],
   "source": [
    "eigvects[:, 0]"
   ]
  },
  {
   "cell_type": "code",
   "execution_count": 11,
   "id": "9c70df81-a21f-421c-afcd-ec722f43caa4",
   "metadata": {},
   "outputs": [],
   "source": [
    "f = lambda x: x * (eigvects[0, 0] / eigvects[1, 0])\n",
    "x = np.linspace(0, 100, 100)"
   ]
  },
  {
   "cell_type": "code",
   "execution_count": 16,
   "id": "ac283b92-d57d-4ff5-99f3-220fefff6628",
   "metadata": {},
   "outputs": [
    {
     "data": {
      "image/png": "[encoded data removed]",
      "text/plain": [
       "<Figure size 800x550 with 1 Axes>"
      ]
     },
     "metadata": {},
     "output_type": "display_data"
    }
   ],
   "source": [
    "fibo_seq = list(fibo(11))\n",
    "plt.plot(x, f(x), label='direction of the eigenvector')\n",
    "plt.plot(fibo_seq[:-1], fibo_seq[1:] , 'o', color='black', label='fibonacci seq. coweb plot')\n",
    "plt.xlabel('$f_{n-1}$', fontsize=16)\n",
    "plt.ylabel('$f_{n}$', fontsize=16)\n",
    "plt.legend()\n",
    "plt.savefig('eigen_fibo.png');"
   ]
  },
  {
   "cell_type": "code",
   "execution_count": null,
   "id": "7949bb7a-6774-478b-99a4-5adf9847e802",
   "metadata": {},
   "outputs": [],
   "source": []
  }
 ],
 "metadata": {
  "kernelspec": {
   "display_name": "AIML",
   "language": "python",
   "name": "aiml"
  },
  "language_info": {
   "codemirror_mode": {
    "name": "ipython",
    "version": 3
   },
   "file_extension": ".py",
   "mimetype": "text/x-python",
   "name": "python",
   "nbconvert_exporter": "python",
   "pygments_lexer": "ipython3",
   "version": "3.8.12"
  }
 },
 "nbformat": 4,
 "nbformat_minor": 5
}
