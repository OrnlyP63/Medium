{
 "cells": [
  {
   "cell_type": "markdown",
   "id": "ff593c2d-55ca-46ad-8d75-c0d45a810a08",
   "metadata": {},
   "source": [
    "## The matrix\n",
    "\n",
    "$$A = \\begin{bmatrix}\n",
    "a_{11} & a_{12} & a_{13} & \\cdots & a_{1N}\\\\\n",
    "a_{21} & a_{22} & a_{23} & \\cdots & a_{2N}\\\\\n",
    "\\vdots & \\vdots & \\vdots & \\ddots & \\vdots\\\\\n",
    "a_{M1} & a_{M2} & a_{M3} & \\cdots & a_{MN}\\\\\n",
    "\\end{bmatrix}$$\n",
    "\n",
    "## The vector\n",
    "\n",
    "$$V = \\begin{bmatrix}\n",
    "v_{11} &\n",
    "v_{12} &\n",
    "v_{13} &\n",
    "\\cdots &\n",
    "v_{1M}\n",
    "\\end{bmatrix}$$"
   ]
  },
  {
   "cell_type": "code",
   "execution_count": 1,
   "id": "65500a5d-422f-497a-aa61-127ed9702f85",
   "metadata": {},
   "outputs": [],
   "source": [
    "import numpy as np"
   ]
  },
  {
   "cell_type": "code",
   "execution_count": 2,
   "id": "17183a1c-ed35-490f-af00-9764691f1993",
   "metadata": {},
   "outputs": [],
   "source": [
    "np.random.seed(7)\n",
    "M = 2\n",
    "N = 2\n",
    "\n",
    "A = np.random.randn(M, N)\n",
    "V = np.random.randn(1, M)"
   ]
  },
  {
   "cell_type": "code",
   "execution_count": 3,
   "id": "f9c3086d-53de-4202-85d0-bd80285a99ff",
   "metadata": {},
   "outputs": [
    {
     "data": {
      "text/plain": [
       "((1, 2), (2, 2))"
      ]
     },
     "execution_count": 3,
     "metadata": {},
     "output_type": "execute_result"
    }
   ],
   "source": [
    "V.shape, A.shape "
   ]
  },
  {
   "cell_type": "markdown",
   "id": "388f1ea9-50d6-4c10-b5bc-461bbcac223d",
   "metadata": {},
   "source": [
    "## The Matrix Multiplication"
   ]
  },
  {
   "cell_type": "code",
   "execution_count": 4,
   "id": "06f1f34c-0034-4fb8-a03b-2c0cd852d717",
   "metadata": {},
   "outputs": [],
   "source": [
    "import matplotlib.pyplot as plt\n",
    "plt.style.use('seaborn')"
   ]
  },
  {
   "cell_type": "code",
   "execution_count": 5,
   "id": "47c958fd-5b71-4181-8824-f12ba845ba3f",
   "metadata": {},
   "outputs": [],
   "source": [
    "res = V @  A"
   ]
  },
  {
   "cell_type": "code",
   "execution_count": 6,
   "id": "3eb1ece1-3f53-4967-b1c5-11474fdbe8db",
   "metadata": {},
   "outputs": [
    {
     "data": {
      "text/plain": [
       "(1, 2)"
      ]
     },
     "execution_count": 6,
     "metadata": {},
     "output_type": "execute_result"
    }
   ],
   "source": [
    "res.shape"
   ]
  },
  {
   "cell_type": "code",
   "execution_count": 7,
   "id": "37ab577e-a699-45a6-863a-edc0a0d89a05",
   "metadata": {},
   "outputs": [
    {
     "data": {
      "image/png": "[encoded data removed]",
      "text/plain": [
       "<Figure size 1500x700 with 2 Axes>"
      ]
     },
     "metadata": {},
     "output_type": "display_data"
    }
   ],
   "source": [
    "plt.figure(figsize=(15, 7))\n",
    "plt.subplot(1, 2, 1)\n",
    "plt.arrow(0, 0, V[0][0], V[0][1], head_width=0.03, head_length=0.03, linewidth=2,  fc='k', ec='k')\n",
    "plt.xlim(-2, 2)\n",
    "plt.ylim(-1, 1)\n",
    "plt.title('$V$', fontsize=16)\n",
    "\n",
    "plt.subplot(1, 2, 2)\n",
    "plt.arrow(0, 0, res[0][0], res[0][1], head_width=0.03, head_length=0.03, linewidth=2,  fc='k', ec='k')\n",
    "plt.xlim(-2, 2)\n",
    "plt.ylim(-1, 1)\n",
    "plt.title('$V_{new} = VA$', fontsize=16)\n",
    "\n",
    "plt.savefig('transformed_vec.png');"
   ]
  },
  {
   "cell_type": "markdown",
   "id": "f30a2c1a-483f-4e08-a88d-40ec98f0e7e3",
   "metadata": {},
   "source": [
    "## Data vector"
   ]
  },
  {
   "cell_type": "code",
   "execution_count": 8,
   "id": "00896b5a-8743-4bcd-855b-da040dad1836",
   "metadata": {},
   "outputs": [],
   "source": [
    "import pandas as pd\n",
    "import seaborn as sns"
   ]
  },
  {
   "cell_type": "code",
   "execution_count": 9,
   "id": "303ab07e-dedd-432a-a779-7f980565cfce",
   "metadata": {},
   "outputs": [],
   "source": [
    "# Load the iris data\n",
    "iris = sns.load_dataset(\"iris\")"
   ]
  },
  {
   "cell_type": "code",
   "execution_count": 10,
   "id": "404c00c2-0364-4d14-842d-194241802600",
   "metadata": {},
   "outputs": [
    {
     "data": {
      "text/html": [
       "<div>\n",
       "<style scoped>\n",
       "    .dataframe tbody tr th:only-of-type {\n",
       "        vertical-align: middle;\n",
       "    }\n",
       "\n",
       "    .dataframe tbody tr th {\n",
       "        vertical-align: top;\n",
       "    }\n",
       "\n",
       "    .dataframe thead th {\n",
       "        text-align: right;\n",
       "    }\n",
       "</style>\n",
       "<table border=\"1\" class=\"dataframe\">\n",
       "  <thead>\n",
       "    <tr style=\"text-align: right;\">\n",
       "      <th></th>\n",
       "      <th>sepal_length</th>\n",
       "      <th>sepal_width</th>\n",
       "      <th>petal_length</th>\n",
       "      <th>petal_width</th>\n",
       "      <th>species</th>\n",
       "    </tr>\n",
       "  </thead>\n",
       "  <tbody>\n",
       "    <tr>\n",
       "      <th>0</th>\n",
       "      <td>5.1</td>\n",
       "      <td>3.5</td>\n",
       "      <td>1.4</td>\n",
       "      <td>0.2</td>\n",
       "      <td>setosa</td>\n",
       "    </tr>\n",
       "    <tr>\n",
       "      <th>1</th>\n",
       "      <td>4.9</td>\n",
       "      <td>3.0</td>\n",
       "      <td>1.4</td>\n",
       "      <td>0.2</td>\n",
       "      <td>setosa</td>\n",
       "    </tr>\n",
       "    <tr>\n",
       "      <th>2</th>\n",
       "      <td>4.7</td>\n",
       "      <td>3.2</td>\n",
       "      <td>1.3</td>\n",
       "      <td>0.2</td>\n",
       "      <td>setosa</td>\n",
       "    </tr>\n",
       "    <tr>\n",
       "      <th>3</th>\n",
       "      <td>4.6</td>\n",
       "      <td>3.1</td>\n",
       "      <td>1.5</td>\n",
       "      <td>0.2</td>\n",
       "      <td>setosa</td>\n",
       "    </tr>\n",
       "    <tr>\n",
       "      <th>4</th>\n",
       "      <td>5.0</td>\n",
       "      <td>3.6</td>\n",
       "      <td>1.4</td>\n",
       "      <td>0.2</td>\n",
       "      <td>setosa</td>\n",
       "    </tr>\n",
       "  </tbody>\n",
       "</table>\n",
       "</div>"
      ],
      "text/plain": [
       "   sepal_length  sepal_width  petal_length  petal_width species\n",
       "0           5.1          3.5           1.4          0.2  setosa\n",
       "1           4.9          3.0           1.4          0.2  setosa\n",
       "2           4.7          3.2           1.3          0.2  setosa\n",
       "3           4.6          3.1           1.5          0.2  setosa\n",
       "4           5.0          3.6           1.4          0.2  setosa"
      ]
     },
     "execution_count": 10,
     "metadata": {},
     "output_type": "execute_result"
    }
   ],
   "source": [
    "iris.head()"
   ]
  },
  {
   "cell_type": "code",
   "execution_count": 11,
   "id": "e6a3152d-8400-46b2-86d3-f5a1d0b55983",
   "metadata": {},
   "outputs": [
    {
     "data": {
      "image/png": "[encoded data removed]",
      "text/plain": [
       "<Figure size 1000x700 with 1 Axes>"
      ]
     },
     "metadata": {},
     "output_type": "display_data"
    }
   ],
   "source": [
    "plt.figure(figsize=(10, 7))\n",
    "sns.scatterplot(data=iris, x='sepal_length', y='sepal_width', hue='species')\n",
    "plt.savefig('plot_iris.png');"
   ]
  },
  {
   "cell_type": "markdown",
   "id": "81bfb683-757f-4190-975c-b1aff563abdc",
   "metadata": {},
   "source": [
    "Transform data into the matrices and vectors"
   ]
  },
  {
   "cell_type": "code",
   "execution_count": 12,
   "id": "aabd1632-c0a8-471f-92c3-a196a13f0556",
   "metadata": {},
   "outputs": [],
   "source": [
    "X = iris.drop('species', axis=1)\n",
    "y = iris['species']\n",
    "encoded_y = pd.get_dummies(iris['species']) # Represent y with one-hot-encoder"
   ]
  },
  {
   "cell_type": "code",
   "execution_count": 13,
   "id": "41090293-7d3e-40c9-9600-429313d87656",
   "metadata": {},
   "outputs": [
    {
     "data": {
      "text/html": [
       "<div>\n",
       "<style scoped>\n",
       "    .dataframe tbody tr th:only-of-type {\n",
       "        vertical-align: middle;\n",
       "    }\n",
       "\n",
       "    .dataframe tbody tr th {\n",
       "        vertical-align: top;\n",
       "    }\n",
       "\n",
       "    .dataframe thead th {\n",
       "        text-align: right;\n",
       "    }\n",
       "</style>\n",
       "<table border=\"1\" class=\"dataframe\">\n",
       "  <thead>\n",
       "    <tr style=\"text-align: right;\">\n",
       "      <th></th>\n",
       "      <th>sepal_length</th>\n",
       "      <th>sepal_width</th>\n",
       "      <th>petal_length</th>\n",
       "      <th>petal_width</th>\n",
       "    </tr>\n",
       "  </thead>\n",
       "  <tbody>\n",
       "    <tr>\n",
       "      <th>0</th>\n",
       "      <td>5.1</td>\n",
       "      <td>3.5</td>\n",
       "      <td>1.4</td>\n",
       "      <td>0.2</td>\n",
       "    </tr>\n",
       "    <tr>\n",
       "      <th>1</th>\n",
       "      <td>4.9</td>\n",
       "      <td>3.0</td>\n",
       "      <td>1.4</td>\n",
       "      <td>0.2</td>\n",
       "    </tr>\n",
       "    <tr>\n",
       "      <th>2</th>\n",
       "      <td>4.7</td>\n",
       "      <td>3.2</td>\n",
       "      <td>1.3</td>\n",
       "      <td>0.2</td>\n",
       "    </tr>\n",
       "    <tr>\n",
       "      <th>3</th>\n",
       "      <td>4.6</td>\n",
       "      <td>3.1</td>\n",
       "      <td>1.5</td>\n",
       "      <td>0.2</td>\n",
       "    </tr>\n",
       "    <tr>\n",
       "      <th>4</th>\n",
       "      <td>5.0</td>\n",
       "      <td>3.6</td>\n",
       "      <td>1.4</td>\n",
       "      <td>0.2</td>\n",
       "    </tr>\n",
       "  </tbody>\n",
       "</table>\n",
       "</div>"
      ],
      "text/plain": [
       "   sepal_length  sepal_width  petal_length  petal_width\n",
       "0           5.1          3.5           1.4          0.2\n",
       "1           4.9          3.0           1.4          0.2\n",
       "2           4.7          3.2           1.3          0.2\n",
       "3           4.6          3.1           1.5          0.2\n",
       "4           5.0          3.6           1.4          0.2"
      ]
     },
     "execution_count": 13,
     "metadata": {},
     "output_type": "execute_result"
    }
   ],
   "source": [
    "X.head()"
   ]
  },
  {
   "cell_type": "code",
   "execution_count": 14,
   "id": "9f16cdc6-c909-4aae-b6fc-04d1c430bc54",
   "metadata": {},
   "outputs": [
    {
     "data": {
      "text/plain": [
       "setosa        50\n",
       "versicolor    50\n",
       "virginica     50\n",
       "Name: species, dtype: int64"
      ]
     },
     "execution_count": 14,
     "metadata": {},
     "output_type": "execute_result"
    }
   ],
   "source": [
    "y.value_counts()"
   ]
  },
  {
   "cell_type": "code",
   "execution_count": 15,
   "id": "2ea20f68-8239-4cfc-9665-a534cdf6b6ed",
   "metadata": {},
   "outputs": [
    {
     "data": {
      "text/html": [
       "<div>\n",
       "<style scoped>\n",
       "    .dataframe tbody tr th:only-of-type {\n",
       "        vertical-align: middle;\n",
       "    }\n",
       "\n",
       "    .dataframe tbody tr th {\n",
       "        vertical-align: top;\n",
       "    }\n",
       "\n",
       "    .dataframe thead th {\n",
       "        text-align: right;\n",
       "    }\n",
       "</style>\n",
       "<table border=\"1\" class=\"dataframe\">\n",
       "  <thead>\n",
       "    <tr style=\"text-align: right;\">\n",
       "      <th></th>\n",
       "      <th>setosa</th>\n",
       "      <th>versicolor</th>\n",
       "      <th>virginica</th>\n",
       "    </tr>\n",
       "  </thead>\n",
       "  <tbody>\n",
       "    <tr>\n",
       "      <th>0</th>\n",
       "      <td>1</td>\n",
       "      <td>0</td>\n",
       "      <td>0</td>\n",
       "    </tr>\n",
       "    <tr>\n",
       "      <th>1</th>\n",
       "      <td>1</td>\n",
       "      <td>0</td>\n",
       "      <td>0</td>\n",
       "    </tr>\n",
       "    <tr>\n",
       "      <th>2</th>\n",
       "      <td>1</td>\n",
       "      <td>0</td>\n",
       "      <td>0</td>\n",
       "    </tr>\n",
       "    <tr>\n",
       "      <th>3</th>\n",
       "      <td>1</td>\n",
       "      <td>0</td>\n",
       "      <td>0</td>\n",
       "    </tr>\n",
       "    <tr>\n",
       "      <th>4</th>\n",
       "      <td>1</td>\n",
       "      <td>0</td>\n",
       "      <td>0</td>\n",
       "    </tr>\n",
       "  </tbody>\n",
       "</table>\n",
       "</div>"
      ],
      "text/plain": [
       "   setosa  versicolor  virginica\n",
       "0       1           0          0\n",
       "1       1           0          0\n",
       "2       1           0          0\n",
       "3       1           0          0\n",
       "4       1           0          0"
      ]
     },
     "execution_count": 15,
     "metadata": {},
     "output_type": "execute_result"
    }
   ],
   "source": [
    "encoded_y.head()"
   ]
  },
  {
   "cell_type": "code",
   "execution_count": 16,
   "id": "8ae034fc-d54f-411a-8c3b-cc3382146d8c",
   "metadata": {},
   "outputs": [],
   "source": [
    "X, y, encoded_y = X.to_numpy(), y.to_numpy(), encoded_y.to_numpy()"
   ]
  },
  {
   "cell_type": "code",
   "execution_count": 17,
   "id": "c948d1ee-4754-4092-9b4d-43e26b6493f9",
   "metadata": {},
   "outputs": [
    {
     "data": {
      "text/plain": [
       "array([[5.1, 3.5, 1.4, 0.2],\n",
       "       [4.9, 3. , 1.4, 0.2],\n",
       "       [4.7, 3.2, 1.3, 0.2],\n",
       "       [4.6, 3.1, 1.5, 0.2],\n",
       "       [5. , 3.6, 1.4, 0.2]])"
      ]
     },
     "execution_count": 17,
     "metadata": {},
     "output_type": "execute_result"
    }
   ],
   "source": [
    "X[:5]"
   ]
  },
  {
   "cell_type": "code",
   "execution_count": 18,
   "id": "00979831-ca48-4392-b1ac-8f4783ceaedd",
   "metadata": {},
   "outputs": [
    {
     "data": {
      "text/plain": [
       "array(['setosa', 'setosa', 'setosa', 'setosa', 'setosa'], dtype=object)"
      ]
     },
     "execution_count": 18,
     "metadata": {},
     "output_type": "execute_result"
    }
   ],
   "source": [
    "y[:5]"
   ]
  },
  {
   "cell_type": "code",
   "execution_count": 19,
   "id": "f99c2da6-bc67-4cc6-9f01-f54123008fe4",
   "metadata": {},
   "outputs": [
    {
     "data": {
      "text/plain": [
       "array([[1, 0, 0],\n",
       "       [1, 0, 0],\n",
       "       [1, 0, 0],\n",
       "       [1, 0, 0],\n",
       "       [1, 0, 0]], dtype=uint8)"
      ]
     },
     "execution_count": 19,
     "metadata": {},
     "output_type": "execute_result"
    }
   ],
   "source": [
    "encoded_y[:5]"
   ]
  },
  {
   "cell_type": "code",
   "execution_count": 20,
   "id": "bd2f9a1f-5597-44e9-9968-3bd183c6d0e2",
   "metadata": {},
   "outputs": [],
   "source": [
    "np.random.seed(42)\n",
    "M_input = np.random.uniform(-1, 1, (4, 16))\n",
    "X_hidden= X @ M_input"
   ]
  },
  {
   "cell_type": "code",
   "execution_count": 21,
   "id": "98aba54f-cf70-47ca-a1f4-776de8eb2a24",
   "metadata": {},
   "outputs": [
    {
     "data": {
      "text/plain": [
       "(150, 16)"
      ]
     },
     "execution_count": 21,
     "metadata": {},
     "output_type": "execute_result"
    }
   ],
   "source": [
    "X_hidden.shape"
   ]
  },
  {
   "cell_type": "code",
   "execution_count": 22,
   "id": "18def027-d7c7-40cb-96fa-631831eb1a84",
   "metadata": {},
   "outputs": [
    {
     "data": {
      "text/plain": [
       "array([[ 1.6905257 , -0.46593737],\n",
       "       [ 0.03282016,  0.40751628]])"
      ]
     },
     "execution_count": 22,
     "metadata": {},
     "output_type": "execute_result"
    }
   ],
   "source": [
    "A"
   ]
  },
  {
   "cell_type": "code",
   "execution_count": 23,
   "id": "d4f58a37-2c2f-41e0-bbb3-ded48ab78f2b",
   "metadata": {},
   "outputs": [
    {
     "data": {
      "text/html": [
       "<div>\n",
       "<style scoped>\n",
       "    .dataframe tbody tr th:only-of-type {\n",
       "        vertical-align: middle;\n",
       "    }\n",
       "\n",
       "    .dataframe tbody tr th {\n",
       "        vertical-align: top;\n",
       "    }\n",
       "\n",
       "    .dataframe thead th {\n",
       "        text-align: right;\n",
       "    }\n",
       "</style>\n",
       "<table border=\"1\" class=\"dataframe\">\n",
       "  <thead>\n",
       "    <tr style=\"text-align: right;\">\n",
       "      <th></th>\n",
       "      <th>0</th>\n",
       "      <th>1</th>\n",
       "      <th>2</th>\n",
       "      <th>3</th>\n",
       "      <th>4</th>\n",
       "      <th>5</th>\n",
       "      <th>6</th>\n",
       "      <th>7</th>\n",
       "      <th>8</th>\n",
       "      <th>9</th>\n",
       "      <th>10</th>\n",
       "      <th>11</th>\n",
       "      <th>12</th>\n",
       "      <th>13</th>\n",
       "      <th>14</th>\n",
       "      <th>15</th>\n",
       "      <th>species</th>\n",
       "    </tr>\n",
       "  </thead>\n",
       "  <tbody>\n",
       "    <tr>\n",
       "      <th>0</th>\n",
       "      <td>-3.849167</td>\n",
       "      <td>5.901402</td>\n",
       "      <td>3.381557</td>\n",
       "      <td>0.518486</td>\n",
       "      <td>-3.096921</td>\n",
       "      <td>-7.000986</td>\n",
       "      <td>-5.407522</td>\n",
       "      <td>2.800706</td>\n",
       "      <td>-0.499033</td>\n",
       "      <td>3.983461</td>\n",
       "      <td>-8.477943</td>\n",
       "      <td>5.968951</td>\n",
       "      <td>3.317872</td>\n",
       "      <td>-5.745386</td>\n",
       "      <td>-2.888285</td>\n",
       "      <td>-5.536713</td>\n",
       "      <td>setosa</td>\n",
       "    </tr>\n",
       "    <tr>\n",
       "      <th>1</th>\n",
       "      <td>-3.603225</td>\n",
       "      <td>5.696360</td>\n",
       "      <td>3.356814</td>\n",
       "      <td>0.687794</td>\n",
       "      <td>-3.071182</td>\n",
       "      <td>-6.502878</td>\n",
       "      <td>-5.022900</td>\n",
       "      <td>2.787874</td>\n",
       "      <td>-0.495549</td>\n",
       "      <td>3.615056</td>\n",
       "      <td>-7.985850</td>\n",
       "      <td>5.766752</td>\n",
       "      <td>3.092480</td>\n",
       "      <td>-5.176772</td>\n",
       "      <td>-2.868560</td>\n",
       "      <td>-5.080599</td>\n",
       "      <td>setosa</td>\n",
       "    </tr>\n",
       "    <tr>\n",
       "      <th>2</th>\n",
       "      <td>-3.544354</td>\n",
       "      <td>5.436200</td>\n",
       "      <td>3.143668</td>\n",
       "      <td>0.503142</td>\n",
       "      <td>-2.849771</td>\n",
       "      <td>-6.429012</td>\n",
       "      <td>-4.966122</td>\n",
       "      <td>2.599918</td>\n",
       "      <td>-0.477975</td>\n",
       "      <td>3.646861</td>\n",
       "      <td>-7.821092</td>\n",
       "      <td>5.502618</td>\n",
       "      <td>3.044713</td>\n",
       "      <td>-5.275632</td>\n",
       "      <td>-2.660614</td>\n",
       "      <td>-5.089765</td>\n",
       "      <td>setosa</td>\n",
       "    </tr>\n",
       "    <tr>\n",
       "      <th>3</th>\n",
       "      <td>-3.654090</td>\n",
       "      <td>5.520660</td>\n",
       "      <td>3.297133</td>\n",
       "      <td>0.648524</td>\n",
       "      <td>-2.881500</td>\n",
       "      <td>-6.449041</td>\n",
       "      <td>-4.762475</td>\n",
       "      <td>2.529471</td>\n",
       "      <td>-0.640596</td>\n",
       "      <td>3.546283</td>\n",
       "      <td>-7.851389</td>\n",
       "      <td>5.569517</td>\n",
       "      <td>2.863253</td>\n",
       "      <td>-5.062381</td>\n",
       "      <td>-2.693804</td>\n",
       "      <td>-4.952524</td>\n",
       "      <td>setosa</td>\n",
       "    </tr>\n",
       "    <tr>\n",
       "      <th>4</th>\n",
       "      <td>-3.863226</td>\n",
       "      <td>5.816211</td>\n",
       "      <td>3.321547</td>\n",
       "      <td>0.457000</td>\n",
       "      <td>-3.005755</td>\n",
       "      <td>-7.004286</td>\n",
       "      <td>-5.360710</td>\n",
       "      <td>2.700743</td>\n",
       "      <td>-0.528042</td>\n",
       "      <td>3.998881</td>\n",
       "      <td>-8.442125</td>\n",
       "      <td>5.877816</td>\n",
       "      <td>3.269866</td>\n",
       "      <td>-5.778564</td>\n",
       "      <td>-2.803141</td>\n",
       "      <td>-5.539289</td>\n",
       "      <td>setosa</td>\n",
       "    </tr>\n",
       "  </tbody>\n",
       "</table>\n",
       "</div>"
      ],
      "text/plain": [
       "          0         1         2         3         4         5         6  \\\n",
       "0 -3.849167  5.901402  3.381557  0.518486 -3.096921 -7.000986 -5.407522   \n",
       "1 -3.603225  5.696360  3.356814  0.687794 -3.071182 -6.502878 -5.022900   \n",
       "2 -3.544354  5.436200  3.143668  0.503142 -2.849771 -6.429012 -4.966122   \n",
       "3 -3.654090  5.520660  3.297133  0.648524 -2.881500 -6.449041 -4.762475   \n",
       "4 -3.863226  5.816211  3.321547  0.457000 -3.005755 -7.004286 -5.360710   \n",
       "\n",
       "          7         8         9        10        11        12        13  \\\n",
       "0  2.800706 -0.499033  3.983461 -8.477943  5.968951  3.317872 -5.745386   \n",
       "1  2.787874 -0.495549  3.615056 -7.985850  5.766752  3.092480 -5.176772   \n",
       "2  2.599918 -0.477975  3.646861 -7.821092  5.502618  3.044713 -5.275632   \n",
       "3  2.529471 -0.640596  3.546283 -7.851389  5.569517  2.863253 -5.062381   \n",
       "4  2.700743 -0.528042  3.998881 -8.442125  5.877816  3.269866 -5.778564   \n",
       "\n",
       "         14        15 species  \n",
       "0 -2.888285 -5.536713  setosa  \n",
       "1 -2.868560 -5.080599  setosa  \n",
       "2 -2.660614 -5.089765  setosa  \n",
       "3 -2.693804 -4.952524  setosa  \n",
       "4 -2.803141 -5.539289  setosa  "
      ]
     },
     "execution_count": 23,
     "metadata": {},
     "output_type": "execute_result"
    }
   ],
   "source": [
    "iris_hidden = pd.DataFrame(X_hidden)\n",
    "iris_hidden['species'] = iris['species']\n",
    "\n",
    "iris_hidden.head()"
   ]
  },
  {
   "cell_type": "code",
   "execution_count": 24,
   "id": "33933a01-404a-4233-a62b-8df7814e634d",
   "metadata": {},
   "outputs": [
    {
     "data": {
      "image/png": "[encoded data removed]",
      "text/plain": [
       "<Figure size 1000x700 with 1 Axes>"
      ]
     },
     "metadata": {},
     "output_type": "display_data"
    }
   ],
   "source": [
    "plt.figure(figsize=(10, 7))\n",
    "sns.scatterplot(data=iris_hidden, x=0, y=1, hue='species')\n",
    "plt.savefig('plot_iris_hidden.png');"
   ]
  },
  {
   "cell_type": "code",
   "execution_count": 25,
   "id": "a57c8e5e-ca2c-44a6-9d15-f01fb3f829b3",
   "metadata": {},
   "outputs": [
    {
     "data": {
      "text/html": [
       "<div>\n",
       "<style scoped>\n",
       "    .dataframe tbody tr th:only-of-type {\n",
       "        vertical-align: middle;\n",
       "    }\n",
       "\n",
       "    .dataframe tbody tr th {\n",
       "        vertical-align: top;\n",
       "    }\n",
       "\n",
       "    .dataframe thead th {\n",
       "        text-align: right;\n",
       "    }\n",
       "</style>\n",
       "<table border=\"1\" class=\"dataframe\">\n",
       "  <thead>\n",
       "    <tr style=\"text-align: right;\">\n",
       "      <th></th>\n",
       "      <th>0</th>\n",
       "      <th>1</th>\n",
       "      <th>2</th>\n",
       "      <th>3</th>\n",
       "      <th>4</th>\n",
       "      <th>5</th>\n",
       "      <th>6</th>\n",
       "      <th>7</th>\n",
       "      <th>8</th>\n",
       "      <th>9</th>\n",
       "      <th>10</th>\n",
       "      <th>11</th>\n",
       "      <th>12</th>\n",
       "      <th>13</th>\n",
       "      <th>14</th>\n",
       "      <th>15</th>\n",
       "      <th>species</th>\n",
       "    </tr>\n",
       "  </thead>\n",
       "  <tbody>\n",
       "    <tr>\n",
       "      <th>0</th>\n",
       "      <td>0.0</td>\n",
       "      <td>5.901402</td>\n",
       "      <td>3.381557</td>\n",
       "      <td>0.518486</td>\n",
       "      <td>0.0</td>\n",
       "      <td>0.0</td>\n",
       "      <td>0.0</td>\n",
       "      <td>2.800706</td>\n",
       "      <td>0.0</td>\n",
       "      <td>3.983461</td>\n",
       "      <td>0.0</td>\n",
       "      <td>5.968951</td>\n",
       "      <td>3.317872</td>\n",
       "      <td>0.0</td>\n",
       "      <td>0.0</td>\n",
       "      <td>0.0</td>\n",
       "      <td>setosa</td>\n",
       "    </tr>\n",
       "    <tr>\n",
       "      <th>1</th>\n",
       "      <td>0.0</td>\n",
       "      <td>5.696360</td>\n",
       "      <td>3.356814</td>\n",
       "      <td>0.687794</td>\n",
       "      <td>0.0</td>\n",
       "      <td>0.0</td>\n",
       "      <td>0.0</td>\n",
       "      <td>2.787874</td>\n",
       "      <td>0.0</td>\n",
       "      <td>3.615056</td>\n",
       "      <td>0.0</td>\n",
       "      <td>5.766752</td>\n",
       "      <td>3.092480</td>\n",
       "      <td>0.0</td>\n",
       "      <td>0.0</td>\n",
       "      <td>0.0</td>\n",
       "      <td>setosa</td>\n",
       "    </tr>\n",
       "    <tr>\n",
       "      <th>2</th>\n",
       "      <td>0.0</td>\n",
       "      <td>5.436200</td>\n",
       "      <td>3.143668</td>\n",
       "      <td>0.503142</td>\n",
       "      <td>0.0</td>\n",
       "      <td>0.0</td>\n",
       "      <td>0.0</td>\n",
       "      <td>2.599918</td>\n",
       "      <td>0.0</td>\n",
       "      <td>3.646861</td>\n",
       "      <td>0.0</td>\n",
       "      <td>5.502618</td>\n",
       "      <td>3.044713</td>\n",
       "      <td>0.0</td>\n",
       "      <td>0.0</td>\n",
       "      <td>0.0</td>\n",
       "      <td>setosa</td>\n",
       "    </tr>\n",
       "    <tr>\n",
       "      <th>3</th>\n",
       "      <td>0.0</td>\n",
       "      <td>5.520660</td>\n",
       "      <td>3.297133</td>\n",
       "      <td>0.648524</td>\n",
       "      <td>0.0</td>\n",
       "      <td>0.0</td>\n",
       "      <td>0.0</td>\n",
       "      <td>2.529471</td>\n",
       "      <td>0.0</td>\n",
       "      <td>3.546283</td>\n",
       "      <td>0.0</td>\n",
       "      <td>5.569517</td>\n",
       "      <td>2.863253</td>\n",
       "      <td>0.0</td>\n",
       "      <td>0.0</td>\n",
       "      <td>0.0</td>\n",
       "      <td>setosa</td>\n",
       "    </tr>\n",
       "    <tr>\n",
       "      <th>4</th>\n",
       "      <td>0.0</td>\n",
       "      <td>5.816211</td>\n",
       "      <td>3.321547</td>\n",
       "      <td>0.457000</td>\n",
       "      <td>0.0</td>\n",
       "      <td>0.0</td>\n",
       "      <td>0.0</td>\n",
       "      <td>2.700743</td>\n",
       "      <td>0.0</td>\n",
       "      <td>3.998881</td>\n",
       "      <td>0.0</td>\n",
       "      <td>5.877816</td>\n",
       "      <td>3.269866</td>\n",
       "      <td>0.0</td>\n",
       "      <td>0.0</td>\n",
       "      <td>0.0</td>\n",
       "      <td>setosa</td>\n",
       "    </tr>\n",
       "  </tbody>\n",
       "</table>\n",
       "</div>"
      ],
      "text/plain": [
       "     0         1         2         3    4    5    6         7    8         9  \\\n",
       "0  0.0  5.901402  3.381557  0.518486  0.0  0.0  0.0  2.800706  0.0  3.983461   \n",
       "1  0.0  5.696360  3.356814  0.687794  0.0  0.0  0.0  2.787874  0.0  3.615056   \n",
       "2  0.0  5.436200  3.143668  0.503142  0.0  0.0  0.0  2.599918  0.0  3.646861   \n",
       "3  0.0  5.520660  3.297133  0.648524  0.0  0.0  0.0  2.529471  0.0  3.546283   \n",
       "4  0.0  5.816211  3.321547  0.457000  0.0  0.0  0.0  2.700743  0.0  3.998881   \n",
       "\n",
       "    10        11        12   13   14   15 species  \n",
       "0  0.0  5.968951  3.317872  0.0  0.0  0.0  setosa  \n",
       "1  0.0  5.766752  3.092480  0.0  0.0  0.0  setosa  \n",
       "2  0.0  5.502618  3.044713  0.0  0.0  0.0  setosa  \n",
       "3  0.0  5.569517  2.863253  0.0  0.0  0.0  setosa  \n",
       "4  0.0  5.877816  3.269866  0.0  0.0  0.0  setosa  "
      ]
     },
     "execution_count": 25,
     "metadata": {},
     "output_type": "execute_result"
    }
   ],
   "source": [
    "X_acctivate = np.maximum(0, X_hidden)\n",
    "\n",
    "iris_activate = pd.DataFrame(X_acctivate)\n",
    "iris_activate['species'] = iris['species']\n",
    "iris_activate.head()"
   ]
  },
  {
   "cell_type": "code",
   "execution_count": 26,
   "id": "0c9b83cc-3870-458f-8077-807865123086",
   "metadata": {},
   "outputs": [
    {
     "data": {
      "image/png": "[encoded data removed]",
      "text/plain": [
       "<Figure size 1000x700 with 1 Axes>"
      ]
     },
     "metadata": {},
     "output_type": "display_data"
    }
   ],
   "source": [
    "plt.figure(figsize=(10, 7))\n",
    "sns.scatterplot(data=iris_activate, x=0, y=1, hue='species')\n",
    "plt.savefig('plot_iris_activate.png');"
   ]
  },
  {
   "cell_type": "code",
   "execution_count": 27,
   "id": "dee079ea-9ad0-49d7-9c5e-b3efc0d05a28",
   "metadata": {},
   "outputs": [
    {
     "data": {
      "text/html": [
       "<div>\n",
       "<style scoped>\n",
       "    .dataframe tbody tr th:only-of-type {\n",
       "        vertical-align: middle;\n",
       "    }\n",
       "\n",
       "    .dataframe tbody tr th {\n",
       "        vertical-align: top;\n",
       "    }\n",
       "\n",
       "    .dataframe thead th {\n",
       "        text-align: right;\n",
       "    }\n",
       "</style>\n",
       "<table border=\"1\" class=\"dataframe\">\n",
       "  <thead>\n",
       "    <tr style=\"text-align: right;\">\n",
       "      <th></th>\n",
       "      <th>setosa</th>\n",
       "      <th>versicolor</th>\n",
       "      <th>virginica</th>\n",
       "    </tr>\n",
       "  </thead>\n",
       "  <tbody>\n",
       "    <tr>\n",
       "      <th>0</th>\n",
       "      <td>1</td>\n",
       "      <td>0</td>\n",
       "      <td>0</td>\n",
       "    </tr>\n",
       "    <tr>\n",
       "      <th>1</th>\n",
       "      <td>1</td>\n",
       "      <td>0</td>\n",
       "      <td>0</td>\n",
       "    </tr>\n",
       "    <tr>\n",
       "      <th>2</th>\n",
       "      <td>1</td>\n",
       "      <td>0</td>\n",
       "      <td>0</td>\n",
       "    </tr>\n",
       "    <tr>\n",
       "      <th>3</th>\n",
       "      <td>1</td>\n",
       "      <td>0</td>\n",
       "      <td>0</td>\n",
       "    </tr>\n",
       "    <tr>\n",
       "      <th>4</th>\n",
       "      <td>1</td>\n",
       "      <td>0</td>\n",
       "      <td>0</td>\n",
       "    </tr>\n",
       "  </tbody>\n",
       "</table>\n",
       "</div>"
      ],
      "text/plain": [
       "   setosa  versicolor  virginica\n",
       "0       1           0          0\n",
       "1       1           0          0\n",
       "2       1           0          0\n",
       "3       1           0          0\n",
       "4       1           0          0"
      ]
     },
     "execution_count": 27,
     "metadata": {},
     "output_type": "execute_result"
    }
   ],
   "source": [
    "encoded_iris = pd.DataFrame(encoded_y, columns=iris['species'].unique())\n",
    "encoded_iris.head()"
   ]
  },
  {
   "cell_type": "code",
   "execution_count": 28,
   "id": "7d19c190-3be5-4e5c-a86d-1629f6b629ad",
   "metadata": {},
   "outputs": [
    {
     "data": {
      "text/html": [
       "<div>\n",
       "<style scoped>\n",
       "    .dataframe tbody tr th:only-of-type {\n",
       "        vertical-align: middle;\n",
       "    }\n",
       "\n",
       "    .dataframe tbody tr th {\n",
       "        vertical-align: top;\n",
       "    }\n",
       "\n",
       "    .dataframe thead th {\n",
       "        text-align: right;\n",
       "    }\n",
       "</style>\n",
       "<table border=\"1\" class=\"dataframe\">\n",
       "  <thead>\n",
       "    <tr style=\"text-align: right;\">\n",
       "      <th></th>\n",
       "      <th>setosa</th>\n",
       "      <th>versicolor</th>\n",
       "      <th>virginica</th>\n",
       "    </tr>\n",
       "  </thead>\n",
       "  <tbody>\n",
       "    <tr>\n",
       "      <th>0</th>\n",
       "      <td>0.547761</td>\n",
       "      <td>0.380306</td>\n",
       "      <td>-2.346909</td>\n",
       "    </tr>\n",
       "    <tr>\n",
       "      <th>1</th>\n",
       "      <td>0.504941</td>\n",
       "      <td>0.271215</td>\n",
       "      <td>-1.921878</td>\n",
       "    </tr>\n",
       "    <tr>\n",
       "      <th>2</th>\n",
       "      <td>0.483109</td>\n",
       "      <td>0.347619</td>\n",
       "      <td>-2.118660</td>\n",
       "    </tr>\n",
       "    <tr>\n",
       "      <th>3</th>\n",
       "      <td>0.603535</td>\n",
       "      <td>0.481516</td>\n",
       "      <td>-1.924637</td>\n",
       "    </tr>\n",
       "    <tr>\n",
       "      <th>4</th>\n",
       "      <td>0.567857</td>\n",
       "      <td>0.452084</td>\n",
       "      <td>-2.419389</td>\n",
       "    </tr>\n",
       "  </tbody>\n",
       "</table>\n",
       "</div>"
      ],
      "text/plain": [
       "     setosa  versicolor  virginica\n",
       "0  0.547761    0.380306  -2.346909\n",
       "1  0.504941    0.271215  -1.921878\n",
       "2  0.483109    0.347619  -2.118660\n",
       "3  0.603535    0.481516  -1.924637\n",
       "4  0.567857    0.452084  -2.419389"
      ]
     },
     "execution_count": 28,
     "metadata": {},
     "output_type": "execute_result"
    }
   ],
   "source": [
    "np.random.seed(42)\n",
    "M_output = np.random.uniform(-1, 1, (16, 3))\n",
    "X_out = X_acctivate @ M_output\n",
    "\n",
    "iris_out = pd.DataFrame(X_out, columns=iris['species'].unique())\n",
    "iris_out.head()"
   ]
  },
  {
   "cell_type": "code",
   "execution_count": 29,
   "id": "7253dcdd-45c1-47d2-b7c5-c433fba9ce6f",
   "metadata": {},
   "outputs": [
    {
     "data": {
      "text/html": [
       "<div>\n",
       "<style scoped>\n",
       "    .dataframe tbody tr th:only-of-type {\n",
       "        vertical-align: middle;\n",
       "    }\n",
       "\n",
       "    .dataframe tbody tr th {\n",
       "        vertical-align: top;\n",
       "    }\n",
       "\n",
       "    .dataframe thead th {\n",
       "        text-align: right;\n",
       "    }\n",
       "</style>\n",
       "<table border=\"1\" class=\"dataframe\">\n",
       "  <thead>\n",
       "    <tr style=\"text-align: right;\">\n",
       "      <th></th>\n",
       "      <th>setosa</th>\n",
       "      <th>versicolor</th>\n",
       "      <th>virginica</th>\n",
       "    </tr>\n",
       "  </thead>\n",
       "  <tbody>\n",
       "    <tr>\n",
       "      <th>0</th>\n",
       "      <td>0.526002</td>\n",
       "      <td>0.444901</td>\n",
       "      <td>0.029097</td>\n",
       "    </tr>\n",
       "    <tr>\n",
       "      <th>1</th>\n",
       "      <td>0.531944</td>\n",
       "      <td>0.421076</td>\n",
       "      <td>0.046980</td>\n",
       "    </tr>\n",
       "    <tr>\n",
       "      <th>2</th>\n",
       "      <td>0.513497</td>\n",
       "      <td>0.448431</td>\n",
       "      <td>0.038072</td>\n",
       "    </tr>\n",
       "    <tr>\n",
       "      <th>3</th>\n",
       "      <td>0.508922</td>\n",
       "      <td>0.450463</td>\n",
       "      <td>0.040614</td>\n",
       "    </tr>\n",
       "    <tr>\n",
       "      <th>4</th>\n",
       "      <td>0.515171</td>\n",
       "      <td>0.458851</td>\n",
       "      <td>0.025978</td>\n",
       "    </tr>\n",
       "  </tbody>\n",
       "</table>\n",
       "</div>"
      ],
      "text/plain": [
       "     setosa  versicolor  virginica\n",
       "0  0.526002    0.444901   0.029097\n",
       "1  0.531944    0.421076   0.046980\n",
       "2  0.513497    0.448431   0.038072\n",
       "3  0.508922    0.450463   0.040614\n",
       "4  0.515171    0.458851   0.025978"
      ]
     },
     "execution_count": 29,
     "metadata": {},
     "output_type": "execute_result"
    }
   ],
   "source": [
    "normalized_X_out = np.exp(X_out) / np.sum(np.exp(X_out), axis=1).reshape(X_out.shape[0], -1)\n",
    "\n",
    "normalized_iris_out = pd.DataFrame(normalized_X_out, columns=iris['species'].unique())\n",
    "normalized_iris_out.head()"
   ]
  },
  {
   "cell_type": "code",
   "execution_count": 30,
   "id": "c822ae72-ba14-466c-8314-08f58bb76e41",
   "metadata": {},
   "outputs": [
    {
     "data": {
      "image/png": "[encoded data removed]",
      "text/plain": [
       "<Figure size 800x550 with 1 Axes>"
      ]
     },
     "metadata": {},
     "output_type": "display_data"
    }
   ],
   "source": [
    "normalized_iris_out.loc[0, :].plot(kind='bar')\n",
    "plt.savefig('bar_label.png')"
   ]
  },
  {
   "cell_type": "code",
   "execution_count": 31,
   "id": "c5496b6f-3b0b-4630-8c14-894225db6037",
   "metadata": {},
   "outputs": [],
   "source": [
    "# X = torch.from_numpy(X).type(torch.float)\n",
    "# y = torch.from_numpy(y).type(torch.float)\n",
    "# encoded_y = torch.from_numpy(encoded_y).type(torch.float)"
   ]
  }
 ],
 "metadata": {
  "kernelspec": {
   "display_name": "AIML",
   "language": "python",
   "name": "aiml"
  },
  "language_info": {
   "codemirror_mode": {
    "name": "ipython",
    "version": 3
   },
   "file_extension": ".py",
   "mimetype": "text/x-python",
   "name": "python",
   "nbconvert_exporter": "python",
   "pygments_lexer": "ipython3",
   "version": "3.8.12"
  }
 },
 "nbformat": 4,
 "nbformat_minor": 5
}
