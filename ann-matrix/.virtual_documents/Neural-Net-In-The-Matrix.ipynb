


import numpy as np


np.random.seed(7)
M = 2
N = 2

A = np.random.randn(M, N)
V = np.random.randn(1, M)


V.shape, A.shape 





import matplotlib.pyplot as plt
plt.style.use('seaborn')


res = V @  A


res.shape


plt.figure(figsize=(15, 7))
plt.subplot(1, 2, 1)
plt.arrow(0, 0, V[0][0], V[0][1], head_width=0.03, head_length=0.03, linewidth=2,  fc='k', ec='k')
plt.xlim(-2, 2)
plt.ylim(-1, 1)
plt.title('$V$', fontsize=16)

plt.subplot(1, 2, 2)
plt.arrow(0, 0, res[0][0], res[0][1], head_width=0.03, head_length=0.03, linewidth=2,  fc='k', ec='k')
plt.xlim(-2, 2)
plt.ylim(-1, 1)
plt.title('$V_{new} = VA$', fontsize=16)

plt.savefig('transformed_vec.png');





import pandas as pd
import seaborn as sns


# Load the iris data
iris = sns.load_dataset("iris")


iris.head()


plt.figure(figsize=(10, 7))
sns.scatterplot(data=iris, x='sepal_length', y='sepal_width', hue='species')
plt.savefig('plot_iris.png');





X = iris.drop('species', axis=1)
y = iris['species']
encoded_y = pd.get_dummies(iris['species']) # Represent y with one-hot-encoder


X.head()


y.value_counts()


encoded_y.head()


X, y, encoded_y = X.to_numpy(), y.to_numpy(), encoded_y.to_numpy()


X[:5]


y[:5]


encoded_y[:5]


np.random.seed(42)
M_input = np.random.uniform(-1, 1, (4, 16))
X_hidden= X @ M_input


X_hidden.shape


A


iris_hidden = pd.DataFrame(X_hidden)
iris_hidden['species'] = iris['species']

iris_hidden.head()


plt.figure(figsize=(10, 7))
sns.scatterplot(data=iris_hidden, x=0, y=1, hue='species')
plt.savefig('plot_iris_hidden.png');


X_acctivate = np.maximum(0, X_hidden)

iris_activate = pd.DataFrame(X_acctivate)
iris_activate['species'] = iris['species']
iris_activate.head()


plt.figure(figsize=(10, 7))
sns.scatterplot(data=iris_activate, x=0, y=1, hue='species')
plt.savefig('plot_iris_activate.png');


encoded_iris = pd.DataFrame(encoded_y, columns=iris['species'].unique())
encoded_iris.head()


np.random.seed(42)
M_output = np.random.uniform(-1, 1, (16, 3))
X_out = X_acctivate @ M_output

iris_out = pd.DataFrame(X_out, columns=iris['species'].unique())
iris_out.head()


normalized_X_out = np.exp(X_out) / np.sum(np.exp(X_out), axis=1).reshape(X_out.shape[0], -1)

normalized_iris_out = pd.DataFrame(normalized_X_out, columns=iris['species'].unique())
normalized_iris_out.head()


normalized_iris_out.loc[0, :].plot(kind='bar')
plt.savefig('bar_label.png')


# X = torch.from_numpy(X).type(torch.float)
# y = torch.from_numpy(y).type(torch.float)
# encoded_y = torch.from_numpy(encoded_y).type(torch.float)
