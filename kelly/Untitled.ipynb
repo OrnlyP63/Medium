{
 "cells": [
  {
   "cell_type": "markdown",
   "id": "5c6b3ed8-0d92-429a-98db-6d306477a4f9",
   "metadata": {},
   "source": [
    "# Kelly Criterion\n",
    "\n",
    "## Cumulative Returns\n",
    "\n",
    "Let $p_t$ be price at time $t$\n",
    "\n",
    "Percentage Change at time $t$ can be defined like $$r_t = \\frac{p_{t+1} - p_t}{p_t} = \\frac{p_{t+1}}{p_t} - 1$$\n",
    "\n",
    "Cumulative return at time $T$ can be defined like $$R_T = \\prod_{t=1}^T (r_t + 1) = \\frac{p_2}{p_1} \\frac{p_3}{p_2}\\cdots \\frac{p_T}{p_{T-1}} = \\frac{p_T}{p_1}$$\n",
    "\n",
    "## Portfolio Outcomes\n",
    "\n",
    "Let's define percentage profit size $P$, percentage loss size $L$, and investing fraction $k\\in [0, 1]$\n",
    "\n",
    "In the simple way, we set the profits and losses to be constants.\n",
    "\n",
    "So, \n",
    "\n",
    "portfolio takes profits by percentage profit which can be defined with $$1 + kP$$\n",
    "\n",
    "and \n",
    "\n",
    "portfolio takes losses by percentage loss which can be defined with $$1 - kL$$\n",
    "\n",
    "Note that profit or loss size can be looked like **\"1 + percentage change scaled by $k$ size\"**.\n",
    "\n",
    "Finally, outcome of portfolio is $$P_n = (1 + kP)^{wn}\\times (1 - kL)^{(1-w)n}$$\n",
    "\n",
    "where $n$ is number of trading and $w$ is a proportion of profit taking.\n",
    "\n",
    "## Optimization\n",
    "\n",
    "Consider\n",
    "$$\n",
    "\\begin{align}\n",
    "\\log(P_n) &= \\log((1 + kP)^{wn}\\times (1 - kL)^{(1-w)n})\\\\\\\\\n",
    "&= \\log((1 + kP)^{wn}) + \\log((1 - kL)^{(1-w)n})\\\\\\\\\n",
    "&= n\\log((1 + kP)^{w}) + n\\log((1 - kL)^{(1-w)})\\\\\\\\\n",
    "\\frac{\\log(P_n)}{n} &= \\log((1 + kP)^{w}) + \\log((1 - kL)^{(1-w)})\\\\\\\\\n",
    "&= w\\log(1 + kP) + (1 - w)\\log(1 - kL)\\\\\\\\\n",
    "\\end{align}\n",
    "$$\n",
    "\n",
    "Now, we need to maximize function $\\frac{\\log(P_n)}{n}$ to find optimal fraction $k$.\n",
    "\n",
    "Consider  $\\frac{d}{dk}\\frac{\\log(P_n)}{n} = 0$\n",
    "\n",
    "$$\n",
    "\\begin{align}\n",
    "\\frac{d}{dk}\\frac{\\log(P_n)}{n} &= \\frac{d}{dk}[w\\log(1 + kP) + (1 - w)\\log(1 - kL)]\\\\\\\\\n",
    "&= w\\frac{d}{dk}[\\log(1 + kP)] + (1 - w)\\frac{d}{dk}[\\log(1 - kL)]\\\\\\\\\n",
    "&= w\\frac{d}{dk}[\\log(1 + kP)] + (1 - w)\\frac{d}{dk}[\\log(1 - kL)]\\\\\\\\\n",
    "&= w\\frac{d \\log(1 + kP)}{d(1 + kP)}\\frac{d (1+kP)}{dk} + (1 - w)\\frac{d \\log(1 - kL)}{d(1-kL)}\\frac{d(1-kL)}{dk}\\\\\\\\\n",
    "&= w\\frac{1}{1+kP}P + (1 - w)\\frac{1}{1-kL}(-L)\\\\\\\\\n",
    "&= w\\frac{1}{1+kP}P - (1 - w)\\frac{1}{1-kL}L\n",
    "\\end{align}\n",
    "$$\n",
    "\n",
    "So, \n",
    "\n",
    "$$w\\frac{1}{1+kP}P - (1 - w)\\frac{1}{1-kL}L = 0$$\n",
    "\n",
    "Finally,\n",
    "\n",
    "$$k = \\frac{w}{L} - \\frac{(1-w)}{P}$$"
   ]
  },
  {
   "cell_type": "markdown",
   "id": "a3086f19-7913-4ca2-a724-0f64de2d5e61",
   "metadata": {},
   "source": [
    "Worst downside-scenario is $L=1$, then $P = P/L$so \n",
    "\n",
    "$$k = w - \\frac{(1-w)}{P} = w - \\frac{(1-w)}{P/L}$$"
   ]
  },
  {
   "cell_type": "code",
   "execution_count": 12,
   "id": "bbc85729-68f4-40a2-b775-36d93fa23b43",
   "metadata": {},
   "outputs": [
    {
     "data": {
      "text/plain": [
       "0.32000000000000006"
      ]
     },
     "execution_count": 12,
     "metadata": {},
     "output_type": "execute_result"
    }
   ],
   "source": [
    "P = 1\n",
    "w = 0.66 \n",
    "k = (P*w - (1 - w)) / P\n",
    "k"
   ]
  },
  {
   "cell_type": "markdown",
   "id": "eb29f704-c325-4f41-b52a-41c778ae4948",
   "metadata": {},
   "source": [
    "https://en.wikipedia.org/wiki/Kelly_criterion"
   ]
  },
  {
   "cell_type": "code",
   "execution_count": null,
   "id": "e137e090-d542-457f-b059-57fea04e261d",
   "metadata": {},
   "outputs": [],
   "source": []
  }
 ],
 "metadata": {
  "kernelspec": {
   "display_name": "AIML",
   "language": "python",
   "name": "aiml"
  },
  "language_info": {
   "codemirror_mode": {
    "name": "ipython",
    "version": 3
   },
   "file_extension": ".py",
   "mimetype": "text/x-python",
   "name": "python",
   "nbconvert_exporter": "python",
   "pygments_lexer": "ipython3",
   "version": "3.8.17"
  }
 },
 "nbformat": 4,
 "nbformat_minor": 5
}
