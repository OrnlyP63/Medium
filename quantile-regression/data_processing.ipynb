{
 "cells": [
  {
   "cell_type": "code",
   "execution_count": 1,
   "id": "42d9d603-bf5e-49ab-ad93-e5b3eb5a4933",
   "metadata": {},
   "outputs": [],
   "source": [
    "%load_ext autoreload\n",
    "%autoreload 2\n",
    "\n",
    "import pandas as pd\n",
    "from utility.data_processing import set_time_data, set_asset_return, set_asset_log_nvt, set_asset_log_mvrv"
   ]
  },
  {
   "cell_type": "code",
   "execution_count": 2,
   "id": "cd717799-cb69-434f-a131-00e6b8515029",
   "metadata": {},
   "outputs": [],
   "source": [
    "df = pd.read_csv('./data/btc_metrics_5_years.csv')\n",
    "df.drop('asset', axis=1, inplace=True)"
   ]
  },
  {
   "cell_type": "code",
   "execution_count": 3,
   "id": "4abb715c-7c41-41e7-8f10-68f3adb88368",
   "metadata": {},
   "outputs": [
    {
     "data": {
      "text/html": [
       "<div>\n",
       "<style scoped>\n",
       "    .dataframe tbody tr th:only-of-type {\n",
       "        vertical-align: middle;\n",
       "    }\n",
       "\n",
       "    .dataframe tbody tr th {\n",
       "        vertical-align: top;\n",
       "    }\n",
       "\n",
       "    .dataframe thead th {\n",
       "        text-align: right;\n",
       "    }\n",
       "</style>\n",
       "<table border=\"1\" class=\"dataframe\">\n",
       "  <thead>\n",
       "    <tr style=\"text-align: right;\">\n",
       "      <th></th>\n",
       "      <th>time</th>\n",
       "      <th>CapMVRVCur</th>\n",
       "      <th>NVTAdj</th>\n",
       "      <th>PriceUSD</th>\n",
       "    </tr>\n",
       "  </thead>\n",
       "  <tbody>\n",
       "    <tr>\n",
       "      <th>0</th>\n",
       "      <td>2020-01-01 00:00:00+00:00</td>\n",
       "      <td>1.287435</td>\n",
       "      <td>166.236365</td>\n",
       "      <td>7170.631869</td>\n",
       "    </tr>\n",
       "    <tr>\n",
       "      <th>1</th>\n",
       "      <td>2020-01-02 00:00:00+00:00</td>\n",
       "      <td>1.247555</td>\n",
       "      <td>95.361216</td>\n",
       "      <td>6946.825269</td>\n",
       "    </tr>\n",
       "    <tr>\n",
       "      <th>2</th>\n",
       "      <td>2020-01-03 00:00:00+00:00</td>\n",
       "      <td>1.313285</td>\n",
       "      <td>66.895120</td>\n",
       "      <td>7315.309360</td>\n",
       "    </tr>\n",
       "    <tr>\n",
       "      <th>3</th>\n",
       "      <td>2020-01-04 00:00:00+00:00</td>\n",
       "      <td>1.318507</td>\n",
       "      <td>129.155700</td>\n",
       "      <td>7343.164194</td>\n",
       "    </tr>\n",
       "    <tr>\n",
       "      <th>4</th>\n",
       "      <td>2020-01-05 00:00:00+00:00</td>\n",
       "      <td>1.318915</td>\n",
       "      <td>134.561409</td>\n",
       "      <td>7345.530692</td>\n",
       "    </tr>\n",
       "  </tbody>\n",
       "</table>\n",
       "</div>"
      ],
      "text/plain": [
       "                        time  CapMVRVCur      NVTAdj     PriceUSD\n",
       "0  2020-01-01 00:00:00+00:00    1.287435  166.236365  7170.631869\n",
       "1  2020-01-02 00:00:00+00:00    1.247555   95.361216  6946.825269\n",
       "2  2020-01-03 00:00:00+00:00    1.313285   66.895120  7315.309360\n",
       "3  2020-01-04 00:00:00+00:00    1.318507  129.155700  7343.164194\n",
       "4  2020-01-05 00:00:00+00:00    1.318915  134.561409  7345.530692"
      ]
     },
     "execution_count": 3,
     "metadata": {},
     "output_type": "execute_result"
    }
   ],
   "source": [
    "df.head()"
   ]
  },
  {
   "cell_type": "code",
   "execution_count": 4,
   "id": "5d48d8e5-6ae1-472b-8ac8-a977ecb7ef64",
   "metadata": {},
   "outputs": [],
   "source": [
    "for ticker in ['btc', 'eth', 'doge', 'xrp', 'ada']:\n",
    "    currency_metrics = pd.read_csv(f'./data/{ticker}_metrics_5_years.csv')\n",
    "    currency_metrics.drop('asset', axis=1, inplace=True)\n",
    "    set_currency_metrics = set_time_data(currency_metrics)\n",
    "    set_currency_metrics = set_asset_return(set_currency_metrics)\n",
    "    set_currency_metrics = set_asset_log_mvrv(set_currency_metrics)\n",
    "    set_currency_metrics = set_asset_log_nvt(set_currency_metrics)\n",
    "    \n",
    "    set_currency_metrics.to_csv(f'./data/{ticker}_metrics_5_years.csv')"
   ]
  },
  {
   "cell_type": "code",
   "execution_count": null,
   "id": "912b8bbc-70f8-4210-889d-ed54942e89f6",
   "metadata": {},
   "outputs": [],
   "source": []
  }
 ],
 "metadata": {
  "kernelspec": {
   "display_name": "machine learning",
   "language": "python",
   "name": "ml"
  },
  "language_info": {
   "codemirror_mode": {
    "name": "ipython",
    "version": 3
   },
   "file_extension": ".py",
   "mimetype": "text/x-python",
   "name": "python",
   "nbconvert_exporter": "python",
   "pygments_lexer": "ipython3",
   "version": "3.12.4"
  }
 },
 "nbformat": 4,
 "nbformat_minor": 5
}
