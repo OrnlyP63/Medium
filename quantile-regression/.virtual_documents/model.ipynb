import torch
import numpy as np
import pandas as pd
import matplotlib.pyplot as plt
import seaborn as sns
from sklearn.model_selection import train_test_split


from torch.utils.data import DataLoader


%load_ext autoreload
%autoreload 2

from utility.data_processing import create_data
from utility.model import pinball_loss, QuantileTimeSeriesNN, CryptoDataset, conformal_score


df = pd.read_csv('./data/btc_metrics_5_years.csv')


X_train, X_test, y_train, y_test = create_data(df)


X_train


train_dataset = CryptoDataset(X_train, y_train)
test_dataset = CryptoDataset(X_test, y_test)


train_loader = DataLoader(train_dataset, batch_size=124, shuffle=True)
test_loader = DataLoader(test_dataset, batch_size=len(test_dataset), shuffle=False)


import torch.optim as optim


# Training loop
models = {}
for quantile in [0.05, 0.95]:

    model = QuantileTimeSeriesNN(input_dim=2)
    optimizer = optim.Adam(model.parameters(), lr=0.001)
    
    num_epochs = 500
    for epoch in range(num_epochs):
        total_loss = 0
        for X_batch, y_batch in train_loader:
            optimizer.zero_grad()
            y_pred = model(X_batch)
            loss = pinball_loss(y_pred, y_batch.view(-1, 1), quantile)
            loss.backward()
            optimizer.step()
            total_loss += loss.item()
    
        if epoch % 100 == 0:
            print(f"Epoch {epoch}, Quantile {quantile}, Loss: {total_loss / len(train_loader)}")
    models[f'model_{int(quantile*100)}'] = model


for X_test, y_test in test_loader:
    break


alpha = 0.05
a = (1 - alpha)*(1 + 1 / len(y_test))


a


y_95 = models['model_95'](X_test)
y_5 = models['model_5'](X_test)


score = conformal_score(y_5, y_95, y_test)


Q = torch.quantile(score, a).item()


low_bound = (y_5 - Q).detach().numpy()
upper_bound = (y_95 + Q).detach().numpy()
real_return = y_test.detach().numpy()


# low_cum_return = np.exp((np.cumsum(low_bound))) - 1
# upper_cum_return = np.exp((np.cumsum(upper_bound))) - 1
# real_cum_return = np.exp((np.cumsum(real_return))) - 1


time_steps = np.arange(1, len(real_return)+1)


# Create DataFrame for Seaborn
df = pd.DataFrame({
    "Time": time_steps,
    "Real Return": real_return.reshape(-1),
    "Lower Bound": low_bound.reshape(-1),
    "Upper Bound": upper_bound.reshape(-1)
})


# Plot using Seaborn
plt.figure(figsize=(10, 5))
sns.set(style="whitegrid")

sns.lineplot(x="Time", y="Real Return", data=df, label="Real Cumulative Return", color="blue")
sns.lineplot(x="Time", y="Lower Bound", data=df, label="Lower Bound", color="red", linestyle="dashed")
sns.lineplot(x="Time", y="Upper Bound", data=df, label="Upper Bound", color="green", linestyle="dashed")

# Fill confidence band
plt.fill_between(df["Time"], df["Lower Bound"], df["Upper Bound"], color="gray", alpha=0.3)

# Labels and title
plt.xlabel("Time")
plt.ylabel("Cumulative Return")
plt.title("Cumulative Return with Confidence Bands")
plt.legend()
plt.show()


# Plot using Seaborn
plt.figure(figsize=(10, 5))
sns.set(style="whitegrid")

sns.scatterplot(x="Time", y="Real Return", data=df, label="Real Cumulative Return", color="blue", s=10)
sns.scatterplot(x="Time", y="Lower Bound", data=df, label="Lower Bound", color="red", s=10)
sns.scatterplot(x="Time", y="Upper Bound", data=df, label="Upper Bound", color="green", s=10)

# Fill confidence band
plt.fill_between(df["Time"], df["Lower Bound"], df["Upper Bound"], color="gray", alpha=0.3)

# Labels and title
plt.xlabel("Time")
plt.ylabel("Cumulative Return")
plt.title("Cumulative Return with Confidence Bands")
plt.legend()
plt.show()


df[df['Real Return'] < df['Lower Bound']]


df[df['Real Return'] > df['Upper Bound']]


len(real_return)



