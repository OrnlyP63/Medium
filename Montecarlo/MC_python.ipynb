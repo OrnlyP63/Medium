{
 "cells": [
  {
   "cell_type": "code",
   "execution_count": 1,
   "metadata": {},
   "outputs": [],
   "source": [
    "import numpy as np"
   ]
  },
  {
   "cell_type": "code",
   "execution_count": 2,
   "metadata": {},
   "outputs": [],
   "source": [
    "S_init = 100\n",
    "T = 1\n",
    "N = 252\n",
    "M = 1_000_000\n",
    "dt = T / N\n",
    "t = np.arange(1, int(N) + 1)\n",
    "mu = 0.3\n",
    "sigma = 0.1\n",
    "dW = np.random.randn(M, N) * np.sqrt(dt)"
   ]
  },
  {
   "cell_type": "code",
   "execution_count": 3,
   "metadata": {},
   "outputs": [],
   "source": [
    "drift = (mu - sigma ** 2 / 2) * dt \n",
    "diffusion = sigma * dW\n",
    "\n",
    "x = np.hstack([np.ones([M, 1]), np.exp(drift + diffusion)])\n",
    "S = S_init * np.cumprod(x, axis=1)"
   ]
  }
 ],
 "metadata": {
  "kernelspec": {
   "display_name": "machine learning",
   "language": "python",
   "name": "ml"
  },
  "language_info": {
   "codemirror_mode": {
    "name": "ipython",
    "version": 3
   },
   "file_extension": ".py",
   "mimetype": "text/x-python",
   "name": "python",
   "nbconvert_exporter": "python",
   "pygments_lexer": "ipython3",
   "version": "3.12.4"
  }
 },
 "nbformat": 4,
 "nbformat_minor": 2
}
