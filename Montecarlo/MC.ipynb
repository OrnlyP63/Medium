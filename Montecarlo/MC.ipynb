{
 "cells": [
  {
   "cell_type": "markdown",
   "id": "bfddafce-3216-4044-8510-6fe00977974a",
   "metadata": {},
   "source": [
    "Stochastic differntial equation (SDE):\n",
    "$$dS_t = \\mu S_t dt + \\sigma S_t dW_t$$\n",
    "\n",
    "where $\\mu$ is the percentage dirft and $\\sigma$ is the percentage volatility.\n",
    "\n",
    "The SDE has the analytic solution:\n",
    "$$S_t = S_0\\exp\\left(\\left(\\mu-\\frac{\\sigma^2}{2}\\right)t + \\sigma W_t\\right)$$\n",
    "\n",
    "So,\n",
    "$$\\ln\\frac{S_t}{S_0} = \\left(\\mu-\\frac{\\sigma^2}{2}\\right)t + \\sigma W_t$$\n",
    "\n",
    "Let's process $X_t = \\ln\\frac{S_t}{S_0}$, satisfying the SDE\n",
    "$$dX_t = \\left(\\mu-\\frac{\\sigma^2}{2}\\right)dt + \\sigma dW_t$$"
   ]
  },
  {
   "cell_type": "code",
   "execution_count": 1,
   "id": "f81d48c4-9f8b-4bb3-8f1e-27a3dc20929a",
   "metadata": {},
   "outputs": [],
   "source": [
    "μ = 0.3;\n",
    "T = 1;\n",
    "S₀ = 100;\n",
    "σ = 0.1;\n",
    "N = 252;\n",
    "M = 1_000_000;\n",
    "dt = T / N;\n",
    "dW = randn(M, N) * √dt;"
   ]
  },
  {
   "cell_type": "code",
   "execution_count": 2,
   "id": "a2b80c6e-3e99-4f23-80ae-2b7d168b351d",
   "metadata": {},
   "outputs": [],
   "source": [
    "using Dates"
   ]
  },
  {
   "cell_type": "code",
   "execution_count": 3,
   "id": "6fc90235-f9cc-433a-9e8a-206e577249b6",
   "metadata": {},
   "outputs": [
    {
     "data": {
      "text/plain": [
       "16754 milliseconds"
      ]
     },
     "execution_count": 3,
     "metadata": {},
     "output_type": "execute_result"
    }
   ],
   "source": [
    "t1 = now();\n",
    "drift = (μ - σ^2 / 2) * dt;\n",
    "diffusion = σ * dW;\n",
    "\n",
    "x = [ones(M, 1) exp.(drift .+ diffusion)];\n",
    "S = S₀ * cumprod(x, dims=2);\n",
    "t2 = now();\n",
    "t2 - t1"
   ]
  },
  {
   "cell_type": "code",
   "execution_count": 4,
   "id": "c049f0c6-7f5e-4f02-bf3f-f736a522c80d",
   "metadata": {},
   "outputs": [],
   "source": [
    "# using Plots"
   ]
  },
  {
   "cell_type": "code",
   "execution_count": 5,
   "id": "b1064f4a-b031-4734-a776-f2358999ed2c",
   "metadata": {},
   "outputs": [],
   "source": [
    "# plot(range(0, 1, length=N+1), transpose(S[1:10000, :]), legend=false)"
   ]
  },
  {
   "cell_type": "code",
   "execution_count": null,
   "id": "2bb04c9d-7ebf-480c-86e9-ab21185b6fbd",
   "metadata": {},
   "outputs": [],
   "source": []
  }
 ],
 "metadata": {
  "kernelspec": {
   "display_name": "Julia 1.7.2",
   "language": "julia",
   "name": "julia-1.7"
  },
  "language_info": {
   "file_extension": ".jl",
   "mimetype": "application/julia",
   "name": "julia",
   "version": "1.7.2"
  }
 },
 "nbformat": 4,
 "nbformat_minor": 5
}
