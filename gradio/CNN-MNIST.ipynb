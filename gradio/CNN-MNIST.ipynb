{
 "cells": [
  {
   "cell_type": "code",
   "execution_count": 1,
   "id": "4bfa6135-e8ed-4e20-b857-0520fdfa39d9",
   "metadata": {},
   "outputs": [],
   "source": [
    "import torch\n",
    "import torch.nn as nn\n",
    "import torch.nn.functional as F\n",
    "import torch.optim as optim\n",
    "from torchvision import datasets, transforms"
   ]
  },
  {
   "cell_type": "code",
   "execution_count": 2,
   "id": "23456f2f-28a1-45f8-8ec7-11507be1b999",
   "metadata": {},
   "outputs": [],
   "source": [
    "from tqdm.notebook import tqdm"
   ]
  },
  {
   "cell_type": "markdown",
   "id": "0259e2d7-bb7c-4963-a4f3-54fcc2766b28",
   "metadata": {},
   "source": [
    "## Dataset"
   ]
  },
  {
   "cell_type": "code",
   "execution_count": 3,
   "id": "9a111cd1-bed0-4e84-809a-2c3b654912e4",
   "metadata": {},
   "outputs": [],
   "source": [
    "BATCH_SIZE = 10000\n",
    "\n",
    "transform=transforms.Compose([\n",
    "        transforms.Resize(28),\n",
    "        transforms.ToTensor(),\n",
    "        transforms.Normalize((0.1307,), (0.3081,)),\n",
    "        ])\n",
    "\n",
    "dataset1 = datasets.MNIST('../data', \n",
    "                          train=True, \n",
    "                          download=True,\n",
    "                          transform=transform)\n",
    "\n",
    "dataset2 = datasets.MNIST('../data', \n",
    "                          train=False,\n",
    "                          transform=transform)\n",
    "\n",
    "train_loader = torch.utils.data.DataLoader(dataset1, batch_size=BATCH_SIZE, shuffle=True)\n",
    "test_loader = torch.utils.data.DataLoader(dataset2, batch_size=BATCH_SIZE)"
   ]
  },
  {
   "cell_type": "code",
   "execution_count": 4,
   "id": "9b761444-d639-4151-8e6c-0fbd9af3655a",
   "metadata": {},
   "outputs": [
    {
     "name": "stdout",
     "output_type": "stream",
     "text": [
      "Length of train_dataloader: 6, batches of 10000 ...\n",
      "Length of test_dataloader: 1, batches of 10000 ...\n"
     ]
    }
   ],
   "source": [
    "print(f\"Length of train_dataloader: {len(train_loader)}, batches of {BATCH_SIZE} ...\")\n",
    "print(f\"Length of test_dataloader: {len(test_loader)}, batches of {BATCH_SIZE} ...\")"
   ]
  },
  {
   "cell_type": "code",
   "execution_count": 5,
   "id": "df44afa9-c88e-419f-8930-47665cb98e40",
   "metadata": {},
   "outputs": [
    {
     "data": {
      "text/plain": [
       "'cuda'"
      ]
     },
     "execution_count": 5,
     "metadata": {},
     "output_type": "execute_result"
    }
   ],
   "source": [
    "# Make device agnostic code\n",
    "device = \"cuda\" if torch.cuda.is_available() else \"cpu\"\n",
    "device"
   ]
  },
  {
   "cell_type": "markdown",
   "id": "4c4f135c-be9c-4e67-aaa5-3979436e1dba",
   "metadata": {},
   "source": [
    "## Model"
   ]
  },
  {
   "cell_type": "code",
   "execution_count": 6,
   "id": "477d6e91-b3ce-4b56-8c7c-147e34b625e3",
   "metadata": {},
   "outputs": [],
   "source": [
    "class CNNModel(nn.Module):\n",
    "    def __init__(self):\n",
    "        super(CNNModel, self).__init__()\n",
    "        self.conv1 = nn.Conv2d(1, 16, kernel_size=3, stride=1, padding=1)\n",
    "        self.conv2 = nn.Conv2d(16, 32, kernel_size=3, stride=1, padding=1)\n",
    "        self.fc1 = nn.Linear(32 * 7 * 7, 128)\n",
    "        self.fc2 = nn.Linear(128, 10)\n",
    "\n",
    "    def forward(self, x):\n",
    "        x = F.relu(self.conv1(x))\n",
    "        x = F.max_pool2d(x, 2)\n",
    "        x = F.relu(self.conv2(x))\n",
    "        x = F.max_pool2d(x, 2)\n",
    "        x = x.view(-1, 32 * 7 * 7)\n",
    "        x = F.relu(self.fc1(x))\n",
    "        x = self.fc2(x)\n",
    "        return x\n",
    "    \n",
    "# Create an instance of the CNN model\n",
    "model = CNNModel().to(device)"
   ]
  },
  {
   "cell_type": "markdown",
   "id": "9748b6af-13f9-472e-8774-c2cf4305af15",
   "metadata": {},
   "source": [
    "## Training"
   ]
  },
  {
   "cell_type": "code",
   "execution_count": 7,
   "id": "01cfb3fb-14be-4996-9b89-b95683ebfa78",
   "metadata": {},
   "outputs": [],
   "source": [
    "# Setup loss functin and optimizer\n",
    "loss_fn = nn.CrossEntropyLoss()\n",
    "optimizer = torch.optim.SGD(params=model.parameters(), lr=0.1)"
   ]
  },
  {
   "cell_type": "code",
   "execution_count": 8,
   "id": "844d0a61-005e-45f7-abfb-a3f0e50fadea",
   "metadata": {},
   "outputs": [
    {
     "data": {
      "application/vnd.jupyter.widget-view+json": {
       "model_id": "5b9b1bb2382448b89be50bb521cc5c81",
       "version_major": 2,
       "version_minor": 0
      },
      "text/plain": [
       "  0%|          | 0/15 [00:00<?, ?it/s]"
      ]
     },
     "metadata": {},
     "output_type": "display_data"
    }
   ],
   "source": [
    "# Set the number of epochs (we'll keep this small for faster training time)\n",
    "epochs = 15\n",
    "\n",
    "for epoch in tqdm(range(epochs)):\n",
    "    for batch, (X, y) in enumerate(train_loader):\n",
    "        model.train()\n",
    "        \n",
    "        # Put data on target device\n",
    "        X, y = X.to(device), y.to(device)\n",
    "        \n",
    "        #1. Forward pass\n",
    "        y_pred = model(X)\n",
    "        \n",
    "        # 2. Calculate loss (per batch)\n",
    "        loss = loss_fn(y_pred, y)\n",
    "\n",
    "        # 3. Optimizer zero grad\n",
    "        optimizer.zero_grad()\n",
    "        \n",
    "        # 4. Loss backward\n",
    "        loss.backward()\n",
    "        \n",
    "        # 5. Optimizer step\n",
    "        optimizer.step()"
   ]
  },
  {
   "cell_type": "markdown",
   "id": "dbddbae9-305f-4f79-9883-b17e1bf9af80",
   "metadata": {},
   "source": [
    "## Testing "
   ]
  },
  {
   "cell_type": "code",
   "execution_count": 9,
   "id": "11b75042-4849-4d9b-86a4-2426af482b94",
   "metadata": {},
   "outputs": [],
   "source": [
    "def accuracy_fn(y_true, y_pred):\n",
    "    \n",
    "    correct = torch.eq(y_true, y_pred).sum().item()\n",
    "    acc = (correct / len(y_pred)) * 100\n",
    "    return acc"
   ]
  },
  {
   "cell_type": "code",
   "execution_count": 10,
   "id": "c533abb2-a497-4ee5-81ab-b814487a6e26",
   "metadata": {},
   "outputs": [
    {
     "data": {
      "text/plain": [
       "CNNModel(\n",
       "  (conv1): Conv2d(1, 16, kernel_size=(3, 3), stride=(1, 1), padding=(1, 1))\n",
       "  (conv2): Conv2d(16, 32, kernel_size=(3, 3), stride=(1, 1), padding=(1, 1))\n",
       "  (fc1): Linear(in_features=1568, out_features=128, bias=True)\n",
       "  (fc2): Linear(in_features=128, out_features=10, bias=True)\n",
       ")"
      ]
     },
     "execution_count": 10,
     "metadata": {},
     "output_type": "execute_result"
    }
   ],
   "source": [
    "model.eval()"
   ]
  },
  {
   "cell_type": "code",
   "execution_count": 11,
   "id": "2ab19bb1-ede8-4f4e-b8d7-96eff5e6b110",
   "metadata": {},
   "outputs": [
    {
     "name": "stdout",
     "output_type": "stream",
     "text": [
      "94.54\n"
     ]
    }
   ],
   "source": [
    "for X, y in test_loader:\n",
    "    \n",
    "    X, y = X.to(device), y.to(device)\n",
    "    y_pred = model(X)\n",
    "    print(accuracy_fn(y_true = y, y_pred = y_pred.argmax(dim = 1)))"
   ]
  },
  {
   "cell_type": "markdown",
   "id": "6282d174-25c6-4ba9-b3b0-16c2a3f4904c",
   "metadata": {},
   "source": [
    "## Save"
   ]
  },
  {
   "cell_type": "code",
   "execution_count": 12,
   "id": "50235f7e-2de1-4b3e-908e-1dfeeed504fb",
   "metadata": {},
   "outputs": [],
   "source": [
    "torch.save(obj=model.state_dict(), \n",
    "           f='./mnist_model.pt')"
   ]
  },
  {
   "cell_type": "code",
   "execution_count": 13,
   "id": "3616f960-2e28-4104-bbd2-933907edb9c2",
   "metadata": {},
   "outputs": [
    {
     "data": {
      "text/plain": [
       "CNNModel(\n",
       "  (conv1): Conv2d(1, 16, kernel_size=(3, 3), stride=(1, 1), padding=(1, 1))\n",
       "  (conv2): Conv2d(16, 32, kernel_size=(3, 3), stride=(1, 1), padding=(1, 1))\n",
       "  (fc1): Linear(in_features=1568, out_features=128, bias=True)\n",
       "  (fc2): Linear(in_features=128, out_features=10, bias=True)\n",
       ")"
      ]
     },
     "execution_count": 13,
     "metadata": {},
     "output_type": "execute_result"
    }
   ],
   "source": [
    "loaded_model = CNNModel()\n",
    "loaded_model.load_state_dict(torch.load(f=\"./mnist_model.pt\"))\n",
    "loaded_model.to('cpu')"
   ]
  },
  {
   "cell_type": "code",
   "execution_count": 14,
   "id": "13f9e08d-b207-45ed-b9b8-4779a876bee8",
   "metadata": {},
   "outputs": [
    {
     "name": "stdout",
     "output_type": "stream",
     "text": [
      "94.54\n"
     ]
    }
   ],
   "source": [
    "for X, y in test_loader:\n",
    "    X, y = X.to('cpu'), y.to('cpu')\n",
    "    y_pred = loaded_model(X)\n",
    "    print(accuracy_fn(y_true = y, y_pred = y_pred.argmax(dim = 1)))"
   ]
  },
  {
   "cell_type": "code",
   "execution_count": null,
   "id": "bdf82414-7297-4814-b14d-ce7d5814a2ff",
   "metadata": {},
   "outputs": [],
   "source": []
  }
 ],
 "metadata": {
  "kernelspec": {
   "display_name": "AIML",
   "language": "python",
   "name": "aiml"
  },
  "language_info": {
   "codemirror_mode": {
    "name": "ipython",
    "version": 3
   },
   "file_extension": ".py",
   "mimetype": "text/x-python",
   "name": "python",
   "nbconvert_exporter": "python",
   "pygments_lexer": "ipython3",
   "version": "3.8.12"
  }
 },
 "nbformat": 4,
 "nbformat_minor": 5
}
