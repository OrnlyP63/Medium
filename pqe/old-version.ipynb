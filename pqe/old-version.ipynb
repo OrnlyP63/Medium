{
 "cells": [
  {
   "cell_type": "code",
   "execution_count": 1,
   "id": "24445913-44a4-49b3-8742-df4d99838eca",
   "metadata": {},
   "outputs": [],
   "source": [
    "import numpy as np\n",
    "from matplotlib import pyplot as plt"
   ]
  },
  {
   "cell_type": "code",
   "execution_count": 2,
   "id": "d8fc51f6-6c81-4ad2-88e2-7d9d8a31ee0b",
   "metadata": {},
   "outputs": [],
   "source": [
    "def chi(stdev, modulus):\n",
    "    rand = np.random.randn()\n",
    "    return round(rand * stdev**2) % modulus\n",
    "    # if rand > 0:\n",
    "    #     return round(rand * stdev**2) % modulus\n",
    "    # else:\n",
    "    #     return round(abs(rand) * stdev**2) % modulus"
   ]
  },
  {
   "cell_type": "code",
   "execution_count": 3,
   "id": "16dbbc48-155e-4be7-868f-29456506da3f",
   "metadata": {},
   "outputs": [
    {
     "name": "stdout",
     "output_type": "stream",
     "text": [
      "n=8,\n",
      "q=127,\n",
      "N=42,\n",
      "sigma=1.0\n"
     ]
    }
   ],
   "source": [
    "n = 8\n",
    "q = 127\n",
    "N = int(1.1 * n * np.log(q))\n",
    "sigma = 1.0\n",
    "print(f\"n={n},\\nq={q},\\nN={N},\\nsigma={sigma}\")"
   ]
  },
  {
   "cell_type": "code",
   "execution_count": 4,
   "id": "0169a229-7042-44a7-b1c9-163a203913a9",
   "metadata": {},
   "outputs": [
    {
     "name": "stdout",
     "output_type": "stream",
     "text": [
      "chi =  3\n",
      "chi =  999\n",
      "chi =  0\n",
      "chi =  8\n",
      "chi =  4\n",
      "chi =  11\n",
      "chi =  998\n",
      "chi =  998\n",
      "chi =  2\n",
      "chi =  998\n"
     ]
    }
   ],
   "source": [
    "# print some examples\n",
    "sd = 2\n",
    "m = 1000\n",
    "for x in range(10):\n",
    "    print(\"chi = \",chi(sd,m))"
   ]
  },
  {
   "cell_type": "code",
   "execution_count": 5,
   "id": "0dcb858a-5ab0-4867-92de-ea4d3b0513ad",
   "metadata": {},
   "outputs": [
    {
     "name": "stdout",
     "output_type": "stream",
     "text": [
      "Alice's private key: [ 39 111  85  33   6  74  33  29]\n"
     ]
    }
   ],
   "source": [
    "#Alice's private key\n",
    "alice_private_key = np.random.randint(0, high=q, size=n)\n",
    "print(f\"Alice's private key: {alice_private_key}\")"
   ]
  },
  {
   "cell_type": "code",
   "execution_count": 6,
   "id": "803892ea-4717-4376-a890-b54f318551f0",
   "metadata": {
    "tags": []
   },
   "outputs": [
    {
     "name": "stdout",
     "output_type": "stream",
     "text": [
      "Alice's public key: [(array([ 75,  33,  67,   0,  97,  83, 124,  87]), 96), (array([ 59,  47, 117,  88,  98,  94, 106,  25]), 2), (array([116,  74,   4,  71, 119,  96, 100,  99]), 72), (array([ 90,  92, 108,  72, 126,   4,  40,  34]), 61), (array([ 89,  87,  44,  15, 107, 101,  84,  95]), 17), (array([ 47,   9,   9,  32, 125,  81,  43,  44]), 124), (array([ 73, 101,  94,  18, 120,  67, 107,  93]), 6), (array([120,  55,  34,  46, 101,   6,  91, 105]), 66), (array([ 78, 105,  28,  37,  70,  14,  15,  73]), 15), (array([ 28, 114,   9,  32,   7,  69,  20,  69]), 9), (array([ 74,  29,  59,   6, 124,  63,  83,  96]), 22), (array([ 77,  57,  66, 113, 125,  33,  51,  78]), 24), (array([121,  49,  43,  86,  23,   2,  52,  44]), 117), (array([ 72,  56,  22,  83,  96, 105,  21,  73]), 26), (array([ 42,  28,   9,  47, 115,  88, 121,   1]), 126), (array([ 71,  35,  89, 112, 125, 106,  29,  75]), 52), (array([ 67,  22,  83,  68, 113, 101,  49,  49]), 18), (array([ 73,   8,  81,  58, 121,  66,  65,  99]), 46), (array([ 14,  30, 107,  92,  29,  87,  80, 110]), 2), (array([108,  56,  75,  20,  61,   4,  33,   7]), 112), (array([85, 61, 83, 66, 26, 18, 40, 17]), 14), (array([123,  41,  39,  78,   3, 106,  97,  97]), 31), (array([106,  22,  61, 124,  22,  52,  81,  64]), 105), (array([95, 17, 47, 18, 10, 66, 77, 81]), 75), (array([ 56,  82,   7,  27,  72,   6, 120, 110]), 98), (array([ 46,   8,  65,  19,  87, 110, 124,  70]), 123), (array([ 35,  45,  34,  55, 106,  18, 113,  68]), 65), (array([ 94,  56,  46, 119,  76,  49,  89,  30]), 80), (array([ 5, 26, 53, 52, 59, 79, 44, 91]), 35), (array([ 93,   1,   9, 117, 124,  92,  99,  15]), 60), (array([101, 108,  34,  89, 106,  35,  19, 110]), 96), (array([88, 93, 86, 48, 72, 14, 50, 46]), 49), (array([ 93,  29,  37, 108,  69,  74, 115,  74]), 114), (array([ 81,  78,  43, 123,  31,  90,  72,  89]), 91), (array([ 86,  92, 125,  42,  35,   2,  34,  24]), 67), (array([102, 108,  55, 102,  95,  64,   4,  56]), 82), (array([ 43,  53, 115,  35,   5, 101, 115,  98]), 118), (array([ 71, 107,  35,  64,   1,  47,  47, 102]), 39), (array([  3,   1,  13,  85,  56,  96, 113,  37]), 124), (array([103,  62,  24,  84,  32, 104, 111,  90]), 26), (array([ 42,  33,  36, 123, 116, 101, 120,  50]), 91), (array([103,  29,  29,  98, 112,  37, 106,  46]), 96)]\n"
     ]
    }
   ],
   "source": [
    "#Alice's Public Key\n",
    "alice_public_key = []\n",
    "\n",
    "# N is the number of values we want in the key\n",
    "for i in range(N):\n",
    "    # Get n random values between 0 and <q\n",
    "    a = np.random.randint(0, high=q, size=n)\n",
    "    # get an error to introduce\n",
    "    epsilon = chi(sigma, q)\n",
    "    #  calculate dot product (ie like array multiplication)\n",
    "    b = (np.dot(a, alice_private_key) + epsilon) % q\n",
    "    # value to be added to the key -\n",
    "    sample = (a, b)\n",
    "    alice_public_key.append(sample)\n",
    "    \n",
    "print(f\"Alice's public key: {alice_public_key}\")"
   ]
  },
  {
   "cell_type": "code",
   "execution_count": 7,
   "id": "f0972e07-b5c4-4f84-8879-3aa9656832d4",
   "metadata": {},
   "outputs": [
    {
     "data": {
      "text/plain": [
       "array([103,  29,  29,  98, 112,  37, 106,  46])"
      ]
     },
     "execution_count": 7,
     "metadata": {},
     "output_type": "execute_result"
    }
   ],
   "source": [
    "a"
   ]
  },
  {
   "cell_type": "code",
   "execution_count": 8,
   "id": "bfe5e31e-0d97-4118-a946-c79016296449",
   "metadata": {},
   "outputs": [
    {
     "data": {
      "text/plain": [
       "1"
      ]
     },
     "execution_count": 8,
     "metadata": {},
     "output_type": "execute_result"
    }
   ],
   "source": [
    "epsilon"
   ]
  },
  {
   "cell_type": "code",
   "execution_count": 9,
   "id": "2c250b22-b96a-43b1-8d36-f7e16703733f",
   "metadata": {},
   "outputs": [
    {
     "data": {
      "text/plain": [
       "42"
      ]
     },
     "execution_count": 9,
     "metadata": {},
     "output_type": "execute_result"
    }
   ],
   "source": [
    "len(alice_public_key)"
   ]
  },
  {
   "cell_type": "code",
   "execution_count": 10,
   "id": "398e1097-91df-4217-acb1-6a4c338515b8",
   "metadata": {},
   "outputs": [
    {
     "data": {
      "text/plain": [
       "8"
      ]
     },
     "execution_count": 10,
     "metadata": {},
     "output_type": "execute_result"
    }
   ],
   "source": [
    "len(alice_private_key)"
   ]
  },
  {
   "cell_type": "code",
   "execution_count": 11,
   "id": "59430d97-c85b-49c2-960e-a0fd7d275d09",
   "metadata": {},
   "outputs": [
    {
     "data": {
      "text/plain": [
       "21177"
      ]
     },
     "execution_count": 11,
     "metadata": {},
     "output_type": "execute_result"
    }
   ],
   "source": [
    "np.dot(a, alice_private_key)"
   ]
  },
  {
   "cell_type": "code",
   "execution_count": 12,
   "id": "9a40442e-2f10-4be8-9383-09d30e124da2",
   "metadata": {},
   "outputs": [
    {
     "name": "stdout",
     "output_type": "stream",
     "text": [
      "Bob's message bit=1\n"
     ]
    }
   ],
   "source": [
    "#Encryption\n",
    "bob_message_bit = 1\n",
    "print(f\"Bob's message bit={bob_message_bit}\")"
   ]
  },
  {
   "cell_type": "code",
   "execution_count": 13,
   "id": "34c40c65-3cac-4949-8637-c02703e80ff1",
   "metadata": {},
   "outputs": [
    {
     "name": "stdout",
     "output_type": "stream",
     "text": [
      "[1 0 1 0 0 1 0 0 0 0 0 0 0 1 0 0 0 0 1 1 0 0 1 1 0 0 0 0 1 1 0 0 0 0 1 0 0\n",
      " 1 0 1 1 0]\n"
     ]
    }
   ],
   "source": [
    "# a list of N values between 0 and <2 - ie 0 or 1\n",
    "r = np.random.randint(0, 2, N)\n",
    "print(r)"
   ]
  },
  {
   "cell_type": "code",
   "execution_count": 14,
   "id": "b0fd529e-b739-4ba5-8efc-b43eb509a51b",
   "metadata": {},
   "outputs": [
    {
     "name": "stdout",
     "output_type": "stream",
     "text": [
      "ciphertext is: ([17, 110, 39, 33, 37, 110, 125, 48], 104)\n"
     ]
    }
   ],
   "source": [
    "sum_ai=np.zeros(n, dtype=int)\n",
    "sum_bi=0\n",
    "\n",
    "for i in range(N):\n",
    "    sum_ai = sum_ai + r[i] * alice_public_key[i][0]\n",
    "    sum_bi = sum_bi + r[i] * alice_public_key[i][1]\n",
    "sum_ai = [ x % q for x in sum_ai ]\n",
    "# sum_bi = sum_bi \n",
    "ciphertext = (sum_ai, (bob_message_bit*int(np.floor(q/2))+sum_bi)%q)\n",
    "print(f\"ciphertext is: {ciphertext}\")"
   ]
  },
  {
   "cell_type": "code",
   "execution_count": 15,
   "id": "e5f11319-f5a2-4974-87a7-34cbf42bcbd8",
   "metadata": {},
   "outputs": [
    {
     "name": "stdout",
     "output_type": "stream",
     "text": [
      "original message bit=1, decrypted message bit=1\n"
     ]
    }
   ],
   "source": [
    "#Decryption\n",
    "adots = np.dot(ciphertext[0], alice_private_key) #% q\n",
    "b_adots = (ciphertext[1] - adots) % q\n",
    "\n",
    "decrypted_message_bit = round((2*b_adots)/q) % 2\n",
    "\n",
    "print(f\"original message bit={bob_message_bit}, decrypted message bit={decrypted_message_bit}\")\n",
    "\n",
    "assert bob_message_bit == decrypted_message_bit"
   ]
  },
  {
   "cell_type": "code",
   "execution_count": 16,
   "id": "1dc96b40-6a90-46b7-a447-b39e09313b90",
   "metadata": {},
   "outputs": [
    {
     "data": {
      "text/plain": [
       "63"
      ]
     },
     "execution_count": 16,
     "metadata": {},
     "output_type": "execute_result"
    }
   ],
   "source": [
    "b_adots"
   ]
  },
  {
   "cell_type": "code",
   "execution_count": 17,
   "id": "041b131c-40fc-43d3-bbd7-71ddef75e53a",
   "metadata": {},
   "outputs": [
    {
     "data": {
      "text/plain": [
       "127"
      ]
     },
     "execution_count": 17,
     "metadata": {},
     "output_type": "execute_result"
    }
   ],
   "source": [
    "q"
   ]
  },
  {
   "cell_type": "code",
   "execution_count": null,
   "id": "60a8608c-f9d3-4a07-93c4-0d1ab4b61dc4",
   "metadata": {},
   "outputs": [],
   "source": []
  }
 ],
 "metadata": {
  "kernelspec": {
   "display_name": "AIML",
   "language": "python",
   "name": "aiml"
  },
  "language_info": {
   "codemirror_mode": {
    "name": "ipython",
    "version": 3
   },
   "file_extension": ".py",
   "mimetype": "text/x-python",
   "name": "python",
   "nbconvert_exporter": "python",
   "pygments_lexer": "ipython3",
   "version": "3.8.17"
  }
 },
 "nbformat": 4,
 "nbformat_minor": 5
}
