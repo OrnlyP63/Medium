{
 "cells": [
  {
   "cell_type": "code",
   "execution_count": 1,
   "id": "60fcca2d-df78-49c4-8385-640f4afaf82b",
   "metadata": {},
   "outputs": [],
   "source": [
    "import numpy as np\n",
    "from matplotlib import pyplot as plt"
   ]
  },
  {
   "cell_type": "markdown",
   "id": "e2f5d908-a8ad-489f-8573-18e58324af64",
   "metadata": {},
   "source": [
    "$\\mathbb{Z}_q$ is the collection of intergers in range $\\left[-\\frac{q}{2}, \\frac{q}{2}\\right)$.  \n",
    "**Private key**: Sample a private key $s = (1, \\pmb {t})$, where $\\pmb{t}\\leftarrow \\mathbb{Z}_q^n$."
   ]
  },
  {
   "cell_type": "code",
   "execution_count": 2,
   "id": "5c9f4f14-e6e7-4d17-82c5-4fb3f5d57eeb",
   "metadata": {},
   "outputs": [],
   "source": [
    "q = 127\n",
    "n = 8\n",
    "N = int(1.1 * n * np.log(q))\n",
    "\n",
    "sigma = 1.0"
   ]
  },
  {
   "cell_type": "code",
   "execution_count": 3,
   "id": "4b8da828-076c-4de7-bb16-987f62a2edd0",
   "metadata": {},
   "outputs": [
    {
     "data": {
      "text/plain": [
       "(8, 42, 127)"
      ]
     },
     "execution_count": 3,
     "metadata": {},
     "output_type": "execute_result"
    }
   ],
   "source": [
    "n, N, q"
   ]
  },
  {
   "cell_type": "code",
   "execution_count": 4,
   "id": "b5cfafda-99c0-4d25-93bb-584385508d9a",
   "metadata": {},
   "outputs": [
    {
     "data": {
      "text/plain": [
       "array([ 1, 34, 10, 61,  0, 17, 38, 50, 13])"
      ]
     },
     "execution_count": 4,
     "metadata": {},
     "output_type": "execute_result"
    }
   ],
   "source": [
    "t = np.random.randint(0, high=q/2, size=n)\n",
    "s = np.concatenate([np.ones(1, dtype=np.int32), t])\n",
    "s"
   ]
  },
  {
   "cell_type": "markdown",
   "id": "158b3b00-f274-47db-9494-b20b1e06ec62",
   "metadata": {},
   "source": [
    "**Public key**: Sample a random matrix $A=\\begin{bmatrix}a_1\\\\\\vdots\\\\ a_N\\end{bmatrix}\\leftarrow\\mathbb{Z}_q^{N\\times n}$ and compute $$\\pmb{b} = A\\pmb{t} + e$$\n",
    "\n",
    "for random noise vector $e\\leftarrow \\mathcal{X}^N$. Output the public key $P = [b\\vert -A]\\in\\mathbb{Z}^{N\\times (n+1)}_q$."
   ]
  },
  {
   "cell_type": "code",
   "execution_count": 5,
   "id": "3bd3b752-6cb1-4a07-b888-ebcff7132f69",
   "metadata": {},
   "outputs": [],
   "source": [
    "A = np.random.randint(0, high=q/2, size=(N, n))\n",
    "e = np.round(np.random.randn(N) * sigma ** 2).astype(np.int32) % q\n",
    "b = ((np.dot(A, t) + e).reshape(-1, 1)) % q\n",
    "\n",
    "P = np.hstack([b, -A])"
   ]
  },
  {
   "cell_type": "code",
   "execution_count": 6,
   "id": "b14ddddf-029f-4349-9947-aee9ddf7c2e3",
   "metadata": {},
   "outputs": [
    {
     "data": {
      "text/plain": [
       "(42, 9)"
      ]
     },
     "execution_count": 6,
     "metadata": {},
     "output_type": "execute_result"
    }
   ],
   "source": [
    "P.shape"
   ]
  },
  {
   "cell_type": "markdown",
   "id": "a1d00cda-993a-4d9b-960e-ff0deb4f22c3",
   "metadata": {},
   "source": [
    "**Encryption**: Encrypt the message $m\\in\\{0, 1\\}$ by computing\n",
    "$$c = \\left[P^\\top r + \\left\\lfloor\\frac{q}{2}\\right\\rfloor \\pmb{m}\\right]_q$$\n",
    "\n",
    "where $\\pmb{m} = (m, 0, \\ldots, 0)$ has length $n + 1$ and a random binary vector $r\\in\\{0, 1\\}^N$."
   ]
  },
  {
   "cell_type": "code",
   "execution_count": 7,
   "id": "acccdf8a-9d04-45d3-ac3e-fb5e6a3a6ea8",
   "metadata": {},
   "outputs": [],
   "source": [
    "r = np.random.randint(0, 2, N)\n",
    "m = np.concatenate([np.array([1]), np.zeros(n, dtype=np.int32)])"
   ]
  },
  {
   "cell_type": "code",
   "execution_count": 8,
   "id": "1880eac7-b235-4355-a209-c82460a46d41",
   "metadata": {},
   "outputs": [],
   "source": [
    "c = (np.dot(P.T, r) + (np.floor(q / 2) * m)).astype(np.int32) % q"
   ]
  },
  {
   "cell_type": "code",
   "execution_count": 9,
   "id": "603fc526-b24d-4850-a50a-ab88546b0c1e",
   "metadata": {},
   "outputs": [
    {
     "data": {
      "text/plain": [
       "array([119,  21,  21,  82,  69,  94,  57,   3,  40], dtype=int32)"
      ]
     },
     "execution_count": 9,
     "metadata": {},
     "output_type": "execute_result"
    }
   ],
   "source": [
    "c"
   ]
  },
  {
   "cell_type": "markdown",
   "id": "6c4f59c9-f02a-4f54-99c5-8a6716539d8d",
   "metadata": {},
   "source": [
    "**Decryption**: Decryption ciphertext $c$ using the secret key by computing \n",
    "$$m = \\left[\\left\\lfloor\\frac{2}{q}[c \\cdot s]_q\\right\\rceil\\right]_2 .$$"
   ]
  },
  {
   "cell_type": "code",
   "execution_count": 10,
   "id": "9c00e766-fca9-42c7-abc6-c3be467e7fa1",
   "metadata": {},
   "outputs": [
    {
     "data": {
      "text/plain": [
       "1"
      ]
     },
     "execution_count": 10,
     "metadata": {},
     "output_type": "execute_result"
    }
   ],
   "source": [
    "m_hat = round((np.dot(c, s) % q) * (2 / q)) % 2\n",
    "m_hat"
   ]
  },
  {
   "cell_type": "code",
   "execution_count": null,
   "id": "d56b2777-281d-4021-aa6a-c081c37202d5",
   "metadata": {},
   "outputs": [],
   "source": []
  }
 ],
 "metadata": {
  "kernelspec": {
   "display_name": "AIML",
   "language": "python",
   "name": "aiml"
  },
  "language_info": {
   "codemirror_mode": {
    "name": "ipython",
    "version": 3
   },
   "file_extension": ".py",
   "mimetype": "text/x-python",
   "name": "python",
   "nbconvert_exporter": "python",
   "pygments_lexer": "ipython3",
   "version": "3.8.17"
  }
 },
 "nbformat": 4,
 "nbformat_minor": 5
}
