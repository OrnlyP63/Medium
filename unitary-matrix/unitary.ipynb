{
 "cells": [
  {
   "cell_type": "markdown",
   "id": "2d1f183d-f920-4f8f-ba34-b9885ae58aba",
   "metadata": {},
   "source": [
    "# Unitary matrix\n",
    "If we have a complex matrix denoted as $U$ and its **conjugate transpose**, denoted as $U^*$, is equal to its inverse, then we can conclude that $U$ qualifies as a unitary matrix. \n",
    "\n",
    "This implies that the product of the conjugate transpose $U^*$ and matrix $U$, as well as the product of matrix $U$ and its conjugate transpose $U^*$, both equal the identity matrix $I$.\n",
    "\n",
    "$$U^*U = UU^* = I$$\n",
    "\n",
    "---\n",
    "## Hadamard Gate\n",
    "\n",
    "$$\n",
    "\\text{H}=\n",
    "\\frac{1}{\\sqrt{2}}\n",
    "\\begin{bmatrix}\n",
    "1 & 1\\\\\n",
    "1 & -1\n",
    "\\end{bmatrix}\n",
    "$$"
   ]
  },
  {
   "cell_type": "code",
   "execution_count": 1,
   "id": "dfaf6631-7f0b-445e-b42c-78e84e594bbe",
   "metadata": {},
   "outputs": [],
   "source": [
    "import numpy as np\n",
    "\n",
    "# Define the Hadamard gate matrix\n",
    "Hadamard = 1/np.sqrt(2) * np.array([[1, 1],\n",
    "                                    [1, -1]])"
   ]
  },
  {
   "cell_type": "code",
   "execution_count": 6,
   "id": "6766ef47-f68b-4b73-b435-28ba7993686b",
   "metadata": {},
   "outputs": [
    {
     "name": "stdout",
     "output_type": "stream",
     "text": [
      "[[1. 0.]\n",
      " [0. 1.]]\n"
     ]
    }
   ],
   "source": [
    "print(Hadamard.T @ Hadamard)"
   ]
  },
  {
   "cell_type": "code",
   "execution_count": 5,
   "id": "3fae9043-f708-453d-8407-c0768ddf01dd",
   "metadata": {},
   "outputs": [
    {
     "data": {
      "text/plain": [
       "array([[1., 0.],\n",
       "       [0., 1.]])"
      ]
     },
     "execution_count": 5,
     "metadata": {},
     "output_type": "execute_result"
    }
   ],
   "source": [
    "Hadamard @ Hadamard.T"
   ]
  },
  {
   "cell_type": "markdown",
   "id": "e76b08e9-7d5a-44fd-8526-951823d0b215",
   "metadata": {},
   "source": [
    "## The determinant of the Unitary matrix\n",
    "\n",
    "From $$U^*U = UU^* = I$$\n",
    "\n",
    "Consider \n",
    "\n",
    "$$\n",
    "\\begin{align}\n",
    "\\det(U^*U) = \\det(UU^*) &= det(I)\\\\\n",
    "\\det(U^*)\\det(U) = \\det(U)\\det(U^*) &= det(I)\\\\\n",
    "\\det(U^*)\\det(U) = \\det(U)\\det(U^*) &= 1\\\\\n",
    "\\end{align}\n",
    "$$\n",
    "\n",
    "We know $\\det(U^*) = \\det(U)$. So,\n",
    "\n",
    "$$\n",
    "\\begin{align}\n",
    "\\vert \\det(U)\\vert^2 &= 1\\\\\n",
    "\\vert \\det(U)\\vert &= 1\n",
    "\\end{align}$$"
   ]
  },
  {
   "cell_type": "code",
   "execution_count": 9,
   "id": "3300e221-f3ec-44f6-9280-9903fa6ec6e4",
   "metadata": {},
   "outputs": [
    {
     "data": {
      "text/plain": [
       "1.0"
      ]
     },
     "execution_count": 9,
     "metadata": {},
     "output_type": "execute_result"
    }
   ],
   "source": [
    "np.round(np.abs(np.linalg.det(Hadamard)))"
   ]
  },
  {
   "cell_type": "markdown",
   "id": "d096a624-4f85-41dc-8604-35be3aedae9f",
   "metadata": {},
   "source": [
    "## Eigenvalues of the Unitary matrix\n",
    "\n",
    "$$U\\bar v = \\lambda\\bar v$$\n",
    "\n",
    "where $\\lambda$ is an eigenvalue and $\\bar v$ is an eigenvector\n",
    "\n",
    "Take the conjugate transpose of both sides of this equation:\n",
    "\n",
    "$$\\begin{align}\n",
    "U\\bar v &= \\lambda\\bar v\\\\\n",
    "(U\\bar v)^*(U\\bar v) &= (\\lambda\\bar v)^*(\\lambda\\bar v)\\\\\n",
    "\\bar v^* U^* U\\bar v&= \\lambda^2 \\bar v^*\\bar v\\\\\n",
    "\\end{align}$$\n",
    "\n",
    "By $U^*U = I$ then\n",
    "$$\\begin{align}\n",
    "\\bar v^* \\bar v&= \\lambda^2 \\bar v^*\\bar v\\\\\n",
    "0 &= (1-\\lambda^2) v^* \\bar v\\\\\n",
    "|\\lambda| &= 1\n",
    "\\end{align}$$"
   ]
  },
  {
   "cell_type": "code",
   "execution_count": 10,
   "id": "71708fd9-f82e-4fcd-a9b3-4ea99c32827a",
   "metadata": {},
   "outputs": [
    {
     "data": {
      "text/plain": [
       "array([ 1., -1.])"
      ]
     },
     "execution_count": 10,
     "metadata": {},
     "output_type": "execute_result"
    }
   ],
   "source": [
    "np.linalg.eigvals(Hadamard)"
   ]
  },
  {
   "cell_type": "markdown",
   "id": "2cb0c029-b9fb-4b34-99a6-8a82a30035fe",
   "metadata": {},
   "source": [
    "## Inner product\n",
    "\n",
    "Let $\\langle\\cdot\\vert\\cdot\\rangle$ be the inner product. Let $u, v$ are vectors.\n",
    "\n",
    "Consider \n",
    "$$\n",
    "\\begin{align}\n",
    "\\langle Uu\\vert Uv\\rangle &= (Uu)^\\top (Uv)\\\\\n",
    "\\langle Uu\\vert Uv\\rangle &= (u^\\top U^*) (Uv)\\\\\n",
    "\\langle Uu\\vert Uv\\rangle &= u^\\top U^*Uv\\\\\n",
    "\\end{align}\n",
    "$$\n",
    "\n",
    "By $U^*U = I$ then\n",
    "\n",
    "$$\n",
    "\\begin{align}\n",
    "\\langle Uu\\vert Uv\\rangle &= u^\\top v\\\\\n",
    "\\langle Uu\\vert Uv\\rangle &= \\langle u\\vert v\\rangle\\\\\n",
    "\\end{align}\n",
    "$$\n",
    "\n",
    "That means the $U$ transform cannot change the inner product of $u$ and $v$."
   ]
  },
  {
   "cell_type": "code",
   "execution_count": 12,
   "id": "d0518a59-ea02-4e29-9faf-b5f42b6f52ff",
   "metadata": {},
   "outputs": [
    {
     "data": {
      "text/plain": [
       "array([[0]])"
      ]
     },
     "execution_count": 12,
     "metadata": {},
     "output_type": "execute_result"
    }
   ],
   "source": [
    "# create the samples vector u and v\n",
    "u = np.array([[1],\n",
    "              [0]])\n",
    "\n",
    "v = np.array([[0],\n",
    "              [1]])\n",
    "\n",
    "# find the inner product value\n",
    "np.dot(u.T, v)"
   ]
  },
  {
   "cell_type": "code",
   "execution_count": 15,
   "id": "8918187a-96e6-4ae1-a037-0d36e04b75c9",
   "metadata": {},
   "outputs": [
    {
     "data": {
      "text/plain": [
       "array([[0.]])"
      ]
     },
     "execution_count": 15,
     "metadata": {},
     "output_type": "execute_result"
    }
   ],
   "source": [
    "# Apply the unitary matrix\n",
    "Uu = Hadamard @ u\n",
    "Uv = Hadamard @ v\n",
    "\n",
    "# find the inner product value\n",
    "np.dot(Uu.T, Uv)"
   ]
  },
  {
   "cell_type": "code",
   "execution_count": null,
   "id": "d8f092eb-b1b9-4c96-b9a7-7c40497e2dc1",
   "metadata": {},
   "outputs": [],
   "source": []
  }
 ],
 "metadata": {
  "kernelspec": {
   "display_name": "AIML",
   "language": "python",
   "name": "aiml"
  },
  "language_info": {
   "codemirror_mode": {
    "name": "ipython",
    "version": 3
   },
   "file_extension": ".py",
   "mimetype": "text/x-python",
   "name": "python",
   "nbconvert_exporter": "python",
   "pygments_lexer": "ipython3",
   "version": "3.8.17"
  }
 },
 "nbformat": 4,
 "nbformat_minor": 5
}
