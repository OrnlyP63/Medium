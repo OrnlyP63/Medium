{
 "cells": [
  {
   "cell_type": "code",
   "execution_count": 1,
   "id": "6fb030a0-0c29-4de5-bb4f-e6fd4b89c6f5",
   "metadata": {},
   "outputs": [],
   "source": [
    "def col_fn(n):\n",
    "    if n % 2 == 0:\n",
    "        return n // 2\n",
    "    else:\n",
    "        return (3 * n + 1) "
   ]
  },
  {
   "cell_type": "code",
   "execution_count": 2,
   "id": "08383f0d-e8c0-4b05-b050-a7e260d4c126",
   "metadata": {},
   "outputs": [],
   "source": [
    "def col_list(n):\n",
    "    col_l = [n]\n",
    "    while n != 1:\n",
    "        n = col_fn(n)\n",
    "        col_l.append(n)\n",
    "    return col_l"
   ]
  },
  {
   "cell_type": "code",
   "execution_count": 21,
   "id": "6a8e055f-6b89-4a91-87dc-27fb25064e91",
   "metadata": {},
   "outputs": [],
   "source": [
    "def reverse_colz(n):\n",
    "    if n % 6 != 4:\n",
    "        return 2 * n\n",
    "    else:\n",
    "        return (n-1)/3"
   ]
  },
  {
   "cell_type": "code",
   "execution_count": 14,
   "id": "9109acc6-bc9a-409d-9003-835a9f5b6052",
   "metadata": {},
   "outputs": [
    {
     "name": "stdout",
     "output_type": "stream",
     "text": [
      "{2: 3, 3: 1} 24\n",
      "{2: 2, 3: 1} 12\n",
      "{2: 1, 3: 1} 6\n",
      "{3: 1} 3\n",
      "{2: 1, 5: 1} 10\n",
      "{5: 1} 5\n",
      "{2: 4} 16\n",
      "{2: 3} 8\n",
      "{2: 2} 4\n",
      "{2: 1} 2\n",
      "{} 1\n"
     ]
    }
   ],
   "source": [
    "for c in col_list(24):\n",
    "    print(factorint(c), c)"
   ]
  },
  {
   "cell_type": "code",
   "execution_count": 8,
   "id": "ec24d89e-8489-4a8a-9cde-a331c80eb0a5",
   "metadata": {},
   "outputs": [],
   "source": [
    "from sympy.ntheory import factorint"
   ]
  },
  {
   "cell_type": "code",
   "execution_count": 9,
   "id": "a0e2056e-4fc9-45ad-964b-f420d623945e",
   "metadata": {
    "tags": []
   },
   "outputs": [],
   "source": [
    "# for n in range(30):\n",
    "#     print(factorint(n*2))"
   ]
  },
  {
   "cell_type": "code",
   "execution_count": 10,
   "id": "e7869d26-9c67-41d3-9dee-0376c9e44117",
   "metadata": {},
   "outputs": [
    {
     "name": "stdout",
     "output_type": "stream",
     "text": [
      "{0: 1} 0\n",
      "{2: 1, 3: 1} 6\n",
      "{2: 2, 3: 1} 12\n",
      "{2: 1, 3: 2} 18\n",
      "{2: 3, 3: 1} 24\n",
      "{2: 1, 3: 1, 5: 1} 30\n",
      "{2: 2, 3: 2} 36\n",
      "{2: 1, 3: 1, 7: 1} 42\n",
      "{2: 4, 3: 1} 48\n",
      "{2: 1, 3: 3} 54\n",
      "{2: 2, 3: 1, 5: 1} 60\n",
      "{2: 1, 3: 1, 11: 1} 66\n",
      "{2: 3, 3: 2} 72\n",
      "{2: 1, 3: 1, 13: 1} 78\n",
      "{2: 2, 3: 1, 7: 1} 84\n",
      "{2: 1, 3: 2, 5: 1} 90\n",
      "{2: 5, 3: 1} 96\n"
     ]
    }
   ],
   "source": [
    "for i in range(100):\n",
    "    if i % 3 == 0 and i % 2 == 0:\n",
    "        print(factorint(i), i)"
   ]
  },
  {
   "cell_type": "code",
   "execution_count": null,
   "id": "6aa314f3-7829-4c35-8dbe-a80ecbd4a96b",
   "metadata": {},
   "outputs": [],
   "source": []
  }
 ],
 "metadata": {
  "kernelspec": {
   "display_name": "AIML",
   "language": "python",
   "name": "aiml"
  },
  "language_info": {
   "codemirror_mode": {
    "name": "ipython",
    "version": 3
   },
   "file_extension": ".py",
   "mimetype": "text/x-python",
   "name": "python",
   "nbconvert_exporter": "python",
   "pygments_lexer": "ipython3",
   "version": "3.8.17"
  }
 },
 "nbformat": 4,
 "nbformat_minor": 5
}
