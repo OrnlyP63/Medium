{
 "cells": [
  {
   "cell_type": "code",
   "execution_count": 1,
   "id": "66f5c9f8-aa50-4178-bc67-6a06dddd0a43",
   "metadata": {},
   "outputs": [],
   "source": [
    "# from qiskit import QuantumCircuit, Aer, transpile, assemble\n",
    "# from qiskit.visualization import plot_histogram"
   ]
  },
  {
   "cell_type": "code",
   "execution_count": 2,
   "id": "a2bdcfd2-b9cb-49f3-bdb4-a601f83ad43f",
   "metadata": {},
   "outputs": [],
   "source": [
    "import numpy as np"
   ]
  },
  {
   "cell_type": "code",
   "execution_count": 3,
   "id": "bd9d79c1-da7d-4b9e-8e09-e5a76ebe04c0",
   "metadata": {},
   "outputs": [],
   "source": [
    "m = 4"
   ]
  },
  {
   "cell_type": "code",
   "execution_count": 4,
   "id": "c56e351b-dbfe-4a52-bcdc-360fe5bb0ca4",
   "metadata": {},
   "outputs": [],
   "source": [
    "Omega = np.exp((2*np.pi*1.j)/m)"
   ]
  },
  {
   "cell_type": "code",
   "execution_count": 5,
   "id": "f282f898-5e1c-4d7d-bbad-685ba025042f",
   "metadata": {},
   "outputs": [],
   "source": [
    "M = np.ones([m, m]) * np.arange(m) * np.arange(m).reshape(-1, 1)"
   ]
  },
  {
   "cell_type": "code",
   "execution_count": 6,
   "id": "c1938a64-6f90-494b-abf7-c355c82c78fa",
   "metadata": {},
   "outputs": [
    {
     "data": {
      "text/plain": [
       "array([[ 0.5+0.j ,  0.5+0.j ,  0.5+0.j ,  0.5+0.j ],\n",
       "       [ 0.5+0.j ,  0. +0.5j, -0.5+0.j ,  0. -0.5j],\n",
       "       [ 0.5+0.j , -0.5+0.j ,  0.5+0.j , -0.5+0.j ],\n",
       "       [ 0.5+0.j ,  0. -0.5j, -0.5+0.j ,  0. +0.5j]])"
      ]
     },
     "execution_count": 6,
     "metadata": {},
     "output_type": "execute_result"
    }
   ],
   "source": [
    "QFT = (1 / np.sqrt(m)) * np.round(Omega ** M)\n",
    "QFT"
   ]
  },
  {
   "cell_type": "code",
   "execution_count": null,
   "id": "e86fbada-231d-47c1-9f36-dfa913ae455b",
   "metadata": {},
   "outputs": [],
   "source": []
  },
  {
   "cell_type": "code",
   "execution_count": null,
   "id": "fbcfa19f-0a10-439d-88e2-7bd79b43bae7",
   "metadata": {},
   "outputs": [],
   "source": []
  },
  {
   "cell_type": "code",
   "execution_count": null,
   "id": "da6e191b-3882-4d35-a9d3-5b0ebae467ae",
   "metadata": {},
   "outputs": [],
   "source": []
  },
  {
   "cell_type": "code",
   "execution_count": null,
   "id": "226e9a6a-bbe8-4367-949f-c62d43b0ab6a",
   "metadata": {},
   "outputs": [],
   "source": []
  },
  {
   "cell_type": "code",
   "execution_count": null,
   "id": "57956cff-5871-4414-9099-8eb43419f302",
   "metadata": {},
   "outputs": [],
   "source": []
  },
  {
   "cell_type": "code",
   "execution_count": null,
   "id": "c240544a-d588-40c7-9158-ce6dde8aa979",
   "metadata": {},
   "outputs": [],
   "source": []
  },
  {
   "cell_type": "code",
   "execution_count": null,
   "id": "8a9ac978-d913-4847-bb13-66e0c5a172b9",
   "metadata": {},
   "outputs": [],
   "source": []
  }
 ],
 "metadata": {
  "kernelspec": {
   "display_name": "Qauntum",
   "language": "python",
   "name": "quantum"
  },
  "language_info": {
   "codemirror_mode": {
    "name": "ipython",
    "version": 3
   },
   "file_extension": ".py",
   "mimetype": "text/x-python",
   "name": "python",
   "nbconvert_exporter": "python",
   "pygments_lexer": "ipython3",
   "version": "3.9.18"
  }
 },
 "nbformat": 4,
 "nbformat_minor": 5
}
