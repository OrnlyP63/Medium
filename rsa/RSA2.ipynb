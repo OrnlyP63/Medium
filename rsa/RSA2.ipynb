{
 "cells": [
  {
   "cell_type": "code",
   "execution_count": 1,
   "id": "81579bfb-ea3f-4268-91f8-691352b3b2a0",
   "metadata": {},
   "outputs": [],
   "source": [
    "import libnum\n",
    "import Crypto\n",
    "import Crypto.Util.number"
   ]
  },
  {
   "cell_type": "code",
   "execution_count": 2,
   "id": "c0f206d6-1e64-4239-bd25-456f18016504",
   "metadata": {},
   "outputs": [
    {
     "name": "stdout",
     "output_type": "stream",
     "text": [
      "p: 3420824573,\n",
      "q: 2544147373\n"
     ]
    }
   ],
   "source": [
    "bits = 32\n",
    "p = Crypto.Util.number.getPrime(bits, randfunc=Crypto.Random.get_random_bytes)\n",
    "q = Crypto.Util.number.getPrime(bits, randfunc=Crypto.Random.get_random_bytes)\n",
    "print(f'p: {p},\\nq: {q}')"
   ]
  },
  {
   "cell_type": "code",
   "execution_count": 3,
   "id": "7dd4d788-31bd-4801-bc6e-f0fcc1237bf2",
   "metadata": {},
   "outputs": [
    {
     "name": "stdout",
     "output_type": "stream",
     "text": [
      "n: 8703081850891796729\n",
      "phi: 8703081844926824784\n",
      "e: 65537\n",
      "d: 7937377434931736945\n"
     ]
    }
   ],
   "source": [
    "n = p*q\n",
    "phi = (p-1)*(q-1)\n",
    "e = 65537\n",
    "d = libnum.invmod(e, phi)\n",
    "\n",
    "print(f'n: {n}\\nphi: {phi}\\ne: {e}\\nd: {d}')"
   ]
  },
  {
   "cell_type": "code",
   "execution_count": 4,
   "id": "a23c1df5-c0d7-4b88-afd6-eaef256a6045",
   "metadata": {},
   "outputs": [
    {
     "name": "stdout",
     "output_type": "stream",
     "text": [
      "The encryption mesaage is 5390096438951629982\n"
     ]
    }
   ],
   "source": [
    "m = 100\n",
    "encryption_message = pow(m, e, n)\n",
    "print(f'The encryption mesaage is {encryption_message}')"
   ]
  },
  {
   "cell_type": "code",
   "execution_count": 5,
   "id": "bf372c90-a4a1-40d2-bed7-1cc0337af624",
   "metadata": {},
   "outputs": [
    {
     "name": "stdout",
     "output_type": "stream",
     "text": [
      "The decryption mesaage is 100\n"
     ]
    }
   ],
   "source": [
    "decryption_message = pow(encryption_message, d, n)\n",
    "print(f'The decryption mesaage is {decryption_message}')"
   ]
  },
  {
   "cell_type": "code",
   "execution_count": null,
   "id": "229efbc6-414e-47a5-8cce-d4fafc2023d0",
   "metadata": {},
   "outputs": [],
   "source": []
  }
 ],
 "metadata": {
  "kernelspec": {
   "display_name": "AIML",
   "language": "python",
   "name": "aiml"
  },
  "language_info": {
   "codemirror_mode": {
    "name": "ipython",
    "version": 3
   },
   "file_extension": ".py",
   "mimetype": "text/x-python",
   "name": "python",
   "nbconvert_exporter": "python",
   "pygments_lexer": "ipython3",
   "version": "3.8.17"
  }
 },
 "nbformat": 4,
 "nbformat_minor": 5
}
