{
 "cells": [
  {
   "cell_type": "markdown",
   "id": "a630f678-11a5-4353-945e-85aa04a9a0c0",
   "metadata": {},
   "source": [
    "Let $g, N$ be generated prime numbers\n",
    "and $a, b\\in [1, N)$"
   ]
  },
  {
   "cell_type": "code",
   "execution_count": 1,
   "id": "b60f3e7e-588c-4099-bd72-674be37ffe2e",
   "metadata": {},
   "outputs": [
    {
     "data": {
      "text/plain": [
       "3016"
      ]
     },
     "execution_count": 1,
     "metadata": {},
     "output_type": "execute_result"
    }
   ],
   "source": [
    "p = 59\n",
    "q = 53\n",
    "N = p * q\n",
    "phi = (p-1) * (q-1)\n",
    "\n",
    "phi"
   ]
  },
  {
   "cell_type": "code",
   "execution_count": 2,
   "id": "d0feaa15-9668-4d12-a90e-b7cf48eb1cf4",
   "metadata": {},
   "outputs": [
    {
     "data": {
      "text/plain": [
       "(2011, 3)"
      ]
     },
     "execution_count": 2,
     "metadata": {},
     "output_type": "execute_result"
    }
   ],
   "source": [
    "k = 2\n",
    "e = 3 # 1 < e < phi # encrption\n",
    "d = int((k*phi + 1) / e) # decryption\n",
    "\n",
    "d, e"
   ]
  },
  {
   "cell_type": "code",
   "execution_count": 3,
   "id": "f94eae9f-cf44-403f-ba13-4af2b6211524",
   "metadata": {},
   "outputs": [
    {
     "data": {
      "text/plain": [
       "(1394, 89)"
      ]
     },
     "execution_count": 3,
     "metadata": {},
     "output_type": "execute_result"
    }
   ],
   "source": [
    "message = 89\n",
    "encrypted_data = (message ** e) % N\n",
    "decrypted_data = (encrypted_data ** d) % N\n",
    "\n",
    "encrypted_data, decrypted_data"
   ]
  },
  {
   "cell_type": "code",
   "execution_count": 4,
   "id": "09f406fc-d0d2-4ce3-b232-f0af75c06e85",
   "metadata": {},
   "outputs": [
    {
     "data": {
      "text/plain": [
       "1394"
      ]
     },
     "execution_count": 4,
     "metadata": {},
     "output_type": "execute_result"
    }
   ],
   "source": [
    "encrypted_data"
   ]
  },
  {
   "cell_type": "code",
   "execution_count": 5,
   "id": "060b7a27-a9e9-4718-b9e9-65d199558866",
   "metadata": {},
   "outputs": [],
   "source": [
    "g = 2\n",
    "N = 59\n",
    "\n",
    "a = 10\n",
    "b = 9\n",
    "\n",
    "private_alice = (g ** a)\n",
    "private_bob = (g ** b)"
   ]
  },
  {
   "cell_type": "code",
   "execution_count": 6,
   "id": "d31a226c-997b-4713-93c8-f20537427eef",
   "metadata": {},
   "outputs": [
    {
     "data": {
      "text/plain": [
       "(1024, 512)"
      ]
     },
     "execution_count": 6,
     "metadata": {},
     "output_type": "execute_result"
    }
   ],
   "source": [
    "private_alice, private_bob"
   ]
  },
  {
   "cell_type": "code",
   "execution_count": 7,
   "id": "86d30f22-5060-4eb4-bdaf-63cd095d7618",
   "metadata": {},
   "outputs": [
    {
     "data": {
      "text/plain": [
       "(51, 51)"
      ]
     },
     "execution_count": 7,
     "metadata": {},
     "output_type": "execute_result"
    }
   ],
   "source": [
    "(private_bob ** a) % N, (private_alice ** b) % N"
   ]
  },
  {
   "cell_type": "code",
   "execution_count": null,
   "id": "4b50d6d9-8e13-46f9-a9a9-e75b7295e8f1",
   "metadata": {},
   "outputs": [],
   "source": []
  }
 ],
 "metadata": {
  "kernelspec": {
   "display_name": "Python 3 (ipykernel)",
   "language": "python",
   "name": "python3"
  },
  "language_info": {
   "codemirror_mode": {
    "name": "ipython",
    "version": 3
   },
   "file_extension": ".py",
   "mimetype": "text/x-python",
   "name": "python",
   "nbconvert_exporter": "python",
   "pygments_lexer": "ipython3",
   "version": "3.9.7"
  }
 },
 "nbformat": 4,
 "nbformat_minor": 5
}
