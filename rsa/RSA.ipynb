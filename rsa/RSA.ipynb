{
 "cells": [
  {
   "cell_type": "markdown",
   "id": "a630f678-11a5-4353-945e-85aa04a9a0c0",
   "metadata": {},
   "source": [
    "Let $g, N$ be generated prime numbers\n",
    "and $a, b\\in [1, N)$"
   ]
  },
  {
   "cell_type": "code",
   "execution_count": 1,
   "id": "b60f3e7e-588c-4099-bd72-674be37ffe2e",
   "metadata": {},
   "outputs": [
    {
     "data": {
      "text/plain": [
       "3016"
      ]
     },
     "execution_count": 1,
     "metadata": {},
     "output_type": "execute_result"
    }
   ],
   "source": [
    "p = 59\n",
    "q = 53\n",
    "N = p * q\n",
    "phi = (p-1) * (q-1)\n",
    "\n",
    "phi"
   ]
  },
  {
   "cell_type": "code",
   "execution_count": 2,
   "id": "d0feaa15-9668-4d12-a90e-b7cf48eb1cf4",
   "metadata": {},
   "outputs": [
    {
     "data": {
      "text/plain": [
       "(2011, 3)"
      ]
     },
     "execution_count": 2,
     "metadata": {},
     "output_type": "execute_result"
    }
   ],
   "source": [
    "k = 2\n",
    "e = 3 # 1 < e < phi # encrption\n",
    "d = int((k*phi + 1) / e) # decryption\n",
    "\n",
    "d, e"
   ]
  },
  {
   "cell_type": "code",
   "execution_count": 3,
   "id": "f94eae9f-cf44-403f-ba13-4af2b6211524",
   "metadata": {},
   "outputs": [
    {
     "data": {
      "text/plain": [
       "(1394, 89)"
      ]
     },
     "execution_count": 3,
     "metadata": {},
     "output_type": "execute_result"
    }
   ],
   "source": [
    "message = 89\n",
    "encrypted_data = (message ** e) % N\n",
    "decrypted_data = (encrypted_data ** d) % N\n",
    "\n",
    "encrypted_data, decrypted_data"
   ]
  },
  {
   "cell_type": "code",
   "execution_count": 4,
   "id": "09f406fc-d0d2-4ce3-b232-f0af75c06e85",
   "metadata": {},
   "outputs": [
    {
     "data": {
      "text/plain": [
       "1394"
      ]
     },
     "execution_count": 4,
     "metadata": {},
     "output_type": "execute_result"
    }
   ],
   "source": [
    "encrypted_data"
   ]
  },
  {
   "cell_type": "code",
   "execution_count": 5,
   "id": "060b7a27-a9e9-4718-b9e9-65d199558866",
   "metadata": {},
   "outputs": [],
   "source": [
    "g = 2\n",
    "N = 59\n",
    "\n",
    "a = 10\n",
    "b = 9\n",
    "\n",
    "private_alice = (g ** a)\n",
    "private_bob = (g ** b)"
   ]
  },
  {
   "cell_type": "code",
   "execution_count": 6,
   "id": "d31a226c-997b-4713-93c8-f20537427eef",
   "metadata": {},
   "outputs": [
    {
     "data": {
      "text/plain": [
       "(1024, 512)"
      ]
     },
     "execution_count": 6,
     "metadata": {},
     "output_type": "execute_result"
    }
   ],
   "source": [
    "private_alice, private_bob"
   ]
  },
  {
   "cell_type": "code",
   "execution_count": 7,
   "id": "86d30f22-5060-4eb4-bdaf-63cd095d7618",
   "metadata": {},
   "outputs": [
    {
     "data": {
      "text/plain": [
       "(51, 51)"
      ]
     },
     "execution_count": 7,
     "metadata": {},
     "output_type": "execute_result"
    }
   ],
   "source": [
    "(private_bob ** a) % N, (private_alice ** b) % N"
   ]
  },
  {
   "cell_type": "code",
   "execution_count": 8,
   "id": "4b50d6d9-8e13-46f9-a9a9-e75b7295e8f1",
   "metadata": {},
   "outputs": [
    {
     "name": "stdout",
     "output_type": "stream",
     "text": [
      "0^9 mod 10 = 0\n",
      "1^9 mod 10 = 1\n",
      "2^9 mod 10 = 2\n",
      "3^9 mod 10 = 3\n",
      "4^9 mod 10 = 4\n",
      "5^9 mod 10 = 5\n",
      "6^9 mod 10 = 6\n",
      "7^9 mod 10 = 7\n",
      "8^9 mod 10 = 8\n",
      "9^9 mod 10 = 9\n"
     ]
    }
   ],
   "source": [
    "for n in range(10):\n",
    "    print(f'{n}^9 mod 10 = {n**9 % 10}')"
   ]
  },
  {
   "cell_type": "code",
   "execution_count": 9,
   "id": "6e9d6530-492f-40b7-98d0-d3133f919f6b",
   "metadata": {},
   "outputs": [
    {
     "name": "stdout",
     "output_type": "stream",
     "text": [
      "Input messages = 0 | 0^3 mod 10 = 0 ==> 0^3 mod 10 = 0 | Output messages = 0\n",
      "Input messages = 1 | 1^3 mod 10 = 1 ==> 1^3 mod 10 = 1 | Output messages = 1\n",
      "Input messages = 2 | 2^3 mod 10 = 8 ==> 8^3 mod 10 = 2 | Output messages = 2\n",
      "Input messages = 3 | 3^3 mod 10 = 7 ==> 7^3 mod 10 = 3 | Output messages = 3\n",
      "Input messages = 4 | 4^3 mod 10 = 4 ==> 4^3 mod 10 = 4 | Output messages = 4\n",
      "Input messages = 5 | 5^3 mod 10 = 5 ==> 5^3 mod 10 = 5 | Output messages = 5\n",
      "Input messages = 6 | 6^3 mod 10 = 6 ==> 6^3 mod 10 = 6 | Output messages = 6\n",
      "Input messages = 7 | 7^3 mod 10 = 3 ==> 3^3 mod 10 = 7 | Output messages = 7\n",
      "Input messages = 8 | 8^3 mod 10 = 2 ==> 2^3 mod 10 = 8 | Output messages = 8\n",
      "Input messages = 9 | 9^3 mod 10 = 9 ==> 9^3 mod 10 = 9 | Output messages = 9\n"
     ]
    }
   ],
   "source": [
    "for n in range(10):\n",
    "    encrypt = n**3 % 10\n",
    "    decrypt = encrypt**3 % 10\n",
    "    print(f'Input messages = {n} | {n}^3 mod 10 = {encrypt} ==> {encrypt}^3 mod 10 = {decrypt} | Output messages = {decrypt}')"
   ]
  },
  {
   "cell_type": "markdown",
   "id": "aa2d54b5-2b06-4c18-9da4-233b8249b811",
   "metadata": {},
   "source": [
    "RSA\n",
    "\n",
    "1. Let $p$ and $q$ be distinct primes\n",
    "2. Consider $n = pq$\n",
    "3. And calculating $\\phi = (p-1)(q-1)$\n",
    "4. Let $e \\in (1, \\phi)$ where $e$ and $\\phi$ are mutually prime\n",
    "5. Finding $d$ such that $ed-1|\\phi$"
   ]
  },
  {
   "cell_type": "code",
   "execution_count": 10,
   "id": "2d47ae27-9dc5-4538-82bf-c76daf8b5b6e",
   "metadata": {},
   "outputs": [],
   "source": [
    "from math import gcd"
   ]
  },
  {
   "cell_type": "code",
   "execution_count": 11,
   "id": "3e2706d8-b0c6-40ba-b021-c789b74a7908",
   "metadata": {},
   "outputs": [],
   "source": [
    "p, q = 2, 5\n",
    "n = p * q\n",
    "phi = (p - 1) * (q - 1)\n",
    "co_primes = [e for e in range(2, phi) if gcd(e, phi) == 1]\n",
    "e = min(co_primes)\n",
    "d = min(filter(lambda x: x * e % phi == 1, range(50)))"
   ]
  },
  {
   "cell_type": "code",
   "execution_count": 12,
   "id": "6e665eff-ccc1-48f9-ba84-815112e2d08e",
   "metadata": {},
   "outputs": [
    {
     "data": {
      "text/plain": [
       "3"
      ]
     },
     "execution_count": 12,
     "metadata": {},
     "output_type": "execute_result"
    }
   ],
   "source": [
    "d"
   ]
  },
  {
   "cell_type": "markdown",
   "id": "3e92ed13-6afa-4c99-9cb9-f16bf04c8ea6",
   "metadata": {},
   "source": [
    "https://www.geeksforgeeks.org/how-to-generate-large-prime-numbers-for-rsa-algorithm/"
   ]
  },
  {
   "cell_type": "code",
   "execution_count": 13,
   "id": "b6a21a1a-6c52-43b4-b474-37d2db5a41f4",
   "metadata": {},
   "outputs": [],
   "source": [
    "import random"
   ]
  },
  {
   "cell_type": "code",
   "execution_count": 14,
   "id": "14799d76-3f83-4ff3-806c-26cef3443315",
   "metadata": {},
   "outputs": [],
   "source": [
    "# Large Prime Generation for RSA\n",
    "import random\n",
    " \n",
    "# Pre generated primes\n",
    "first_primes_list = [2, 3, 5, 7, 11, 13, 17, 19, 23, 29,\n",
    "                     31, 37, 41, 43, 47, 53, 59, 61, 67,\n",
    "                     71, 73, 79, 83, 89, 97, 101, 103,\n",
    "                     107, 109, 113, 127, 131, 137, 139,\n",
    "                     149, 151, 157, 163, 167, 173, 179,\n",
    "                     181, 191, 193, 197, 199, 211, 223,\n",
    "                     227, 229, 233, 239, 241, 251, 257,\n",
    "                     263, 269, 271, 277, 281, 283, 293,\n",
    "                     307, 311, 313, 317, 331, 337, 347, 349]\n",
    " \n",
    "def nBitRandom(n):\n",
    "    return random.randrange(2**(n-1)+1, 2**n - 1)\n",
    " \n",
    "def getLowLevelPrime(n):\n",
    "    '''Generate a prime candidate divisible\n",
    "    by first primes'''\n",
    "    while True:\n",
    "        # Obtain a random number\n",
    "        pc = nBitRandom(n)\n",
    " \n",
    "        # Test divisibility by pre-generated\n",
    "        # primes\n",
    "        for divisor in first_primes_list:\n",
    "            if pc % divisor == 0 and divisor**2 <= pc:\n",
    "                break\n",
    "        else:\n",
    "            return pc\n",
    "        \n",
    "def isMillerRabinPassed(mrc):\n",
    "    '''Run 20 iterations of Rabin Miller Primality test'''\n",
    "    maxDivisionsByTwo = 0\n",
    "    ec = mrc-1\n",
    "    while ec % 2 == 0:\n",
    "        ec >>= 1\n",
    "        maxDivisionsByTwo += 1\n",
    "    assert(2**maxDivisionsByTwo * ec == mrc-1)\n",
    " \n",
    "    def trialComposite(round_tester):\n",
    "        if pow(round_tester, ec, mrc) == 1:\n",
    "            return False\n",
    "        for i in range(maxDivisionsByTwo):\n",
    "            if pow(round_tester, 2**i * ec, mrc) == mrc-1:\n",
    "                return False\n",
    "        return True\n",
    " \n",
    "    # Set number of trials here\n",
    "    numberOfRabinTrials = 20\n",
    "    for i in range(numberOfRabinTrials):\n",
    "        round_tester = random.randrange(2, mrc)\n",
    "        if trialComposite(round_tester):\n",
    "            return False\n",
    "    return True"
   ]
  },
  {
   "cell_type": "code",
   "execution_count": 15,
   "id": "cb6e8d3b-08cf-4579-b0e2-d6624eaaddd0",
   "metadata": {},
   "outputs": [],
   "source": [
    "def get_bigprime(n):\n",
    "    while True:\n",
    "        prime_candidate = getLowLevelPrime(n)\n",
    "        if not isMillerRabinPassed(prime_candidate):\n",
    "            continue\n",
    "        else:\n",
    "            return prime_candidate"
   ]
  },
  {
   "cell_type": "code",
   "execution_count": 16,
   "id": "2027d7fa-f924-4aae-aaa1-a8e4e3ac9359",
   "metadata": {},
   "outputs": [],
   "source": [
    "big_prime = get_bigprime(20)\n",
    "small_prime = random.choice(first_primes_list[:10])"
   ]
  },
  {
   "cell_type": "code",
   "execution_count": 17,
   "id": "1d165e10-c0d7-4383-b5d4-d04d998ed3ff",
   "metadata": {},
   "outputs": [],
   "source": [
    "n = small_prime * big_prime\n",
    "\n",
    "phi = (small_prime - 1) * (big_prime - 1)\n",
    "\n",
    "for cp in range(2, phi):\n",
    "    if gcd(cp, phi) == 1:\n",
    "        e = cp\n",
    "        break\n",
    "\n",
    "for x in range(1, 5000000000):\n",
    "    if x*e % phi == 1:\n",
    "        d = x\n",
    "        break"
   ]
  },
  {
   "cell_type": "code",
   "execution_count": 18,
   "id": "fb5bba91-d45f-431b-901e-868bebaccee1",
   "metadata": {},
   "outputs": [
    {
     "data": {
      "text/plain": [
       "(7, 5680183, 10768693)"
      ]
     },
     "execution_count": 18,
     "metadata": {},
     "output_type": "execute_result"
    }
   ],
   "source": [
    "e, d, n"
   ]
  },
  {
   "cell_type": "code",
   "execution_count": 19,
   "id": "7e61d5c8-44b9-496d-bd54-a55d5b2018d7",
   "metadata": {},
   "outputs": [
    {
     "name": "stdout",
     "output_type": "stream",
     "text": [
      "Encryption message: 94\n"
     ]
    }
   ],
   "source": [
    "maessage = 89\n",
    "encrypt_message = maessage ^ e % n\n",
    "\n",
    "print(f\"Encryption message: {encrypt_message}\")"
   ]
  },
  {
   "cell_type": "code",
   "execution_count": 20,
   "id": "05406e11-0ef4-4e1a-98e5-c9e8c696d828",
   "metadata": {},
   "outputs": [
    {
     "name": "stdout",
     "output_type": "stream",
     "text": [
      "Decryption message: 89\n"
     ]
    }
   ],
   "source": [
    "decrypt_message = encrypt_message ^ e % n\n",
    "\n",
    "print(f\"Decryption message: {decrypt_message}\")"
   ]
  },
  {
   "cell_type": "code",
   "execution_count": null,
   "id": "0ea6aa56-04d6-4409-9b92-c377a2ad1954",
   "metadata": {},
   "outputs": [],
   "source": []
  }
 ],
 "metadata": {
  "kernelspec": {
   "display_name": "Python 3 (ipykernel)",
   "language": "python",
   "name": "python3"
  },
  "language_info": {
   "codemirror_mode": {
    "name": "ipython",
    "version": 3
   },
   "file_extension": ".py",
   "mimetype": "text/x-python",
   "name": "python",
   "nbconvert_exporter": "python",
   "pygments_lexer": "ipython3",
   "version": "3.8.12"
  }
 },
 "nbformat": 4,
 "nbformat_minor": 5
}
