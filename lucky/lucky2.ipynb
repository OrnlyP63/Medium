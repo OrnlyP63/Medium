{
 "cells": [
  {
   "cell_type": "code",
   "execution_count": 1,
   "id": "22c87de4-2a8a-42ba-9e0a-484213c16198",
   "metadata": {},
   "outputs": [],
   "source": [
    "import numpy as np\n",
    "from scipy import stats \n",
    "from tqdm import tqdm\n",
    "import matplotlib.pyplot as plt"
   ]
  },
  {
   "cell_type": "code",
   "execution_count": 2,
   "id": "a74d24ae-9dca-4823-b997-210e828107da",
   "metadata": {},
   "outputs": [],
   "source": [
    "IMPACT_OF_LUCK = 0.05\n",
    "IMPACT_OF_ABLITY = 1 - IMPACT_OF_LUCK\n",
    "\n",
    "ability = np.random.uniform(size=100000) * IMPACT_OF_ABLITY\n",
    "lucky = np.random.uniform(size=100000) * IMPACT_OF_LUCK"
   ]
  },
  {
   "cell_type": "code",
   "execution_count": 3,
   "id": "b296a313-0b75-4572-b22d-8ea8b22eb905",
   "metadata": {},
   "outputs": [],
   "source": [
    "result = ability + lucky"
   ]
  },
  {
   "cell_type": "code",
   "execution_count": 4,
   "id": "44957ae6-5c23-43cf-9f7e-930a4034440a",
   "metadata": {},
   "outputs": [],
   "source": [
    "top_index = np.argsort(result)[-100:]"
   ]
  },
  {
   "cell_type": "code",
   "execution_count": 5,
   "id": "fe4065be-e4b8-4cbb-888e-34051eb58720",
   "metadata": {},
   "outputs": [
    {
     "data": {
      "text/plain": [
       "83.46300000000001"
      ]
     },
     "execution_count": 5,
     "metadata": {},
     "output_type": "execute_result"
    }
   ],
   "source": [
    "stats.percentileofscore(lucky, lucky[top_index].min())"
   ]
  },
  {
   "cell_type": "code",
   "execution_count": 6,
   "id": "8964691b-32fd-404c-b2ad-2858847fb324",
   "metadata": {},
   "outputs": [
    {
     "data": {
      "text/plain": [
       "100.0"
      ]
     },
     "execution_count": 6,
     "metadata": {},
     "output_type": "execute_result"
    }
   ],
   "source": [
    "stats.percentileofscore(lucky, ability[top_index].min())"
   ]
  },
  {
   "cell_type": "code",
   "execution_count": 7,
   "id": "71cc0eb9-a024-4b8c-b8d4-882029e998b8",
   "metadata": {},
   "outputs": [],
   "source": [
    "random_ability = np.random.uniform(size=100000)\n",
    "random_lucky = np.random.uniform(size=100000)\n",
    "\n",
    "# random_ability = (random_ability - random_ability.min()) / (random_ability.max() - random_ability.min())\n",
    "# random_lucky = (random_lucky - random_lucky.min()) / (random_lucky.max() - random_lucky.min())\n",
    "\n",
    "minimum_lucky_to_win_list = list()\n",
    "for IMPACT_OF_LUCK in np.linspace(0.001, 0.05):\n",
    "    IMPACT_OF_ABLITY = 1 - IMPACT_OF_LUCK\n",
    "    \n",
    "    ability = random_ability * IMPACT_OF_ABLITY\n",
    "    lucky = random_lucky * IMPACT_OF_LUCK\n",
    "    \n",
    "    result = ability + lucky\n",
    "    \n",
    "    top_index = np.argsort(result)[-100:]\n",
    "    # top_index = result > 0.9\n",
    "    \n",
    "    minimum_lucky_to_win_list.append(stats.percentileofscore(lucky, lucky[top_index].min()))"
   ]
  },
  {
   "cell_type": "code",
   "execution_count": 8,
   "id": "bbc27d12-f7cc-402f-b317-5cbee03a8196",
   "metadata": {},
   "outputs": [
    {
     "data": {
      "image/png": "[encoded data removed]",
      "text/plain": [
       "<Figure size 640x480 with 1 Axes>"
      ]
     },
     "metadata": {},
     "output_type": "display_data"
    }
   ],
   "source": [
    "plt.plot(np.linspace(0.001, 0.05), minimum_lucky_to_win_list);"
   ]
  },
  {
   "cell_type": "code",
   "execution_count": 9,
   "id": "4772ec17-9d3c-458b-8830-7832629f63ba",
   "metadata": {},
   "outputs": [],
   "source": [
    "# IMPACT_OF_LUCK = 0.2\n",
    "# IMPACT_OF_ABLITY = 1 - IMPACT_OF_LUCK\n",
    "# minimum_lucky_to_win_list = []\n",
    "\n",
    "# for _ in tqdm(range(10000)):\n",
    "#     random_ability = np.random.normal(size=100000)\n",
    "#     random_lucky = np.random.normal(size=100000)\n",
    "\n",
    "#     random_ability = (random_ability - random_ability.min()) / (random_ability.max() - random_ability.min())\n",
    "#     random_lucky = (random_lucky - random_lucky.min()) / (random_lucky.max() - random_lucky.min())\n",
    "    \n",
    "#     ability = random_ability * IMPACT_OF_ABLITY\n",
    "#     lucky = random_lucky * IMPACT_OF_LUCK\n",
    "    \n",
    "#     result = ability + lucky\n",
    "    \n",
    "#     top_index = np.argsort(result)[-100:]\n",
    "    \n",
    "\n",
    "#     minimum_lucky_to_win_list.append(stats.percentileofscore(lucky, lucky[top_index].min()))\n",
    "# np.mean(minimum_lucky_to_win_list)"
   ]
  },
  {
   "cell_type": "code",
   "execution_count": null,
   "id": "7a59b5f4-f0b5-43b7-bfbb-fc2877df90e4",
   "metadata": {},
   "outputs": [],
   "source": []
  }
 ],
 "metadata": {
  "kernelspec": {
   "display_name": "AIML",
   "language": "python",
   "name": "aiml"
  },
  "language_info": {
   "codemirror_mode": {
    "name": "ipython",
    "version": 3
   },
   "file_extension": ".py",
   "mimetype": "text/x-python",
   "name": "python",
   "nbconvert_exporter": "python",
   "pygments_lexer": "ipython3",
   "version": "3.8.17"
  }
 },
 "nbformat": 4,
 "nbformat_minor": 5
}
