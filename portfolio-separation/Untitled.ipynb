{
 "cells": [
  {
   "cell_type": "markdown",
   "id": "5f0a959c-bf75-4df6-8707-6b20565e7970",
   "metadata": {},
   "source": [
    "Let $w$ be a fraction of risky asstets,\n",
    "\n",
    "and $1-w$ be a fraction of risk-free asset.\n",
    "\n",
    "Which $$w = \\frac{\\mu}{\\alpha\\sigma^2}$$\n",
    "\n",
    "where $\\mu$ is the mean return of the efficient portfolio of risky assets, $\\sigma$ is the standard deviation, and $\\alpha$ is the relative risk aversion.\n",
    "\n",
    "$$w^\\top\\mathbf{1} = 1$$"
   ]
  },
  {
   "cell_type": "code",
   "execution_count": 1,
   "id": "ab8935c7-1b5c-43cf-bb90-fa65b3c940d0",
   "metadata": {},
   "outputs": [],
   "source": [
    "import yfinance as yf\n",
    "import pandas as pd\n",
    "import numpy as np"
   ]
  },
  {
   "cell_type": "code",
   "execution_count": 2,
   "id": "9df14a35-c59b-40f9-a99a-4858689fea03",
   "metadata": {},
   "outputs": [],
   "source": [
    "start_date = \"2023-03-03\"\n",
    "end_date = \"2024-03-03\"\n",
    "\n",
    "symbols = ['BTC-USD','ETH-USD','BNB-USD']"
   ]
  },
  {
   "cell_type": "code",
   "execution_count": 3,
   "id": "98ec488c-ddbe-4747-abaf-990a95e4addf",
   "metadata": {},
   "outputs": [
    {
     "name": "stdout",
     "output_type": "stream",
     "text": [
      "[*********************100%***********************]  1 of 1 completed\n",
      "[*********************100%***********************]  1 of 1 completed\n",
      "[*********************100%***********************]  1 of 1 completed\n"
     ]
    }
   ],
   "source": [
    "D = {}\n",
    "for ticker_symbol in symbols:\n",
    "    data = yf.download(ticker_symbol, start=start_date, end=end_date)\n",
    "    D[ticker_symbol] = data['Close']"
   ]
  },
  {
   "cell_type": "code",
   "execution_count": 4,
   "id": "e027c9f9-a34d-4b31-9040-3de5434c12b6",
   "metadata": {},
   "outputs": [],
   "source": [
    "risky_assets = pd.DataFrame(D)"
   ]
  },
  {
   "cell_type": "code",
   "execution_count": 5,
   "id": "d150c7a4-e343-43c7-a27c-c1ce7d4d64dd",
   "metadata": {},
   "outputs": [],
   "source": [
    "risky_assets_returns = risky_assets.pct_change().dropna()"
   ]
  },
  {
   "cell_type": "code",
   "execution_count": 6,
   "id": "9ea74c58-9c26-4bf8-9f81-e9d44bd14845",
   "metadata": {},
   "outputs": [],
   "source": [
    "mean_returns = risky_assets_returns.mean(axis=0)"
   ]
  },
  {
   "cell_type": "code",
   "execution_count": 7,
   "id": "4876c2bf-d729-47ff-8dcc-1f1b652d4b26",
   "metadata": {},
   "outputs": [],
   "source": [
    "cov = risky_assets_returns.cov()"
   ]
  },
  {
   "cell_type": "code",
   "execution_count": 8,
   "id": "d98bc31f-7c65-48f9-864f-9085145344c4",
   "metadata": {},
   "outputs": [],
   "source": [
    "mean_array = mean_returns.values.reshape(-1, 1)"
   ]
  },
  {
   "cell_type": "code",
   "execution_count": 9,
   "id": "dbb0d30c-1802-4f5a-bbb1-850cf4e2f1b2",
   "metadata": {},
   "outputs": [],
   "source": [
    "V = cov.values ** 2\n",
    "V_inv = np.linalg.inv(V)"
   ]
  },
  {
   "cell_type": "code",
   "execution_count": 10,
   "id": "59968684-2c1c-4cf3-b150-bd1614f87347",
   "metadata": {},
   "outputs": [],
   "source": [
    "w = (V_inv @ mean_array) / (V_inv @ mean_array).sum()"
   ]
  },
  {
   "cell_type": "code",
   "execution_count": 11,
   "id": "693b31d8-9ef8-4264-8f24-849c1d8b335f",
   "metadata": {},
   "outputs": [
    {
     "data": {
      "text/plain": [
       "array([[0.8343541 ],\n",
       "       [0.11166357],\n",
       "       [0.05398233]])"
      ]
     },
     "execution_count": 11,
     "metadata": {},
     "output_type": "execute_result"
    }
   ],
   "source": [
    "w"
   ]
  },
  {
   "cell_type": "code",
   "execution_count": 12,
   "id": "6c8a7a9c-beb4-450e-876d-42395a1abd07",
   "metadata": {},
   "outputs": [
    {
     "data": {
      "text/plain": [
       "array([[442.87204327],\n",
       "       [ 59.27060888],\n",
       "       [ 28.65361927]])"
      ]
     },
     "execution_count": 12,
     "metadata": {},
     "output_type": "execute_result"
    }
   ],
   "source": [
    "1 / 20 * V_inv @ mean_array"
   ]
  },
  {
   "cell_type": "code",
   "execution_count": null,
   "id": "22825dce-8545-4cf9-8638-14c7f244ee2c",
   "metadata": {},
   "outputs": [],
   "source": []
  }
 ],
 "metadata": {
  "kernelspec": {
   "display_name": "AIML",
   "language": "python",
   "name": "aiml"
  },
  "language_info": {
   "codemirror_mode": {
    "name": "ipython",
    "version": 3
   },
   "file_extension": ".py",
   "mimetype": "text/x-python",
   "name": "python",
   "nbconvert_exporter": "python",
   "pygments_lexer": "ipython3",
   "version": "3.8.17"
  }
 },
 "nbformat": 4,
 "nbformat_minor": 5
}
