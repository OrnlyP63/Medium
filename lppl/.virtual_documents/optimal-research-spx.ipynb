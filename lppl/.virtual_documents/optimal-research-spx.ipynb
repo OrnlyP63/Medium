import numpy as np
import pandas as pd
import yfinance as yf
import matplotlib.pyplot as plt
from lppls import lppls_cmaes


# Download S&P 500 historical data (Gold futures as 'GC=F')
data = yf.download('^GSPC', start='2022-01-01', progress=False)


# Convert time to ordinal
time = [pd.Timestamp.toordinal(t1) for t1 in data.index]


# Log transformation of the adjusted close price
price = np.log(data['Adj Close'].values)


# Create observations array (expected format for LPPLS observations)
observations = np.array([time, price])


results = []
for t1_index in np.arange(0, 650, 30):
    observations_window = observations[:, t1_index:]

    lppls_model = lppls_cmaes.LPPLSCMAES(observations=observations_window)

    try:
        tc, m, w, a, b, c, c1, c2, O, D = lppls_model.fit(max_iteration=5000, pop_size=4)
        
        predicted_prices = lppls_model.lppls(observations_window[0], tc, m, w, a, b, c1, c2)
        
        # Compute RSS (Residual Sum of Squares)
        residuals = observations_window[1] - predicted_prices
        rss = np.sum(np.abs(residuals))  # Sum of squared residuals
        
        results.append((rss, tc, t1_index))
    except:
        pass


opt_params = sorted(results, key=lambda x: x[0])[1]
tc_opt = opt_params[1]


opt_params


print(pd.Timestamp.fromordinal(int(tc_opt)))


observations_window = observations[:, opt_params[2]:]


lppls_model = lppls_cmaes.LPPLSCMAES(observations=observations_window)
tc, m, w, a, b, c, c1, c2, O, D = lppls_model.fit(max_iteration=5000, pop_size=4)
print(pd.Timestamp.fromordinal(int(tc)))


# visualize the fit
lppls_model.plot_fit()


len(observations_window[0])


len(observations_window[0])



