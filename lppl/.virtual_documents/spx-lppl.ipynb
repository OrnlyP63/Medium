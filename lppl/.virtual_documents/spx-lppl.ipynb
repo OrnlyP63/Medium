from lppls import lppls
import yfinance as yf
import numpy as np
import pandas as pd
from datetime import datetime as dt
%matplotlib inline


# Download S&P 500 historical data
data = yf.download('^GSPC', start='2023-01-01', progress=False)


data.head()


# convert time to ordinal
time = [pd.Timestamp.toordinal(t1) for t1 in data.index]


time[:10]


# create list of observation data
price = np.log(data['Adj Close'].values)


price[:10]


# create observations array (expected format for LPPLS observations)
observations = np.array([time, price])


observations.shape


# # set the max number for searches to perform before giving-up
# # the literature suggests 25
# MAX_SEARCHES = 5000

# # instantiate a new LPPLS model with the Nasdaq Dot-com bubble dataset
# lppls_model = lppls.LPPLS(observations=observations)


# # fit the model to the data and get back the params
# tc, m, w, a, b, c, c1, c2, O, D = lppls_model.fit(max_searches=MAX_SEARCHES)


from lppls import lppls_cmaes


lppls_model = lppls_cmaes.LPPLSCMAES(observations=observations)
tc, m, w, a, b, c, c1, c2, O, D = lppls_model.fit(max_iteration=2500, pop_size=4, factor_sigma=0.1)


# visualize the fit
lppls_model.plot_fit()


pd.Timestamp.fromordinal(int(tc))



