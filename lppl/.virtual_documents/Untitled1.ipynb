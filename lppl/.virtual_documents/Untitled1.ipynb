from lppls import lppls_cmaes
import yfinance as yf
import numpy as np
import pandas as pd
from datetime import datetime as dt
%matplotlib inline


# Download S&P 500 historical data
data = yf.download('nlr', start='2022-01-01', progress=False)


data.tail()


data['Adj Close'].plot()


# convert time to ordinal
time = [pd.Timestamp.toordinal(t1) for t1 in data.index]


time[:10]


# create list of observation data
price = np.log(data['Adj Close'].values)
# normalized_priced = price / np.max(price)


price[:10]


# create observations array (expected format for LPPLS observations)
observations = np.array([time, price])


observations.shape


# for _ in range(5):
#     lppls_model = lppls_cmaes.LPPLSCMAES(observations=observations)
#     tc, m, w, a, b, c, c1, c2, O, D = lppls_model.fit(max_iteration=2500, pop_size=4)
#     print(pd.Timestamp.fromordinal(int(tc)))


lppls_model = lppls_cmaes.LPPLSCMAES(observations=observations)
tc, m, w, a, b, c, c1, c2, O, D = lppls_model.fit(max_iteration=5000, pop_size=4, factor_sigma=0.01)
print(pd.Timestamp.fromordinal(int(tc)))


# visualize the fit
lppls_model.plot_fit()



