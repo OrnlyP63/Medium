from lppls import lppls_cmaes
import yfinance as yf
import numpy as np
import pandas as pd
from datetime import datetime as dt
%matplotlib inline


# Download S&P 500 historical data
data = yf.download('BTC-USD', start='2023-01-01', progress=False)


data.head()


# convert time to ordinal
time = [pd.Timestamp.toordinal(t1) for t1 in data.index]


time[:10]


# create list of observation data
price = np.log(data['Close'].values)


price[:10]


price[-10:]


# create observations array (expected format for LPPLS observations)
observations = np.array([time, price])


observations.shape


# for _ in range(5):
#     lppls_model = lppls_cmaes.LPPLSCMAES(observations=observations)
#     tc, m, w, a, b, c, c1, c2, O, D = lppls_model.fit(max_iteration=2500, pop_size=4)
#     print(pd.Timestamp.fromordinal(int(tc)))


lppls_model = lppls_cmaes.LPPLSCMAES(observations=observations)
tc, m, w, a, b, c, c1, c2, O, D = lppls_model.fit(max_iteration=100000, pop_size=4, factor_sigma=0.02)
print(pd.Timestamp.fromordinal(int(tc)))


# visualize the fit
lppls_model.plot_fit()


# # compute the confidence indicator
# res = lppls_model.mp_compute_nested_fits(
#     workers=8,
#     window_size=120, 
#     smallest_window_size=30, 
#     outer_increment=1, 
#     inner_increment=5, 
#     max_searches=25,
#     # filter_conditions_config={} # not implemented in 0.6.x
# )


# lppls_model.plot_confidence_indicators(res)



