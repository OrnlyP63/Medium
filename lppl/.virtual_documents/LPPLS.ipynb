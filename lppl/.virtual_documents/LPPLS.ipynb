from lppls import lppls, data_loader, lppls_cmaes
import numpy as np
import pandas as pd
from datetime import datetime as dt
%matplotlib inline


# read example dataset into df 
data = data_loader.nasdaq_dotcom()


data.head()


# convert time to ordinal
time = [pd.Timestamp.toordinal(dt.strptime(t1, '%Y-%m-%d')) for t1 in data['Date']]


time[:10]


# create list of observation data
price = np.log(data['Adj Close'].values)


price[:10]


# create observations array (expected format for LPPLS observations)
observations = np.array([time, price])


observations.shape


# # set the max number for searches to perform before giving-up
# # the literature suggests 25
# MAX_SEARCHES = 2500

# # instantiate a new LPPLS model with the Nasdaq Dot-com bubble dataset
# lppls_model = lppls.LPPLS(observations=observations)


# # fit the model to the data and get back the params
# tc, m, w, a, b, c, c1, c2, O, D = lppls_model.fit(max_searches=MAX_SEARCHES)


lppls_model = lppls_cmaes.LPPLSCMAES(observations=observations)
tc, m, w, a, b, c, c1, c2, O, D = lppls_model.fit(max_iteration=2500, pop_size=4, factor_sigma=0.1)





np.sqrt(c1 ** 2 + c2 ** 2)


c


phi = np.arctan(c2 / c1)


phi


pd.Timestamp.fromordinal(time[-1])


pd.Timestamp.fromordinal(int(tc))


# visualize the fit
lppls_model.plot_fit()


# # compute the confidence indicator
# res = lppls_model.mp_compute_nested_fits(
#     workers=8,
#     window_size=120, 
#     smallest_window_size=30, 
#     outer_increment=1, 
#     inner_increment=5, 
#     max_searches=25,
#     # filter_conditions_config={} # not implemented in 0.6.x
# )

# lppls_model.plot_confidence_indicators(res)
# # should give a plot like the following...



