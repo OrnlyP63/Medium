{
 "cells": [
  {
   "cell_type": "code",
   "execution_count": 1,
   "id": "ac069b23-b62d-4cef-9822-c78b1a5bf610",
   "metadata": {},
   "outputs": [],
   "source": [
    "class Vector:\n",
    "    def __init__(self, *args):\n",
    "        self.vect = list(args)\n",
    "        self.shape = len(self.vect)\n",
    "        \n",
    "    def __len__(self):\n",
    "        return len(self.vect)\n",
    "    \n",
    "    def __str__(self):\n",
    "        return f\"{self.vect}\"\n",
    "    \n",
    "    def __eq__(self, other):\n",
    "        if self.shape != other.shape:\n",
    "            raise ValueError('Shape is not equal')\n",
    "        return self.vect == other.vect\n",
    "    \n",
    "    def __add__(self, other):\n",
    "        if self.shape != other.shape:\n",
    "            raise ValueError('Shape is not equal')\n",
    "            \n",
    "        res = [i+j for i, j in zip(self.vect, other.vect)]\n",
    "        return Vector(*res)\n",
    "    \n",
    "    def scalar_mul(self, scalar):\n",
    "        res = [i*scalar for i in self.vect]\n",
    "        return Vector(*res)"
   ]
  },
  {
   "cell_type": "code",
   "execution_count": 2,
   "id": "8553587d-0c84-4114-b5f0-df99926cd7ae",
   "metadata": {},
   "outputs": [],
   "source": [
    "v1 = Vector(1, 2, 3, 4)\n",
    "v2 = Vector(1, 2, 3, 4)"
   ]
  },
  {
   "cell_type": "code",
   "execution_count": 3,
   "id": "77810ab3-e4d3-4242-bbd3-01e7a9fd7c5c",
   "metadata": {},
   "outputs": [
    {
     "data": {
      "text/plain": [
       "[1, 2, 3, 4]"
      ]
     },
     "execution_count": 3,
     "metadata": {},
     "output_type": "execute_result"
    }
   ],
   "source": [
    "v1.vect"
   ]
  },
  {
   "cell_type": "code",
   "execution_count": 4,
   "id": "cff6f8bf-1515-47f1-8ad9-c40a343c37bc",
   "metadata": {},
   "outputs": [
    {
     "name": "stdout",
     "output_type": "stream",
     "text": [
      "[1, 2, 3, 4]\n"
     ]
    }
   ],
   "source": [
    "print(v1)"
   ]
  },
  {
   "cell_type": "code",
   "execution_count": 5,
   "id": "3c3891d4-1cc8-4e7b-a279-5ee3fd441f56",
   "metadata": {},
   "outputs": [
    {
     "data": {
      "text/plain": [
       "4"
      ]
     },
     "execution_count": 5,
     "metadata": {},
     "output_type": "execute_result"
    }
   ],
   "source": [
    "v1.shape"
   ]
  },
  {
   "cell_type": "code",
   "execution_count": 6,
   "id": "0dc30dac-92aa-4737-a976-b018668fe72b",
   "metadata": {},
   "outputs": [
    {
     "data": {
      "text/plain": [
       "False"
      ]
     },
     "execution_count": 6,
     "metadata": {},
     "output_type": "execute_result"
    }
   ],
   "source": [
    "[1, 2] == [1]"
   ]
  },
  {
   "cell_type": "code",
   "execution_count": 7,
   "id": "ebbb7530-071e-4f9f-a958-6ed79b525f09",
   "metadata": {},
   "outputs": [],
   "source": [
    "v_sum = v1 + v2"
   ]
  },
  {
   "cell_type": "code",
   "execution_count": 8,
   "id": "6e60c815-3396-4048-98ac-2fa0255548b6",
   "metadata": {},
   "outputs": [
    {
     "data": {
      "text/plain": [
       "[2, 4, 6, 8]"
      ]
     },
     "execution_count": 8,
     "metadata": {},
     "output_type": "execute_result"
    }
   ],
   "source": [
    "v_sum.vect"
   ]
  },
  {
   "cell_type": "code",
   "execution_count": 10,
   "id": "9f8f6c69-2285-4a03-bfec-ef4b7be4d319",
   "metadata": {},
   "outputs": [
    {
     "name": "stdout",
     "output_type": "stream",
     "text": [
      "[10, 20, 30, 40]\n"
     ]
    }
   ],
   "source": [
    "print(v1.scalar_mul(10))"
   ]
  },
  {
   "cell_type": "code",
   "execution_count": null,
   "id": "f5393f3b-9123-417f-9fff-0fb02843a518",
   "metadata": {},
   "outputs": [],
   "source": []
  }
 ],
 "metadata": {
  "kernelspec": {
   "display_name": "AIML",
   "language": "python",
   "name": "aiml"
  },
  "language_info": {
   "codemirror_mode": {
    "name": "ipython",
    "version": 3
   },
   "file_extension": ".py",
   "mimetype": "text/x-python",
   "name": "python",
   "nbconvert_exporter": "python",
   "pygments_lexer": "ipython3",
   "version": "3.8.12"
  }
 },
 "nbformat": 4,
 "nbformat_minor": 5
}
