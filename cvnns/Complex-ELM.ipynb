{
 "cells": [
  {
   "cell_type": "code",
   "execution_count": 1,
   "id": "d7377bf2-af71-4eda-a42d-2b0fbe31b679",
   "metadata": {},
   "outputs": [],
   "source": [
    "import numpy as np"
   ]
  },
  {
   "cell_type": "code",
   "execution_count": 2,
   "id": "6ac504b2-9df7-46c7-a461-155d51403310",
   "metadata": {},
   "outputs": [],
   "source": [
    "def complex_sigmoid(z):\n",
    "    return 1.0 / (1.0 + np.exp(-z))"
   ]
  },
  {
   "cell_type": "code",
   "execution_count": 3,
   "id": "f8ce5d85-f457-46c4-99fa-e87157ed6cd7",
   "metadata": {},
   "outputs": [],
   "source": [
    "shape = (2, 10)\n",
    "A = np.random.uniform(-1, 1, shape) #+ 1.j * np.random.uniform(-1, 1, shape)\n",
    "B = np.random.uniform(-1, 1, (1, shape[1])) #+ 1.j * np.random.uniform(-1, 1, (1, shape[1]))"
   ]
  },
  {
   "cell_type": "code",
   "execution_count": 4,
   "id": "beedaa10-8484-4d65-8df7-0da3c6296703",
   "metadata": {},
   "outputs": [
    {
     "data": {
      "text/plain": [
       "(2, 10)"
      ]
     },
     "execution_count": 4,
     "metadata": {},
     "output_type": "execute_result"
    }
   ],
   "source": [
    "A.shape"
   ]
  },
  {
   "cell_type": "code",
   "execution_count": 5,
   "id": "eaeb3118-b225-42ac-8259-7a8fd25ebf6b",
   "metadata": {},
   "outputs": [
    {
     "data": {
      "text/plain": [
       "(1, 10)"
      ]
     },
     "execution_count": 5,
     "metadata": {},
     "output_type": "execute_result"
    }
   ],
   "source": [
    "B.shape"
   ]
  },
  {
   "cell_type": "code",
   "execution_count": 6,
   "id": "a5b6ec84-9c17-4017-8051-29d79dccc575",
   "metadata": {},
   "outputs": [
    {
     "data": {
      "text/plain": [
       "(4, 2)"
      ]
     },
     "execution_count": 6,
     "metadata": {},
     "output_type": "execute_result"
    }
   ],
   "source": [
    "X = np.array([[0, 0], [0, 1], [1, 0], [1, 1]])\n",
    "X.shape"
   ]
  },
  {
   "cell_type": "code",
   "execution_count": 7,
   "id": "66f82781-59d4-4e65-96c8-5fe1fc42fb29",
   "metadata": {},
   "outputs": [
    {
     "data": {
      "text/plain": [
       "array([[0],\n",
       "       [1],\n",
       "       [1],\n",
       "       [0]])"
      ]
     },
     "execution_count": 7,
     "metadata": {},
     "output_type": "execute_result"
    }
   ],
   "source": [
    "Y = np.array([[0], [1], [1], [0]])\n",
    "Y"
   ]
  },
  {
   "cell_type": "code",
   "execution_count": 8,
   "id": "d99fb964-1d06-4ccd-9bb2-902093b5ad80",
   "metadata": {},
   "outputs": [],
   "source": [
    "H = complex_sigmoid(X @ A)"
   ]
  },
  {
   "cell_type": "code",
   "execution_count": 9,
   "id": "28b4710c-354c-4e6a-bb05-d7e6cf4346ad",
   "metadata": {},
   "outputs": [],
   "source": [
    "H_T = H.conj().T\n",
    "\n",
    "Beta_hat =  np.linalg.inv(H_T @ H) @ H_T @ Y"
   ]
  },
  {
   "cell_type": "code",
   "execution_count": 10,
   "id": "81c823e6-c771-4bd9-9886-6d8d0d515597",
   "metadata": {},
   "outputs": [
    {
     "data": {
      "text/plain": [
       "array([[-0.58521958],\n",
       "       [ 0.42086534],\n",
       "       [ 0.51822155],\n",
       "       [-0.48222077]])"
      ]
     },
     "execution_count": 10,
     "metadata": {},
     "output_type": "execute_result"
    }
   ],
   "source": [
    "H @ Beta_hat"
   ]
  },
  {
   "cell_type": "code",
   "execution_count": null,
   "id": "e8dbc6d1-d3ce-44a2-a3d6-af87abfea194",
   "metadata": {},
   "outputs": [],
   "source": []
  }
 ],
 "metadata": {
  "kernelspec": {
   "display_name": "AIML",
   "language": "python",
   "name": "aiml"
  },
  "language_info": {
   "codemirror_mode": {
    "name": "ipython",
    "version": 3
   },
   "file_extension": ".py",
   "mimetype": "text/x-python",
   "name": "python",
   "nbconvert_exporter": "python",
   "pygments_lexer": "ipython3",
   "version": "3.8.17"
  }
 },
 "nbformat": 4,
 "nbformat_minor": 5
}
