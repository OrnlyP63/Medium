{
 "cells": [
  {
   "cell_type": "code",
   "execution_count": 1,
   "id": "61d6d83d-ff97-4441-8aa6-38e33b138a44",
   "metadata": {},
   "outputs": [],
   "source": [
    "import numpy as np"
   ]
  },
  {
   "cell_type": "code",
   "execution_count": 8,
   "id": "3038064d-2e2a-4d34-b9da-4ebb99df9ffd",
   "metadata": {},
   "outputs": [],
   "source": [
    "in_dim=3\n",
    "out_dim=2\n",
    "num=5\n",
    "k=3\n",
    "noise_scale=0.1 \n",
    "scale_base=1.0 \n",
    "scale_sp=1.0\n",
    "grid_range=[-1, 1]\n",
    "\n",
    "size = out_dim * in_dim"
   ]
  },
  {
   "cell_type": "code",
   "execution_count": 12,
   "id": "e3183648-af96-462d-aa3d-5e079bf9dd41",
   "metadata": {},
   "outputs": [],
   "source": [
    "a = np.linspace(grid_range[0], grid_range[1], num)\n",
    "b = np.ones(size)"
   ]
  },
  {
   "cell_type": "code",
   "execution_count": 15,
   "id": "fd3fdb5a-a1ae-4b5e-8c03-f65d6bc985a9",
   "metadata": {},
   "outputs": [],
   "source": [
    "grid = np.einsum('i,j->ij', b , a)"
   ]
  },
  {
   "cell_type": "code",
   "execution_count": null,
   "id": "e03ba95f-1f0d-4579-969f-c8b123ed644d",
   "metadata": {},
   "outputs": [],
   "source": []
  }
 ],
 "metadata": {
  "kernelspec": {
   "display_name": "AIML",
   "language": "python",
   "name": "aiml"
  },
  "language_info": {
   "codemirror_mode": {
    "name": "ipython",
    "version": 3
   },
   "file_extension": ".py",
   "mimetype": "text/x-python",
   "name": "python",
   "nbconvert_exporter": "python",
   "pygments_lexer": "ipython3",
   "version": "3.8.17"
  }
 },
 "nbformat": 4,
 "nbformat_minor": 5
}
