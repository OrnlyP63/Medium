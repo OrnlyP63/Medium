{
 "cells": [
  {
   "cell_type": "code",
   "execution_count": 1,
   "id": "0bf69b01-222a-415d-ab85-175b14a00702",
   "metadata": {},
   "outputs": [],
   "source": [
    "import yfinance as yf\n",
    "import pandas as pd"
   ]
  },
  {
   "cell_type": "code",
   "execution_count": 7,
   "id": "197daf87-b05b-4f8b-b7b9-1c0177495b19",
   "metadata": {},
   "outputs": [],
   "source": [
    "ticker = yf.Ticker('GOOG')"
   ]
  },
  {
   "cell_type": "code",
   "execution_count": 11,
   "id": "063febee-95cd-4f06-bf4b-7b061c88aa25",
   "metadata": {},
   "outputs": [],
   "source": [
    "data = ticker.balance_sheet"
   ]
  },
  {
   "cell_type": "code",
   "execution_count": 13,
   "id": "9e243abd-d690-4c90-8aa5-c7bb474be155",
   "metadata": {},
   "outputs": [
    {
     "data": {
      "text/plain": [
       "Index(['Treasury Shares Number', 'Ordinary Shares Number', 'Share Issued',\n",
       "       'Total Debt', 'Tangible Book Value', 'Invested Capital',\n",
       "       'Working Capital', 'Net Tangible Assets', 'Capital Lease Obligations',\n",
       "       'Common Stock Equity', 'Total Capitalization',\n",
       "       'Total Equity Gross Minority Interest', 'Stockholders Equity',\n",
       "       'Gains Losses Not Affecting Retained Earnings',\n",
       "       'Other Equity Adjustments', 'Retained Earnings', 'Capital Stock',\n",
       "       'Common Stock', 'Preferred Stock',\n",
       "       'Total Liabilities Net Minority Interest',\n",
       "       'Total Non Current Liabilities Net Minority Interest',\n",
       "       'Other Non Current Liabilities', 'Tradeand Other Payables Non Current',\n",
       "       'Non Current Deferred Liabilities', 'Non Current Deferred Revenue',\n",
       "       'Non Current Deferred Taxes Liabilities',\n",
       "       'Long Term Debt And Capital Lease Obligation',\n",
       "       'Long Term Capital Lease Obligation', 'Long Term Debt',\n",
       "       'Current Liabilities', 'Other Current Liabilities',\n",
       "       'Current Deferred Liabilities', 'Current Deferred Revenue',\n",
       "       'Current Debt And Capital Lease Obligation',\n",
       "       'Current Capital Lease Obligation',\n",
       "       'Pensionand Other Post Retirement Benefit Plans Current',\n",
       "       'Payables And Accrued Expenses', 'Current Accrued Expenses', 'Payables',\n",
       "       'Other Payable', 'Total Tax Payable', 'Income Tax Payable',\n",
       "       'Accounts Payable', 'Total Assets', 'Total Non Current Assets',\n",
       "       'Other Non Current Assets', 'Non Current Deferred Assets',\n",
       "       'Non Current Deferred Taxes Assets', 'Investments And Advances',\n",
       "       'Investmentin Financial Assets', 'Available For Sale Securities',\n",
       "       'Goodwill And Other Intangible Assets', 'Other Intangible Assets',\n",
       "       'Goodwill', 'Net PPE', 'Accumulated Depreciation', 'Gross PPE',\n",
       "       'Leases', 'Construction In Progress', 'Other Properties',\n",
       "       'Machinery Furniture Equipment', 'Land And Improvements', 'Properties',\n",
       "       'Current Assets', 'Other Current Assets', 'Inventory', 'Receivables',\n",
       "       'Taxes Receivable', 'Accounts Receivable',\n",
       "       'Allowance For Doubtful Accounts Receivable',\n",
       "       'Gross Accounts Receivable',\n",
       "       'Cash Cash Equivalents And Short Term Investments',\n",
       "       'Other Short Term Investments', 'Cash And Cash Equivalents'],\n",
       "      dtype='object')"
      ]
     },
     "execution_count": 13,
     "metadata": {},
     "output_type": "execute_result"
    }
   ],
   "source": [
    "data.index"
   ]
  },
  {
   "cell_type": "code",
   "execution_count": null,
   "id": "9b7040e6-36d4-4f1b-9aa1-880a4ab96267",
   "metadata": {},
   "outputs": [],
   "source": []
  }
 ],
 "metadata": {
  "kernelspec": {
   "display_name": "AIML",
   "language": "python",
   "name": "aiml"
  },
  "language_info": {
   "codemirror_mode": {
    "name": "ipython",
    "version": 3
   },
   "file_extension": ".py",
   "mimetype": "text/x-python",
   "name": "python",
   "nbconvert_exporter": "python",
   "pygments_lexer": "ipython3",
   "version": "3.8.17"
  }
 },
 "nbformat": 4,
 "nbformat_minor": 5
}
