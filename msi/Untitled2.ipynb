{
 "cells": [
  {
   "cell_type": "code",
   "execution_count": 61,
   "id": "3b8bf0cf-3f31-4ee3-b73a-e3b8bf1a6b05",
   "metadata": {},
   "outputs": [],
   "source": [
    "import requests\n",
    "import yfinance as yf\n",
    "import pandas as pd\n",
    "import time\n",
    "import tqdm\n",
    "from pandas_datareader import data as pdr\n",
    "import os\n",
    "import warnings\n",
    "warnings.filterwarnings('ignore')"
   ]
  },
  {
   "cell_type": "code",
   "execution_count": 63,
   "id": "3a40becf-9be0-4db7-977c-08fe84b2f265",
   "metadata": {},
   "outputs": [],
   "source": [
    "yf.pdr_override()"
   ]
  },
  {
   "cell_type": "code",
   "execution_count": 2,
   "id": "3177ccbc-839e-4876-a5af-21547ea8449c",
   "metadata": {},
   "outputs": [],
   "source": [
    "url = 'https://www.slickcharts.com/sp500/'\n",
    "\n",
    "header = {\n",
    "  \"User-Agent\": \"Mozilla/5.0 (X11; Linux x86_64) AppleWebKit/537.36 (KHTML, like Gecko) Chrome/50.0.2661.75 Safari/537.36\",\n",
    "  \"X-Requested-With\": \"XMLHttpRequest\"\n",
    "}\n",
    "\n",
    "r = requests.get(url, headers=header)\n",
    "\n",
    "dfs = pd.read_html(r.text)"
   ]
  },
  {
   "cell_type": "code",
   "execution_count": 6,
   "id": "dcf91729-c2f6-4fa3-9f3f-45a767820aaa",
   "metadata": {},
   "outputs": [
    {
     "data": {
      "text/plain": [
       "2"
      ]
     },
     "execution_count": 6,
     "metadata": {},
     "output_type": "execute_result"
    }
   ],
   "source": [
    "len(dfs)"
   ]
  },
  {
   "cell_type": "code",
   "execution_count": 7,
   "id": "2864492a-5818-421b-b2e2-949c7de3b20d",
   "metadata": {},
   "outputs": [
    {
     "data": {
      "text/html": [
       "<div>\n",
       "<style scoped>\n",
       "    .dataframe tbody tr th:only-of-type {\n",
       "        vertical-align: middle;\n",
       "    }\n",
       "\n",
       "    .dataframe tbody tr th {\n",
       "        vertical-align: top;\n",
       "    }\n",
       "\n",
       "    .dataframe thead th {\n",
       "        text-align: right;\n",
       "    }\n",
       "</style>\n",
       "<table border=\"1\" class=\"dataframe\">\n",
       "  <thead>\n",
       "    <tr style=\"text-align: right;\">\n",
       "      <th></th>\n",
       "      <th>#</th>\n",
       "      <th>Company</th>\n",
       "      <th>Symbol</th>\n",
       "      <th>Portfolio%</th>\n",
       "      <th>Price</th>\n",
       "      <th>Chg</th>\n",
       "      <th>% Chg</th>\n",
       "    </tr>\n",
       "  </thead>\n",
       "  <tbody>\n",
       "    <tr>\n",
       "      <th>0</th>\n",
       "      <td>1</td>\n",
       "      <td>Microsoft Corp</td>\n",
       "      <td>MSFT</td>\n",
       "      <td>7.00%</td>\n",
       "      <td>415.85</td>\n",
       "      <td>0.72</td>\n",
       "      <td>(0.17%)</td>\n",
       "    </tr>\n",
       "    <tr>\n",
       "      <th>1</th>\n",
       "      <td>2</td>\n",
       "      <td>Apple Inc.</td>\n",
       "      <td>AAPL</td>\n",
       "      <td>6.31%</td>\n",
       "      <td>192.88</td>\n",
       "      <td>0.63</td>\n",
       "      <td>(0.33%)</td>\n",
       "    </tr>\n",
       "    <tr>\n",
       "      <th>2</th>\n",
       "      <td>3</td>\n",
       "      <td>Nvidia Corp</td>\n",
       "      <td>NVDA</td>\n",
       "      <td>6.20%</td>\n",
       "      <td>1116.48</td>\n",
       "      <td>20.15</td>\n",
       "      <td>(1.84%)</td>\n",
       "    </tr>\n",
       "    <tr>\n",
       "      <th>3</th>\n",
       "      <td>4</td>\n",
       "      <td>Amazon.com Inc</td>\n",
       "      <td>AMZN</td>\n",
       "      <td>3.72%</td>\n",
       "      <td>177.06</td>\n",
       "      <td>0.62</td>\n",
       "      <td>(0.35%)</td>\n",
       "    </tr>\n",
       "    <tr>\n",
       "      <th>4</th>\n",
       "      <td>5</td>\n",
       "      <td>Meta Platforms, Inc. Class A</td>\n",
       "      <td>META</td>\n",
       "      <td>2.33%</td>\n",
       "      <td>468.52</td>\n",
       "      <td>1.69</td>\n",
       "      <td>(0.36%)</td>\n",
       "    </tr>\n",
       "    <tr>\n",
       "      <th>...</th>\n",
       "      <td>...</td>\n",
       "      <td>...</td>\n",
       "      <td>...</td>\n",
       "      <td>...</td>\n",
       "      <td>...</td>\n",
       "      <td>...</td>\n",
       "      <td>...</td>\n",
       "    </tr>\n",
       "    <tr>\n",
       "      <th>498</th>\n",
       "      <td>499</td>\n",
       "      <td>Mohawk Industries, Inc.</td>\n",
       "      <td>MHK</td>\n",
       "      <td>0.01%</td>\n",
       "      <td>NaN</td>\n",
       "      <td>0.00</td>\n",
       "      <td>(NaN%)</td>\n",
       "    </tr>\n",
       "    <tr>\n",
       "      <th>499</th>\n",
       "      <td>500</td>\n",
       "      <td>Bio-Rad Laboratories, Inc.Class A</td>\n",
       "      <td>BIO</td>\n",
       "      <td>0.01%</td>\n",
       "      <td>284.49</td>\n",
       "      <td>-2.37</td>\n",
       "      <td>(-0.83%)</td>\n",
       "    </tr>\n",
       "    <tr>\n",
       "      <th>500</th>\n",
       "      <td>501</td>\n",
       "      <td>Paramount Global Class B</td>\n",
       "      <td>PARA</td>\n",
       "      <td>0.01%</td>\n",
       "      <td>12.75</td>\n",
       "      <td>0.83</td>\n",
       "      <td>(7.01%)</td>\n",
       "    </tr>\n",
       "    <tr>\n",
       "      <th>501</th>\n",
       "      <td>502</td>\n",
       "      <td>Fox Corporation Class B</td>\n",
       "      <td>FOX</td>\n",
       "      <td>0.01%</td>\n",
       "      <td>NaN</td>\n",
       "      <td>0.00</td>\n",
       "      <td>(NaN%)</td>\n",
       "    </tr>\n",
       "    <tr>\n",
       "      <th>502</th>\n",
       "      <td>503</td>\n",
       "      <td>News Corporation Class B</td>\n",
       "      <td>NWS</td>\n",
       "      <td>0.01%</td>\n",
       "      <td>NaN</td>\n",
       "      <td>0.00</td>\n",
       "      <td>(NaN%)</td>\n",
       "    </tr>\n",
       "  </tbody>\n",
       "</table>\n",
       "<p>503 rows × 7 columns</p>\n",
       "</div>"
      ],
      "text/plain": [
       "       #                            Company Symbol Portfolio%    Price    Chg  \\\n",
       "0      1                     Microsoft Corp   MSFT      7.00%   415.85   0.72   \n",
       "1      2                         Apple Inc.   AAPL      6.31%   192.88   0.63   \n",
       "2      3                        Nvidia Corp   NVDA      6.20%  1116.48  20.15   \n",
       "3      4                     Amazon.com Inc   AMZN      3.72%   177.06   0.62   \n",
       "4      5       Meta Platforms, Inc. Class A   META      2.33%   468.52   1.69   \n",
       "..   ...                                ...    ...        ...      ...    ...   \n",
       "498  499            Mohawk Industries, Inc.    MHK      0.01%      NaN   0.00   \n",
       "499  500  Bio-Rad Laboratories, Inc.Class A    BIO      0.01%   284.49  -2.37   \n",
       "500  501           Paramount Global Class B   PARA      0.01%    12.75   0.83   \n",
       "501  502            Fox Corporation Class B    FOX      0.01%      NaN   0.00   \n",
       "502  503           News Corporation Class B    NWS      0.01%      NaN   0.00   \n",
       "\n",
       "        % Chg  \n",
       "0     (0.17%)  \n",
       "1     (0.33%)  \n",
       "2     (1.84%)  \n",
       "3     (0.35%)  \n",
       "4     (0.36%)  \n",
       "..        ...  \n",
       "498    (NaN%)  \n",
       "499  (-0.83%)  \n",
       "500   (7.01%)  \n",
       "501    (NaN%)  \n",
       "502    (NaN%)  \n",
       "\n",
       "[503 rows x 7 columns]"
      ]
     },
     "execution_count": 7,
     "metadata": {},
     "output_type": "execute_result"
    }
   ],
   "source": [
    "dfs[0]"
   ]
  },
  {
   "cell_type": "code",
   "execution_count": 9,
   "id": "85cd9912-732c-4cf4-96b3-56e31de490db",
   "metadata": {},
   "outputs": [],
   "source": [
    "def get_book_value(dfs):\n",
    "    empty_ticks = {'No data':[],'No equity':[]}\n",
    "    output_dfs = []\n",
    "\n",
    "    for symbol in tqdm.tqdm(dfs[0]['Symbol'].values):\n",
    "        ticker = yf.Ticker(symbol)\n",
    "        bal = ticker.quarterly_balance_sheet\n",
    "\n",
    "        if len(bal.index) == 0:\n",
    "            empty_ticks['No data'].append(symbol)\n",
    "        else:    \n",
    "            bal.columns = [str(col.year) + '-' + str(col.quarter) for col in bal.columns]\n",
    "            equity = bal[bal.index.isin(['Common Stock','Total Stockholder Equity','Equity'])]\n",
    "            if len(equity.index) == 0:\n",
    "                empty_ticks['No equity'].append(symbol)\n",
    "            else:\n",
    "                equity['Ticker'] = symbol\n",
    "                output_dfs.append(equity)\n",
    "                time.sleep(3)\n",
    "    return outpout_dfs, empty_ticks"
   ]
  },
  {
   "cell_type": "code",
   "execution_count": 10,
   "id": "8370585d-a4a7-4093-a3f0-e433c63b1113",
   "metadata": {
    "collapsed": true,
    "jupyter": {
     "outputs_hidden": true
    },
    "tags": []
   },
   "outputs": [
    {
     "name": "stderr",
     "output_type": "stream",
     "text": [
      "  4%|███▊                                                                                           | 20/503 [01:05<26:18,  3.27s/it]\n"
     ]
    },
    {
     "ename": "KeyboardInterrupt",
     "evalue": "",
     "output_type": "error",
     "traceback": [
      "\u001b[1;31m---------------------------------------------------------------------------\u001b[0m",
      "\u001b[1;31mKeyboardInterrupt\u001b[0m                         Traceback (most recent call last)",
      "\u001b[1;32m~\\AppData\\Local\\Temp/ipykernel_8680/43746336.py\u001b[0m in \u001b[0;36m<module>\u001b[1;34m\u001b[0m\n\u001b[1;32m----> 1\u001b[1;33m \u001b[0moutpout_dfs\u001b[0m\u001b[1;33m,\u001b[0m \u001b[0mempty_ticks\u001b[0m \u001b[1;33m=\u001b[0m \u001b[0mget_book_value\u001b[0m\u001b[1;33m(\u001b[0m\u001b[0mdfs\u001b[0m\u001b[1;33m)\u001b[0m\u001b[1;33m\u001b[0m\u001b[1;33m\u001b[0m\u001b[0m\n\u001b[0m",
      "\u001b[1;32m~\\AppData\\Local\\Temp/ipykernel_8680/3004271809.py\u001b[0m in \u001b[0;36mget_book_value\u001b[1;34m(dfs)\u001b[0m\n\u001b[0;32m     17\u001b[0m                 \u001b[0mequity\u001b[0m\u001b[1;33m[\u001b[0m\u001b[1;34m'Ticker'\u001b[0m\u001b[1;33m]\u001b[0m \u001b[1;33m=\u001b[0m \u001b[0msymbol\u001b[0m\u001b[1;33m\u001b[0m\u001b[1;33m\u001b[0m\u001b[0m\n\u001b[0;32m     18\u001b[0m                 \u001b[0moutput_dfs\u001b[0m\u001b[1;33m.\u001b[0m\u001b[0mappend\u001b[0m\u001b[1;33m(\u001b[0m\u001b[0mequity\u001b[0m\u001b[1;33m)\u001b[0m\u001b[1;33m\u001b[0m\u001b[1;33m\u001b[0m\u001b[0m\n\u001b[1;32m---> 19\u001b[1;33m                 \u001b[0mtime\u001b[0m\u001b[1;33m.\u001b[0m\u001b[0msleep\u001b[0m\u001b[1;33m(\u001b[0m\u001b[1;36m3\u001b[0m\u001b[1;33m)\u001b[0m\u001b[1;33m\u001b[0m\u001b[1;33m\u001b[0m\u001b[0m\n\u001b[0m\u001b[0;32m     20\u001b[0m     \u001b[1;32mreturn\u001b[0m \u001b[0moutpout_dfs\u001b[0m\u001b[1;33m,\u001b[0m \u001b[0mempty_ticks\u001b[0m\u001b[1;33m\u001b[0m\u001b[1;33m\u001b[0m\u001b[0m\n",
      "\u001b[1;31mKeyboardInterrupt\u001b[0m: "
     ]
    }
   ],
   "source": [
    "outpout_dfs, empty_ticks = get_book_value(dfs)"
   ]
  },
  {
   "cell_type": "code",
   "execution_count": 13,
   "id": "336ecca5-c44f-416b-a115-67824d35f240",
   "metadata": {},
   "outputs": [],
   "source": [
    "symbol = 'GOOG'\n",
    "ticker = yf.Ticker(symbol)\n",
    "bal = ticker.quarterly_balance_sheet"
   ]
  },
  {
   "cell_type": "code",
   "execution_count": 17,
   "id": "5aa85f62-3bdb-422c-8dcf-748ca78e2113",
   "metadata": {},
   "outputs": [
    {
     "data": {
      "text/html": [
       "<div>\n",
       "<style scoped>\n",
       "    .dataframe tbody tr th:only-of-type {\n",
       "        vertical-align: middle;\n",
       "    }\n",
       "\n",
       "    .dataframe tbody tr th {\n",
       "        vertical-align: top;\n",
       "    }\n",
       "\n",
       "    .dataframe thead th {\n",
       "        text-align: right;\n",
       "    }\n",
       "</style>\n",
       "<table border=\"1\" class=\"dataframe\">\n",
       "  <thead>\n",
       "    <tr style=\"text-align: right;\">\n",
       "      <th></th>\n",
       "      <th>2024-03-31</th>\n",
       "      <th>2023-12-31</th>\n",
       "      <th>2023-09-30</th>\n",
       "      <th>2023-06-30</th>\n",
       "      <th>2023-03-31</th>\n",
       "      <th>2022-12-31</th>\n",
       "      <th>2022-09-30</th>\n",
       "    </tr>\n",
       "  </thead>\n",
       "  <tbody>\n",
       "    <tr>\n",
       "      <th>Treasury Shares Number</th>\n",
       "      <td>NaN</td>\n",
       "      <td>0.0</td>\n",
       "      <td>NaN</td>\n",
       "      <td>NaN</td>\n",
       "      <td>NaN</td>\n",
       "      <td>NaN</td>\n",
       "      <td>NaN</td>\n",
       "    </tr>\n",
       "    <tr>\n",
       "      <th>Ordinary Shares Number</th>\n",
       "      <td>12381000000.0</td>\n",
       "      <td>12460000000.0</td>\n",
       "      <td>12541000000.0</td>\n",
       "      <td>12629000000.0</td>\n",
       "      <td>12722000000.0</td>\n",
       "      <td>NaN</td>\n",
       "      <td>NaN</td>\n",
       "    </tr>\n",
       "    <tr>\n",
       "      <th>Share Issued</th>\n",
       "      <td>12381000000.0</td>\n",
       "      <td>12460000000.0</td>\n",
       "      <td>12541000000.0</td>\n",
       "      <td>12629000000.0</td>\n",
       "      <td>12722000000.0</td>\n",
       "      <td>NaN</td>\n",
       "      <td>NaN</td>\n",
       "    </tr>\n",
       "    <tr>\n",
       "      <th>Total Debt</th>\n",
       "      <td>28059000000.0</td>\n",
       "      <td>28504000000.0</td>\n",
       "      <td>29046000000.0</td>\n",
       "      <td>29114000000.0</td>\n",
       "      <td>29121000000.0</td>\n",
       "      <td>NaN</td>\n",
       "      <td>NaN</td>\n",
       "    </tr>\n",
       "    <tr>\n",
       "      <th>Tangible Book Value</th>\n",
       "      <td>263661000000.0</td>\n",
       "      <td>254181000000.0</td>\n",
       "      <td>242223000000.0</td>\n",
       "      <td>235965000000.0</td>\n",
       "      <td>229932000000.0</td>\n",
       "      <td>NaN</td>\n",
       "      <td>NaN</td>\n",
       "    </tr>\n",
       "    <tr>\n",
       "      <th>...</th>\n",
       "      <td>...</td>\n",
       "      <td>...</td>\n",
       "      <td>...</td>\n",
       "      <td>...</td>\n",
       "      <td>...</td>\n",
       "      <td>...</td>\n",
       "      <td>...</td>\n",
       "    </tr>\n",
       "    <tr>\n",
       "      <th>Cash Cash Equivalents And Short Term Investments</th>\n",
       "      <td>108090000000.0</td>\n",
       "      <td>110916000000.0</td>\n",
       "      <td>119935000000.0</td>\n",
       "      <td>118332000000.0</td>\n",
       "      <td>115102000000.0</td>\n",
       "      <td>NaN</td>\n",
       "      <td>NaN</td>\n",
       "    </tr>\n",
       "    <tr>\n",
       "      <th>Other Short Term Investments</th>\n",
       "      <td>83597000000.0</td>\n",
       "      <td>86868000000.0</td>\n",
       "      <td>89233000000.0</td>\n",
       "      <td>92403000000.0</td>\n",
       "      <td>89178000000.0</td>\n",
       "      <td>NaN</td>\n",
       "      <td>NaN</td>\n",
       "    </tr>\n",
       "    <tr>\n",
       "      <th>Cash And Cash Equivalents</th>\n",
       "      <td>24493000000.0</td>\n",
       "      <td>24048000000.0</td>\n",
       "      <td>30702000000.0</td>\n",
       "      <td>25929000000.0</td>\n",
       "      <td>25924000000.0</td>\n",
       "      <td>NaN</td>\n",
       "      <td>NaN</td>\n",
       "    </tr>\n",
       "    <tr>\n",
       "      <th>Cash Equivalents</th>\n",
       "      <td>12664000000.0</td>\n",
       "      <td>NaN</td>\n",
       "      <td>21408000000.0</td>\n",
       "      <td>17368000000.0</td>\n",
       "      <td>16233000000.0</td>\n",
       "      <td>NaN</td>\n",
       "      <td>NaN</td>\n",
       "    </tr>\n",
       "    <tr>\n",
       "      <th>Cash Financial</th>\n",
       "      <td>11829000000.0</td>\n",
       "      <td>NaN</td>\n",
       "      <td>9294000000.0</td>\n",
       "      <td>8561000000.0</td>\n",
       "      <td>9691000000.0</td>\n",
       "      <td>NaN</td>\n",
       "      <td>NaN</td>\n",
       "    </tr>\n",
       "  </tbody>\n",
       "</table>\n",
       "<p>75 rows × 7 columns</p>\n",
       "</div>"
      ],
      "text/plain": [
       "                                                      2024-03-31  \\\n",
       "Treasury Shares Number                                       NaN   \n",
       "Ordinary Shares Number                             12381000000.0   \n",
       "Share Issued                                       12381000000.0   \n",
       "Total Debt                                         28059000000.0   \n",
       "Tangible Book Value                               263661000000.0   \n",
       "...                                                          ...   \n",
       "Cash Cash Equivalents And Short Term Investments  108090000000.0   \n",
       "Other Short Term Investments                       83597000000.0   \n",
       "Cash And Cash Equivalents                          24493000000.0   \n",
       "Cash Equivalents                                   12664000000.0   \n",
       "Cash Financial                                     11829000000.0   \n",
       "\n",
       "                                                      2023-12-31  \\\n",
       "Treasury Shares Number                                       0.0   \n",
       "Ordinary Shares Number                             12460000000.0   \n",
       "Share Issued                                       12460000000.0   \n",
       "Total Debt                                         28504000000.0   \n",
       "Tangible Book Value                               254181000000.0   \n",
       "...                                                          ...   \n",
       "Cash Cash Equivalents And Short Term Investments  110916000000.0   \n",
       "Other Short Term Investments                       86868000000.0   \n",
       "Cash And Cash Equivalents                          24048000000.0   \n",
       "Cash Equivalents                                             NaN   \n",
       "Cash Financial                                               NaN   \n",
       "\n",
       "                                                      2023-09-30  \\\n",
       "Treasury Shares Number                                       NaN   \n",
       "Ordinary Shares Number                             12541000000.0   \n",
       "Share Issued                                       12541000000.0   \n",
       "Total Debt                                         29046000000.0   \n",
       "Tangible Book Value                               242223000000.0   \n",
       "...                                                          ...   \n",
       "Cash Cash Equivalents And Short Term Investments  119935000000.0   \n",
       "Other Short Term Investments                       89233000000.0   \n",
       "Cash And Cash Equivalents                          30702000000.0   \n",
       "Cash Equivalents                                   21408000000.0   \n",
       "Cash Financial                                      9294000000.0   \n",
       "\n",
       "                                                      2023-06-30  \\\n",
       "Treasury Shares Number                                       NaN   \n",
       "Ordinary Shares Number                             12629000000.0   \n",
       "Share Issued                                       12629000000.0   \n",
       "Total Debt                                         29114000000.0   \n",
       "Tangible Book Value                               235965000000.0   \n",
       "...                                                          ...   \n",
       "Cash Cash Equivalents And Short Term Investments  118332000000.0   \n",
       "Other Short Term Investments                       92403000000.0   \n",
       "Cash And Cash Equivalents                          25929000000.0   \n",
       "Cash Equivalents                                   17368000000.0   \n",
       "Cash Financial                                      8561000000.0   \n",
       "\n",
       "                                                      2023-03-31 2022-12-31  \\\n",
       "Treasury Shares Number                                       NaN        NaN   \n",
       "Ordinary Shares Number                             12722000000.0        NaN   \n",
       "Share Issued                                       12722000000.0        NaN   \n",
       "Total Debt                                         29121000000.0        NaN   \n",
       "Tangible Book Value                               229932000000.0        NaN   \n",
       "...                                                          ...        ...   \n",
       "Cash Cash Equivalents And Short Term Investments  115102000000.0        NaN   \n",
       "Other Short Term Investments                       89178000000.0        NaN   \n",
       "Cash And Cash Equivalents                          25924000000.0        NaN   \n",
       "Cash Equivalents                                   16233000000.0        NaN   \n",
       "Cash Financial                                      9691000000.0        NaN   \n",
       "\n",
       "                                                 2022-09-30  \n",
       "Treasury Shares Number                                  NaN  \n",
       "Ordinary Shares Number                                  NaN  \n",
       "Share Issued                                            NaN  \n",
       "Total Debt                                              NaN  \n",
       "Tangible Book Value                                     NaN  \n",
       "...                                                     ...  \n",
       "Cash Cash Equivalents And Short Term Investments        NaN  \n",
       "Other Short Term Investments                            NaN  \n",
       "Cash And Cash Equivalents                               NaN  \n",
       "Cash Equivalents                                        NaN  \n",
       "Cash Financial                                          NaN  \n",
       "\n",
       "[75 rows x 7 columns]"
      ]
     },
     "execution_count": 17,
     "metadata": {},
     "output_type": "execute_result"
    }
   ],
   "source": [
    "bal"
   ]
  },
  {
   "cell_type": "code",
   "execution_count": 48,
   "id": "65fb3e22-6457-4623-a205-70c3970abb3b",
   "metadata": {},
   "outputs": [],
   "source": [
    "aapl = yf.Ticker(\"GOOG\")"
   ]
  },
  {
   "cell_type": "code",
   "execution_count": 49,
   "id": "c22ea722-a1ae-4a5b-aa75-fe7b21461109",
   "metadata": {},
   "outputs": [],
   "source": [
    "bal = aapl.quarterly_balance_sheet"
   ]
  },
  {
   "cell_type": "code",
   "execution_count": 50,
   "id": "eb568590-8838-48ba-b21f-3155092587c4",
   "metadata": {},
   "outputs": [
    {
     "data": {
      "text/html": [
       "<div>\n",
       "<style scoped>\n",
       "    .dataframe tbody tr th:only-of-type {\n",
       "        vertical-align: middle;\n",
       "    }\n",
       "\n",
       "    .dataframe tbody tr th {\n",
       "        vertical-align: top;\n",
       "    }\n",
       "\n",
       "    .dataframe thead th {\n",
       "        text-align: right;\n",
       "    }\n",
       "</style>\n",
       "<table border=\"1\" class=\"dataframe\">\n",
       "  <thead>\n",
       "    <tr style=\"text-align: right;\">\n",
       "      <th></th>\n",
       "      <th>2024-03-31</th>\n",
       "      <th>2023-12-31</th>\n",
       "      <th>2023-09-30</th>\n",
       "      <th>2023-06-30</th>\n",
       "      <th>2023-03-31</th>\n",
       "      <th>2022-12-31</th>\n",
       "      <th>2022-09-30</th>\n",
       "    </tr>\n",
       "  </thead>\n",
       "  <tbody>\n",
       "    <tr>\n",
       "      <th>Common Stock</th>\n",
       "      <td>77913000000.0</td>\n",
       "      <td>76534000000.0</td>\n",
       "      <td>74591000000.0</td>\n",
       "      <td>72248000000.0</td>\n",
       "      <td>70269000000.0</td>\n",
       "      <td>NaN</td>\n",
       "      <td>NaN</td>\n",
       "    </tr>\n",
       "  </tbody>\n",
       "</table>\n",
       "</div>"
      ],
      "text/plain": [
       "                 2024-03-31     2023-12-31     2023-09-30     2023-06-30  \\\n",
       "Common Stock  77913000000.0  76534000000.0  74591000000.0  72248000000.0   \n",
       "\n",
       "                 2023-03-31 2022-12-31 2022-09-30  \n",
       "Common Stock  70269000000.0        NaN        NaN  "
      ]
     },
     "execution_count": 50,
     "metadata": {},
     "output_type": "execute_result"
    }
   ],
   "source": [
    "bal[bal.index.isin(['Common Stock', 'Total Stockholder Equity', 'Equity'])]"
   ]
  },
  {
   "cell_type": "code",
   "execution_count": 51,
   "id": "ee094ab1-c5a9-4b65-9ae6-656e7c032998",
   "metadata": {},
   "outputs": [
    {
     "data": {
      "text/plain": [
       "2024-03-31    292844000000.0\n",
       "2023-12-31    283379000000.0\n",
       "2023-09-30    273202000000.0\n",
       "2023-06-30    267141000000.0\n",
       "2023-03-31    260894000000.0\n",
       "2022-12-31               NaN\n",
       "2022-09-30               NaN\n",
       "Name: Common Stock Equity, dtype: object"
      ]
     },
     "execution_count": 51,
     "metadata": {},
     "output_type": "execute_result"
    }
   ],
   "source": [
    "bal.loc['Common Stock Equity']"
   ]
  },
  {
   "cell_type": "code",
   "execution_count": 52,
   "id": "f9defa8c-a8c7-4769-90d0-e43fa1e2da80",
   "metadata": {},
   "outputs": [
    {
     "data": {
      "text/plain": [
       "2024-03-31    77913000000.0\n",
       "2023-12-31    76534000000.0\n",
       "2023-09-30    74591000000.0\n",
       "2023-06-30    72248000000.0\n",
       "2023-03-31    70269000000.0\n",
       "2022-12-31              NaN\n",
       "2022-09-30              NaN\n",
       "Name: Common Stock, dtype: object"
      ]
     },
     "execution_count": 52,
     "metadata": {},
     "output_type": "execute_result"
    }
   ],
   "source": [
    "bal.loc['Common Stock']"
   ]
  },
  {
   "cell_type": "code",
   "execution_count": 54,
   "id": "6e9cf9a7-0fb1-48f8-8ff4-c24e1622b903",
   "metadata": {},
   "outputs": [
    {
     "data": {
      "text/plain": [
       "2024-03-31    304717000000.0\n",
       "2023-12-31    295249000000.0\n",
       "2023-09-30    285069000000.0\n",
       "2023-06-30    279005000000.0\n",
       "2023-03-31    272755000000.0\n",
       "2022-12-31               NaN\n",
       "2022-09-30               NaN\n",
       "Name: Total Capitalization, dtype: object"
      ]
     },
     "execution_count": 54,
     "metadata": {},
     "output_type": "execute_result"
    }
   ],
   "source": [
    "bal.loc['Total Capitalization']"
   ]
  },
  {
   "cell_type": "code",
   "execution_count": 71,
   "id": "75951763-95ff-4410-9b49-c6c9c5a7ffb9",
   "metadata": {},
   "outputs": [
    {
     "data": {
      "text/plain": [
       "Index(['Treasury Shares Number', 'Ordinary Shares Number', 'Share Issued',\n",
       "       'Total Debt', 'Tangible Book Value', 'Invested Capital',\n",
       "       'Working Capital', 'Net Tangible Assets', 'Capital Lease Obligations',\n",
       "       'Common Stock Equity', 'Total Capitalization',\n",
       "       'Total Equity Gross Minority Interest', 'Stockholders Equity',\n",
       "       'Gains Losses Not Affecting Retained Earnings',\n",
       "       'Other Equity Adjustments', 'Retained Earnings', 'Capital Stock',\n",
       "       'Common Stock', 'Preferred Stock',\n",
       "       'Total Liabilities Net Minority Interest',\n",
       "       'Total Non Current Liabilities Net Minority Interest',\n",
       "       'Other Non Current Liabilities', 'Tradeand Other Payables Non Current',\n",
       "       'Non Current Deferred Liabilities', 'Non Current Deferred Revenue',\n",
       "       'Non Current Deferred Taxes Liabilities',\n",
       "       'Long Term Debt And Capital Lease Obligation',\n",
       "       'Long Term Capital Lease Obligation', 'Long Term Debt',\n",
       "       'Current Liabilities', 'Other Current Liabilities',\n",
       "       'Current Deferred Liabilities', 'Current Deferred Revenue',\n",
       "       'Current Debt And Capital Lease Obligation',\n",
       "       'Current Capital Lease Obligation',\n",
       "       'Pensionand Other Post Retirement Benefit Plans Current',\n",
       "       'Payables And Accrued Expenses', 'Current Accrued Expenses', 'Payables',\n",
       "       'Total Tax Payable', 'Income Tax Payable', 'Accounts Payable',\n",
       "       'Total Assets', 'Total Non Current Assets', 'Other Non Current Assets',\n",
       "       'Non Current Deferred Assets', 'Non Current Deferred Taxes Assets',\n",
       "       'Investments And Advances', 'Investmentin Financial Assets',\n",
       "       'Available For Sale Securities', 'Goodwill And Other Intangible Assets',\n",
       "       'Other Intangible Assets', 'Goodwill', 'Net PPE',\n",
       "       'Accumulated Depreciation', 'Gross PPE', 'Leases',\n",
       "       'Construction In Progress', 'Other Properties',\n",
       "       'Machinery Furniture Equipment', 'Land And Improvements', 'Properties',\n",
       "       'Current Assets', 'Other Current Assets', 'Inventory', 'Receivables',\n",
       "       'Taxes Receivable', 'Accounts Receivable',\n",
       "       'Allowance For Doubtful Accounts Receivable',\n",
       "       'Gross Accounts Receivable',\n",
       "       'Cash Cash Equivalents And Short Term Investments',\n",
       "       'Other Short Term Investments', 'Cash And Cash Equivalents',\n",
       "       'Cash Equivalents', 'Cash Financial'],\n",
       "      dtype='object')"
      ]
     },
     "execution_count": 71,
     "metadata": {},
     "output_type": "execute_result"
    }
   ],
   "source": [
    "bal.index"
   ]
  },
  {
   "cell_type": "code",
   "execution_count": 53,
   "id": "a738055a-b2c2-40bc-a6f6-6e90b675b62b",
   "metadata": {},
   "outputs": [
    {
     "data": {
      "text/plain": [
       "Index(['Treasury Shares Number', 'Ordinary Shares Number', 'Share Issued',\n",
       "       'Total Debt', 'Tangible Book Value', 'Invested Capital',\n",
       "       'Working Capital', 'Net Tangible Assets', 'Capital Lease Obligations',\n",
       "       'Common Stock Equity', 'Total Capitalization',\n",
       "       'Total Equity Gross Minority Interest', 'Stockholders Equity',\n",
       "       'Gains Losses Not Affecting Retained Earnings',\n",
       "       'Other Equity Adjustments', 'Retained Earnings', 'Capital Stock',\n",
       "       'Common Stock', 'Preferred Stock',\n",
       "       'Total Liabilities Net Minority Interest',\n",
       "       'Total Non Current Liabilities Net Minority Interest',\n",
       "       'Other Non Current Liabilities', 'Tradeand Other Payables Non Current',\n",
       "       'Non Current Deferred Liabilities', 'Non Current Deferred Revenue',\n",
       "       'Non Current Deferred Taxes Liabilities',\n",
       "       'Long Term Debt And Capital Lease Obligation',\n",
       "       'Long Term Capital Lease Obligation', 'Long Term Debt',\n",
       "       'Current Liabilities', 'Other Current Liabilities',\n",
       "       'Current Deferred Liabilities', 'Current Deferred Revenue',\n",
       "       'Current Debt And Capital Lease Obligation',\n",
       "       'Current Capital Lease Obligation',\n",
       "       'Pensionand Other Post Retirement Benefit Plans Current',\n",
       "       'Payables And Accrued Expenses', 'Current Accrued Expenses', 'Payables',\n",
       "       'Total Tax Payable', 'Income Tax Payable', 'Accounts Payable',\n",
       "       'Total Assets', 'Total Non Current Assets', 'Other Non Current Assets',\n",
       "       'Non Current Deferred Assets', 'Non Current Deferred Taxes Assets',\n",
       "       'Investments And Advances', 'Investmentin Financial Assets',\n",
       "       'Available For Sale Securities', 'Goodwill And Other Intangible Assets',\n",
       "       'Other Intangible Assets', 'Goodwill', 'Net PPE',\n",
       "       'Accumulated Depreciation', 'Gross PPE', 'Leases',\n",
       "       'Construction In Progress', 'Other Properties',\n",
       "       'Machinery Furniture Equipment', 'Land And Improvements', 'Properties',\n",
       "       'Current Assets', 'Other Current Assets', 'Inventory', 'Receivables',\n",
       "       'Taxes Receivable', 'Accounts Receivable',\n",
       "       'Allowance For Doubtful Accounts Receivable',\n",
       "       'Gross Accounts Receivable',\n",
       "       'Cash Cash Equivalents And Short Term Investments',\n",
       "       'Other Short Term Investments', 'Cash And Cash Equivalents',\n",
       "       'Cash Equivalents', 'Cash Financial'],\n",
       "      dtype='object')"
      ]
     },
     "execution_count": 53,
     "metadata": {},
     "output_type": "execute_result"
    }
   ],
   "source": [
    "bal.index"
   ]
  },
  {
   "cell_type": "code",
   "execution_count": 66,
   "id": "122ddcb6-9421-4ed4-a05d-459b86b4b120",
   "metadata": {},
   "outputs": [
    {
     "name": "stderr",
     "output_type": "stream",
     "text": [
      "[*********************100%%**********************]  1 of 1 completed\n"
     ]
    }
   ],
   "source": [
    "data = pdr.get_data_yahoo(\"SPY\")"
   ]
  },
  {
   "cell_type": "code",
   "execution_count": 57,
   "id": "15d00e33-478b-43a5-87d1-05c0c6c0caf5",
   "metadata": {},
   "outputs": [],
   "source": [
    "tickers = dfs[0]['Symbol'].values"
   ]
  },
  {
   "cell_type": "code",
   "execution_count": 58,
   "id": "36aa91ee-317d-4b83-9320-e65d60584ad0",
   "metadata": {},
   "outputs": [
    {
     "data": {
      "text/plain": [
       "array(['MSFT', 'AAPL', 'NVDA', 'AMZN', 'META', 'GOOGL', 'GOOG', 'BRK.B',\n",
       "       'LLY', 'AVGO', 'JPM', 'XOM', 'TSLA', 'UNH', 'V', 'PG', 'MA',\n",
       "       'COST', 'JNJ', 'HD', 'MRK', 'NFLX', 'WMT', 'ABBV', 'CVX', 'AMD',\n",
       "       'BAC', 'KO', 'PEP', 'QCOM', 'TMO', 'WFC', 'CRM', 'LIN', 'ADBE',\n",
       "       'CSCO', 'ORCL', 'DIS', 'MCD', 'AMAT', 'ACN', 'GE', 'TXN', 'ABT',\n",
       "       'CAT', 'VZ', 'DHR', 'AMGN', 'NEE', 'PFE', 'INTU', 'PM', 'CMCSA',\n",
       "       'IBM', 'GS', 'ISRG', 'RTX', 'MU', 'UNP', 'AXP', 'SPGI', 'COP',\n",
       "       'ETN', 'HON', 'NOW', 'UBER', 'BKNG', 'INTC', 'T', 'LRCX', 'LOW',\n",
       "       'MS', 'PGR', 'ELV', 'C', 'TJX', 'SYK', 'VRTX', 'ADI', 'NKE', 'BSX',\n",
       "       'CB', 'MDT', 'SCHW', 'BLK', 'KLAC', 'REGN', 'MMC', 'PLD', 'LMT',\n",
       "       'BA', 'ADP', 'UPS', 'CI', 'DE', 'PANW', 'MDLZ', 'SBUX', 'AMT',\n",
       "       'TMUS', 'FI', 'BX', 'SNPS', 'CMG', 'SO', 'BMY', 'MO', 'GILD',\n",
       "       'APH', 'CDNS', 'DUK', 'ZTS', 'ANET', 'ICE', 'WM', 'FCX', 'CL',\n",
       "       'TT', 'CME', 'MCK', 'TDG', 'CEG', 'EQIX', 'EOG', 'SHW', 'CVS',\n",
       "       'NXPI', 'TGT', 'PH', 'PYPL', 'GD', 'HCA', 'BDX', 'CSX', 'SLB',\n",
       "       'ITW', 'MPC', 'ABNB', 'EMR', 'NOC', 'MCO', 'USB', 'PNC', 'MSI',\n",
       "       'PSX', 'ECL', 'APD', 'CTAS', 'FDX', 'ORLY', 'WELL', 'MAR', 'ROP',\n",
       "       'AON', 'PCAR', 'AIG', 'MMM', 'AJG', 'EW', 'CARR', 'MCHP', 'COF',\n",
       "       'VLO', 'MRNA', 'GM', 'NSC', 'HLT', 'WMB', 'TFC', 'JCI', 'TRV',\n",
       "       'SPG', 'NEM', 'AZO', 'GEV', 'ROST', 'SRE', 'OKE', 'DLR', 'AEP',\n",
       "       'AFL', 'TEL', 'F', 'CPRT', 'DXCM', 'BK', 'URI', 'D', 'FIS', 'KMB',\n",
       "       'MET', 'DHI', 'CCI', 'AMP', 'O', 'ALL', 'PRU', 'ADSK', 'HUM',\n",
       "       'PSA', 'SMCI', 'IDXX', 'HES', 'LHX', 'NUE', 'IQV', 'PWR', 'OXY',\n",
       "       'GWW', 'STZ', 'DOW', 'OTIS', 'PCG', 'CTVA', 'LEN', 'MSCI', 'AME',\n",
       "       'A', 'PAYX', 'CMI', 'GIS', 'YUM', 'MNST', 'ACGL', 'IR', 'RSG',\n",
       "       'FAST', 'FTNT', 'CNC', 'PEG', 'KMI', 'COR', 'EXC', 'KVUE', 'VRSK',\n",
       "       'SYY', 'MPWR', 'VST', 'FANG', 'KDP', 'MLM', 'DD', 'LULU', 'RCL',\n",
       "       'KR', 'VMC', 'XYL', 'GEHC', 'HPQ', 'HWM', 'BKR', 'CTSH', 'IT',\n",
       "       'DAL', 'CSGP', 'FICO', 'HAL', 'EA', 'ADM', 'ED', 'BIIB', 'ON',\n",
       "       'ODFL', 'RMD', 'DVN', 'HIG', 'TSCO', 'PPG', 'WAB', 'DFS', 'EXR',\n",
       "       'MTD', 'CDW', 'XEL', 'FSLR', 'ROK', 'VICI', 'HSY', 'EIX', 'EFX',\n",
       "       'EL', 'DG', 'GLW', 'ANSS', 'DECK', 'KHC', 'EBAY', 'CHTR', 'AVB',\n",
       "       'GPN', 'TRGP', 'WTW', 'FTV', 'CBRE', 'TROW', 'CHD', 'DOV', 'TTWO',\n",
       "       'FITB', 'WEC', 'GRMN', 'LYB', 'PHM', 'MTB', 'AWK', 'IFF', 'WST',\n",
       "       'WDC', 'NTAP', 'KEYS', 'DLTR', 'CAH', 'ZBH', 'HPE', 'NVR', 'DTE',\n",
       "       'IRM', 'BR', 'RJF', 'APTV', 'ETR', 'NDAQ', 'STT', 'STE', 'EQR',\n",
       "       'VLTO', 'TER', 'WY', 'BALL', 'PPL', 'CTRA', 'HUBB', 'SBAC', 'BRO',\n",
       "       'PTC', 'STLD', 'FE', 'ES', 'TYL', 'AXON', 'LDOS', 'BLDR', 'GPC',\n",
       "       'VTR', 'INVH', 'HBAN', 'CPAY', 'NRG', 'ULTA', 'CNP', 'AEE', 'TDY',\n",
       "       'CBOE', 'ALGN', 'CINF', 'WAT', 'ARE', 'STX', 'AVY', 'OMC', 'CMS',\n",
       "       'WBD', 'COO', 'ENPH', 'PFG', 'DRI', 'MOH', 'MKC', 'DPZ', 'SYF',\n",
       "       'RF', 'EXPD', 'J', 'NTRS', 'HOLX', 'EQT', 'TXT', 'UAL', 'BAX',\n",
       "       'EG', 'ATO', 'MRO', 'ESS', 'LH', 'PKG', 'LVS', 'ZBRA', 'WRB',\n",
       "       'TSN', 'CFG', 'CLX', 'ILMN', 'BBY', 'K', 'LUV', 'DGX', 'IEX', 'IP',\n",
       "       'FDS', 'CCL', 'BG', 'JBL', 'CE', 'MAA', 'VRSN', 'MAS', 'CF', 'AES',\n",
       "       'ALB', 'EXPE', 'SWKS', 'AMCR', 'SNA', 'CAG', 'GEN', 'TRMB', 'L',\n",
       "       'WRK', 'POOL', 'DOC', 'AKAM', 'RVTY', 'LYV', 'SWK', 'KEY', 'PNR',\n",
       "       'ROL', 'JBHT', 'LNT', 'VTRS', 'HST', 'KIM', 'NDSN', 'LW', 'PODD',\n",
       "       'EVRG', 'TECH', 'EMN', 'IPG', 'JKHY', 'BBWI', 'UDR', 'UHS', 'NI',\n",
       "       'LKQ', 'JNPR', 'SJM', 'WBA', 'KMX', 'CPT', 'CRL', 'INCY', 'ALLE',\n",
       "       'MGM', 'NWSA', 'EPAM', 'AOS', 'HII', 'FFIV', 'CHRW', 'REG', 'TAP',\n",
       "       'MOS', 'TFX', 'TPR', 'CTLT', 'QRVO', 'GNRC', 'APA', 'HSIC', 'AIZ',\n",
       "       'HRL', 'WYNN', 'PNW', 'CPB', 'FOXA', 'BWA', 'BXP', 'MTCH', 'SOLV',\n",
       "       'BF.B', 'DVA', 'PAYC', 'DAY', 'HAS', 'FMC', 'AAL', 'MKTX', 'RL',\n",
       "       'ETSY', 'FRT', 'GL', 'IVZ', 'NCLH', 'RHI', 'CZR', 'CMA', 'BEN',\n",
       "       'MHK', 'BIO', 'PARA', 'FOX', 'NWS'], dtype=object)"
      ]
     },
     "execution_count": 58,
     "metadata": {},
     "output_type": "execute_result"
    }
   ],
   "source": [
    "tickers"
   ]
  },
  {
   "cell_type": "code",
   "execution_count": null,
   "id": "8f550a2e-31df-453d-9f8e-a68d3ab595e8",
   "metadata": {},
   "outputs": [],
   "source": []
  }
 ],
 "metadata": {
  "kernelspec": {
   "display_name": "AIML",
   "language": "python",
   "name": "aiml"
  },
  "language_info": {
   "codemirror_mode": {
    "name": "ipython",
    "version": 3
   },
   "file_extension": ".py",
   "mimetype": "text/x-python",
   "name": "python",
   "nbconvert_exporter": "python",
   "pygments_lexer": "ipython3",
   "version": "3.8.17"
  }
 },
 "nbformat": 4,
 "nbformat_minor": 5
}
