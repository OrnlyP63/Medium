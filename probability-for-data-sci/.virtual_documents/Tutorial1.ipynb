


sample_space = {1, 2 ,3, 4, 5, 6}
print(sample_space)
print(type(sample_space))





E_1 = {1, 2, 3, 4} 
E_1


E_2 = {2, 4, 6} 
E_2





# 1. sample space
sample_space = {1, 2 ,3, 4, 5, 6}

# 2. there are events can be constructed by some rules
E_1 = {x for x in sample_space if x < 5}
E_2 = {x for x in sample_space if x%2 == 0}
print(E_1)
print(E_2)


print(E_1.issubset(sample_space))
print(E_2.issubset(sample_space))


# 3. Any events can be combined to construct another
print(E_1.intersection(E_2))
print(E_1.union(E_2))


E_1.intersection(E_2).issubset(sample_space)


E_1.union(E_2).issubset(sample_space)


# 4. Probability is relative size of the event compare with sample space
probability_of_E1 = len(E_1) / len(sample_space)
probability_of_E1


probability_of_E2 = len(E_2) / len(sample_space)
probability_of_E2



