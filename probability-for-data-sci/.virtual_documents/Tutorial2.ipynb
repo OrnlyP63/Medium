import numpy as np
import itertools


sample_space = {1, 2, 3, 4, 5, 6}


sample_space_list = list(sample_space)
sample_space_list


list(itertools.permutations(sample_space_list, r=2))


list(itertools.combinations(sample_space_list, r=2))


power_set = []

# Generate subsets of all lengths
for r in range(len(sample_space_list)+1):
    subsets = itertools.combinations(sample_space_list, r)
    power_set.extend(subsets)


event_space = [set(t) for t in sorted(power_set, key=lambda x: len(x))]


event_1 = event_space[13]
event_2 = event_space[1]


event_1 | event_2


event_1 & event_2


event_1 - event_2


sample_space - event_1





A = {1, 2, 3} # less than 4
B = {2, 4, 6} # even number
A | B # A Union B





A = {1, 2, 3} # less than 4
B = {2, 4, 6} # even number
A & B # A Intersect B





A = {1, 2, 3} # less than 4
B = {2, 4, 6} # even number
A - B # A diff B





sample_space = {1, 2, 3, 4, 5, 6} # sample space
A = {1, 2, 3} # less than 4
A_c = sample_space - A # A complement
A_c



