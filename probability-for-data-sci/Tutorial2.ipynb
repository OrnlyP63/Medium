{
 "cells": [
  {
   "cell_type": "code",
   "execution_count": 1,
   "id": "8291656b-69f8-4eb8-b44d-2f77f28ab7c1",
   "metadata": {},
   "outputs": [],
   "source": [
    "import numpy as np\n",
    "import itertools"
   ]
  },
  {
   "cell_type": "code",
   "execution_count": 2,
   "id": "92f91caf-854b-40ef-a949-3fce78bd5f3d",
   "metadata": {},
   "outputs": [],
   "source": [
    "sample_space = {1, 2, 3, 4, 5, 6}"
   ]
  },
  {
   "cell_type": "code",
   "execution_count": 3,
   "id": "8210ada8-701e-4582-9b53-7f9f6b2a9476",
   "metadata": {},
   "outputs": [
    {
     "data": {
      "text/plain": [
       "[1, 2, 3, 4, 5, 6]"
      ]
     },
     "execution_count": 3,
     "metadata": {},
     "output_type": "execute_result"
    }
   ],
   "source": [
    "sample_space_list = list(sample_space)\n",
    "sample_space_list"
   ]
  },
  {
   "cell_type": "code",
   "execution_count": 4,
   "id": "916d3905-202b-4d64-88c1-49e133d84764",
   "metadata": {},
   "outputs": [
    {
     "data": {
      "text/plain": [
       "[(1, 2),\n",
       " (1, 3),\n",
       " (1, 4),\n",
       " (1, 5),\n",
       " (1, 6),\n",
       " (2, 1),\n",
       " (2, 3),\n",
       " (2, 4),\n",
       " (2, 5),\n",
       " (2, 6),\n",
       " (3, 1),\n",
       " (3, 2),\n",
       " (3, 4),\n",
       " (3, 5),\n",
       " (3, 6),\n",
       " (4, 1),\n",
       " (4, 2),\n",
       " (4, 3),\n",
       " (4, 5),\n",
       " (4, 6),\n",
       " (5, 1),\n",
       " (5, 2),\n",
       " (5, 3),\n",
       " (5, 4),\n",
       " (5, 6),\n",
       " (6, 1),\n",
       " (6, 2),\n",
       " (6, 3),\n",
       " (6, 4),\n",
       " (6, 5)]"
      ]
     },
     "execution_count": 4,
     "metadata": {},
     "output_type": "execute_result"
    }
   ],
   "source": [
    "list(itertools.permutations(sample_space_list, r=2))"
   ]
  },
  {
   "cell_type": "code",
   "execution_count": 5,
   "id": "53821c20-1f15-4977-8f4d-9d0d4886492f",
   "metadata": {},
   "outputs": [
    {
     "data": {
      "text/plain": [
       "[(1, 2),\n",
       " (1, 3),\n",
       " (1, 4),\n",
       " (1, 5),\n",
       " (1, 6),\n",
       " (2, 3),\n",
       " (2, 4),\n",
       " (2, 5),\n",
       " (2, 6),\n",
       " (3, 4),\n",
       " (3, 5),\n",
       " (3, 6),\n",
       " (4, 5),\n",
       " (4, 6),\n",
       " (5, 6)]"
      ]
     },
     "execution_count": 5,
     "metadata": {},
     "output_type": "execute_result"
    }
   ],
   "source": [
    "list(itertools.combinations(sample_space_list, r=2))"
   ]
  },
  {
   "cell_type": "code",
   "execution_count": 6,
   "id": "892e553a-4d26-49c3-9c96-5a32e8ad80dc",
   "metadata": {},
   "outputs": [],
   "source": [
    "power_set = []\n",
    "\n",
    "# Generate subsets of all lengths\n",
    "for r in range(len(sample_space_list)+1):\n",
    "    subsets = itertools.combinations(sample_space_list, r)\n",
    "    power_set.extend(subsets)"
   ]
  },
  {
   "cell_type": "code",
   "execution_count": 7,
   "id": "5b5f1304-4400-4036-bb27-170965bfa3ea",
   "metadata": {},
   "outputs": [],
   "source": [
    "event_space = [set(t) for t in sorted(power_set, key=lambda x: len(x))]"
   ]
  },
  {
   "cell_type": "code",
   "execution_count": 8,
   "id": "9f242af7-19c8-421e-8b4e-8bdfc961510b",
   "metadata": {},
   "outputs": [],
   "source": [
    "event_1 = event_space[13]\n",
    "event_2 = event_space[1]"
   ]
  },
  {
   "cell_type": "code",
   "execution_count": 9,
   "id": "2e1395ed-3444-47f1-9a33-ba43c6739b01",
   "metadata": {},
   "outputs": [
    {
     "data": {
      "text/plain": [
       "{1, 2, 4}"
      ]
     },
     "execution_count": 9,
     "metadata": {},
     "output_type": "execute_result"
    }
   ],
   "source": [
    "event_1 | event_2"
   ]
  },
  {
   "cell_type": "code",
   "execution_count": 10,
   "id": "15de6c3a-df2e-4beb-8ead-b0a94f2999db",
   "metadata": {},
   "outputs": [
    {
     "data": {
      "text/plain": [
       "set()"
      ]
     },
     "execution_count": 10,
     "metadata": {},
     "output_type": "execute_result"
    }
   ],
   "source": [
    "event_1 & event_2"
   ]
  },
  {
   "cell_type": "code",
   "execution_count": 11,
   "id": "1757e51b-bbce-4835-8183-8aa3eb7615eb",
   "metadata": {},
   "outputs": [
    {
     "data": {
      "text/plain": [
       "{2, 4}"
      ]
     },
     "execution_count": 11,
     "metadata": {},
     "output_type": "execute_result"
    }
   ],
   "source": [
    "event_1 - event_2"
   ]
  },
  {
   "cell_type": "code",
   "execution_count": 12,
   "id": "39bed188-c509-4c3d-8e07-1f03ed50262b",
   "metadata": {},
   "outputs": [
    {
     "data": {
      "text/plain": [
       "{1, 3, 5, 6}"
      ]
     },
     "execution_count": 12,
     "metadata": {},
     "output_type": "execute_result"
    }
   ],
   "source": [
    "sample_space - event_1"
   ]
  },
  {
   "cell_type": "markdown",
   "id": "e6ec928b-4734-44cc-a869-4680fbb3c68b",
   "metadata": {},
   "source": [
    "## Example\n",
    "\n",
    "Let $\\Omega$ be the sample space of the faces of a fair die $\\{1, 2, 3, 4, 5, 6\\}$. Suppose $A$ and $B$ are the events on $\\Omega$; $A\\subseteq \\Omega$ and $B\\subseteq \\Omega$\n",
    "- Union $(A\\cup B)$\n",
    "     $$A\\cup B = \\{\\xi\\ |\\ \\xi\\in A\\ \\textbf{or}\\ \\xi \\in B\\}$$\n",
    "  **Example**: a number that is *less than 4* **or** *even*."
   ]
  },
  {
   "cell_type": "code",
   "execution_count": 5,
   "id": "3dcfc823-5155-4824-94a6-acb6bede113f",
   "metadata": {},
   "outputs": [
    {
     "data": {
      "text/plain": [
       "{1, 2, 3, 4, 6}"
      ]
     },
     "execution_count": 5,
     "metadata": {},
     "output_type": "execute_result"
    }
   ],
   "source": [
    "A = {1, 2, 3} # less than 4\n",
    "B = {2, 4, 6} # even number\n",
    "A | B # A Union B"
   ]
  },
  {
   "cell_type": "markdown",
   "id": "e98a2a20-fb24-4ac0-a948-194227f00288",
   "metadata": {},
   "source": [
    "- Intersection $(A\\cap B)$\n",
    "      $$A\\cap B = \\{\\xi\\ |\\ \\xi\\in A\\ \\textbf{and}\\ \\xi \\in B\\}$$\n",
    "  **Example**: a number that is *less than 4* **and** *even*."
   ]
  },
  {
   "cell_type": "code",
   "execution_count": 6,
   "id": "bb402003-0f53-4a64-80fa-a058b1fd8e80",
   "metadata": {},
   "outputs": [
    {
     "data": {
      "text/plain": [
       "{2}"
      ]
     },
     "execution_count": 6,
     "metadata": {},
     "output_type": "execute_result"
    }
   ],
   "source": [
    "A = {1, 2, 3} # less than 4\n",
    "B = {2, 4, 6} # even number\n",
    "A & B # A Intersect B"
   ]
  },
  {
   "cell_type": "markdown",
   "id": "20498f2e-0dcf-4117-9100-3a4e51b49090",
   "metadata": {},
   "source": [
    "- Difference $(A \\textbackslash B)$\n",
    "      $$A \\textbackslash B = \\{\\xi\\ |\\ \\xi\\in A\\  \\textbf{and}\\ \\xi \\not\\in B\\}$$\n",
    "  **Example**: a number that is *less than 4* **and not** *even*.\n",
    "  "
   ]
  },
  {
   "cell_type": "code",
   "execution_count": 7,
   "id": "b742d61d-62f8-435a-9275-8f0d52f64284",
   "metadata": {},
   "outputs": [
    {
     "data": {
      "text/plain": [
       "{1, 3}"
      ]
     },
     "execution_count": 7,
     "metadata": {},
     "output_type": "execute_result"
    }
   ],
   "source": [
    "A = {1, 2, 3} # less than 4\n",
    "B = {2, 4, 6} # even number\n",
    "A - B # A diff B"
   ]
  },
  {
   "cell_type": "markdown",
   "id": "59df2dce-2f55-4687-9b42-df9957215862",
   "metadata": {},
   "source": [
    "- Complement $(A^c)$\n",
    "      $$A^c = \\{\\xi\\ |\\ \\xi\\in \\Omega\\ \\textbf{and}\\ \\xi \\not\\in A\\}$$\n",
    "  **Example**: a number that is **not** *less than 4*."
   ]
  },
  {
   "cell_type": "code",
   "execution_count": 8,
   "id": "20db2a0b-39d6-4e7e-a15d-dbf54d9fd8e7",
   "metadata": {},
   "outputs": [
    {
     "data": {
      "text/plain": [
       "{4, 5, 6}"
      ]
     },
     "execution_count": 8,
     "metadata": {},
     "output_type": "execute_result"
    }
   ],
   "source": [
    "sample_space = {1, 2, 3, 4, 5, 6} # sample space\n",
    "A = {1, 2, 3} # less than 4\n",
    "A_c = sample_space - A # A complement\n",
    "A_c"
   ]
  },
  {
   "cell_type": "code",
   "execution_count": null,
   "id": "aa915484-2746-4f05-92e1-dcf0b6d252cd",
   "metadata": {},
   "outputs": [],
   "source": []
  }
 ],
 "metadata": {
  "kernelspec": {
   "display_name": "machine learning",
   "language": "python",
   "name": "ml"
  },
  "language_info": {
   "codemirror_mode": {
    "name": "ipython",
    "version": 3
   },
   "file_extension": ".py",
   "mimetype": "text/x-python",
   "name": "python",
   "nbconvert_exporter": "python",
   "pygments_lexer": "ipython3",
   "version": "3.12.4"
  }
 },
 "nbformat": 4,
 "nbformat_minor": 5
}
