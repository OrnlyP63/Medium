{
 "cells": [
  {
   "cell_type": "markdown",
   "id": "cfc8af37-90d8-4b69-9085-c8459b48abbf",
   "metadata": {},
   "source": [
    "# Probability\n",
    "\n",
    "<p style=\"text-align: center;\">\"Probability is a measure the size of a set.\"</p>\n",
    "\n",
    "## Sample Space\n",
    "**Example:** The set of the faces of a fair die. $$\\{1, 2, 3, 4, 5, 6\\}$$\n",
    "\n",
    "Theses six faces from a set called *\"sample space\"*, which <u>contains all possible outcomes</u>.$$\\Omega = \\{1, 2, 3, 4, 5, 6\\}$$"
   ]
  },
  {
   "cell_type": "code",
   "execution_count": 1,
   "id": "6eef7fef-10ab-4f69-a15f-a42f2f993283",
   "metadata": {},
   "outputs": [
    {
     "name": "stdout",
     "output_type": "stream",
     "text": [
      "{1, 2, 3, 4, 5, 6}\n",
      "<class 'set'>\n"
     ]
    }
   ],
   "source": [
    "sample_space = {1, 2 ,3, 4, 5, 6}\n",
    "print(sample_space)\n",
    "print(type(sample_space))"
   ]
  },
  {
   "cell_type": "markdown",
   "id": "0bf49b23-71d0-4ba0-8076-1626bea05cc0",
   "metadata": {},
   "source": [
    "## Event\n",
    "The event is the subset that is constructed from sample space. \n",
    "\n",
    "**Example 1:** \"The probability that you get *a number that is less than 5*.\"\n",
    "$$E_1 = \\text{a number that is less than 5} = \\{1, 2, 3, 4\\}$$\n",
    "\n",
    "**Example 2:** \"The probability that you get *a number that is even number*.\"\n",
    "$$E_2 = \\text{a number that is even number} = \\{2, 4, 6\\}$$"
   ]
  },
  {
   "cell_type": "code",
   "execution_count": 2,
   "id": "a6f9aa1d-c66d-42aa-bda6-41bf610a7017",
   "metadata": {},
   "outputs": [
    {
     "data": {
      "text/plain": [
       "{1, 2, 3, 4}"
      ]
     },
     "execution_count": 2,
     "metadata": {},
     "output_type": "execute_result"
    }
   ],
   "source": [
    "E_1 = {1, 2, 3, 4} \n",
    "E_1"
   ]
  },
  {
   "cell_type": "code",
   "execution_count": 3,
   "id": "92517fab-3225-4caa-a50b-471125294c3e",
   "metadata": {},
   "outputs": [
    {
     "data": {
      "text/plain": [
       "{2, 4, 6}"
      ]
     },
     "execution_count": 3,
     "metadata": {},
     "output_type": "execute_result"
    }
   ],
   "source": [
    "E_2 = {2, 4, 6} \n",
    "E_2"
   ]
  },
  {
   "cell_type": "markdown",
   "id": "0e0a4ca1-5579-41b4-9028-bea1fedffc2a",
   "metadata": {},
   "source": [
    "The necessary elements of probability\n",
    "1. Sample space: $\\Omega$\n",
    "2. Event: $E\\subseteq \\Omega$ \n",
    "3. Any events such as $E_1$ and $E_2$ can be combined to construct another event $E$\n",
    "4. Probability is a number assigned by certain **rules** such that it describes the **relative size** of the event $E$ compare with the sample space $\\Omega$."
   ]
  },
  {
   "cell_type": "code",
   "execution_count": 4,
   "id": "e742e04d-bcfa-4229-a049-6221fc42d9cd",
   "metadata": {},
   "outputs": [
    {
     "name": "stdout",
     "output_type": "stream",
     "text": [
      "{1, 2, 3, 4}\n",
      "{2, 4, 6}\n"
     ]
    }
   ],
   "source": [
    "# 1. sample space\n",
    "sample_space = {1, 2 ,3, 4, 5, 6}\n",
    "\n",
    "# 2. there are events can be constructed by some rules\n",
    "E_1 = {x for x in sample_space if x < 5}\n",
    "E_2 = {x for x in sample_space if x%2 == 0}\n",
    "print(E_1)\n",
    "print(E_2)"
   ]
  },
  {
   "cell_type": "code",
   "execution_count": 5,
   "id": "78259707-d737-4256-8cee-c37ff17b6f48",
   "metadata": {},
   "outputs": [
    {
     "name": "stdout",
     "output_type": "stream",
     "text": [
      "True\n",
      "True\n"
     ]
    }
   ],
   "source": [
    "print(E_1.issubset(sample_space))\n",
    "print(E_2.issubset(sample_space))"
   ]
  },
  {
   "cell_type": "code",
   "execution_count": 6,
   "id": "a0fbbbc7-ed75-42cc-a05e-e0a016c9beae",
   "metadata": {},
   "outputs": [
    {
     "name": "stdout",
     "output_type": "stream",
     "text": [
      "{2, 4}\n",
      "{1, 2, 3, 4, 6}\n"
     ]
    }
   ],
   "source": [
    "# 3. Any events can be combined to construct another\n",
    "print(E_1.intersection(E_2))\n",
    "print(E_1.union(E_2))"
   ]
  },
  {
   "cell_type": "code",
   "execution_count": 7,
   "id": "c1c64d0f-67ac-49a8-b0b8-01729680028f",
   "metadata": {},
   "outputs": [
    {
     "data": {
      "text/plain": [
       "True"
      ]
     },
     "execution_count": 7,
     "metadata": {},
     "output_type": "execute_result"
    }
   ],
   "source": [
    "E_1.intersection(E_2).issubset(sample_space)"
   ]
  },
  {
   "cell_type": "code",
   "execution_count": 8,
   "id": "f5b5e8e9-364e-4441-a47c-889249546dfb",
   "metadata": {},
   "outputs": [
    {
     "data": {
      "text/plain": [
       "True"
      ]
     },
     "execution_count": 8,
     "metadata": {},
     "output_type": "execute_result"
    }
   ],
   "source": [
    "E_1.union(E_2).issubset(sample_space)"
   ]
  },
  {
   "cell_type": "code",
   "execution_count": 9,
   "id": "6ce7c854-b299-4097-973d-462fdeb10aa8",
   "metadata": {},
   "outputs": [
    {
     "data": {
      "text/plain": [
       "0.6666666666666666"
      ]
     },
     "execution_count": 9,
     "metadata": {},
     "output_type": "execute_result"
    }
   ],
   "source": [
    "# 4. Probability is relative size of the event compare with sample space\n",
    "probability_of_E1 = len(E_1) / len(sample_space)\n",
    "probability_of_E1"
   ]
  },
  {
   "cell_type": "code",
   "execution_count": 10,
   "id": "b5db3bd4-e58c-4e29-ae02-56cce63bb999",
   "metadata": {},
   "outputs": [
    {
     "data": {
      "text/plain": [
       "0.5"
      ]
     },
     "execution_count": 10,
     "metadata": {},
     "output_type": "execute_result"
    }
   ],
   "source": [
    "probability_of_E2 = len(E_2) / len(sample_space)\n",
    "probability_of_E2"
   ]
  },
  {
   "cell_type": "code",
   "execution_count": null,
   "id": "f34e0973-1774-4448-9156-9b10b99ef4b1",
   "metadata": {},
   "outputs": [],
   "source": []
  }
 ],
 "metadata": {
  "kernelspec": {
   "display_name": "machine learning",
   "language": "python",
   "name": "ml"
  },
  "language_info": {
   "codemirror_mode": {
    "name": "ipython",
    "version": 3
   },
   "file_extension": ".py",
   "mimetype": "text/x-python",
   "name": "python",
   "nbconvert_exporter": "python",
   "pygments_lexer": "ipython3",
   "version": "3.12.4"
  }
 },
 "nbformat": 4,
 "nbformat_minor": 5
}
