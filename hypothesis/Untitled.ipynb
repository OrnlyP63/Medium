{
 "cells": [
  {
   "cell_type": "markdown",
   "id": "3dd496d3-9c5d-49e3-a742-bf47eae13c05",
   "metadata": {},
   "source": [
    "# $H\\to Q$"
   ]
  },
  {
   "cell_type": "markdown",
   "id": "ef73efaf-7e33-40e4-9134-85a25bf6bd75",
   "metadata": {},
   "source": [
    "# $Q\\not\\to H$"
   ]
  },
  {
   "cell_type": "code",
   "execution_count": null,
   "id": "0c1ebcd6-6a5a-4dcd-8c32-bccab2f7c953",
   "metadata": {},
   "outputs": [],
   "source": []
  }
 ],
 "metadata": {
  "kernelspec": {
   "display_name": "AIML",
   "language": "python",
   "name": "aiml"
  },
  "language_info": {
   "codemirror_mode": {
    "name": "ipython",
    "version": 3
   },
   "file_extension": ".py",
   "mimetype": "text/x-python",
   "name": "python",
   "nbconvert_exporter": "python",
   "pygments_lexer": "ipython3",
   "version": "3.8.12"
  }
 },
 "nbformat": 4,
 "nbformat_minor": 5
}
