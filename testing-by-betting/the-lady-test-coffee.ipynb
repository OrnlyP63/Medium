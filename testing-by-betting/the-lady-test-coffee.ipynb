{
 "cells": [
  {
   "cell_type": "markdown",
   "id": "88b7816a",
   "metadata": {},
   "source": [
    "[link](https://www.youtube.com/watch?v=N3N26HQBWow&t=2125s)  \n",
    "$H_0$: no difference between M in C and C in M.\n",
    "\n",
    "Let $R_i$ be reward at prediction $i$ th.  \n",
    "Let $L_i$ be wealth at predction $i$ th where $L_0 = 1$ is initial wealth.  \n",
    "Let $\\lambda_i$ be the fraction to bet at time $i$.  \n",
    "\n",
    "So, we can define \n",
    "\n",
    "$$L_t := \\prod_{i=1}^t (1 + \\lambda_iR_i)$$\n",
    "\n",
    "where $\\lambda_i$ are predictable bets in $[0, 1]$\n",
    "\n",
    "\n",
    "\n",
    "Under the null, $(L_t)_{t\\in\\mathbb{N}}$ in a nonnegative martingale (\"fair game\").\n",
    "\n",
    "**Optional stopping theorem**\n",
    "\n",
    "At any stopping time $\\tau$, $$\\mathbb{E}_{H_0}[L_{\\tau}] = 1$$\n",
    "\n",
    "**Ville's inequality** (uniform Markov's for nonnegative supermartingales)\n",
    "$$\\mathbb{P}\\left(\\exists t\\in\\mathbb{N}: L_t > \\frac{1}{\\alpha}\\right) \\leq \\alpha$$\n",
    "\n",
    "Set $\\frac{1}{\\alpha} = \\frac{1}{0.02} = 50$\n",
    "\n",
    "If betting turns one into fifty, the null is unlikely to hold.\n",
    "\n",
    "- $L_t$ measures evidence against $H_0$ (betting score, or e-value).\n",
    "- $\\inf_{s\\leq t}\\frac{1}{L_s}$ is an \"anytime-valid\" p-value.\n",
    "- $\\{L_t > \\frac{1}{\\alpha}\\}$ is a level-$\\alpha$ sequential test for $H_0$."
   ]
  },
  {
   "cell_type": "code",
   "execution_count": null,
   "id": "6ca48c3c",
   "metadata": {},
   "outputs": [],
   "source": []
  }
 ],
 "metadata": {
  "kernelspec": {
   "display_name": "mlproject-UivGzM_6",
   "language": "python",
   "name": "python3"
  },
  "language_info": {
   "name": "python",
   "version": "3.13.2"
  }
 },
 "nbformat": 4,
 "nbformat_minor": 5
}
