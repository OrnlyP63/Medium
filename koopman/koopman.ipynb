{
 "cells": [
  {
   "cell_type": "markdown",
   "id": "59fa8b24-e6d3-4bcc-acef-4eb77c0f2cbf",
   "metadata": {},
   "source": [
    "# The Koopman Operator\n",
    "\n",
    "- Dynamics \n",
    "\n",
    "$$\\begin{align}\n",
    "\\frac{d}{dx}x = f(x) &\\Longrightarrow \\mathbf{F}_t(x(t_0)) = x(t_0 + t) = x(t_0) + \\int_{t_0}^{t_0+t}f(x(\\tau))d\\tau\\\\\n",
    "&\\Longrightarrow x_{k+1} = \\mathbf{F}_t(x_k) \\quad \\text{Discrete-time update}\n",
    "\\end{align}$$\n",
    "\n",
    "- Koopman operator  \n",
    "    \n",
    "\n",
    "$$\\begin{align}\n",
    "\\mathcal{K}_t g = g \\circ \\mathbf{F}_t&\\Longrightarrow \\mathcal{K}_t g(x_k) = g(\\mathbf{F}_t(x_k)) = g(x_{k+1})\\\\\n",
    "&\\Longrightarrow g(x_{k+1}) =\\mathcal{K}_t g(x_k) \\quad \\text{Discrete-time update}\n",
    "\\end{align}$$\n",
    "\n",
    "Koopman operation $\\mathcal{K}$ is infinite dimensional and linear.  \n",
    "continuous version $$\\frac{d}{dt} g = \\mathcal{K}g$$"
   ]
  },
  {
   "cell_type": "markdown",
   "id": "0e67edb9-67c9-48da-b40e-6b033bab16cb",
   "metadata": {},
   "source": [
    "## Example\n",
    "\n",
    "Nonliear dyanamics:\n",
    "\n",
    "$$\\begin{align}\n",
    "\\dot x_1 &= \\mu x_1\\\\\n",
    "\\dot x_2 &= \\lambda(x_2 - x_1^2)\n",
    "\\end{align}$$\n",
    "\n",
    "Koopman linear system:\n",
    "\n",
    "$$\\frac{d}{dt}\n",
    "\\begin{bmatrix}\n",
    "y_1\\\\ y_2\\\\ y_3\n",
    "\\end{bmatrix}\n",
    "= \n",
    "\\begin{bmatrix}\n",
    "\\mu & 0 & 0\\\\\n",
    "0 & \\lambda & -\\lambda\\\\\n",
    "0 & 0 & 2\\mu\n",
    "\\end{bmatrix}\n",
    "\\begin{bmatrix}\n",
    "y_1\\\\ y_2\\\\ y_3\n",
    "\\end{bmatrix}\\quad\n",
    "\\text{for}\\quad\n",
    "\\begin{bmatrix}\n",
    "y_1\\\\ y_2\\\\ y_3\n",
    "\\end{bmatrix}\n",
    "=\n",
    "\\begin{bmatrix}\n",
    "x_1\\\\ x_2\\\\ x_1^2\n",
    "\\end{bmatrix}\n",
    "$$\n",
    "\n",
    "Note: $\\frac{dx_1^2}{dt} = \\frac{d x_1^2}{dx_1}\\frac{dx_1}{dt} = 2x_1 \\dot x_1 = 2\\mu x_1^2 = 2\\mu y_3$"
   ]
  },
  {
   "cell_type": "markdown",
   "id": "34f68485-849a-4a8a-83e1-6ec6a9e79eb6",
   "metadata": {},
   "source": [
    "## Koopman-invariant subspace that include the state\n",
    "\n",
    "Dynamics:\n",
    "\n",
    "$$\\frac{d}{dt}x = f(x) \\Longrightarrow \\frac{d}{dt} \n",
    "\\begin{bmatrix}\n",
    "x_1\\\\ x_2\\\\ \\vdots \\\\ x_n\n",
    "\\end{bmatrix}\n",
    "=\n",
    "\\begin{bmatrix}\n",
    "f_1(x_1, x_2, \\cdots, x_n)\\\\ f_2(x_1, x_2, \\cdots, x_n)\\\\ \\vdots \\\\ f_n(x_1, x_2, \\cdots, x_n)\n",
    "\\end{bmatrix}\n",
    "$$\n",
    "\n",
    "Dynamics in span of observables:\n",
    "\n",
    "$$f_k(x_1, x_2, \\cdots, x_n) = c_{k, 1}y_{s_1} + c_{k, 2}y_{s_2} + \\cdots + c_{k, m}y_{s_m}$$\n",
    "\n",
    "Linear Koopman system that advances nonlinear state dynamics\n",
    "\n",
    "$$\\frac{d}{dt} \n",
    "\\begin{bmatrix}\n",
    "y_1\\\\ y_2\\\\ \\vdots \\\\ y_n \\\\ y_{n+1} \\\\ \\vdots \\\\ y_m\n",
    "\\end{bmatrix}\n",
    "=\n",
    "\\begin{bmatrix}\n",
    "c_{1, 1} & c_{1, 2} & \\cdots & c_{1, n} & c_{1, n+1} & \\cdots & c_{1, m}\\\\\n",
    "c_{2, 1} & c_{2, 2} & \\cdots & c_{2, n} & c_{2, n+1} & \\cdots & c_{2, m}\\\\\n",
    "\\vdots & \\vdots & \\ddots & \\vdots & \\vdots & \\ddots & \\vdots \\\\\n",
    "c_{n, 1} & c_{n, 2} & \\cdots & c_{n, n} & c_{n, n+1} & \\cdots & c_{n, m}\\\\\n",
    "? & ? & \\cdots & ? & ? & \\cdots & ?\\\\\n",
    "\\vdots & \\vdots & \\ddots & \\vdots & \\vdots & \\ddots & \\vdots \\\\\n",
    "? & ? & \\cdots & ? & ? & \\cdots & ?\\\\\n",
    "\\end{bmatrix}\n",
    "$$"
   ]
  },
  {
   "cell_type": "markdown",
   "id": "0e51fced-f42f-435e-8cf5-ef1e94de8f8f",
   "metadata": {},
   "source": [
    "## Doesn't work with the Logistic map\n",
    "\n",
    "It is not possible to represent a system with multiple fixed points with any finite-dimensional linear system\n",
    "\n",
    "Logistic map $$x_{k+1} = rx_k(1-x_k)$$\n",
    "\n",
    "candidate observable\n",
    "$$\n",
    "y_k = \\begin{bmatrix}x \\\\ x^2 \\end{bmatrix}_k \\triangleq\n",
    "\\begin{bmatrix}x_k \\\\ x_k^2 \\end{bmatrix}\n",
    "$$\n",
    "\n",
    "Need higher terms\n",
    "$$\n",
    "\\begin{align}\n",
    "x_{k+1}^2 &= (rx_k(1-x_k))^2\\\\\n",
    "&= r^2(x_k^2 - 2x_k^3 + x_k^4)\n",
    "\\end{align}\n",
    "$$"
   ]
  },
  {
   "cell_type": "code",
   "execution_count": 1,
   "id": "85d5d2df-bc49-430a-b5b1-c4efbdf99624",
   "metadata": {},
   "outputs": [],
   "source": [
    "import numpy as np\n",
    "import matplotlib.pyplot as plt"
   ]
  },
  {
   "cell_type": "code",
   "execution_count": 2,
   "id": "4d4bb6df-f8df-4e8d-9789-61433db1f4b0",
   "metadata": {},
   "outputs": [],
   "source": [
    "mu = -0.1 # mu\n",
    "lambda_ = 1 # lambda\n",
    "A = np.array([[mu, 0, 0],\n",
    "              [0, lambda_, lambda_],\n",
    "              [0, 0, 2*mu]])\n",
    "\n",
    "B = np.array([[0], [1], [0]])\n",
    "\n",
    "vf = lambda t, x, u: A@x + np.array([[0], [-l * x[1]^2]]) + B * u"
   ]
  },
  {
   "cell_type": "code",
   "execution_count": null,
   "id": "2a8549c3-26c1-4a2f-9f2d-3feb9cf14c09",
   "metadata": {},
   "outputs": [],
   "source": []
  }
 ],
 "metadata": {
  "kernelspec": {
   "display_name": "AIML",
   "language": "python",
   "name": "aiml"
  },
  "language_info": {
   "codemirror_mode": {
    "name": "ipython",
    "version": 3
   },
   "file_extension": ".py",
   "mimetype": "text/x-python",
   "name": "python",
   "nbconvert_exporter": "python",
   "pygments_lexer": "ipython3",
   "version": "3.8.17"
  }
 },
 "nbformat": 4,
 "nbformat_minor": 5
}
