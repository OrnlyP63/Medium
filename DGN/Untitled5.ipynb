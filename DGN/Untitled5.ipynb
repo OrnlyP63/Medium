{
 "cells": [
  {
   "cell_type": "code",
   "execution_count": 1,
   "id": "8fd3f18d-1d3a-4df7-9236-5b4c2625da8d",
   "metadata": {},
   "outputs": [],
   "source": [
    "import torch"
   ]
  },
  {
   "cell_type": "code",
   "execution_count": 2,
   "id": "23bcb54a-0311-41ba-a31d-6d765459f7f0",
   "metadata": {},
   "outputs": [],
   "source": [
    "x = torch.normal(0, 1, [31, 455])\n",
    "h = torch.normal(0, 1, [100, 20, 31])\n",
    "\n",
    "g = torch.matmul(h, x)\n",
    "g = torch.heaviside(g, torch.tensor(0.))\n",
    "\n",
    "w = torch.normal(0, 1, [100, 20, 31]) "
   ]
  },
  {
   "cell_type": "code",
   "execution_count": 3,
   "id": "0c5fc87e-3a41-45f5-9bc0-31be45cd7dc9",
   "metadata": {},
   "outputs": [],
   "source": [
    "target = torch.ones([455, 1])"
   ]
  },
  {
   "cell_type": "code",
   "execution_count": 4,
   "id": "f8f801c7-d008-43e2-bec8-9358adc98d68",
   "metadata": {},
   "outputs": [
    {
     "data": {
      "text/plain": [
       "(torch.Size([100, 20, 455]), torch.Size([100, 20, 31]))"
      ]
     },
     "execution_count": 4,
     "metadata": {},
     "output_type": "execute_result"
    }
   ],
   "source": [
    "g.shape, w.shape"
   ]
  },
  {
   "cell_type": "markdown",
   "id": "9b15cf15-6d0d-42e5-a3a3-6828d27488e9",
   "metadata": {},
   "source": [
    "# For Loop"
   ]
  },
  {
   "cell_type": "code",
   "execution_count": 5,
   "id": "0458eced-c26d-426c-aa8e-6ff9c52ea225",
   "metadata": {},
   "outputs": [],
   "source": [
    "res = []\n",
    "for i in range(g.shape[2]):\n",
    "    g_i = g[:, :, i]\n",
    "    r = torch.matmul(g_i, w)\n",
    "    res.append(r.sum(dim=1))\n",
    "\n",
    "ew = torch.stack(res)"
   ]
  },
  {
   "cell_type": "code",
   "execution_count": 6,
   "id": "bcb48c81-919d-46a4-ba69-34625c58c31d",
   "metadata": {},
   "outputs": [
    {
     "data": {
      "text/plain": [
       "torch.Size([455, 100, 31])"
      ]
     },
     "execution_count": 6,
     "metadata": {},
     "output_type": "execute_result"
    }
   ],
   "source": [
    "ew.shape"
   ]
  },
  {
   "cell_type": "code",
   "execution_count": 7,
   "id": "5a3ce2a7-ad8e-4a49-b04a-bcb93e3c22f6",
   "metadata": {},
   "outputs": [
    {
     "data": {
      "text/plain": [
       "torch.Size([31, 455])"
      ]
     },
     "execution_count": 7,
     "metadata": {},
     "output_type": "execute_result"
    }
   ],
   "source": [
    "x.shape"
   ]
  },
  {
   "cell_type": "code",
   "execution_count": 8,
   "id": "f5f5e777-6774-457a-a000-305c1c2e910c",
   "metadata": {},
   "outputs": [],
   "source": [
    "res = []\n",
    "for i in range(ew.shape[0]):\n",
    "    x_i = x[:, i]\n",
    "    ew_i = ew[i, :, :]\n",
    "    \n",
    "    res.append(torch.matmul(ew_i, x_i))\n",
    "\n",
    "r_output = torch.stack(res)"
   ]
  },
  {
   "cell_type": "code",
   "execution_count": 9,
   "id": "36904865-bf93-4a3f-808b-e47e06b8f46e",
   "metadata": {},
   "outputs": [
    {
     "data": {
      "text/plain": [
       "torch.Size([455, 100])"
      ]
     },
     "execution_count": 9,
     "metadata": {},
     "output_type": "execute_result"
    }
   ],
   "source": [
    "r_output.shape"
   ]
  },
  {
   "cell_type": "code",
   "execution_count": 10,
   "id": "6e69842a-8119-4d09-8339-d994f045c23d",
   "metadata": {},
   "outputs": [],
   "source": [
    "d = r_output - target"
   ]
  },
  {
   "cell_type": "code",
   "execution_count": 11,
   "id": "d3c2fdba-2e9c-4a3d-8f6a-46f47b06994e",
   "metadata": {},
   "outputs": [
    {
     "data": {
      "text/plain": [
       "torch.Size([31, 455])"
      ]
     },
     "execution_count": 11,
     "metadata": {},
     "output_type": "execute_result"
    }
   ],
   "source": [
    "x.shape"
   ]
  },
  {
   "cell_type": "code",
   "execution_count": 13,
   "id": "16f91ad1-e4f2-4f6e-8457-1e77b43e6924",
   "metadata": {},
   "outputs": [
    {
     "data": {
      "text/plain": [
       "torch.Size([100, 20, 1, 455])"
      ]
     },
     "execution_count": 13,
     "metadata": {},
     "output_type": "execute_result"
    }
   ],
   "source": [
    "g[:, :, None].shape"
   ]
  },
  {
   "cell_type": "code",
   "execution_count": 20,
   "id": "fa25322e-3546-4073-b1d1-813d6a74eca0",
   "metadata": {},
   "outputs": [],
   "source": [
    "# res = []\n",
    "# for i in range(d.shape[1]):\n",
    "#     x_i = x[:, i]\n",
    "#     d_i = d[i, :]\n",
    "#     grad = d_i[:, None] * x_i[None]\n",
    "#     r = g[:, :, None] * grad[:, None]\n",
    "    \n",
    "#     res.append(r)\n",
    "    \n",
    "# res = torch.stack(res) #.mean(dim=0)"
   ]
  },
  {
   "cell_type": "markdown",
   "id": "c8b1a6e2-7f16-4257-96b5-767f9a8a1e91",
   "metadata": {},
   "source": [
    "# Vectorization"
   ]
  },
  {
   "cell_type": "code",
   "execution_count": 15,
   "id": "929c585d-5d39-44f5-aab1-4f612ca61d44",
   "metadata": {
    "tags": []
   },
   "outputs": [
    {
     "data": {
      "text/plain": [
       "torch.Size([455, 100, 31])"
      ]
     },
     "execution_count": 15,
     "metadata": {},
     "output_type": "execute_result"
    }
   ],
   "source": [
    "ew_vec = torch.tensordot(g, w, dims=([1], [1])).sum(dim=0)\n",
    "ew_vec.shape"
   ]
  },
  {
   "cell_type": "code",
   "execution_count": 16,
   "id": "fa3370a9-4ff7-4720-9b39-a3ccc32e2467",
   "metadata": {},
   "outputs": [
    {
     "data": {
      "text/plain": [
       "True"
      ]
     },
     "execution_count": 16,
     "metadata": {},
     "output_type": "execute_result"
    }
   ],
   "source": [
    "torch.allclose(ew_vec, ew, rtol=1e-03, atol=1e-03)"
   ]
  },
  {
   "cell_type": "code",
   "execution_count": 17,
   "id": "0c6c914e-c146-4804-a08a-0e83ce5d025d",
   "metadata": {},
   "outputs": [],
   "source": [
    "r_output_vec = torch.einsum('ijk,ki->ij', ew_vec, x)"
   ]
  },
  {
   "cell_type": "code",
   "execution_count": 18,
   "id": "ee659737-576e-4ea3-82be-e052f88c9d32",
   "metadata": {},
   "outputs": [
    {
     "data": {
      "text/plain": [
       "True"
      ]
     },
     "execution_count": 18,
     "metadata": {},
     "output_type": "execute_result"
    }
   ],
   "source": [
    "torch.allclose(r_output_vec, r_output, rtol=1e-03, atol=1e-03)"
   ]
  },
  {
   "cell_type": "code",
   "execution_count": 19,
   "id": "58b2aaa7-4d83-40e7-a156-4579be80751e",
   "metadata": {},
   "outputs": [],
   "source": [
    "d_vec = r_output_vec - target"
   ]
  },
  {
   "cell_type": "code",
   "execution_count": null,
   "id": "41b8f240-3028-4cc2-a45e-ed8c69b96346",
   "metadata": {},
   "outputs": [],
   "source": []
  }
 ],
 "metadata": {
  "kernelspec": {
   "display_name": "machine learning",
   "language": "python",
   "name": "ml"
  },
  "language_info": {
   "codemirror_mode": {
    "name": "ipython",
    "version": 3
   },
   "file_extension": ".py",
   "mimetype": "text/x-python",
   "name": "python",
   "nbconvert_exporter": "python",
   "pygments_lexer": "ipython3",
   "version": "3.12.4"
  }
 },
 "nbformat": 4,
 "nbformat_minor": 5
}
