{
 "cells": [
  {
   "cell_type": "markdown",
   "id": "a7878480-6039-442c-b95b-27d7f96c7204",
   "metadata": {},
   "source": [
    "[link](https://github.com/google-deepmind/deepmind-research/blob/master/gated_linear_networks/colabs/dendritic_gated_network.ipynb)"
   ]
  },
  {
   "cell_type": "code",
   "execution_count": 1,
   "id": "2405d431-e03b-41c1-992c-8e76143bf9de",
   "metadata": {},
   "outputs": [],
   "source": [
    "import numpy as np\n",
    "from sklearn import datasets\n",
    "from sklearn import preprocessing\n",
    "from sklearn import model_selection"
   ]
  },
  {
   "cell_type": "code",
   "execution_count": 2,
   "id": "3ac3d61c-4843-4827-b42b-6865931496b1",
   "metadata": {},
   "outputs": [],
   "source": [
    "features, targets = datasets.load_breast_cancer(return_X_y=True)"
   ]
  },
  {
   "cell_type": "code",
   "execution_count": 3,
   "id": "07341d94-8e9f-4076-94c2-2866ffdfe0a8",
   "metadata": {},
   "outputs": [
    {
     "data": {
      "text/plain": [
       "(569, 30)"
      ]
     },
     "execution_count": 3,
     "metadata": {},
     "output_type": "execute_result"
    }
   ],
   "source": [
    "features.shape"
   ]
  },
  {
   "cell_type": "code",
   "execution_count": 4,
   "id": "ff612ea0-574a-45b1-a4a1-564626dbdbd7",
   "metadata": {},
   "outputs": [],
   "source": [
    "x_train, x_test, y_train, y_test = model_selection.train_test_split(features, targets, test_size=0.2, random_state=0)"
   ]
  },
  {
   "cell_type": "code",
   "execution_count": 5,
   "id": "1b716625-955b-4841-b01e-f60dec4af3d8",
   "metadata": {},
   "outputs": [
    {
     "data": {
      "text/plain": [
       "30"
      ]
     },
     "execution_count": 5,
     "metadata": {},
     "output_type": "execute_result"
    }
   ],
   "source": [
    "n_features = x_train.shape[-1]\n",
    "n_features"
   ]
  },
  {
   "cell_type": "code",
   "execution_count": 6,
   "id": "23a0a4ad-47f0-49b6-ab11-ebcd1a8f1a12",
   "metadata": {},
   "outputs": [],
   "source": [
    "# Input features are centered and scaled to unit variance:\n",
    "feature_encoder = preprocessing.StandardScaler()\n",
    "x_train = feature_encoder.fit_transform(x_train)\n",
    "x_test = feature_encoder.transform(x_test)"
   ]
  },
  {
   "cell_type": "code",
   "execution_count": 7,
   "id": "ad1fc7a6-ab37-4865-829c-b879a6c4d20f",
   "metadata": {},
   "outputs": [
    {
     "data": {
      "text/plain": [
       "(455, 114)"
      ]
     },
     "execution_count": 7,
     "metadata": {},
     "output_type": "execute_result"
    }
   ],
   "source": [
    "x_train.shape[0], x_test.shape[0]"
   ]
  },
  {
   "cell_type": "code",
   "execution_count": 8,
   "id": "a257659e-3563-4e2b-9a40-3f32d9890fe6",
   "metadata": {},
   "outputs": [],
   "source": [
    "# number of neurons per layer, the last element must be 1\n",
    "n_neurons = np.array([100, 10, 1])\n",
    "n_branches = 20  # number of dendritic brancher per neuron"
   ]
  },
  {
   "cell_type": "code",
   "execution_count": 9,
   "id": "7932bdd9-6563-4a69-9a54-1c152ed39f89",
   "metadata": {},
   "outputs": [
    {
     "data": {
      "text/plain": [
       "array([100,  10,   1])"
      ]
     },
     "execution_count": 9,
     "metadata": {},
     "output_type": "execute_result"
    }
   ],
   "source": [
    "n_neurons"
   ]
  },
  {
   "cell_type": "code",
   "execution_count": 10,
   "id": "d4c5f33d-ece4-4dbc-baf4-96d915e7e7f1",
   "metadata": {},
   "outputs": [],
   "source": [
    "n_inputs = np.hstack([n_features + 1, n_neurons[:-1] + 1])"
   ]
  },
  {
   "cell_type": "code",
   "execution_count": 11,
   "id": "6c024e26-a55a-4ce9-ad87-c498641ed86c",
   "metadata": {},
   "outputs": [
    {
     "data": {
      "text/plain": [
       "array([ 31, 101,  11])"
      ]
     },
     "execution_count": 11,
     "metadata": {},
     "output_type": "execute_result"
    }
   ],
   "source": [
    "n_inputs"
   ]
  },
  {
   "cell_type": "code",
   "execution_count": 12,
   "id": "48f85a00-2900-4a51-88b2-b1c26bbe52ca",
   "metadata": {},
   "outputs": [],
   "source": [
    "dgn_weights = [np.zeros((n_neuron, n_branches, n_input)) for n_neuron, n_input in zip(n_neurons, n_inputs)]"
   ]
  },
  {
   "cell_type": "code",
   "execution_count": 13,
   "id": "7d387392-3ec2-4115-9668-e0c114275220",
   "metadata": {},
   "outputs": [
    {
     "data": {
      "text/plain": [
       "(100, 20, 31)"
      ]
     },
     "execution_count": 13,
     "metadata": {},
     "output_type": "execute_result"
    }
   ],
   "source": [
    "dgn_weights[0].shape"
   ]
  },
  {
   "cell_type": "code",
   "execution_count": 14,
   "id": "74626913-741b-477d-abeb-3a0aeaf27129",
   "metadata": {},
   "outputs": [
    {
     "data": {
      "text/plain": [
       "(10, 20, 101)"
      ]
     },
     "execution_count": 14,
     "metadata": {},
     "output_type": "execute_result"
    }
   ],
   "source": [
    "dgn_weights[1].shape"
   ]
  },
  {
   "cell_type": "code",
   "execution_count": 15,
   "id": "143a0073-baa8-422e-a9d8-205f63ce54fa",
   "metadata": {},
   "outputs": [
    {
     "data": {
      "text/plain": [
       "(1, 20, 11)"
      ]
     },
     "execution_count": 15,
     "metadata": {},
     "output_type": "execute_result"
    }
   ],
   "source": [
    "dgn_weights[2].shape"
   ]
  },
  {
   "cell_type": "code",
   "execution_count": 16,
   "id": "039a5003-2435-44c1-ac8e-3c498145d515",
   "metadata": {},
   "outputs": [],
   "source": [
    "dgn_hyperplanes = [np.random.normal(0, 1, size=(n_neuron, n_branches, n_features + 1)) for n_neuron in n_neurons]"
   ]
  },
  {
   "cell_type": "code",
   "execution_count": 17,
   "id": "f4a4ccb2-8fac-4a47-95d3-d39e3f4e8697",
   "metadata": {},
   "outputs": [
    {
     "data": {
      "text/plain": [
       "(100, 20, 31)"
      ]
     },
     "execution_count": 17,
     "metadata": {},
     "output_type": "execute_result"
    }
   ],
   "source": [
    "dgn_hyperplanes[0].shape"
   ]
  },
  {
   "cell_type": "code",
   "execution_count": 18,
   "id": "82ce6519-aa2e-4401-aee6-358ac9dcd78b",
   "metadata": {},
   "outputs": [],
   "source": [
    "dgn_hyperplanes = [\n",
    "    h_ / np.linalg.norm(h_[:, :, :-1], axis=(1, 2))[:, None, None]\n",
    "    for h_ in dgn_hyperplanes]"
   ]
  },
  {
   "cell_type": "code",
   "execution_count": 19,
   "id": "356c3d82-4d38-4321-994e-de65cd04ffb1",
   "metadata": {},
   "outputs": [
    {
     "data": {
      "text/plain": [
       "(100, 20, 31)"
      ]
     },
     "execution_count": 19,
     "metadata": {},
     "output_type": "execute_result"
    }
   ],
   "source": [
    "dgn_hyperplanes[0].shape"
   ]
  },
  {
   "cell_type": "code",
   "execution_count": 20,
   "id": "9d7c099e-3702-4682-93e0-695b6e518584",
   "metadata": {},
   "outputs": [],
   "source": [
    "i = 0\n",
    "for i, x_i in enumerate(x_train):\n",
    "    if i == 2:\n",
    "        break\n",
    "\n",
    "for w, h in zip(dgn_weights, dgn_hyperplanes):\n",
    "    break"
   ]
  },
  {
   "cell_type": "code",
   "execution_count": 21,
   "id": "1316d151-cf7c-4944-82ba-666ade8fdcbb",
   "metadata": {},
   "outputs": [],
   "source": [
    "target = 1"
   ]
  },
  {
   "cell_type": "code",
   "execution_count": 22,
   "id": "c7d00fba-6d81-4909-86ce-0f84cbf655e7",
   "metadata": {},
   "outputs": [
    {
     "data": {
      "text/plain": [
       "(31,)"
      ]
     },
     "execution_count": 22,
     "metadata": {},
     "output_type": "execute_result"
    }
   ],
   "source": [
    "side_info = np.hstack([1., x_i])\n",
    "side_info.shape"
   ]
  },
  {
   "cell_type": "code",
   "execution_count": 23,
   "id": "639af8af-ca60-457e-841d-2f16a62fe4e0",
   "metadata": {},
   "outputs": [
    {
     "data": {
      "text/plain": [
       "array([ 1.        ,  0.574121  , -1.03333557,  0.51394098,  0.40858627,\n",
       "       -0.10616078, -0.36301886, -0.41799048, -0.08844569, -0.27182044,\n",
       "       -0.57522132, -0.57672579, -1.05784511, -0.53856037, -0.38708923,\n",
       "       -1.07211882, -0.72057496, -0.42362791, -0.49218988, -0.67484362,\n",
       "       -0.80147288,  0.29761532, -0.97781783,  0.26213665,  0.11388819,\n",
       "       -0.52472419, -0.52086645, -0.18298917, -0.02371948, -0.20050207,\n",
       "       -0.75144254])"
      ]
     },
     "execution_count": 23,
     "metadata": {},
     "output_type": "execute_result"
    }
   ],
   "source": [
    "r_in = np.hstack([1., x_i])\n",
    "r_in"
   ]
  },
  {
   "cell_type": "code",
   "execution_count": 24,
   "id": "8e24b66c-5286-4abe-a091-aed0e592dfcc",
   "metadata": {},
   "outputs": [
    {
     "data": {
      "text/plain": [
       "(100, 20, 31)"
      ]
     },
     "execution_count": 24,
     "metadata": {},
     "output_type": "execute_result"
    }
   ],
   "source": [
    "h.shape"
   ]
  },
  {
   "cell_type": "code",
   "execution_count": 25,
   "id": "0faa8b61-9634-454d-bb15-bb8f8effa7b1",
   "metadata": {},
   "outputs": [
    {
     "data": {
      "text/plain": [
       "(31,)"
      ]
     },
     "execution_count": 25,
     "metadata": {},
     "output_type": "execute_result"
    }
   ],
   "source": [
    "side_info.shape"
   ]
  },
  {
   "cell_type": "code",
   "execution_count": 26,
   "id": "c73ded1e-db00-431e-9256-b27e42976e85",
   "metadata": {},
   "outputs": [
    {
     "data": {
      "text/plain": [
       "(100, 20)"
      ]
     },
     "execution_count": 26,
     "metadata": {},
     "output_type": "execute_result"
    }
   ],
   "source": [
    "h.dot(side_info).shape"
   ]
  },
  {
   "cell_type": "code",
   "execution_count": 27,
   "id": "1a3415b5-4e5f-481c-93d9-085d726da168",
   "metadata": {},
   "outputs": [
    {
     "data": {
      "text/plain": [
       "array([[False,  True,  True, ..., False,  True,  True],\n",
       "       [ True, False, False, ...,  True, False,  True],\n",
       "       [False,  True,  True, ..., False, False,  True],\n",
       "       ...,\n",
       "       [False,  True, False, ..., False,  True, False],\n",
       "       [ True, False, False, ..., False, False,  True],\n",
       "       [ True, False, False, ..., False, False, False]])"
      ]
     },
     "execution_count": 27,
     "metadata": {},
     "output_type": "execute_result"
    }
   ],
   "source": [
    "gate_values = np.heaviside(h.dot(side_info), 0).astype(bool)\n",
    "gate_values"
   ]
  },
  {
   "cell_type": "code",
   "execution_count": 28,
   "id": "cca4ec59-c552-4f5f-9307-06a28606b7be",
   "metadata": {},
   "outputs": [
    {
     "data": {
      "text/plain": [
       "(100, 20, 31)"
      ]
     },
     "execution_count": 28,
     "metadata": {},
     "output_type": "execute_result"
    }
   ],
   "source": [
    "w.shape"
   ]
  },
  {
   "cell_type": "code",
   "execution_count": 29,
   "id": "94266ec8-bdff-46b1-8e7e-70f1fc7ecc18",
   "metadata": {},
   "outputs": [
    {
     "data": {
      "text/plain": [
       "(100, 20)"
      ]
     },
     "execution_count": 29,
     "metadata": {},
     "output_type": "execute_result"
    }
   ],
   "source": [
    "gate_values.shape"
   ]
  },
  {
   "cell_type": "code",
   "execution_count": 30,
   "id": "8781718d-2921-4fa8-aa35-1072bb516be7",
   "metadata": {},
   "outputs": [
    {
     "data": {
      "text/plain": [
       "array([[0., 0., 0., ..., 0., 0., 0.],\n",
       "       [0., 0., 0., ..., 0., 0., 0.],\n",
       "       [0., 0., 0., ..., 0., 0., 0.],\n",
       "       ...,\n",
       "       [0., 0., 0., ..., 0., 0., 0.],\n",
       "       [0., 0., 0., ..., 0., 0., 0.],\n",
       "       [0., 0., 0., ..., 0., 0., 0.]])"
      ]
     },
     "execution_count": 30,
     "metadata": {},
     "output_type": "execute_result"
    }
   ],
   "source": [
    "effective_weights = gate_values.dot(w).sum(axis=1)\n",
    "effective_weights"
   ]
  },
  {
   "cell_type": "code",
   "execution_count": 48,
   "id": "5701a2fe-53d3-4cd6-a522-2bab2fe36867",
   "metadata": {},
   "outputs": [
    {
     "data": {
      "text/plain": [
       "(100, 100, 31)"
      ]
     },
     "execution_count": 48,
     "metadata": {},
     "output_type": "execute_result"
    }
   ],
   "source": [
    "gate_values.dot(w).shape"
   ]
  },
  {
   "cell_type": "code",
   "execution_count": 31,
   "id": "f988d6f3-bdca-48cc-b19e-f6334f70ad50",
   "metadata": {},
   "outputs": [
    {
     "data": {
      "text/plain": [
       "(100, 31)"
      ]
     },
     "execution_count": 31,
     "metadata": {},
     "output_type": "execute_result"
    }
   ],
   "source": [
    "effective_weights.shape"
   ]
  },
  {
   "cell_type": "code",
   "execution_count": 32,
   "id": "062642ea-385f-4f82-ae5b-94d377f8bd05",
   "metadata": {},
   "outputs": [
    {
     "data": {
      "text/plain": [
       "(31,)"
      ]
     },
     "execution_count": 32,
     "metadata": {},
     "output_type": "execute_result"
    }
   ],
   "source": [
    "r_in.shape"
   ]
  },
  {
   "cell_type": "code",
   "execution_count": 33,
   "id": "1c29415c-fc80-41b5-bfc4-7be16d577467",
   "metadata": {},
   "outputs": [],
   "source": [
    "r_out = effective_weights.dot(r_in)"
   ]
  },
  {
   "cell_type": "code",
   "execution_count": 34,
   "id": "f3c144aa-bba9-445d-a51a-59601def9624",
   "metadata": {},
   "outputs": [
    {
     "data": {
      "text/plain": [
       "(100,)"
      ]
     },
     "execution_count": 34,
     "metadata": {},
     "output_type": "execute_result"
    }
   ],
   "source": [
    "r_out.shape"
   ]
  },
  {
   "cell_type": "code",
   "execution_count": 35,
   "id": "eae739cf-47ad-4307-b652-3a66334a98a5",
   "metadata": {},
   "outputs": [
    {
     "data": {
      "text/plain": [
       "(100, 1)"
      ]
     },
     "execution_count": 35,
     "metadata": {},
     "output_type": "execute_result"
    }
   ],
   "source": [
    "r_out[:, None].shape"
   ]
  },
  {
   "cell_type": "code",
   "execution_count": 36,
   "id": "8cb122c0-7039-4226-8887-95c3553dbd4f",
   "metadata": {},
   "outputs": [
    {
     "data": {
      "text/plain": [
       "(1, 31)"
      ]
     },
     "execution_count": 36,
     "metadata": {},
     "output_type": "execute_result"
    }
   ],
   "source": [
    "r_in[None].shape"
   ]
  },
  {
   "cell_type": "code",
   "execution_count": 37,
   "id": "db513fe3-a412-4d95-bd8b-97695f4d7a80",
   "metadata": {},
   "outputs": [
    {
     "data": {
      "text/plain": [
       "array([[-1.        , -0.574121  ,  1.03333557, ...,  0.02371948,\n",
       "         0.20050207,  0.75144254],\n",
       "       [-1.        , -0.574121  ,  1.03333557, ...,  0.02371948,\n",
       "         0.20050207,  0.75144254],\n",
       "       [-1.        , -0.574121  ,  1.03333557, ...,  0.02371948,\n",
       "         0.20050207,  0.75144254],\n",
       "       ...,\n",
       "       [-1.        , -0.574121  ,  1.03333557, ...,  0.02371948,\n",
       "         0.20050207,  0.75144254],\n",
       "       [-1.        , -0.574121  ,  1.03333557, ...,  0.02371948,\n",
       "         0.20050207,  0.75144254],\n",
       "       [-1.        , -0.574121  ,  1.03333557, ...,  0.02371948,\n",
       "         0.20050207,  0.75144254]])"
      ]
     },
     "execution_count": 37,
     "metadata": {},
     "output_type": "execute_result"
    }
   ],
   "source": [
    "grad = (r_out[:, None] - target) * r_in[None]\n",
    "grad"
   ]
  },
  {
   "cell_type": "code",
   "execution_count": 38,
   "id": "79b4bf97-2b7e-4889-8939-ca31f48b4374",
   "metadata": {},
   "outputs": [
    {
     "data": {
      "text/plain": [
       "(100, 31)"
      ]
     },
     "execution_count": 38,
     "metadata": {},
     "output_type": "execute_result"
    }
   ],
   "source": [
    "grad.shape"
   ]
  },
  {
   "cell_type": "code",
   "execution_count": 39,
   "id": "fbc31de8-6232-412f-abbc-29a3f1ad91e9",
   "metadata": {},
   "outputs": [],
   "source": [
    "learning_rate = 0.001"
   ]
  },
  {
   "cell_type": "code",
   "execution_count": 40,
   "id": "c5ad20ba-9ec8-4e86-bd3a-7078aca5efa5",
   "metadata": {},
   "outputs": [
    {
     "data": {
      "text/plain": [
       "(100, 20, 1)"
      ]
     },
     "execution_count": 40,
     "metadata": {},
     "output_type": "execute_result"
    }
   ],
   "source": [
    "gate_values[:, :, None].shape"
   ]
  },
  {
   "cell_type": "code",
   "execution_count": 41,
   "id": "2be29c16-63f0-4697-9455-36d7301c9de7",
   "metadata": {
    "tags": []
   },
   "outputs": [
    {
     "data": {
      "text/plain": [
       "(100, 20)"
      ]
     },
     "execution_count": 41,
     "metadata": {},
     "output_type": "execute_result"
    }
   ],
   "source": [
    "gate_values.shape"
   ]
  },
  {
   "cell_type": "code",
   "execution_count": 42,
   "id": "ec4e2f11-355c-43aa-89ec-d9fc30a0dc90",
   "metadata": {},
   "outputs": [
    {
     "data": {
      "text/plain": [
       "(100, 1, 31)"
      ]
     },
     "execution_count": 42,
     "metadata": {},
     "output_type": "execute_result"
    }
   ],
   "source": [
    "grad[:, None].shape"
   ]
  },
  {
   "cell_type": "code",
   "execution_count": 43,
   "id": "52726304-5620-452a-adec-c9aa452bc960",
   "metadata": {},
   "outputs": [],
   "source": [
    "a = gate_values[:, :, None] * grad[:, None]"
   ]
  },
  {
   "cell_type": "code",
   "execution_count": 44,
   "id": "0e547397-a6c3-48e3-82ca-075aeb24fbc7",
   "metadata": {},
   "outputs": [
    {
     "data": {
      "text/plain": [
       "(100, 20, 31)"
      ]
     },
     "execution_count": 44,
     "metadata": {},
     "output_type": "execute_result"
    }
   ],
   "source": [
    "a.shape"
   ]
  },
  {
   "cell_type": "code",
   "execution_count": 45,
   "id": "632f29b3-0e49-4d2e-94f1-c9f2c6a79cf5",
   "metadata": {},
   "outputs": [
    {
     "data": {
      "text/plain": [
       "(100, 20, 31)"
      ]
     },
     "execution_count": 45,
     "metadata": {},
     "output_type": "execute_result"
    }
   ],
   "source": [
    "w.shape"
   ]
  },
  {
   "cell_type": "code",
   "execution_count": 46,
   "id": "7d7b2513-72a8-4727-9c85-d23a4bb26fca",
   "metadata": {},
   "outputs": [],
   "source": [
    "w -= learning_rate * gate_values[:, :, None] * grad[:, None]"
   ]
  },
  {
   "cell_type": "code",
   "execution_count": 47,
   "id": "10c487a4-0e29-4430-bc48-00bca3c73344",
   "metadata": {},
   "outputs": [
    {
     "data": {
      "text/plain": [
       "(100,)"
      ]
     },
     "execution_count": 47,
     "metadata": {},
     "output_type": "execute_result"
    }
   ],
   "source": [
    "r_out.shape"
   ]
  },
  {
   "cell_type": "code",
   "execution_count": null,
   "id": "3ed441c6-cacf-481e-97cc-05cda3995150",
   "metadata": {},
   "outputs": [],
   "source": []
  }
 ],
 "metadata": {
  "kernelspec": {
   "display_name": "machine learning",
   "language": "python",
   "name": "ml"
  },
  "language_info": {
   "codemirror_mode": {
    "name": "ipython",
    "version": 3
   },
   "file_extension": ".py",
   "mimetype": "text/x-python",
   "name": "python",
   "nbconvert_exporter": "python",
   "pygments_lexer": "ipython3",
   "version": "3.12.4"
  }
 },
 "nbformat": 4,
 "nbformat_minor": 5
}
