{
 "cells": [
  {
   "cell_type": "code",
   "execution_count": 1,
   "id": "cfa217f5-5d2b-4448-8b61-d2561ece3a0c",
   "metadata": {},
   "outputs": [],
   "source": [
    "import numpy as np\n",
    "from sklearn import datasets\n",
    "from sklearn import preprocessing\n",
    "from sklearn import model_selection"
   ]
  },
  {
   "cell_type": "code",
   "execution_count": 2,
   "id": "c40ab437-7511-4005-a3c5-999fb2c95014",
   "metadata": {},
   "outputs": [],
   "source": [
    "features, targets = datasets.load_breast_cancer(return_X_y=True)"
   ]
  },
  {
   "cell_type": "code",
   "execution_count": 3,
   "id": "95f3179b-a945-458f-a985-bc0982cd5d8f",
   "metadata": {},
   "outputs": [
    {
     "data": {
      "text/plain": [
       "(569, 30)"
      ]
     },
     "execution_count": 3,
     "metadata": {},
     "output_type": "execute_result"
    }
   ],
   "source": [
    "features.shape"
   ]
  },
  {
   "cell_type": "code",
   "execution_count": 4,
   "id": "08ed5ec3-245a-4970-91f3-2a409f986085",
   "metadata": {},
   "outputs": [],
   "source": [
    "x_train, x_test, y_train, y_test = model_selection.train_test_split(features, targets, test_size=0.2, random_state=0)"
   ]
  },
  {
   "cell_type": "code",
   "execution_count": 5,
   "id": "dc387ecc-390b-4c04-bb51-62aa98fdea0a",
   "metadata": {},
   "outputs": [
    {
     "data": {
      "text/plain": [
       "30"
      ]
     },
     "execution_count": 5,
     "metadata": {},
     "output_type": "execute_result"
    }
   ],
   "source": [
    "n_features = x_train.shape[-1]\n",
    "n_features"
   ]
  },
  {
   "cell_type": "code",
   "execution_count": 6,
   "id": "483646b3-0fc4-4f41-9bdf-916dd1ecd84e",
   "metadata": {},
   "outputs": [],
   "source": [
    "# Input features are centered and scaled to unit variance:\n",
    "feature_encoder = preprocessing.StandardScaler()\n",
    "x_train = feature_encoder.fit_transform(x_train)\n",
    "x_test = feature_encoder.transform(x_test)"
   ]
  },
  {
   "cell_type": "code",
   "execution_count": 7,
   "id": "34d3b073-742a-4518-8efb-e520b3b69748",
   "metadata": {},
   "outputs": [
    {
     "data": {
      "text/plain": [
       "(455, 114)"
      ]
     },
     "execution_count": 7,
     "metadata": {},
     "output_type": "execute_result"
    }
   ],
   "source": [
    "x_train.shape[0], x_test.shape[0]"
   ]
  },
  {
   "cell_type": "code",
   "execution_count": 8,
   "id": "2f15c306-f80b-437b-8af9-ec23e534b436",
   "metadata": {},
   "outputs": [],
   "source": [
    "# number of neurons per layer, the last element must be 1\n",
    "n_neurons = np.array([100, 10, 1])\n",
    "n_branches = 20  # number of dendritic brancher per neuron"
   ]
  },
  {
   "cell_type": "code",
   "execution_count": 9,
   "id": "9222c960-e4c3-40d6-bedd-03e2132594d3",
   "metadata": {},
   "outputs": [
    {
     "data": {
      "text/plain": [
       "array([100,  10,   1])"
      ]
     },
     "execution_count": 9,
     "metadata": {},
     "output_type": "execute_result"
    }
   ],
   "source": [
    "n_neurons"
   ]
  },
  {
   "cell_type": "markdown",
   "id": "ea37ddb5-d520-4600-8204-340269662cad",
   "metadata": {},
   "source": [
    "---"
   ]
  },
  {
   "cell_type": "code",
   "execution_count": 10,
   "id": "c0155741-819d-48c4-95b2-42c477c9a6f8",
   "metadata": {},
   "outputs": [],
   "source": [
    "import torch.nn as nn\n",
    "import torch"
   ]
  },
  {
   "cell_type": "code",
   "execution_count": 135,
   "id": "47e699da-6c14-4e78-b808-6c4f54f11014",
   "metadata": {},
   "outputs": [],
   "source": [
    "class DentricLayer(nn.Module):\n",
    "    def __init__(self, \n",
    "                 n_input:int,\n",
    "                 n_output:int, \n",
    "                 n_branches:int,\n",
    "                 hyperplane_bias_magnitude:float = 1.):\n",
    "        \n",
    "        super(DentricLayer, self).__init__()\n",
    "        \n",
    "        self.dgn_weights = nn.Parameter(\n",
    "            torch.zeros(n_output, n_branches, n_input + 1),\n",
    "            requires_grad=False,\n",
    "        )\n",
    "        self.dgn_hyperplanes = torch.normal(\n",
    "            0, 1, [n_output, n_branches, n_input + 1],\n",
    "            requires_grad=False,\n",
    "        )\n",
    "        norm = torch.linalg.norm(self.dgn_hyperplanes[:, :, 1:], axis=(1, 2))[:, None, None]\n",
    "        self.dgn_hyperplanes = self.dgn_hyperplanes / norm\n",
    "        \n",
    "        self.hyperplane_bias_magnitude = torch.FloatTensor([hyperplane_bias_magnitude])\n",
    "        \n",
    "    def forward(self, X):\n",
    "        x_in = torch.hstack([X, torch.ones((X.shape[0], 1))])\n",
    "        filtered_x = torch.hstack([X, torch.ones((X.shape[0], 1)) * self.hyperplane_bias_magnitude])\n",
    "        \n",
    "        gate_values = torch.matmul(self.dgn_hyperplanes, filtered_x.T)\n",
    "        gate_values = torch.heaviside(gate_values, torch.tensor(0.))\n",
    "        \n",
    "        effective_weights = torch.tensordot(gate_values, self.dgn_weights, dims=([1], [1])).sum(dim=0)\n",
    "        r_out = torch.einsum('ijk,ki->ij', effective_weights, x_in.T)\n",
    "        \n",
    "        return r_out"
   ]
  },
  {
   "cell_type": "code",
   "execution_count": 137,
   "id": "810c973d-fa49-4bd5-9c1d-98a823810e75",
   "metadata": {},
   "outputs": [],
   "source": [
    "class DGNModel(nn.Module):\n",
    "    def __init__(self):\n",
    "        super(DGNModel, self).__init__()\n",
    "        \n",
    "        self.l1 = DentricLayer(n_input=31,\n",
    "                  n_branches=20, \n",
    "                  n_output=100)\n",
    "        \n",
    "        self.l2 = DentricLayer(n_input=100,\n",
    "                  n_branches=20, \n",
    "                  n_output=10)\n",
    "        \n",
    "        self.l3 = DentricLayer(n_input=10,\n",
    "                  n_branches=20, \n",
    "                  n_output=1)\n",
    "        \n",
    "    def forward(self, x):\n",
    "        x = self.l1(x)\n",
    "        x = self.l2(x)\n",
    "        x = self.l3(x)\n",
    "        return x"
   ]
  },
  {
   "cell_type": "code",
   "execution_count": 138,
   "id": "98bcb234-348a-4fcd-87f1-22bc23fc8eff",
   "metadata": {},
   "outputs": [],
   "source": [
    "# model = nn.Sequential(\n",
    "#     DentricLayer(n_input=31,\n",
    "#     n_branches=20, \n",
    "#     n_output=100),\n",
    "    \n",
    "#     DentricLayer(n_input=100,\n",
    "#     n_branches=20, \n",
    "#     n_output=10),\n",
    "    \n",
    "#     DentricLayer(n_input=10,\n",
    "#     n_branches=20, \n",
    "#     n_output=1)\n",
    "# )"
   ]
  },
  {
   "cell_type": "code",
   "execution_count": 139,
   "id": "c7d2f119-07de-4614-b05b-73c0b9f936f8",
   "metadata": {},
   "outputs": [],
   "source": [
    "model = DGNModel()"
   ]
  },
  {
   "cell_type": "code",
   "execution_count": 140,
   "id": "89d2c6e3-6087-4a8d-98d5-c2e210af6d19",
   "metadata": {
    "tags": []
   },
   "outputs": [
    {
     "name": "stdout",
     "output_type": "stream",
     "text": [
      "Parameter containing:\n",
      "tensor([[[0., 0., 0.,  ..., 0., 0., 0.],\n",
      "         [0., 0., 0.,  ..., 0., 0., 0.],\n",
      "         [0., 0., 0.,  ..., 0., 0., 0.],\n",
      "         ...,\n",
      "         [0., 0., 0.,  ..., 0., 0., 0.],\n",
      "         [0., 0., 0.,  ..., 0., 0., 0.],\n",
      "         [0., 0., 0.,  ..., 0., 0., 0.]],\n",
      "\n",
      "        [[0., 0., 0.,  ..., 0., 0., 0.],\n",
      "         [0., 0., 0.,  ..., 0., 0., 0.],\n",
      "         [0., 0., 0.,  ..., 0., 0., 0.],\n",
      "         ...,\n",
      "         [0., 0., 0.,  ..., 0., 0., 0.],\n",
      "         [0., 0., 0.,  ..., 0., 0., 0.],\n",
      "         [0., 0., 0.,  ..., 0., 0., 0.]],\n",
      "\n",
      "        [[0., 0., 0.,  ..., 0., 0., 0.],\n",
      "         [0., 0., 0.,  ..., 0., 0., 0.],\n",
      "         [0., 0., 0.,  ..., 0., 0., 0.],\n",
      "         ...,\n",
      "         [0., 0., 0.,  ..., 0., 0., 0.],\n",
      "         [0., 0., 0.,  ..., 0., 0., 0.],\n",
      "         [0., 0., 0.,  ..., 0., 0., 0.]],\n",
      "\n",
      "        ...,\n",
      "\n",
      "        [[0., 0., 0.,  ..., 0., 0., 0.],\n",
      "         [0., 0., 0.,  ..., 0., 0., 0.],\n",
      "         [0., 0., 0.,  ..., 0., 0., 0.],\n",
      "         ...,\n",
      "         [0., 0., 0.,  ..., 0., 0., 0.],\n",
      "         [0., 0., 0.,  ..., 0., 0., 0.],\n",
      "         [0., 0., 0.,  ..., 0., 0., 0.]],\n",
      "\n",
      "        [[0., 0., 0.,  ..., 0., 0., 0.],\n",
      "         [0., 0., 0.,  ..., 0., 0., 0.],\n",
      "         [0., 0., 0.,  ..., 0., 0., 0.],\n",
      "         ...,\n",
      "         [0., 0., 0.,  ..., 0., 0., 0.],\n",
      "         [0., 0., 0.,  ..., 0., 0., 0.],\n",
      "         [0., 0., 0.,  ..., 0., 0., 0.]],\n",
      "\n",
      "        [[0., 0., 0.,  ..., 0., 0., 0.],\n",
      "         [0., 0., 0.,  ..., 0., 0., 0.],\n",
      "         [0., 0., 0.,  ..., 0., 0., 0.],\n",
      "         ...,\n",
      "         [0., 0., 0.,  ..., 0., 0., 0.],\n",
      "         [0., 0., 0.,  ..., 0., 0., 0.],\n",
      "         [0., 0., 0.,  ..., 0., 0., 0.]]])\n",
      "Parameter containing:\n",
      "tensor([[[0., 0., 0.,  ..., 0., 0., 0.],\n",
      "         [0., 0., 0.,  ..., 0., 0., 0.],\n",
      "         [0., 0., 0.,  ..., 0., 0., 0.],\n",
      "         ...,\n",
      "         [0., 0., 0.,  ..., 0., 0., 0.],\n",
      "         [0., 0., 0.,  ..., 0., 0., 0.],\n",
      "         [0., 0., 0.,  ..., 0., 0., 0.]],\n",
      "\n",
      "        [[0., 0., 0.,  ..., 0., 0., 0.],\n",
      "         [0., 0., 0.,  ..., 0., 0., 0.],\n",
      "         [0., 0., 0.,  ..., 0., 0., 0.],\n",
      "         ...,\n",
      "         [0., 0., 0.,  ..., 0., 0., 0.],\n",
      "         [0., 0., 0.,  ..., 0., 0., 0.],\n",
      "         [0., 0., 0.,  ..., 0., 0., 0.]],\n",
      "\n",
      "        [[0., 0., 0.,  ..., 0., 0., 0.],\n",
      "         [0., 0., 0.,  ..., 0., 0., 0.],\n",
      "         [0., 0., 0.,  ..., 0., 0., 0.],\n",
      "         ...,\n",
      "         [0., 0., 0.,  ..., 0., 0., 0.],\n",
      "         [0., 0., 0.,  ..., 0., 0., 0.],\n",
      "         [0., 0., 0.,  ..., 0., 0., 0.]],\n",
      "\n",
      "        ...,\n",
      "\n",
      "        [[0., 0., 0.,  ..., 0., 0., 0.],\n",
      "         [0., 0., 0.,  ..., 0., 0., 0.],\n",
      "         [0., 0., 0.,  ..., 0., 0., 0.],\n",
      "         ...,\n",
      "         [0., 0., 0.,  ..., 0., 0., 0.],\n",
      "         [0., 0., 0.,  ..., 0., 0., 0.],\n",
      "         [0., 0., 0.,  ..., 0., 0., 0.]],\n",
      "\n",
      "        [[0., 0., 0.,  ..., 0., 0., 0.],\n",
      "         [0., 0., 0.,  ..., 0., 0., 0.],\n",
      "         [0., 0., 0.,  ..., 0., 0., 0.],\n",
      "         ...,\n",
      "         [0., 0., 0.,  ..., 0., 0., 0.],\n",
      "         [0., 0., 0.,  ..., 0., 0., 0.],\n",
      "         [0., 0., 0.,  ..., 0., 0., 0.]],\n",
      "\n",
      "        [[0., 0., 0.,  ..., 0., 0., 0.],\n",
      "         [0., 0., 0.,  ..., 0., 0., 0.],\n",
      "         [0., 0., 0.,  ..., 0., 0., 0.],\n",
      "         ...,\n",
      "         [0., 0., 0.,  ..., 0., 0., 0.],\n",
      "         [0., 0., 0.,  ..., 0., 0., 0.],\n",
      "         [0., 0., 0.,  ..., 0., 0., 0.]]])\n",
      "Parameter containing:\n",
      "tensor([[[0., 0., 0., 0., 0., 0., 0., 0., 0., 0., 0.],\n",
      "         [0., 0., 0., 0., 0., 0., 0., 0., 0., 0., 0.],\n",
      "         [0., 0., 0., 0., 0., 0., 0., 0., 0., 0., 0.],\n",
      "         [0., 0., 0., 0., 0., 0., 0., 0., 0., 0., 0.],\n",
      "         [0., 0., 0., 0., 0., 0., 0., 0., 0., 0., 0.],\n",
      "         [0., 0., 0., 0., 0., 0., 0., 0., 0., 0., 0.],\n",
      "         [0., 0., 0., 0., 0., 0., 0., 0., 0., 0., 0.],\n",
      "         [0., 0., 0., 0., 0., 0., 0., 0., 0., 0., 0.],\n",
      "         [0., 0., 0., 0., 0., 0., 0., 0., 0., 0., 0.],\n",
      "         [0., 0., 0., 0., 0., 0., 0., 0., 0., 0., 0.],\n",
      "         [0., 0., 0., 0., 0., 0., 0., 0., 0., 0., 0.],\n",
      "         [0., 0., 0., 0., 0., 0., 0., 0., 0., 0., 0.],\n",
      "         [0., 0., 0., 0., 0., 0., 0., 0., 0., 0., 0.],\n",
      "         [0., 0., 0., 0., 0., 0., 0., 0., 0., 0., 0.],\n",
      "         [0., 0., 0., 0., 0., 0., 0., 0., 0., 0., 0.],\n",
      "         [0., 0., 0., 0., 0., 0., 0., 0., 0., 0., 0.],\n",
      "         [0., 0., 0., 0., 0., 0., 0., 0., 0., 0., 0.],\n",
      "         [0., 0., 0., 0., 0., 0., 0., 0., 0., 0., 0.],\n",
      "         [0., 0., 0., 0., 0., 0., 0., 0., 0., 0., 0.],\n",
      "         [0., 0., 0., 0., 0., 0., 0., 0., 0., 0., 0.]]])\n"
     ]
    }
   ],
   "source": [
    "for l in model.parameters():\n",
    "    print(l)"
   ]
  },
  {
   "cell_type": "code",
   "execution_count": 121,
   "id": "479d7aa1-7ed8-4c2b-8317-7084ba3772d9",
   "metadata": {},
   "outputs": [],
   "source": [
    "a = list(model.parameters())"
   ]
  },
  {
   "cell_type": "code",
   "execution_count": 111,
   "id": "b9e7d897-36f6-4fb1-90f9-3f70fba71e41",
   "metadata": {},
   "outputs": [],
   "source": [
    "y_hat = model(x)"
   ]
  },
  {
   "cell_type": "code",
   "execution_count": 112,
   "id": "e802faac-1768-40a8-b9ce-16054930f861",
   "metadata": {},
   "outputs": [
    {
     "data": {
      "text/plain": [
       "torch.Size([455, 1])"
      ]
     },
     "execution_count": 112,
     "metadata": {},
     "output_type": "execute_result"
    }
   ],
   "source": [
    "y_hat.shape"
   ]
  },
  {
   "cell_type": "markdown",
   "id": "7e65c71b-f70d-4d93-b24e-d0b857fa4c24",
   "metadata": {},
   "source": [
    "[link](https://stackoverflow.com/questions/76113195/custom-optimizer-in-pytorch-or-tensorflow-2-12-0)"
   ]
  },
  {
   "cell_type": "code",
   "execution_count": 153,
   "id": "a6ebd56c-a117-4349-bc19-2365f11d4117",
   "metadata": {},
   "outputs": [],
   "source": [
    "def loss(r, target):\n",
    "    return r - target\n",
    "\n",
    "class optimizer(torch.optim.Optimizer):\n",
    "    def __init__(self, params, lr=0.001):\n",
    "        defaults = dict(lr=lr)\n",
    "        super(optimizer, self).__init__(params, defaults)\n",
    "        self.lr = {}\n",
    "\n",
    "        for group in self.param_groups:\n",
    "            for param in group['params']:\n",
    "                self.lr[param] = torch.ones_like(param.data) * lr\n",
    "    \n",
    "    def step(self):\n",
    "        pass"
   ]
  },
  {
   "cell_type": "code",
   "execution_count": 141,
   "id": "29a19dc2-84ac-4edd-91d4-37f4253c9b73",
   "metadata": {},
   "outputs": [
    {
     "data": {
      "text/plain": [
       "<generator object Module.parameters at 0x0000019E346684A0>"
      ]
     },
     "execution_count": 141,
     "metadata": {},
     "output_type": "execute_result"
    }
   ],
   "source": [
    "model.parameters()"
   ]
  },
  {
   "cell_type": "code",
   "execution_count": 88,
   "id": "fc95e3a7-ce92-4818-a928-89ccbdcc63fe",
   "metadata": {},
   "outputs": [],
   "source": [
    "for param in model.parameters():\n",
    "    print(param)"
   ]
  },
  {
   "cell_type": "code",
   "execution_count": 114,
   "id": "519254db-01d2-454c-9e13-3454d8d1bd7c",
   "metadata": {},
   "outputs": [],
   "source": [
    "L1 = DentricLayer(n_input=31,\n",
    "                  n_branches=20, \n",
    "                  n_output=100)"
   ]
  },
  {
   "cell_type": "code",
   "execution_count": 143,
   "id": "131b7c21-8317-4a3a-8bbd-3899f55bb54a",
   "metadata": {},
   "outputs": [
    {
     "name": "stdout",
     "output_type": "stream",
     "text": [
      "Name: l1.dgn_weights\n",
      "Name: l2.dgn_weights\n",
      "Name: l3.dgn_weights\n"
     ]
    }
   ],
   "source": [
    "for name, param in model.named_parameters():\n",
    "    print(f\"Name: {name}\")"
   ]
  },
  {
   "cell_type": "code",
   "execution_count": 148,
   "id": "2d2cf81d-23e6-4307-ad4d-eba11fa11e77",
   "metadata": {},
   "outputs": [
    {
     "data": {
      "text/plain": [
       "tensor([[0., 0., 0.,  ..., 0., 0., 0.],\n",
       "        [0., 0., 0.,  ..., 0., 0., 0.],\n",
       "        [0., 0., 0.,  ..., 0., 0., 0.],\n",
       "        ...,\n",
       "        [0., 0., 0.,  ..., 0., 0., 0.],\n",
       "        [0., 0., 0.,  ..., 0., 0., 0.],\n",
       "        [0., 0., 0.,  ..., 0., 0., 0.]])"
      ]
     },
     "execution_count": 148,
     "metadata": {},
     "output_type": "execute_result"
    }
   ],
   "source": [
    "model._modules.get('l1')(x)"
   ]
  },
  {
   "cell_type": "code",
   "execution_count": 36,
   "id": "f1f06fc7-1d5d-4b8a-9fc9-b666d43cfa8d",
   "metadata": {},
   "outputs": [
    {
     "data": {
      "text/plain": [
       "tensor([[0., 0., 0.,  ..., 0., 0., 0.],\n",
       "        [0., 0., 0.,  ..., 0., 0., 0.],\n",
       "        [0., 0., 0.,  ..., 0., 0., 0.],\n",
       "        ...,\n",
       "        [0., 0., 0.,  ..., 0., 0., 0.],\n",
       "        [0., 0., 0.,  ..., 0., 0., 0.],\n",
       "        [0., 0., 0.,  ..., 0., 0., 0.]])"
      ]
     },
     "execution_count": 36,
     "metadata": {},
     "output_type": "execute_result"
    }
   ],
   "source": [
    "x = np.hstack([np.ones((x_train.shape[0], 1)), x_train])\n",
    "x = torch.FloatTensor(x)\n",
    "L1(x)"
   ]
  },
  {
   "cell_type": "code",
   "execution_count": null,
   "id": "cfbec0ac-ea54-42cf-8e65-9f14fb5f96cd",
   "metadata": {},
   "outputs": [],
   "source": []
  }
 ],
 "metadata": {
  "kernelspec": {
   "display_name": "machine learning",
   "language": "python",
   "name": "ml"
  },
  "language_info": {
   "codemirror_mode": {
    "name": "ipython",
    "version": 3
   },
   "file_extension": ".py",
   "mimetype": "text/x-python",
   "name": "python",
   "nbconvert_exporter": "python",
   "pygments_lexer": "ipython3",
   "version": "3.12.4"
  }
 },
 "nbformat": 4,
 "nbformat_minor": 5
}
