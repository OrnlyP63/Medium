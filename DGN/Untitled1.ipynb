{
 "cells": [
  {
   "cell_type": "code",
   "execution_count": 1,
   "id": "590e96d9-f37f-44d2-ac1d-c08fdc13ff1e",
   "metadata": {},
   "outputs": [],
   "source": [
    "import numpy as np\n",
    "from sklearn import datasets\n",
    "from sklearn import preprocessing\n",
    "from sklearn import model_selection"
   ]
  },
  {
   "cell_type": "code",
   "execution_count": 2,
   "id": "d3af4025-b9ac-463b-8164-676b6ce6893f",
   "metadata": {},
   "outputs": [],
   "source": [
    "features, targets = datasets.load_breast_cancer(return_X_y=True)"
   ]
  },
  {
   "cell_type": "code",
   "execution_count": 3,
   "id": "92be49d7-7b57-46f2-8705-cfe5c534b111",
   "metadata": {},
   "outputs": [
    {
     "data": {
      "text/plain": [
       "(569, 30)"
      ]
     },
     "execution_count": 3,
     "metadata": {},
     "output_type": "execute_result"
    }
   ],
   "source": [
    "features.shape"
   ]
  },
  {
   "cell_type": "code",
   "execution_count": 4,
   "id": "3077452c-7828-48af-bf82-f920628f2df0",
   "metadata": {},
   "outputs": [],
   "source": [
    "x_train, x_test, y_train, y_test = model_selection.train_test_split(features, targets, test_size=0.2, random_state=0)"
   ]
  },
  {
   "cell_type": "code",
   "execution_count": 5,
   "id": "fb52c1e9-61c2-4484-b28a-621bdb198aba",
   "metadata": {},
   "outputs": [
    {
     "data": {
      "text/plain": [
       "30"
      ]
     },
     "execution_count": 5,
     "metadata": {},
     "output_type": "execute_result"
    }
   ],
   "source": [
    "n_features = x_train.shape[-1]\n",
    "n_features"
   ]
  },
  {
   "cell_type": "code",
   "execution_count": 6,
   "id": "f1623acb-243e-4c30-a2ca-d4a67e8ec431",
   "metadata": {},
   "outputs": [],
   "source": [
    "# Input features are centered and scaled to unit variance:\n",
    "feature_encoder = preprocessing.StandardScaler()\n",
    "x_train = feature_encoder.fit_transform(x_train)\n",
    "x_test = feature_encoder.transform(x_test)"
   ]
  },
  {
   "cell_type": "code",
   "execution_count": 7,
   "id": "58ebcd40-6130-4292-913d-a909ddfeeff9",
   "metadata": {},
   "outputs": [
    {
     "data": {
      "text/plain": [
       "(455, 114)"
      ]
     },
     "execution_count": 7,
     "metadata": {},
     "output_type": "execute_result"
    }
   ],
   "source": [
    "x_train.shape[0], x_test.shape[0]"
   ]
  },
  {
   "cell_type": "code",
   "execution_count": 8,
   "id": "dd3a6e85-5437-4af4-a5ae-dc2cc42bafaf",
   "metadata": {},
   "outputs": [],
   "source": [
    "# number of neurons per layer, the last element must be 1\n",
    "n_neurons = np.array([100, 10, 1])\n",
    "n_branches = 20  # number of dendritic brancher per neuron"
   ]
  },
  {
   "cell_type": "code",
   "execution_count": 9,
   "id": "88911628-725f-41f7-bd7c-19bcaa996160",
   "metadata": {},
   "outputs": [
    {
     "data": {
      "text/plain": [
       "array([100,  10,   1])"
      ]
     },
     "execution_count": 9,
     "metadata": {},
     "output_type": "execute_result"
    }
   ],
   "source": [
    "n_neurons"
   ]
  },
  {
   "cell_type": "markdown",
   "id": "a0d13b74-8247-4090-96c9-760a150ae284",
   "metadata": {},
   "source": [
    "---"
   ]
  },
  {
   "cell_type": "code",
   "execution_count": 10,
   "id": "fc1f4c11-a364-4c3d-8e6b-85886e2ce0a5",
   "metadata": {},
   "outputs": [],
   "source": [
    "import torch.nn as nn\n",
    "import torch"
   ]
  },
  {
   "cell_type": "code",
   "execution_count": 11,
   "id": "8c902d4d-93ab-429a-b2a0-671926043869",
   "metadata": {},
   "outputs": [],
   "source": [
    "x = np.hstack([np.ones((x_train.shape[0], 1)), x_train])\n",
    "x = torch.FloatTensor(x)"
   ]
  },
  {
   "cell_type": "code",
   "execution_count": 12,
   "id": "323935ee-bec7-431b-9761-d1d958b7cbcf",
   "metadata": {},
   "outputs": [
    {
     "data": {
      "text/plain": [
       "torch.Size([455, 31])"
      ]
     },
     "execution_count": 12,
     "metadata": {},
     "output_type": "execute_result"
    }
   ],
   "source": [
    "x.shape"
   ]
  },
  {
   "cell_type": "code",
   "execution_count": 44,
   "id": "c632f06c-4617-48e6-9658-f675bbefedaa",
   "metadata": {},
   "outputs": [],
   "source": [
    "h = torch.normal(0, 1, [10, 20, 30 + 1])\n",
    "w = torch.zeros([10, 20, 30 + 1])\n",
    "# h[:, None, None].shape\n",
    "\n",
    "# torch.linalg.norm(h[:, :, :-1], axis=(1, 2))\n",
    "\n",
    "h = h / torch.linalg.norm(h[:, :, :-1], axis=(1, 2))[:, None, None]"
   ]
  },
  {
   "cell_type": "code",
   "execution_count": 45,
   "id": "70146927-a64a-4824-aad3-bd28a47f8494",
   "metadata": {},
   "outputs": [
    {
     "data": {
      "text/plain": [
       "torch.Size([10, 20, 31])"
      ]
     },
     "execution_count": 45,
     "metadata": {},
     "output_type": "execute_result"
    }
   ],
   "source": [
    "h.shape"
   ]
  },
  {
   "cell_type": "code",
   "execution_count": 46,
   "id": "306cc492-7db4-41f4-b45a-0b25486b431f",
   "metadata": {},
   "outputs": [
    {
     "data": {
      "text/plain": [
       "torch.Size([10, 20, 31])"
      ]
     },
     "execution_count": 46,
     "metadata": {},
     "output_type": "execute_result"
    }
   ],
   "source": [
    "w.shape"
   ]
  },
  {
   "cell_type": "code",
   "execution_count": 38,
   "id": "fc7aa3ec-ab7c-4802-8d2d-a3b69995e999",
   "metadata": {},
   "outputs": [],
   "source": [
    "a = torch.matmul(h, x.T)"
   ]
  },
  {
   "cell_type": "code",
   "execution_count": 39,
   "id": "033a9d71-c5c8-4541-b030-433aafd313f7",
   "metadata": {},
   "outputs": [
    {
     "data": {
      "text/plain": [
       "torch.Size([10, 20, 455])"
      ]
     },
     "execution_count": 39,
     "metadata": {},
     "output_type": "execute_result"
    }
   ],
   "source": [
    "a.shape"
   ]
  },
  {
   "cell_type": "code",
   "execution_count": 40,
   "id": "b816ac5e-37f4-44e2-bb5f-ae6bbb198e77",
   "metadata": {},
   "outputs": [],
   "source": [
    "gate_values = np.heaviside(a, 0)"
   ]
  },
  {
   "cell_type": "code",
   "execution_count": 42,
   "id": "5950dd6f-dd8a-4384-be8b-ecd726d7caa3",
   "metadata": {},
   "outputs": [
    {
     "data": {
      "text/plain": [
       "torch.Size([10, 20, 455])"
      ]
     },
     "execution_count": 42,
     "metadata": {},
     "output_type": "execute_result"
    }
   ],
   "source": [
    "gate_values.shape"
   ]
  },
  {
   "cell_type": "code",
   "execution_count": 51,
   "id": "8e303d15-ece2-4c2d-a486-f640ae93a579",
   "metadata": {},
   "outputs": [
    {
     "data": {
      "text/plain": [
       "torch.Size([10, 20, 31])"
      ]
     },
     "execution_count": 51,
     "metadata": {},
     "output_type": "execute_result"
    }
   ],
   "source": [
    "w.shape"
   ]
  },
  {
   "cell_type": "code",
   "execution_count": 74,
   "id": "993bc986-d961-422e-821a-ac885a454339",
   "metadata": {},
   "outputs": [],
   "source": [
    "effective_weights = torch.tensordot(gate_values, w, dims=([1], [1])).sum(dim=2)"
   ]
  },
  {
   "cell_type": "code",
   "execution_count": 75,
   "id": "68c83b05-520b-4217-87cb-7bbc5a079da1",
   "metadata": {},
   "outputs": [
    {
     "data": {
      "text/plain": [
       "torch.Size([10, 455, 31])"
      ]
     },
     "execution_count": 75,
     "metadata": {},
     "output_type": "execute_result"
    }
   ],
   "source": [
    "effective_weights.shape"
   ]
  },
  {
   "cell_type": "code",
   "execution_count": 81,
   "id": "ab95772e-6770-4ab0-b274-056a50742b7d",
   "metadata": {},
   "outputs": [
    {
     "data": {
      "text/plain": [
       "torch.Size([455, 31])"
      ]
     },
     "execution_count": 81,
     "metadata": {},
     "output_type": "execute_result"
    }
   ],
   "source": [
    "x.shape"
   ]
  },
  {
   "cell_type": "code",
   "execution_count": 84,
   "id": "83a361e5-470c-45c0-8ad3-0822f9743887",
   "metadata": {},
   "outputs": [
    {
     "data": {
      "text/plain": [
       "torch.Size([10, 455, 455])"
      ]
     },
     "execution_count": 84,
     "metadata": {},
     "output_type": "execute_result"
    }
   ],
   "source": [
    "torch.matmul(effective_weights, x.T).shape"
   ]
  },
  {
   "cell_type": "code",
   "execution_count": 27,
   "id": "b70021a2-bd04-41ab-883e-ae3efddfa90b",
   "metadata": {},
   "outputs": [
    {
     "name": "stdout",
     "output_type": "stream",
     "text": [
      "torch.Size([2, 3, 5])\n",
      "tensor([[[ 2.1058,  2.1952,  0.7772,  0.0663,  1.9669],\n",
      "         [ 0.6791, -0.3475,  3.9767,  1.2601, -1.9488],\n",
      "         [-0.6169,  0.2811,  0.4005, -1.0153, -0.0518]],\n",
      "\n",
      "        [[ 2.6786, -1.6673,  1.9923,  1.8696, -1.4363],\n",
      "         [-0.7384,  4.0944,  0.4310, -5.4373, -0.1625],\n",
      "         [-1.2555, -0.6806, -0.7551, -0.3431,  1.2000]]])\n"
     ]
    }
   ],
   "source": [
    "# Define the 3D tensor A with dimensions (B, M, N)\n",
    "B, M, N = 2, 3, 4\n",
    "A = torch.randn(B, M, N)\n",
    "\n",
    "# Define the 3D tensor B with dimensions (B, N, P)\n",
    "N, P = 4, 5\n",
    "B = torch.randn(B, N, P)\n",
    "\n",
    "# Perform the batch-wise matrix multiplication\n",
    "result = torch.matmul(A, B)\n",
    "\n",
    "# result will have dimensions (B, M, P)\n",
    "print(result.shape)  # Should output: torch.Size([2, 3, 5])\n",
    "print(result)"
   ]
  },
  {
   "cell_type": "code",
   "execution_count": null,
   "id": "9bd754b1-3364-4e37-b274-70edd09a8c20",
   "metadata": {},
   "outputs": [],
   "source": []
  }
 ],
 "metadata": {
  "kernelspec": {
   "display_name": "machine learning",
   "language": "python",
   "name": "ml"
  },
  "language_info": {
   "codemirror_mode": {
    "name": "ipython",
    "version": 3
   },
   "file_extension": ".py",
   "mimetype": "text/x-python",
   "name": "python",
   "nbconvert_exporter": "python",
   "pygments_lexer": "ipython3",
   "version": "3.12.4"
  }
 },
 "nbformat": 4,
 "nbformat_minor": 5
}
