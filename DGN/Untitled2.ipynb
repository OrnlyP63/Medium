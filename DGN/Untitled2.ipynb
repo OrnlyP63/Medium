{
 "cells": [
  {
   "cell_type": "code",
   "execution_count": 1,
   "id": "697e8d9b-aafe-46ad-bc16-f856f2cd79c2",
   "metadata": {},
   "outputs": [],
   "source": [
    "import torch"
   ]
  },
  {
   "cell_type": "markdown",
   "id": "712110a7-2137-47b3-b60f-480321f85730",
   "metadata": {},
   "source": [
    "$$x_i\\in \\mathbb{R}^{31}$$"
   ]
  },
  {
   "cell_type": "code",
   "execution_count": 2,
   "id": "08753060-d57e-4445-b1ca-7aecc46ee0b1",
   "metadata": {},
   "outputs": [],
   "source": [
    "x = torch.normal(0, 1, [31])"
   ]
  },
  {
   "cell_type": "code",
   "execution_count": 3,
   "id": "1a44a96f-f1af-457a-9185-f0cb0f8b9942",
   "metadata": {},
   "outputs": [
    {
     "data": {
      "text/plain": [
       "torch.Size([31])"
      ]
     },
     "execution_count": 3,
     "metadata": {},
     "output_type": "execute_result"
    }
   ],
   "source": [
    "x.shape"
   ]
  },
  {
   "cell_type": "markdown",
   "id": "4b06652b-ada9-40f5-831b-b7d97a2067f8",
   "metadata": {},
   "source": [
    "$$h\\in \\mathbb{R}^{100\\times20\\times31}$$"
   ]
  },
  {
   "cell_type": "code",
   "execution_count": 4,
   "id": "0dfcc3d3-e1bc-4914-86bd-1a40b107efc2",
   "metadata": {},
   "outputs": [],
   "source": [
    "h = torch.normal(0, 1, [100, 20, 31])"
   ]
  },
  {
   "cell_type": "code",
   "execution_count": 5,
   "id": "99b59abc-c98c-412e-9aec-d12f1d89af23",
   "metadata": {},
   "outputs": [],
   "source": [
    "g = torch.matmul(h, x)\n",
    "g = torch.heaviside(g, torch.tensor(0.))"
   ]
  },
  {
   "cell_type": "markdown",
   "id": "39e6502a-9abd-420a-b65e-f0d02b5170ce",
   "metadata": {},
   "source": [
    "$$g = h\\cdot x\\in\\mathbb{R}^{100\\times20}$$"
   ]
  },
  {
   "cell_type": "code",
   "execution_count": 6,
   "id": "5bc889f2-b929-4aae-a1d6-a3134d4762ea",
   "metadata": {},
   "outputs": [
    {
     "data": {
      "text/plain": [
       "torch.Size([100, 20])"
      ]
     },
     "execution_count": 6,
     "metadata": {},
     "output_type": "execute_result"
    }
   ],
   "source": [
    "g.shape"
   ]
  },
  {
   "cell_type": "markdown",
   "id": "06ffa939-970e-460f-baf1-78772ee03ac5",
   "metadata": {},
   "source": [
    "$$w\\in\\mathbb{R}^{100\\times20\\times31}$$"
   ]
  },
  {
   "cell_type": "code",
   "execution_count": 7,
   "id": "0f3ba53a-e4b4-474c-9414-e7678ad1e179",
   "metadata": {},
   "outputs": [],
   "source": [
    "w = torch.normal(0, 1, [100, 20, 31]) "
   ]
  },
  {
   "cell_type": "markdown",
   "id": "54a48f9a-258a-4ff3-a1af-316578267f1f",
   "metadata": {},
   "source": [
    "$$ew = g\\cdot w\\in\\mathbb{R}^{100\\times100\\times31}$$\n",
    "$$ew_{sum} \\in\\mathbb{R}^{100\\times31}$$"
   ]
  },
  {
   "cell_type": "code",
   "execution_count": 8,
   "id": "3d5f03ef-e922-4db3-80e1-0e8d94b64a06",
   "metadata": {},
   "outputs": [],
   "source": [
    "ew = torch.matmul(g, w)"
   ]
  },
  {
   "cell_type": "code",
   "execution_count": 9,
   "id": "1c36fb1c-9ea1-43b3-8746-24761ca6bef5",
   "metadata": {},
   "outputs": [
    {
     "data": {
      "text/plain": [
       "torch.Size([100, 100, 31])"
      ]
     },
     "execution_count": 9,
     "metadata": {},
     "output_type": "execute_result"
    }
   ],
   "source": [
    "ew.shape"
   ]
  },
  {
   "cell_type": "code",
   "execution_count": 10,
   "id": "bc25bca3-06b6-4416-a5aa-d9758b4c59c0",
   "metadata": {},
   "outputs": [],
   "source": [
    "ew_sum = ew.sum(dim=1)"
   ]
  },
  {
   "cell_type": "code",
   "execution_count": 11,
   "id": "3571f3c7-3224-47b9-a105-cec7190d6046",
   "metadata": {},
   "outputs": [
    {
     "data": {
      "text/plain": [
       "torch.Size([100, 31])"
      ]
     },
     "execution_count": 11,
     "metadata": {},
     "output_type": "execute_result"
    }
   ],
   "source": [
    "ew_sum.shape"
   ]
  },
  {
   "cell_type": "markdown",
   "id": "2e69542d-bc99-4f63-8140-8347ef082a2d",
   "metadata": {},
   "source": [
    "$$r_{output} = ew_{sum}\\cdot x\\in\\mathbb{R}^{100}$$"
   ]
  },
  {
   "cell_type": "code",
   "execution_count": 12,
   "id": "29dea9ea-99dc-4140-8390-835862b285fb",
   "metadata": {},
   "outputs": [],
   "source": [
    "r_output = torch.matmul(ew_sum, x)"
   ]
  },
  {
   "cell_type": "code",
   "execution_count": 13,
   "id": "cbadeab3-588b-4873-9ab1-de4fdc436788",
   "metadata": {},
   "outputs": [
    {
     "data": {
      "text/plain": [
       "torch.Size([100])"
      ]
     },
     "execution_count": 13,
     "metadata": {},
     "output_type": "execute_result"
    }
   ],
   "source": [
    "r_output.shape"
   ]
  },
  {
   "cell_type": "code",
   "execution_count": 14,
   "id": "3172277e-4568-484a-91ae-e1cbdf54f3a0",
   "metadata": {},
   "outputs": [],
   "source": [
    "target = 1."
   ]
  },
  {
   "cell_type": "code",
   "execution_count": 15,
   "id": "9a5e65d6-6f9c-4edf-a664-af2b6d57f80a",
   "metadata": {},
   "outputs": [],
   "source": [
    "grad = (r_output[:, None] - target) * x[None]"
   ]
  },
  {
   "cell_type": "code",
   "execution_count": 16,
   "id": "c0484c8e-0168-44ce-986b-93d5f3bc5cad",
   "metadata": {},
   "outputs": [
    {
     "data": {
      "text/plain": [
       "torch.Size([100, 31])"
      ]
     },
     "execution_count": 16,
     "metadata": {},
     "output_type": "execute_result"
    }
   ],
   "source": [
    "grad.shape"
   ]
  },
  {
   "cell_type": "code",
   "execution_count": 17,
   "id": "9fd21675-2f57-43ef-be6b-ef38b2d30c39",
   "metadata": {},
   "outputs": [
    {
     "data": {
      "text/plain": [
       "torch.Size([100, 1])"
      ]
     },
     "execution_count": 17,
     "metadata": {},
     "output_type": "execute_result"
    }
   ],
   "source": [
    "(r_output[:, None] - target).shape"
   ]
  },
  {
   "cell_type": "code",
   "execution_count": 18,
   "id": "13904a3c-1d0a-4468-8178-029bbea53bfd",
   "metadata": {},
   "outputs": [],
   "source": [
    "learning_rate = 0.01"
   ]
  },
  {
   "cell_type": "code",
   "execution_count": 19,
   "id": "4ddfe788-c6ed-468b-9415-4bc236bd9b5e",
   "metadata": {},
   "outputs": [],
   "source": [
    "w -= learning_rate * g[:, :, None] * grad[:, None]"
   ]
  },
  {
   "cell_type": "code",
   "execution_count": 20,
   "id": "9fd33aa8-0eed-4780-a367-f58676bfefd1",
   "metadata": {},
   "outputs": [
    {
     "data": {
      "text/plain": [
       "torch.Size([100, 20, 31])"
      ]
     },
     "execution_count": 20,
     "metadata": {},
     "output_type": "execute_result"
    }
   ],
   "source": [
    "w.shape"
   ]
  },
  {
   "cell_type": "markdown",
   "id": "60a67e07-2577-4253-a27b-c66428150230",
   "metadata": {},
   "source": [
    "---"
   ]
  },
  {
   "cell_type": "code",
   "execution_count": 21,
   "id": "f4d27064-8ef7-4b23-bd25-4807235cf82e",
   "metadata": {},
   "outputs": [],
   "source": [
    "x = torch.normal(0, 1, [31, 455])"
   ]
  },
  {
   "cell_type": "code",
   "execution_count": 22,
   "id": "09454653-5ffb-4c44-9c7a-49bf4b2ae3ea",
   "metadata": {},
   "outputs": [
    {
     "data": {
      "text/plain": [
       "torch.Size([31, 455])"
      ]
     },
     "execution_count": 22,
     "metadata": {},
     "output_type": "execute_result"
    }
   ],
   "source": [
    "x.shape"
   ]
  },
  {
   "cell_type": "code",
   "execution_count": 23,
   "id": "c0789efb-e5f5-42b7-91e0-da9c9b9f6350",
   "metadata": {},
   "outputs": [],
   "source": [
    "g = torch.matmul(h, x)"
   ]
  },
  {
   "cell_type": "code",
   "execution_count": 24,
   "id": "7dc70fea-319e-4d3a-8885-fef757a10978",
   "metadata": {},
   "outputs": [
    {
     "data": {
      "text/plain": [
       "torch.Size([100, 20, 455])"
      ]
     },
     "execution_count": 24,
     "metadata": {},
     "output_type": "execute_result"
    }
   ],
   "source": [
    "g.shape"
   ]
  },
  {
   "cell_type": "code",
   "execution_count": 42,
   "id": "d23d50e5-41ee-4dc3-8567-b655968406f3",
   "metadata": {},
   "outputs": [
    {
     "data": {
      "text/plain": [
       "torch.Size([100, 20])"
      ]
     },
     "execution_count": 42,
     "metadata": {},
     "output_type": "execute_result"
    }
   ],
   "source": [
    "g[:, :, 0].shape"
   ]
  },
  {
   "cell_type": "code",
   "execution_count": 25,
   "id": "027b8004-6686-4f3d-bf14-c260c4173bbd",
   "metadata": {},
   "outputs": [
    {
     "data": {
      "text/plain": [
       "torch.Size([100, 20, 31])"
      ]
     },
     "execution_count": 25,
     "metadata": {},
     "output_type": "execute_result"
    }
   ],
   "source": [
    "w.shape"
   ]
  },
  {
   "cell_type": "code",
   "execution_count": 63,
   "id": "4d8e6aec-0c77-4635-92d8-3bd94cf6fa4d",
   "metadata": {},
   "outputs": [],
   "source": [
    "a = torch.normal(0, 1, [100, 20, 455])\n",
    "b = torch.normal(0, 1, [100, 20, 31])\n",
    "\n",
    "res = []\n",
    "for i in range(a.shape[2]):\n",
    "    a_i = a[:, :, i]\n",
    "    r = torch.matmul(a_i, b)\n",
    "    res.append(r.sum(dim=1))\n",
    "\n",
    "final_res = torch.stack(res)"
   ]
  },
  {
   "cell_type": "code",
   "execution_count": 64,
   "id": "fa12f07f-3eff-417d-8dd4-89ef35f605e6",
   "metadata": {},
   "outputs": [
    {
     "data": {
      "text/plain": [
       "torch.Size([455, 100, 31])"
      ]
     },
     "execution_count": 64,
     "metadata": {},
     "output_type": "execute_result"
    }
   ],
   "source": [
    "final_res.shape"
   ]
  },
  {
   "cell_type": "code",
   "execution_count": 65,
   "id": "6e55b04b-b743-469a-b2fc-0b868bcd673f",
   "metadata": {},
   "outputs": [
    {
     "name": "stdout",
     "output_type": "stream",
     "text": [
      "torch.Size([31, 100])\n"
     ]
    }
   ],
   "source": [
    "# Create random tensors\n",
    "a = torch.normal(0, 1, [100, 20, 455])\n",
    "b = torch.normal(0, 1, [100, 20, 31])\n",
    "\n",
    "# Use torch.einsum to perform the batched matrix multiplication and summation\n",
    "# 'ijk,ijl->ikl' means:\n",
    "# i = batch dimension\n",
    "# j = shared dimension for matrix multiplication\n",
    "# k = output dimensions\n",
    "# The resulting tensor will have dimensions (455, 100, 31)\n",
    "res = torch.einsum('ijk,ijl->ikl', a, b).sum(dim=1)\n",
    "\n",
    "# Transpose the result to match the desired final shape (455, 100)\n",
    "final_res = res.transpose(0, 1)\n",
    "\n",
    "print(final_res.shape)"
   ]
  },
  {
   "cell_type": "code",
   "execution_count": 68,
   "id": "eba398a7-41ec-4964-8490-2752097016e2",
   "metadata": {},
   "outputs": [
    {
     "data": {
      "text/plain": [
       "torch.Size([100, 455, 31])"
      ]
     },
     "execution_count": 68,
     "metadata": {},
     "output_type": "execute_result"
    }
   ],
   "source": [
    "torch.einsum('ijk,ijl->ikl', a, b).shape"
   ]
  },
  {
   "cell_type": "code",
   "execution_count": 26,
   "id": "0c77a0d3-a8c9-4d87-9b24-82c4a6e36fca",
   "metadata": {},
   "outputs": [],
   "source": [
    "ew = torch.tensordot(w, g, dims=([1], [1]))"
   ]
  },
  {
   "cell_type": "code",
   "execution_count": 27,
   "id": "871e3f88-989b-4eb8-b82d-1efd1365fdd6",
   "metadata": {},
   "outputs": [
    {
     "data": {
      "text/plain": [
       "torch.Size([100, 31, 100, 455])"
      ]
     },
     "execution_count": 27,
     "metadata": {},
     "output_type": "execute_result"
    }
   ],
   "source": [
    "ew.shape"
   ]
  },
  {
   "cell_type": "code",
   "execution_count": 28,
   "id": "dce2b69d-064a-42ac-a0c1-804fa8d78cfa",
   "metadata": {},
   "outputs": [],
   "source": [
    "ew_sum = ew.sum(dim=2)"
   ]
  },
  {
   "cell_type": "code",
   "execution_count": 29,
   "id": "87515c60-5cd2-466c-b390-c7c83b98246f",
   "metadata": {},
   "outputs": [
    {
     "data": {
      "text/plain": [
       "torch.Size([100, 31, 455])"
      ]
     },
     "execution_count": 29,
     "metadata": {},
     "output_type": "execute_result"
    }
   ],
   "source": [
    "ew_sum.shape"
   ]
  },
  {
   "cell_type": "code",
   "execution_count": 30,
   "id": "d6634bc8-a443-402d-bb85-8dda94cbef54",
   "metadata": {},
   "outputs": [
    {
     "data": {
      "text/plain": [
       "torch.Size([31, 455])"
      ]
     },
     "execution_count": 30,
     "metadata": {},
     "output_type": "execute_result"
    }
   ],
   "source": [
    "x.shape"
   ]
  },
  {
   "cell_type": "code",
   "execution_count": 31,
   "id": "76349bbe-9b8a-47b1-9f66-60a552ecca33",
   "metadata": {},
   "outputs": [
    {
     "data": {
      "text/plain": [
       "torch.Size([31, 455, 100])"
      ]
     },
     "execution_count": 31,
     "metadata": {},
     "output_type": "execute_result"
    }
   ],
   "source": [
    "ew_sum = torch.permute(ew_sum,[1, 2, 0])\n",
    "ew_sum.shape"
   ]
  },
  {
   "cell_type": "code",
   "execution_count": 32,
   "id": "23e54575-5a6a-412d-8025-3ead8ec954c6",
   "metadata": {},
   "outputs": [],
   "source": [
    "r = torch.tensordot(ew_sum, x, dims=([0, 1], [0, 1]))"
   ]
  },
  {
   "cell_type": "code",
   "execution_count": 33,
   "id": "a8ddf565-bc8f-48b5-bf0e-9f33707bd4de",
   "metadata": {},
   "outputs": [
    {
     "data": {
      "text/plain": [
       "torch.Size([100])"
      ]
     },
     "execution_count": 33,
     "metadata": {},
     "output_type": "execute_result"
    }
   ],
   "source": [
    "r.shape"
   ]
  },
  {
   "cell_type": "code",
   "execution_count": 1,
   "id": "6647168d-91ed-412a-ba7e-a35b7d85d0cf",
   "metadata": {},
   "outputs": [
    {
     "name": "stdout",
     "output_type": "stream",
     "text": [
      "Layer: fc1.weight, Weight: Parameter containing:\n",
      "tensor([[ 0.0616, -0.3055, -0.3115,  0.1766,  0.1004,  0.0869,  0.2336, -0.1653,\n",
      "         -0.0275,  0.0825],\n",
      "        [ 0.0922,  0.0576,  0.0327,  0.2759, -0.0082, -0.1777, -0.1555,  0.1495,\n",
      "          0.2586, -0.0996],\n",
      "        [ 0.1725,  0.2585, -0.2306, -0.2004,  0.2054,  0.2606,  0.0105,  0.1917,\n",
      "         -0.0732, -0.1815],\n",
      "        [ 0.1846,  0.2444, -0.1553, -0.2934, -0.0498, -0.0057,  0.2718, -0.1875,\n",
      "         -0.0040, -0.0633],\n",
      "        [ 0.0047,  0.2079,  0.2680,  0.3126, -0.2563,  0.2392, -0.1924, -0.2330,\n",
      "          0.2164, -0.2386]], requires_grad=True)\n",
      "Layer: fc2.weight, Weight: Parameter containing:\n",
      "tensor([[-0.0114, -0.4244,  0.1671, -0.2300,  0.4070],\n",
      "        [-0.1300, -0.3973, -0.0941, -0.1816,  0.1613]], requires_grad=True)\n"
     ]
    }
   ],
   "source": [
    "import torch\n",
    "import torch.nn as nn\n",
    "\n",
    "# Define a simple model\n",
    "class SimpleModel(nn.Module):\n",
    "    def __init__(self):\n",
    "        super(SimpleModel, self).__init__()\n",
    "        self.fc1 = nn.Linear(10, 5)\n",
    "        self.fc2 = nn.Linear(5, 2)\n",
    "\n",
    "    def forward(self, x):\n",
    "        x = torch.relu(self.fc1(x))\n",
    "        x = self.fc2(x)\n",
    "        return x\n",
    "\n",
    "# Instantiate the model\n",
    "model = SimpleModel()\n",
    "\n",
    "# Access the weights of all layers\n",
    "for name, param in model.named_parameters():\n",
    "    if 'weight' in name:\n",
    "        print(f\"Layer: {name}, Weight: {param}\")\n"
   ]
  },
  {
   "cell_type": "code",
   "execution_count": null,
   "id": "78fc14b4-fc57-4cb2-aca4-4d365c3be3ff",
   "metadata": {},
   "outputs": [],
   "source": []
  }
 ],
 "metadata": {
  "kernelspec": {
   "display_name": "machine learning",
   "language": "python",
   "name": "ml"
  },
  "language_info": {
   "codemirror_mode": {
    "name": "ipython",
    "version": 3
   },
   "file_extension": ".py",
   "mimetype": "text/x-python",
   "name": "python",
   "nbconvert_exporter": "python",
   "pygments_lexer": "ipython3",
   "version": "3.12.4"
  }
 },
 "nbformat": 4,
 "nbformat_minor": 5
}
