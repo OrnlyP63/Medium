import numpy as np
from sklearn import datasets
from sklearn import preprocessing
from sklearn import model_selection


features, targets = datasets.load_breast_cancer(return_X_y=True)


features.shape


x_train, x_test, y_train, y_test = model_selection.train_test_split(features, targets, test_size=0.2, random_state=0)


n_features = x_train.shape[-1]
n_features


# Input features are centered and scaled to unit variance:
feature_encoder = preprocessing.StandardScaler()
x_train = feature_encoder.fit_transform(x_train)
x_test = feature_encoder.transform(x_test)


x_train.shape[0], x_test.shape[0]


# number of neurons per layer, the last element must be 1
n_neurons = np.array([100, 10, 1])
n_branches = 20  # number of dendritic brancher per neuron


n_neurons





import torch.nn as nn
import torch


class DentricLayer(nn.Module):
    def __init__(self, 
                 n_input:int,
                 n_output:int, 
                 n_branches:int,
                 hyperplane_bias_magnitude:float = 1.):
        
        super(DentricLayer, self).__init__()
        
        # self.n_input = n_input
        # self.n_branch = n_branch
        # self.n_output = n_output
        
        self.dgn_weights = torch.zeros(n_output, n_branches, n_input + 1)
        self.dgn_hyperplanes = torch.normal(0, 1, [n_output, n_branches, n_input + 1])
        self.dgn_hyperplanes = self.dgn_hyperplanes / torch.linalg.norm(self.dgn_hyperplanes[:, :, 1:], axis=(1, 2))[:, None, None]
        self.hyperplane_bias_magnitude = hyperplane_bias_magnitude
        
    def forward(self, X):
        r_in = torch.hstack([X, torch.ones((X.shape[0], 1))])
        side_info = torch.hstack([X, torch.ones((X.shape[0], 1)) * self.hyperplane_bias_magnitude])
        h_dot_side_indo = torch.dot(self.dgn_hyperplanes, side_info)
        gate_values = torch.heaviside(h_dot_side_indo, 0)
        effective_weights  = torch.dot(gate_values, self.dgn_weights).sum(dim=1)
        r_out = torch.dot(effective_weights, r_in)
        
        return r_out


h = torch.normal(0, 1, [100, 20, 30 + 1])
h = h / torch.linalg.norm(h[:, :, :-1], axis=(1, 2))[:, None, None]


x = np.hstack([np.ones((x_train.shape[0], 1)), x_train])
x = torch.FloatTensor(x)


h.shape, x.shape


tensor_dot = torch.tensordot(h, x, dims=([2], [1]))


tensor_dot.shape


a = torch.randn(3, 5, 4, 6)
b = torch.randn(6, 4, 5, 3)
torch.tensordot(a, b, dims=([2, 1, 3], [1, 2, 0])) # 4, 5, 6 | 4, 5, 6


gate = torch.heaviside(tensor_dot, torch.tensor(0.))


dgn_weights = torch.zeros(10, 20, 30 + 1)


dgn_weights.shape, gate.shape


effective_weights = torch.tensordot(gate, dgn_weights, dims=([0], [0])).sum(dim=1)


effective_weights.shape


x.shape, effective_weights.shape


effective_weights[:None] * x


torch.dot(effective_weights[:, None], x)


effective_weights



