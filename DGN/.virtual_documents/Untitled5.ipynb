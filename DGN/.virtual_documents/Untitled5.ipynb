import torch


x = torch.normal(0, 1, [31, 455])
h = torch.normal(0, 1, [100, 20, 31])

g = torch.matmul(h, x)
g = torch.heaviside(g, torch.tensor(0.))

w = torch.normal(0, 1, [100, 20, 31]) 


target = torch.ones([455, 1])


g.shape, w.shape





res = []
for i in range(g.shape[2]):
    g_i = g[:, :, i]
    r = torch.matmul(g_i, w)
    res.append(r.sum(dim=1))

ew = torch.stack(res)


ew.shape


x.shape


res = []
for i in range(ew.shape[0]):
    x_i = x[:, i]
    ew_i = ew[i, :, :]
    
    res.append(torch.matmul(ew_i, x_i))

r_output = torch.stack(res)


r_output.shape


d = r_output - target


x.shape


g[:, :, None].shape


# res = []
# for i in range(d.shape[1]):
#     x_i = x[:, i]
#     d_i = d[i, :]
#     grad = d_i[:, None] * x_i[None]
#     r = g[:, :, None] * grad[:, None]
    
#     res.append(r)
    
# res = torch.stack(res) #.mean(dim=0)





ew_vec = torch.tensordot(g, w, dims=([1], [1])).sum(dim=0)
ew_vec.shape


torch.allclose(ew_vec, ew, rtol=1e-03, atol=1e-03)


r_output_vec = torch.einsum('ijk,ki->ij', ew_vec, x)


torch.allclose(r_output_vec, r_output, rtol=1e-03, atol=1e-03)


d_vec = r_output_vec - target



