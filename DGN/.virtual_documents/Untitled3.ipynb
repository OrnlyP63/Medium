import torch





x = torch.normal(0, 1, [31])


x.shape





h = torch.normal(0, 1, [100, 20, 31])


g = torch.matmul(h, x)
g = torch.heaviside(g, torch.tensor(0.))





g.shape





w = torch.normal(0, 1, [100, 20, 31]) 





ew = torch.matmul(g, w)


ew.shape


ew_sum = ew.sum(dim=1)


ew_sum.shape





r_output = torch.matmul(ew_sum, x)


r_output.shape


target = 1.


(r_output[:, None] - target).shape


x[None].shape


grad = (r_output[:, None] - target) * x[None]


grad.shape


learning_rate = 0.01


w -= learning_rate * g[:, :, None] * grad[:, None]


w.shape





x = torch.normal(0, 1, [31, 455])


x.shape


g = torch.matmul(h, x)


g.shape


g[:, :, 0].shape


w.shape


g.shape


x.shape


r = torch.einsum('ijk,ijl->ilk', g, w)


r.shape


torch.einsum('ijk,jk->ki', r, x).shape


r.shape


x.shape


x[:, 0].shape


r[:, :, 0].shape


r = torch.normal(0, 1, [100, 31, 455])
x = torch.normal(0, 1, [31, 455])
res = []
for i in range(r.shape[2]):
    x_i = x[:, i]
    r_i = r[:, :, i]
    
    res.append(torch.matmul(r_i, x_i))

final_res = torch.stack(res)


final_res.shape





res = torch.einsum('ijk,jk->ik', r, x)


res.shape



