{
 "cells": [
  {
   "cell_type": "code",
   "execution_count": 1,
   "id": "f14fe7cc-5f3c-426d-aa4e-4e88d106f57e",
   "metadata": {},
   "outputs": [],
   "source": [
    "import numpy as np\n",
    "from sklearn import datasets\n",
    "from sklearn import preprocessing\n",
    "from sklearn import model_selection"
   ]
  },
  {
   "cell_type": "code",
   "execution_count": 2,
   "id": "e0aa781d-be3b-4a4e-8119-1e4b58a57aa6",
   "metadata": {},
   "outputs": [],
   "source": [
    "features, targets = datasets.load_breast_cancer(return_X_y=True)"
   ]
  },
  {
   "cell_type": "code",
   "execution_count": 3,
   "id": "46cfad85-5d8a-4ad6-98e6-e9d0fbbf4312",
   "metadata": {},
   "outputs": [
    {
     "data": {
      "text/plain": [
       "(569, 30)"
      ]
     },
     "execution_count": 3,
     "metadata": {},
     "output_type": "execute_result"
    }
   ],
   "source": [
    "features.shape"
   ]
  },
  {
   "cell_type": "code",
   "execution_count": 4,
   "id": "0d0499ba-37fe-4fe4-b5ce-dd1f7b3fcb46",
   "metadata": {},
   "outputs": [],
   "source": [
    "x_train, x_test, y_train, y_test = model_selection.train_test_split(features, targets, test_size=0.2, random_state=0)"
   ]
  },
  {
   "cell_type": "code",
   "execution_count": 5,
   "id": "fe8d1e0a-0b1a-41a5-afc7-c5df61267c20",
   "metadata": {},
   "outputs": [
    {
     "data": {
      "text/plain": [
       "30"
      ]
     },
     "execution_count": 5,
     "metadata": {},
     "output_type": "execute_result"
    }
   ],
   "source": [
    "n_features = x_train.shape[-1]\n",
    "n_features"
   ]
  },
  {
   "cell_type": "code",
   "execution_count": 6,
   "id": "73f44894-9b4f-4127-aa30-b081814c37a3",
   "metadata": {},
   "outputs": [],
   "source": [
    "# Input features are centered and scaled to unit variance:\n",
    "feature_encoder = preprocessing.StandardScaler()\n",
    "x_train = feature_encoder.fit_transform(x_train)\n",
    "x_test = feature_encoder.transform(x_test)"
   ]
  },
  {
   "cell_type": "code",
   "execution_count": 7,
   "id": "8861e5f5-5358-4eb8-86b2-e56a5e54066d",
   "metadata": {},
   "outputs": [
    {
     "data": {
      "text/plain": [
       "(455, 114)"
      ]
     },
     "execution_count": 7,
     "metadata": {},
     "output_type": "execute_result"
    }
   ],
   "source": [
    "x_train.shape[0], x_test.shape[0]"
   ]
  },
  {
   "cell_type": "code",
   "execution_count": 8,
   "id": "ad4209cf-9bf8-41fc-9374-268d372b8069",
   "metadata": {},
   "outputs": [],
   "source": [
    "# number of neurons per layer, the last element must be 1\n",
    "n_neurons = np.array([100, 10, 1])\n",
    "n_branches = 20  # number of dendritic brancher per neuron"
   ]
  },
  {
   "cell_type": "code",
   "execution_count": 9,
   "id": "8ed002f2-0e72-40f0-996c-fba1f4e309c6",
   "metadata": {},
   "outputs": [
    {
     "data": {
      "text/plain": [
       "array([100,  10,   1])"
      ]
     },
     "execution_count": 9,
     "metadata": {},
     "output_type": "execute_result"
    }
   ],
   "source": [
    "n_neurons"
   ]
  },
  {
   "cell_type": "markdown",
   "id": "045f8c80-3390-4e9c-90bf-e9daf6006f2b",
   "metadata": {},
   "source": [
    "---"
   ]
  },
  {
   "cell_type": "code",
   "execution_count": 10,
   "id": "088e3554-f18b-48ce-884d-f2f5a08337c1",
   "metadata": {},
   "outputs": [],
   "source": [
    "import torch.nn as nn\n",
    "import torch"
   ]
  },
  {
   "cell_type": "code",
   "execution_count": 11,
   "id": "fdef2065-1a98-44a5-84c3-55cd08c35021",
   "metadata": {},
   "outputs": [],
   "source": [
    "class DentricLayer(nn.Module):\n",
    "    def __init__(self, \n",
    "                 n_input:int,\n",
    "                 n_output:int, \n",
    "                 n_branches:int,\n",
    "                 hyperplane_bias_magnitude:float = 1.):\n",
    "        \n",
    "        super(DentricLayer, self).__init__()\n",
    "        \n",
    "        # self.n_input = n_input\n",
    "        # self.n_branch = n_branch\n",
    "        # self.n_output = n_output\n",
    "        \n",
    "        self.dgn_weights = torch.zeros(n_output, n_branches, n_input + 1)\n",
    "        self.dgn_hyperplanes = torch.normal(0, 1, [n_output, n_branches, n_input + 1])\n",
    "        self.dgn_hyperplanes = self.dgn_hyperplanes / torch.linalg.norm(self.dgn_hyperplanes[:, :, 1:], axis=(1, 2))[:, None, None]\n",
    "        self.hyperplane_bias_magnitude = hyperplane_bias_magnitude\n",
    "        \n",
    "    def forward(self, X):\n",
    "        r_in = torch.hstack([X, torch.ones((X.shape[0], 1))])\n",
    "        side_info = torch.hstack([X, torch.ones((X.shape[0], 1)) * self.hyperplane_bias_magnitude])\n",
    "        h_dot_side_indo = torch.dot(self.dgn_hyperplanes, side_info)\n",
    "        gate_values = torch.heaviside(h_dot_side_indo, 0)\n",
    "        effective_weights  = torch.dot(gate_values, self.dgn_weights).sum(dim=1)\n",
    "        r_out = torch.dot(effective_weights, r_in)\n",
    "        \n",
    "        return r_out"
   ]
  },
  {
   "cell_type": "code",
   "execution_count": 12,
   "id": "ab03d62e-77e7-4da7-9ecd-a8e3dcc1a03e",
   "metadata": {},
   "outputs": [],
   "source": [
    "h = torch.normal(0, 1, [100, 20, 30 + 1])\n",
    "h = h / torch.linalg.norm(h[:, :, :-1], axis=(1, 2))[:, None, None]"
   ]
  },
  {
   "cell_type": "code",
   "execution_count": 13,
   "id": "76a470e8-094d-42f0-b58b-03ae7a945603",
   "metadata": {
    "tags": []
   },
   "outputs": [],
   "source": [
    "x = np.hstack([np.ones((x_train.shape[0], 1)), x_train])\n",
    "x = torch.FloatTensor(x)"
   ]
  },
  {
   "cell_type": "code",
   "execution_count": 16,
   "id": "73877e1f-734b-43c1-abc9-b93afc87dbf2",
   "metadata": {},
   "outputs": [
    {
     "data": {
      "text/plain": [
       "(torch.Size([10, 20, 31]), torch.Size([455, 31]))"
      ]
     },
     "execution_count": 16,
     "metadata": {},
     "output_type": "execute_result"
    }
   ],
   "source": [
    "h.shape, x.shape"
   ]
  },
  {
   "cell_type": "code",
   "execution_count": 17,
   "id": "10fbe2a4-bda4-462c-86ea-b5b79b1228c2",
   "metadata": {},
   "outputs": [],
   "source": [
    "tensor_dot = torch.tensordot(h, x, dims=([2], [1]))"
   ]
  },
  {
   "cell_type": "code",
   "execution_count": 18,
   "id": "a5972343-2601-46ba-8167-233e4d8f4050",
   "metadata": {},
   "outputs": [
    {
     "data": {
      "text/plain": [
       "torch.Size([10, 20, 455])"
      ]
     },
     "execution_count": 18,
     "metadata": {},
     "output_type": "execute_result"
    }
   ],
   "source": [
    "tensor_dot.shape"
   ]
  },
  {
   "cell_type": "code",
   "execution_count": 19,
   "id": "8741dc10-b582-4f54-9cf9-4193b05ac239",
   "metadata": {},
   "outputs": [
    {
     "data": {
      "text/plain": [
       "tensor([[19.1452,  3.2551,  0.8042],\n",
       "        [-8.6342, 10.4805,  1.9739],\n",
       "        [-3.4690, 10.5930,  0.7933]])"
      ]
     },
     "execution_count": 19,
     "metadata": {},
     "output_type": "execute_result"
    }
   ],
   "source": [
    "a = torch.randn(3, 5, 4, 6)\n",
    "b = torch.randn(6, 4, 5, 3)\n",
    "torch.tensordot(a, b, dims=([2, 1, 3], [1, 2, 0])) # 4, 5, 6 | 4, 5, 6"
   ]
  },
  {
   "cell_type": "code",
   "execution_count": 20,
   "id": "40dc8a41-1937-4daf-829f-60dceb3d3fd7",
   "metadata": {},
   "outputs": [],
   "source": [
    "gate = torch.heaviside(tensor_dot, torch.tensor(0.))"
   ]
  },
  {
   "cell_type": "code",
   "execution_count": 21,
   "id": "81465c81-2a7b-44d1-9cf1-de096a22dccd",
   "metadata": {},
   "outputs": [],
   "source": [
    "dgn_weights = torch.zeros(10, 20, 30 + 1)"
   ]
  },
  {
   "cell_type": "code",
   "execution_count": 22,
   "id": "62b02930-78c7-415c-8e7e-bf0839dc0c58",
   "metadata": {},
   "outputs": [
    {
     "data": {
      "text/plain": [
       "(torch.Size([10, 20, 31]), torch.Size([10, 20, 455]))"
      ]
     },
     "execution_count": 22,
     "metadata": {},
     "output_type": "execute_result"
    }
   ],
   "source": [
    "dgn_weights.shape, gate.shape"
   ]
  },
  {
   "cell_type": "code",
   "execution_count": 30,
   "id": "1140f2ed-7a41-47fb-b766-7c71cd059e3b",
   "metadata": {},
   "outputs": [],
   "source": [
    "effective_weights = torch.tensordot(gate, dgn_weights, dims=([0], [0])).sum(dim=1)"
   ]
  },
  {
   "cell_type": "code",
   "execution_count": 31,
   "id": "fa398f6b-c030-4d63-b526-2f80b53d1cd0",
   "metadata": {},
   "outputs": [
    {
     "data": {
      "text/plain": [
       "torch.Size([20, 20, 31])"
      ]
     },
     "execution_count": 31,
     "metadata": {},
     "output_type": "execute_result"
    }
   ],
   "source": [
    "effective_weights.shape"
   ]
  },
  {
   "cell_type": "code",
   "execution_count": 25,
   "id": "4fbae79a-e8ab-4ea3-8afe-0fa56b8fa149",
   "metadata": {},
   "outputs": [
    {
     "data": {
      "text/plain": [
       "(torch.Size([455, 31]), torch.Size([10, 10, 31]))"
      ]
     },
     "execution_count": 25,
     "metadata": {},
     "output_type": "execute_result"
    }
   ],
   "source": [
    "x.shape, effective_weights.shape"
   ]
  },
  {
   "cell_type": "code",
   "execution_count": 26,
   "id": "59cb3027-d724-4600-9215-8a186a97c706",
   "metadata": {},
   "outputs": [
    {
     "ename": "RuntimeError",
     "evalue": "The size of tensor a (10) must match the size of tensor b (455) at non-singleton dimension 1",
     "output_type": "error",
     "traceback": [
      "\u001b[1;31m---------------------------------------------------------------------------\u001b[0m",
      "\u001b[1;31mRuntimeError\u001b[0m                              Traceback (most recent call last)",
      "\u001b[1;32m~\\AppData\\Local\\Temp/ipykernel_29656/3788770567.py\u001b[0m in \u001b[0;36m<module>\u001b[1;34m\u001b[0m\n\u001b[1;32m----> 1\u001b[1;33m \u001b[0meffective_weights\u001b[0m\u001b[1;33m[\u001b[0m\u001b[1;33m:\u001b[0m\u001b[1;32mNone\u001b[0m\u001b[1;33m]\u001b[0m \u001b[1;33m*\u001b[0m \u001b[0mx\u001b[0m\u001b[1;33m\u001b[0m\u001b[1;33m\u001b[0m\u001b[0m\n\u001b[0m",
      "\u001b[1;31mRuntimeError\u001b[0m: The size of tensor a (10) must match the size of tensor b (455) at non-singleton dimension 1"
     ]
    }
   ],
   "source": [
    "effective_weights[:None] * x"
   ]
  },
  {
   "cell_type": "code",
   "execution_count": 27,
   "id": "9519e912-c2c8-498e-956e-2d938c154e0b",
   "metadata": {},
   "outputs": [
    {
     "ename": "RuntimeError",
     "evalue": "1D tensors expected, but got 4D and 2D tensors",
     "output_type": "error",
     "traceback": [
      "\u001b[1;31m---------------------------------------------------------------------------\u001b[0m",
      "\u001b[1;31mRuntimeError\u001b[0m                              Traceback (most recent call last)",
      "\u001b[1;32m~\\AppData\\Local\\Temp/ipykernel_29656/30372142.py\u001b[0m in \u001b[0;36m<module>\u001b[1;34m\u001b[0m\n\u001b[1;32m----> 1\u001b[1;33m \u001b[0mtorch\u001b[0m\u001b[1;33m.\u001b[0m\u001b[0mdot\u001b[0m\u001b[1;33m(\u001b[0m\u001b[0meffective_weights\u001b[0m\u001b[1;33m[\u001b[0m\u001b[1;33m:\u001b[0m\u001b[1;33m,\u001b[0m \u001b[1;32mNone\u001b[0m\u001b[1;33m]\u001b[0m\u001b[1;33m,\u001b[0m \u001b[0mx\u001b[0m\u001b[1;33m)\u001b[0m\u001b[1;33m\u001b[0m\u001b[1;33m\u001b[0m\u001b[0m\n\u001b[0m",
      "\u001b[1;31mRuntimeError\u001b[0m: 1D tensors expected, but got 4D and 2D tensors"
     ]
    }
   ],
   "source": [
    "torch.dot(effective_weights[:, None], x)"
   ]
  },
  {
   "cell_type": "code",
   "execution_count": null,
   "id": "a9bfc1d9-feff-4bc6-8dcd-7eac56e54681",
   "metadata": {},
   "outputs": [],
   "source": [
    "effective_weights"
   ]
  },
  {
   "cell_type": "code",
   "execution_count": null,
   "id": "0569517d-72d9-4b81-95e3-4b1dbfd06d8a",
   "metadata": {},
   "outputs": [],
   "source": []
  }
 ],
 "metadata": {
  "kernelspec": {
   "display_name": "machine learning",
   "language": "python",
   "name": "ml"
  },
  "language_info": {
   "codemirror_mode": {
    "name": "ipython",
    "version": 3
   },
   "file_extension": ".py",
   "mimetype": "text/x-python",
   "name": "python",
   "nbconvert_exporter": "python",
   "pygments_lexer": "ipython3",
   "version": "3.12.4"
  }
 },
 "nbformat": 4,
 "nbformat_minor": 5
}
