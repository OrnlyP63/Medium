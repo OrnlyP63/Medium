{
 "cells": [
  {
   "cell_type": "code",
   "execution_count": 1,
   "id": "75be0206-121f-4305-9560-e51a5055a2ef",
   "metadata": {},
   "outputs": [],
   "source": [
    "import torch"
   ]
  },
  {
   "cell_type": "markdown",
   "id": "56106d08-cd80-4a4d-a789-09731c2c40f9",
   "metadata": {},
   "source": [
    "$$x_i\\in \\mathbb{R}^{31}$$"
   ]
  },
  {
   "cell_type": "code",
   "execution_count": 2,
   "id": "59afc1e0-2f64-4bd2-858f-f7156183e88b",
   "metadata": {},
   "outputs": [],
   "source": [
    "x = torch.normal(0, 1, [31])"
   ]
  },
  {
   "cell_type": "code",
   "execution_count": 3,
   "id": "5e74d1fa-a837-4c13-a1cb-2af56e78bfb3",
   "metadata": {},
   "outputs": [
    {
     "data": {
      "text/plain": [
       "torch.Size([31])"
      ]
     },
     "execution_count": 3,
     "metadata": {},
     "output_type": "execute_result"
    }
   ],
   "source": [
    "x.shape"
   ]
  },
  {
   "cell_type": "markdown",
   "id": "9d4d37db-4b21-4cb3-9e79-28042346909e",
   "metadata": {},
   "source": [
    "$$h\\in \\mathbb{R}^{100\\times20\\times31}$$"
   ]
  },
  {
   "cell_type": "code",
   "execution_count": 4,
   "id": "a0625d9b-16ef-4ab8-a4b9-48521a45f7c7",
   "metadata": {},
   "outputs": [],
   "source": [
    "h = torch.normal(0, 1, [100, 20, 31])"
   ]
  },
  {
   "cell_type": "code",
   "execution_count": 5,
   "id": "8ae7e48a-4e0b-4a93-9b59-67f412f454fc",
   "metadata": {},
   "outputs": [],
   "source": [
    "g = torch.matmul(h, x)\n",
    "g = torch.heaviside(g, torch.tensor(0.))"
   ]
  },
  {
   "cell_type": "markdown",
   "id": "dd6d9686-0bce-4f5f-9576-6e13929e776b",
   "metadata": {},
   "source": [
    "$$g = h\\cdot x\\in\\mathbb{R}^{100\\times20}$$"
   ]
  },
  {
   "cell_type": "code",
   "execution_count": 6,
   "id": "5f3eda7f-282e-4aff-a180-faef6a108e26",
   "metadata": {},
   "outputs": [
    {
     "data": {
      "text/plain": [
       "torch.Size([100, 20])"
      ]
     },
     "execution_count": 6,
     "metadata": {},
     "output_type": "execute_result"
    }
   ],
   "source": [
    "g.shape"
   ]
  },
  {
   "cell_type": "markdown",
   "id": "4f409555-988c-4c0a-b96b-f9c45b641671",
   "metadata": {},
   "source": [
    "$$w\\in\\mathbb{R}^{100\\times20\\times31}$$"
   ]
  },
  {
   "cell_type": "code",
   "execution_count": 7,
   "id": "3af7ec2d-2576-4877-985a-17934c6960e5",
   "metadata": {},
   "outputs": [],
   "source": [
    "w = torch.normal(0, 1, [100, 20, 31]) "
   ]
  },
  {
   "cell_type": "markdown",
   "id": "277cdbdd-0467-40a4-876f-7e85a778014a",
   "metadata": {},
   "source": [
    "$$ew = g\\cdot w\\in\\mathbb{R}^{100\\times100\\times31}$$\n",
    "$$ew_{sum} \\in\\mathbb{R}^{100\\times31}$$"
   ]
  },
  {
   "cell_type": "code",
   "execution_count": 8,
   "id": "cfa73fd0-a242-4309-b144-8fb09e505840",
   "metadata": {},
   "outputs": [],
   "source": [
    "ew = torch.matmul(g, w)"
   ]
  },
  {
   "cell_type": "code",
   "execution_count": 9,
   "id": "2cffc73b-4112-486c-9082-829bf7ff69e7",
   "metadata": {},
   "outputs": [
    {
     "data": {
      "text/plain": [
       "torch.Size([100, 100, 31])"
      ]
     },
     "execution_count": 9,
     "metadata": {},
     "output_type": "execute_result"
    }
   ],
   "source": [
    "ew.shape"
   ]
  },
  {
   "cell_type": "code",
   "execution_count": 10,
   "id": "d6693650-9d0d-4040-9f45-87117e89fa42",
   "metadata": {},
   "outputs": [],
   "source": [
    "ew_sum = ew.sum(dim=1)"
   ]
  },
  {
   "cell_type": "code",
   "execution_count": 11,
   "id": "7b07d9d5-bb24-4ae2-86fb-53cf51e436f2",
   "metadata": {},
   "outputs": [
    {
     "data": {
      "text/plain": [
       "torch.Size([100, 31])"
      ]
     },
     "execution_count": 11,
     "metadata": {},
     "output_type": "execute_result"
    }
   ],
   "source": [
    "ew_sum.shape"
   ]
  },
  {
   "cell_type": "markdown",
   "id": "da45bd41-7a9d-4387-ab6e-fc32782220ed",
   "metadata": {},
   "source": [
    "$$r_{output} = ew_{sum}\\cdot x\\in\\mathbb{R}^{100}$$"
   ]
  },
  {
   "cell_type": "code",
   "execution_count": 12,
   "id": "ec49d30c-4147-485a-baac-4b80d452fac7",
   "metadata": {},
   "outputs": [],
   "source": [
    "r_output = torch.matmul(ew_sum, x)"
   ]
  },
  {
   "cell_type": "code",
   "execution_count": 13,
   "id": "3691a0a6-9690-4fe2-87dd-fd0df2031061",
   "metadata": {},
   "outputs": [
    {
     "data": {
      "text/plain": [
       "torch.Size([100])"
      ]
     },
     "execution_count": 13,
     "metadata": {},
     "output_type": "execute_result"
    }
   ],
   "source": [
    "r_output.shape"
   ]
  },
  {
   "cell_type": "code",
   "execution_count": 14,
   "id": "90fa86d6-f95c-4836-9457-b8f11094d66b",
   "metadata": {},
   "outputs": [],
   "source": [
    "target = 1."
   ]
  },
  {
   "cell_type": "code",
   "execution_count": 15,
   "id": "a74cf1b2-da84-45ef-a238-969a023c50d7",
   "metadata": {},
   "outputs": [],
   "source": [
    "grad = (r_output[:, None] - target) * x[None]"
   ]
  },
  {
   "cell_type": "code",
   "execution_count": 16,
   "id": "9f2ae64b-e1b1-40a3-8c1f-9168a315d511",
   "metadata": {},
   "outputs": [
    {
     "data": {
      "text/plain": [
       "torch.Size([100, 31])"
      ]
     },
     "execution_count": 16,
     "metadata": {},
     "output_type": "execute_result"
    }
   ],
   "source": [
    "grad.shape"
   ]
  },
  {
   "cell_type": "code",
   "execution_count": 17,
   "id": "9b2d7f1a-5a07-4492-973f-7c498aa8a7f6",
   "metadata": {},
   "outputs": [
    {
     "data": {
      "text/plain": [
       "torch.Size([100, 1])"
      ]
     },
     "execution_count": 17,
     "metadata": {},
     "output_type": "execute_result"
    }
   ],
   "source": [
    "(r_output[:, None] - target).shape"
   ]
  },
  {
   "cell_type": "code",
   "execution_count": 18,
   "id": "316b99f0-0f76-4c0b-94a2-8b4eeb24b577",
   "metadata": {},
   "outputs": [],
   "source": [
    "learning_rate = 0.01"
   ]
  },
  {
   "cell_type": "code",
   "execution_count": 19,
   "id": "47a40852-b7d3-4440-a935-0ecd0ab33082",
   "metadata": {},
   "outputs": [],
   "source": [
    "w -= learning_rate * g[:, :, None] * grad[:, None]"
   ]
  },
  {
   "cell_type": "code",
   "execution_count": 20,
   "id": "06883191-6542-4622-a03e-6fb821c64f36",
   "metadata": {},
   "outputs": [
    {
     "data": {
      "text/plain": [
       "torch.Size([100, 20, 31])"
      ]
     },
     "execution_count": 20,
     "metadata": {},
     "output_type": "execute_result"
    }
   ],
   "source": [
    "w.shape"
   ]
  },
  {
   "cell_type": "markdown",
   "id": "5ae3b61d-faf0-454e-99ac-b329b0d5213a",
   "metadata": {},
   "source": [
    "---"
   ]
  },
  {
   "cell_type": "code",
   "execution_count": 21,
   "id": "9f453d1d-d86e-460b-9c88-5817b97a30f7",
   "metadata": {},
   "outputs": [],
   "source": [
    "x = torch.normal(0, 1, [31, 455])"
   ]
  },
  {
   "cell_type": "code",
   "execution_count": 22,
   "id": "7efe4781-1274-46b9-8655-15e8276ff4cf",
   "metadata": {},
   "outputs": [
    {
     "data": {
      "text/plain": [
       "torch.Size([31, 455])"
      ]
     },
     "execution_count": 22,
     "metadata": {},
     "output_type": "execute_result"
    }
   ],
   "source": [
    "x.shape"
   ]
  },
  {
   "cell_type": "code",
   "execution_count": 23,
   "id": "92c933ab-92a4-423e-828a-d40b741e7605",
   "metadata": {},
   "outputs": [],
   "source": [
    "g = torch.matmul(h, x)"
   ]
  },
  {
   "cell_type": "code",
   "execution_count": 24,
   "id": "4290985c-f00d-4721-8cb9-82e9b869ae85",
   "metadata": {},
   "outputs": [
    {
     "data": {
      "text/plain": [
       "torch.Size([100, 20, 455])"
      ]
     },
     "execution_count": 24,
     "metadata": {},
     "output_type": "execute_result"
    }
   ],
   "source": [
    "g.shape"
   ]
  },
  {
   "cell_type": "code",
   "execution_count": 25,
   "id": "af850abc-f2e7-4ea0-9c51-1df372728578",
   "metadata": {},
   "outputs": [],
   "source": [
    "r = torch.einsum('ijk,ijl->ilk', g, w)"
   ]
  },
  {
   "cell_type": "code",
   "execution_count": 26,
   "id": "65b53635-a6cc-417c-8068-3269f076f53b",
   "metadata": {},
   "outputs": [
    {
     "data": {
      "text/plain": [
       "torch.Size([100, 31, 455])"
      ]
     },
     "execution_count": 26,
     "metadata": {},
     "output_type": "execute_result"
    }
   ],
   "source": [
    "r.shape"
   ]
  },
  {
   "cell_type": "code",
   "execution_count": 27,
   "id": "d9f8f21d-48ad-4154-b086-72321fb113e5",
   "metadata": {},
   "outputs": [],
   "source": [
    "res = torch.einsum('ijk,jk->ik', r, x)"
   ]
  },
  {
   "cell_type": "code",
   "execution_count": 28,
   "id": "7b62ce88-24af-4114-9aa2-5cf9ed93a8c8",
   "metadata": {},
   "outputs": [
    {
     "data": {
      "text/plain": [
       "torch.Size([100, 455])"
      ]
     },
     "execution_count": 28,
     "metadata": {},
     "output_type": "execute_result"
    }
   ],
   "source": [
    "res.shape"
   ]
  },
  {
   "cell_type": "code",
   "execution_count": 29,
   "id": "f8f09d6d-99bd-44ff-b134-649721e6314b",
   "metadata": {},
   "outputs": [],
   "source": [
    "target = torch.ones([1, 455])"
   ]
  },
  {
   "cell_type": "code",
   "execution_count": 30,
   "id": "076d209e-4676-4f27-9bbb-56337cf07853",
   "metadata": {},
   "outputs": [
    {
     "data": {
      "text/plain": [
       "torch.Size([100, 455])"
      ]
     },
     "execution_count": 30,
     "metadata": {},
     "output_type": "execute_result"
    }
   ],
   "source": [
    "d = (res - target)\n",
    "d.shape"
   ]
  },
  {
   "cell_type": "code",
   "execution_count": 31,
   "id": "1b2c277e-f390-443a-b43c-93a18e194aa2",
   "metadata": {},
   "outputs": [
    {
     "data": {
      "text/plain": [
       "torch.Size([31, 455])"
      ]
     },
     "execution_count": 31,
     "metadata": {},
     "output_type": "execute_result"
    }
   ],
   "source": [
    "x.shape"
   ]
  },
  {
   "cell_type": "code",
   "execution_count": 32,
   "id": "16171b79-bf38-4abf-9036-421349e09e3b",
   "metadata": {},
   "outputs": [
    {
     "data": {
      "text/plain": [
       "torch.Size([100])"
      ]
     },
     "execution_count": 32,
     "metadata": {},
     "output_type": "execute_result"
    }
   ],
   "source": [
    "d[:, 0].shape"
   ]
  },
  {
   "cell_type": "code",
   "execution_count": 33,
   "id": "6a9d8020-dfcc-4ba1-9770-06ef9c935439",
   "metadata": {},
   "outputs": [
    {
     "data": {
      "text/plain": [
       "torch.Size([31])"
      ]
     },
     "execution_count": 33,
     "metadata": {},
     "output_type": "execute_result"
    }
   ],
   "source": [
    "x[:, 0].shape"
   ]
  },
  {
   "cell_type": "code",
   "execution_count": 35,
   "id": "fab38dcc-3ccd-4ba6-9158-7c39cbce957c",
   "metadata": {
    "tags": []
   },
   "outputs": [],
   "source": [
    "d = torch.normal(0, 1, [100, 455])\n",
    "x = torch.normal(0, 1, [31, 455])\n",
    "g = torch.normal(0, 1, [100, 20])\n",
    "\n",
    "res = []\n",
    "for i in range(d.shape[1]):\n",
    "    x_i = x[:, i]\n",
    "    d_i = d[:, i]\n",
    "    grad = d_i[:, None] * x_i[None]\n",
    "    r = g[:, :, None] * grad[:, None]\n",
    "    \n",
    "    res.append(r)\n",
    "    \n",
    "res = torch.stack(res) #.mean(dim=0)"
   ]
  },
  {
   "cell_type": "code",
   "execution_count": 36,
   "id": "42a7f838-5061-49f7-b95d-7242a7fa46dd",
   "metadata": {},
   "outputs": [
    {
     "data": {
      "text/plain": [
       "torch.Size([455, 100, 20, 31])"
      ]
     },
     "execution_count": 36,
     "metadata": {},
     "output_type": "execute_result"
    }
   ],
   "source": [
    "res.shape"
   ]
  },
  {
   "cell_type": "code",
   "execution_count": 37,
   "id": "fc96d261-d211-4066-9418-768cd3f3223d",
   "metadata": {},
   "outputs": [],
   "source": [
    "res_vec = torch.einsum('bi,ai,bc->ibca', d, x, g).mean(dim=0)"
   ]
  },
  {
   "cell_type": "code",
   "execution_count": 38,
   "id": "25ea7071-3311-4e48-a93d-56bb54faaa24",
   "metadata": {},
   "outputs": [
    {
     "data": {
      "text/plain": [
       "torch.Size([100, 20, 31])"
      ]
     },
     "execution_count": 38,
     "metadata": {},
     "output_type": "execute_result"
    }
   ],
   "source": [
    "res_vec.shape"
   ]
  },
  {
   "cell_type": "code",
   "execution_count": 39,
   "id": "bdad1ea3-b763-4be6-8872-461fa6cf8ec8",
   "metadata": {},
   "outputs": [
    {
     "data": {
      "text/plain": [
       "torch.Size([100, 20, 31])"
      ]
     },
     "execution_count": 39,
     "metadata": {},
     "output_type": "execute_result"
    }
   ],
   "source": [
    "res.mean(dim=0).shape"
   ]
  },
  {
   "cell_type": "code",
   "execution_count": 40,
   "id": "99f029ac-113a-411f-af8c-ab74486b2bdf",
   "metadata": {},
   "outputs": [
    {
     "data": {
      "text/plain": [
       "torch.Size([455, 100, 20, 31])"
      ]
     },
     "execution_count": 40,
     "metadata": {},
     "output_type": "execute_result"
    }
   ],
   "source": [
    "res.shape"
   ]
  },
  {
   "cell_type": "code",
   "execution_count": 41,
   "id": "5803115d-fd9e-4996-9629-77ee72186dd1",
   "metadata": {},
   "outputs": [
    {
     "data": {
      "text/plain": [
       "torch.Size([100, 20, 31])"
      ]
     },
     "execution_count": 41,
     "metadata": {},
     "output_type": "execute_result"
    }
   ],
   "source": [
    "w.shape"
   ]
  },
  {
   "cell_type": "code",
   "execution_count": 42,
   "id": "f202ce9e-cece-4032-a77a-7b98e3ce5c89",
   "metadata": {},
   "outputs": [],
   "source": [
    "aa = w - res"
   ]
  },
  {
   "cell_type": "code",
   "execution_count": 43,
   "id": "cc8968a5-30a2-47fc-8f5e-d24bfffb9c3d",
   "metadata": {},
   "outputs": [
    {
     "data": {
      "text/plain": [
       "torch.Size([455, 100, 20, 31])"
      ]
     },
     "execution_count": 43,
     "metadata": {},
     "output_type": "execute_result"
    }
   ],
   "source": [
    "aa.shape"
   ]
  },
  {
   "cell_type": "code",
   "execution_count": null,
   "id": "9392545e-9dee-4a89-8f84-4a9d957f52c3",
   "metadata": {},
   "outputs": [],
   "source": []
  }
 ],
 "metadata": {
  "kernelspec": {
   "display_name": "machine learning",
   "language": "python",
   "name": "ml"
  },
  "language_info": {
   "codemirror_mode": {
    "name": "ipython",
    "version": 3
   },
   "file_extension": ".py",
   "mimetype": "text/x-python",
   "name": "python",
   "nbconvert_exporter": "python",
   "pygments_lexer": "ipython3",
   "version": "3.12.4"
  }
 },
 "nbformat": 4,
 "nbformat_minor": 5
}
