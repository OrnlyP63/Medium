{
 "cells": [
  {
   "cell_type": "code",
   "execution_count": 1,
   "id": "2e086526-6007-4385-87d0-edf6b4cd50e1",
   "metadata": {},
   "outputs": [],
   "source": [
    "import torch"
   ]
  },
  {
   "cell_type": "markdown",
   "id": "fc1896ac-528b-42ba-ad28-40a9ae9c54b5",
   "metadata": {},
   "source": [
    "$$x_i\\in \\mathbb{R}^{31}$$"
   ]
  },
  {
   "cell_type": "code",
   "execution_count": 54,
   "id": "497b2e5e-f94e-4a28-b2be-55cc916b821d",
   "metadata": {},
   "outputs": [],
   "source": [
    "x = torch.normal(0, 1, [31])"
   ]
  },
  {
   "cell_type": "code",
   "execution_count": 3,
   "id": "c3067237-a331-403a-8674-504c7de051bf",
   "metadata": {},
   "outputs": [
    {
     "data": {
      "text/plain": [
       "torch.Size([31])"
      ]
     },
     "execution_count": 3,
     "metadata": {},
     "output_type": "execute_result"
    }
   ],
   "source": [
    "x.shape"
   ]
  },
  {
   "cell_type": "markdown",
   "id": "ba853e3d-2dac-4cbd-8b4d-e0443da9cfb5",
   "metadata": {},
   "source": [
    "$$h\\in \\mathbb{R}^{100\\times20\\times31}$$"
   ]
  },
  {
   "cell_type": "code",
   "execution_count": 4,
   "id": "64b76067-275c-4d1c-a2ef-411958737d88",
   "metadata": {},
   "outputs": [],
   "source": [
    "h = torch.normal(0, 1, [100, 20, 31])"
   ]
  },
  {
   "cell_type": "code",
   "execution_count": 5,
   "id": "a96a5d33-2bf8-4c19-8c3d-9e791d985568",
   "metadata": {},
   "outputs": [],
   "source": [
    "g = torch.matmul(h, x)\n",
    "g = torch.heaviside(g, torch.tensor(0.))"
   ]
  },
  {
   "cell_type": "markdown",
   "id": "ed29e8c4-2d41-43d6-9ce6-506841cc24f2",
   "metadata": {},
   "source": [
    "$$g = h\\cdot x\\in\\mathbb{R}^{100\\times20}$$"
   ]
  },
  {
   "cell_type": "code",
   "execution_count": 6,
   "id": "fafa2528-4dc5-4faa-8566-a725fb37be84",
   "metadata": {},
   "outputs": [
    {
     "data": {
      "text/plain": [
       "torch.Size([100, 20])"
      ]
     },
     "execution_count": 6,
     "metadata": {},
     "output_type": "execute_result"
    }
   ],
   "source": [
    "g.shape"
   ]
  },
  {
   "cell_type": "markdown",
   "id": "1f263e8a-2a28-4e53-bde1-57547d877d8d",
   "metadata": {},
   "source": [
    "$$w\\in\\mathbb{R}^{100\\times20\\times31}$$"
   ]
  },
  {
   "cell_type": "code",
   "execution_count": 7,
   "id": "ff22416d-35e7-4a1d-aa3b-e85a3cf8da52",
   "metadata": {},
   "outputs": [],
   "source": [
    "w = torch.normal(0, 1, [100, 20, 31]) "
   ]
  },
  {
   "cell_type": "markdown",
   "id": "b85ae137-1be0-4ded-b66e-c8787fdf173b",
   "metadata": {},
   "source": [
    "$$ew = g\\cdot w\\in\\mathbb{R}^{100\\times100\\times31}$$\n",
    "$$ew_{sum} \\in\\mathbb{R}^{100\\times31}$$"
   ]
  },
  {
   "cell_type": "code",
   "execution_count": 8,
   "id": "6e08b511-2f60-4758-a475-c727ace66bd1",
   "metadata": {},
   "outputs": [],
   "source": [
    "ew = torch.matmul(g, w)"
   ]
  },
  {
   "cell_type": "code",
   "execution_count": 9,
   "id": "9e6eb453-8bec-4226-b7e2-1cd9b9ce0e14",
   "metadata": {},
   "outputs": [
    {
     "data": {
      "text/plain": [
       "torch.Size([100, 100, 31])"
      ]
     },
     "execution_count": 9,
     "metadata": {},
     "output_type": "execute_result"
    }
   ],
   "source": [
    "ew.shape"
   ]
  },
  {
   "cell_type": "code",
   "execution_count": 10,
   "id": "45bbd6e2-dd25-48aa-a069-fba280c38d3c",
   "metadata": {},
   "outputs": [],
   "source": [
    "ew_sum = ew.sum(dim=1)"
   ]
  },
  {
   "cell_type": "code",
   "execution_count": 11,
   "id": "c7eedbc2-03f6-4f53-a180-03637ea18f4b",
   "metadata": {},
   "outputs": [
    {
     "data": {
      "text/plain": [
       "torch.Size([100, 31])"
      ]
     },
     "execution_count": 11,
     "metadata": {},
     "output_type": "execute_result"
    }
   ],
   "source": [
    "ew_sum.shape"
   ]
  },
  {
   "cell_type": "markdown",
   "id": "72e905d8-72db-4412-a939-80dae80aacbd",
   "metadata": {},
   "source": [
    "$$r_{output} = ew_{sum}\\cdot x\\in\\mathbb{R}^{100}$$"
   ]
  },
  {
   "cell_type": "code",
   "execution_count": 12,
   "id": "3d6ce5e4-3a68-4815-8ffe-209792ab7e46",
   "metadata": {},
   "outputs": [],
   "source": [
    "r_output = torch.matmul(ew_sum, x)"
   ]
  },
  {
   "cell_type": "code",
   "execution_count": 13,
   "id": "56a1b850-1b38-49b8-911c-7b540a681076",
   "metadata": {},
   "outputs": [
    {
     "data": {
      "text/plain": [
       "torch.Size([100])"
      ]
     },
     "execution_count": 13,
     "metadata": {},
     "output_type": "execute_result"
    }
   ],
   "source": [
    "r_output.shape"
   ]
  },
  {
   "cell_type": "code",
   "execution_count": 14,
   "id": "3cd04ba6-7237-4b74-9e6a-15ac04b4f5c0",
   "metadata": {},
   "outputs": [],
   "source": [
    "target = 1."
   ]
  },
  {
   "cell_type": "code",
   "execution_count": 17,
   "id": "7822f99e-2698-4348-8a3f-2cf683199f9c",
   "metadata": {},
   "outputs": [
    {
     "data": {
      "text/plain": [
       "torch.Size([100, 1])"
      ]
     },
     "execution_count": 17,
     "metadata": {},
     "output_type": "execute_result"
    }
   ],
   "source": [
    "(r_output[:, None] - target).shape"
   ]
  },
  {
   "cell_type": "code",
   "execution_count": 55,
   "id": "977bbef1-31c7-464c-ac82-659f79754e84",
   "metadata": {},
   "outputs": [
    {
     "data": {
      "text/plain": [
       "torch.Size([1, 31])"
      ]
     },
     "execution_count": 55,
     "metadata": {},
     "output_type": "execute_result"
    }
   ],
   "source": [
    "x[None].shape"
   ]
  },
  {
   "cell_type": "code",
   "execution_count": 15,
   "id": "90f08909-fb89-4be8-97e0-ea1494f15483",
   "metadata": {},
   "outputs": [],
   "source": [
    "grad = (r_output[:, None] - target) * x[None]"
   ]
  },
  {
   "cell_type": "code",
   "execution_count": 16,
   "id": "1e297377-4fe4-4670-9625-d7c73fb83e4b",
   "metadata": {},
   "outputs": [
    {
     "data": {
      "text/plain": [
       "torch.Size([100, 31])"
      ]
     },
     "execution_count": 16,
     "metadata": {},
     "output_type": "execute_result"
    }
   ],
   "source": [
    "grad.shape"
   ]
  },
  {
   "cell_type": "code",
   "execution_count": 18,
   "id": "29f08789-90e9-47ca-98ab-cc0a8506b10d",
   "metadata": {},
   "outputs": [],
   "source": [
    "learning_rate = 0.01"
   ]
  },
  {
   "cell_type": "code",
   "execution_count": 19,
   "id": "0b66a0c0-8085-4fe0-8cb4-90183e841623",
   "metadata": {},
   "outputs": [],
   "source": [
    "w -= learning_rate * g[:, :, None] * grad[:, None]"
   ]
  },
  {
   "cell_type": "code",
   "execution_count": 20,
   "id": "dd049644-84b5-427b-a18c-8a4e6f8d1835",
   "metadata": {},
   "outputs": [
    {
     "data": {
      "text/plain": [
       "torch.Size([100, 20, 31])"
      ]
     },
     "execution_count": 20,
     "metadata": {},
     "output_type": "execute_result"
    }
   ],
   "source": [
    "w.shape"
   ]
  },
  {
   "cell_type": "markdown",
   "id": "a032044c-348a-4ca4-9e5b-a73d63d68442",
   "metadata": {},
   "source": [
    "---"
   ]
  },
  {
   "cell_type": "code",
   "execution_count": 21,
   "id": "71831fec-784c-4a3f-be0e-66704c19aec2",
   "metadata": {},
   "outputs": [],
   "source": [
    "x = torch.normal(0, 1, [31, 455])"
   ]
  },
  {
   "cell_type": "code",
   "execution_count": 22,
   "id": "74dd440d-6025-475c-beb6-521befa46109",
   "metadata": {},
   "outputs": [
    {
     "data": {
      "text/plain": [
       "torch.Size([31, 455])"
      ]
     },
     "execution_count": 22,
     "metadata": {},
     "output_type": "execute_result"
    }
   ],
   "source": [
    "x.shape"
   ]
  },
  {
   "cell_type": "code",
   "execution_count": 23,
   "id": "c7e2785f-7f5d-4137-a2e5-97c2f3c93fa8",
   "metadata": {},
   "outputs": [],
   "source": [
    "g = torch.matmul(h, x)"
   ]
  },
  {
   "cell_type": "code",
   "execution_count": 24,
   "id": "dded5143-537f-476d-a995-cdd1a73caf95",
   "metadata": {},
   "outputs": [
    {
     "data": {
      "text/plain": [
       "torch.Size([100, 20, 455])"
      ]
     },
     "execution_count": 24,
     "metadata": {},
     "output_type": "execute_result"
    }
   ],
   "source": [
    "g.shape"
   ]
  },
  {
   "cell_type": "code",
   "execution_count": 25,
   "id": "d9d51d42-84a5-44aa-ab4d-fc55c506b827",
   "metadata": {},
   "outputs": [
    {
     "data": {
      "text/plain": [
       "torch.Size([100, 20])"
      ]
     },
     "execution_count": 25,
     "metadata": {},
     "output_type": "execute_result"
    }
   ],
   "source": [
    "g[:, :, 0].shape"
   ]
  },
  {
   "cell_type": "code",
   "execution_count": 26,
   "id": "dfa41299-992e-4c36-ba5f-e7ce231e6604",
   "metadata": {},
   "outputs": [
    {
     "data": {
      "text/plain": [
       "torch.Size([100, 20, 31])"
      ]
     },
     "execution_count": 26,
     "metadata": {},
     "output_type": "execute_result"
    }
   ],
   "source": [
    "w.shape"
   ]
  },
  {
   "cell_type": "code",
   "execution_count": 39,
   "id": "31cbc121-01e2-4398-ada6-df526e0b6f9e",
   "metadata": {},
   "outputs": [
    {
     "data": {
      "text/plain": [
       "torch.Size([100, 20, 455])"
      ]
     },
     "execution_count": 39,
     "metadata": {},
     "output_type": "execute_result"
    }
   ],
   "source": [
    "g.shape"
   ]
  },
  {
   "cell_type": "code",
   "execution_count": 31,
   "id": "703c02dc-28de-4ee3-bbe2-c7c8fe75845b",
   "metadata": {},
   "outputs": [
    {
     "data": {
      "text/plain": [
       "torch.Size([31, 455])"
      ]
     },
     "execution_count": 31,
     "metadata": {},
     "output_type": "execute_result"
    }
   ],
   "source": [
    "x.shape"
   ]
  },
  {
   "cell_type": "code",
   "execution_count": 29,
   "id": "95c806f2-74ff-4da9-94da-32472ff33294",
   "metadata": {},
   "outputs": [],
   "source": [
    "r = torch.einsum('ijk,ijl->ilk', g, w)"
   ]
  },
  {
   "cell_type": "code",
   "execution_count": 30,
   "id": "fa3a2326-d744-4b4a-a84b-71e27f533f3b",
   "metadata": {},
   "outputs": [
    {
     "data": {
      "text/plain": [
       "torch.Size([100, 31, 455])"
      ]
     },
     "execution_count": 30,
     "metadata": {},
     "output_type": "execute_result"
    }
   ],
   "source": [
    "r.shape"
   ]
  },
  {
   "cell_type": "code",
   "execution_count": 38,
   "id": "8ad1d75b-6625-4625-b3be-9d4757d35a39",
   "metadata": {},
   "outputs": [
    {
     "data": {
      "text/plain": [
       "torch.Size([455, 100])"
      ]
     },
     "execution_count": 38,
     "metadata": {},
     "output_type": "execute_result"
    }
   ],
   "source": [
    "torch.einsum('ijk,jk->ki', r, x).shape"
   ]
  },
  {
   "cell_type": "code",
   "execution_count": 40,
   "id": "9a746bc5-14e6-4406-806f-4a3b0679f9a7",
   "metadata": {},
   "outputs": [
    {
     "data": {
      "text/plain": [
       "torch.Size([100, 31, 455])"
      ]
     },
     "execution_count": 40,
     "metadata": {},
     "output_type": "execute_result"
    }
   ],
   "source": [
    "r.shape"
   ]
  },
  {
   "cell_type": "code",
   "execution_count": 41,
   "id": "61deba89-9442-4642-bda0-a76d86978587",
   "metadata": {},
   "outputs": [
    {
     "data": {
      "text/plain": [
       "torch.Size([31, 455])"
      ]
     },
     "execution_count": 41,
     "metadata": {},
     "output_type": "execute_result"
    }
   ],
   "source": [
    "x.shape"
   ]
  },
  {
   "cell_type": "code",
   "execution_count": 43,
   "id": "d1dcb3c3-631d-4189-ab06-167c888af848",
   "metadata": {},
   "outputs": [
    {
     "data": {
      "text/plain": [
       "torch.Size([31])"
      ]
     },
     "execution_count": 43,
     "metadata": {},
     "output_type": "execute_result"
    }
   ],
   "source": [
    "x[:, 0].shape"
   ]
  },
  {
   "cell_type": "code",
   "execution_count": 45,
   "id": "b19a13d7-f4a6-433a-891d-7396bedab65d",
   "metadata": {},
   "outputs": [
    {
     "data": {
      "text/plain": [
       "torch.Size([100, 31])"
      ]
     },
     "execution_count": 45,
     "metadata": {},
     "output_type": "execute_result"
    }
   ],
   "source": [
    "r[:, :, 0].shape"
   ]
  },
  {
   "cell_type": "code",
   "execution_count": 48,
   "id": "de1cd2a7-e6d1-4122-ac27-16ed7d3e8a4c",
   "metadata": {},
   "outputs": [],
   "source": [
    "r = torch.normal(0, 1, [100, 31, 455])\n",
    "x = torch.normal(0, 1, [31, 455])\n",
    "res = []\n",
    "for i in range(r.shape[2]):\n",
    "    x_i = x[:, i]\n",
    "    r_i = r[:, :, i]\n",
    "    \n",
    "    res.append(torch.matmul(r_i, x_i))\n",
    "\n",
    "final_res = torch.stack(res)"
   ]
  },
  {
   "cell_type": "code",
   "execution_count": 49,
   "id": "fab8f2d7-a279-4b2b-8a1e-d9a41e326e3b",
   "metadata": {},
   "outputs": [
    {
     "data": {
      "text/plain": [
       "torch.Size([455, 100])"
      ]
     },
     "execution_count": 49,
     "metadata": {},
     "output_type": "execute_result"
    }
   ],
   "source": [
    "final_res.shape"
   ]
  },
  {
   "cell_type": "code",
   "execution_count": null,
   "id": "7d85d041-3176-43d1-bce5-7c3df4b2e75c",
   "metadata": {},
   "outputs": [],
   "source": []
  },
  {
   "cell_type": "code",
   "execution_count": 50,
   "id": "3164f6c7-d41a-498c-b565-c3cfa332960f",
   "metadata": {},
   "outputs": [],
   "source": [
    "res = torch.einsum('ijk,jk->ik', r, x)"
   ]
  },
  {
   "cell_type": "code",
   "execution_count": 52,
   "id": "36329f9c-86b7-4843-a0c7-4680f5663f87",
   "metadata": {},
   "outputs": [
    {
     "data": {
      "text/plain": [
       "torch.Size([100, 455])"
      ]
     },
     "execution_count": 52,
     "metadata": {},
     "output_type": "execute_result"
    }
   ],
   "source": [
    "res.shape"
   ]
  },
  {
   "cell_type": "code",
   "execution_count": null,
   "id": "67de198b-62d9-401b-93ed-15ee1b4e2452",
   "metadata": {},
   "outputs": [],
   "source": []
  }
 ],
 "metadata": {
  "kernelspec": {
   "display_name": "machine learning",
   "language": "python",
   "name": "ml"
  },
  "language_info": {
   "codemirror_mode": {
    "name": "ipython",
    "version": 3
   },
   "file_extension": ".py",
   "mimetype": "text/x-python",
   "name": "python",
   "nbconvert_exporter": "python",
   "pygments_lexer": "ipython3",
   "version": "3.12.4"
  }
 },
 "nbformat": 4,
 "nbformat_minor": 5
}
