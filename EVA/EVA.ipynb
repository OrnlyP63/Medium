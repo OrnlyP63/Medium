{
 "cells": [
  {
   "cell_type": "markdown",
   "id": "c026846e-59e5-45ed-8394-f8536951b618",
   "metadata": {},
   "source": [
    "# Extreme Value Theory\n",
    "\n",
    "In the realm of statistics and probability theory, the Extreme Value Theory (EVT) stands as a powerful framework that deals with the analysis of extreme events in data. This theory provides tools and insights to understand the behavior of extreme values within various types of distributions. Let's delve into the intricacies of the Extreme Value Theory, accompanied by mathematical expressions, to uncover its significance and applications.\n",
    "\n",
    "These extremes could encompass unusually high or low values, often associated with rare and catastrophic events. The primary focus of EVT is to model and predict the likelihood of these extreme events occurring in various datasets.\n",
    "\n",
    "EVT operates under three main types: Block Maxima, Peak Over Threshold, and Mixed-Type approaches. However, we'll primarily focus on the Block Maxima approach for simplicity."
   ]
  },
  {
   "cell_type": "markdown",
   "id": "674094bb-d227-495d-9dd1-2d33c544968c",
   "metadata": {},
   "source": [
    "## Block Maxima\n",
    "\n",
    "The Block Maxima approach is a fundamental concept within EVT. It involves dividing a dataset into non-overlapping blocks and extracting the maximum value from each block. The distribution of these block maxima is then analyzed using EVT techniques.\n",
    "\n",
    "Mathematically, the Block Maxima approach can be summarized as follows:\n",
    "\n",
    "Given a dataset of independent and identically distributed random variables\n",
    "\n",
    "$$\\{x_1, x_2, \\ldots, x_n\\}$$\n",
    "\n",
    "the block maxima sequence\n",
    "\n",
    "$$\\{M_1, M_2, \\ldots, M_k\\}$$\n",
    "\n",
    "where $M_i = max(x_{i1}, x_{i2}, \\ldots, x_{im});\\ $ for $i=1, 2, 3, \\ldots, k$\n",
    "\n",
    "here, $k$ represents the number of blocks, and $m$ represents the size of each block."
   ]
  },
  {
   "cell_type": "code",
   "execution_count": 1,
   "id": "1bc50d65-c4dc-4d7e-9c22-b6401efbb52a",
   "metadata": {},
   "outputs": [],
   "source": [
    "import numpy as np"
   ]
  },
  {
   "cell_type": "code",
   "execution_count": 2,
   "id": "bb3bccf5-5a92-4acc-a4db-fcb0b7656b46",
   "metadata": {},
   "outputs": [],
   "source": [
    "# Generate synthetic data (you can replace this with your own dataset)\n",
    "np.random.seed(42)\n",
    "data = np.random.normal(0, 1, 1000)  # Replace with your data"
   ]
  },
  {
   "cell_type": "code",
   "execution_count": 3,
   "id": "35e1681f-7ae7-427d-803e-7f2595f0c254",
   "metadata": {},
   "outputs": [],
   "source": [
    "# Define parameters for block maxima\n",
    "block_size = 50  # Size of each block (m)\n",
    "num_blocks = len(data) // block_size  # Number of blocks (k)"
   ]
  },
  {
   "cell_type": "code",
   "execution_count": 4,
   "id": "d6f824fb-1f89-4565-816c-c73a246df9ce",
   "metadata": {},
   "outputs": [],
   "source": [
    "# Create an array to store block maxima\n",
    "block_maxima = np.empty(num_blocks)\n",
    "\n",
    "# Calculate block maxima\n",
    "for i in range(num_blocks):\n",
    "    start_idx = i * block_size\n",
    "    end_idx = start_idx + block_size\n",
    "    block_maxima[i] = np.max(data[start_idx:end_idx])"
   ]
  },
  {
   "cell_type": "code",
   "execution_count": 5,
   "id": "a3c0dd50-9338-44ab-aea2-71e9fcc44f79",
   "metadata": {},
   "outputs": [
    {
     "data": {
      "text/plain": [
       "array([1.85227818, 1.56464366, 2.46324211, 2.72016917, 3.85273149,\n",
       "       2.13303337, 2.09238728, 2.18980293, 2.06074792, 3.07888081,\n",
       "       1.90941664, 2.27069286, 2.44575198, 2.5733598 , 1.75479418,\n",
       "       2.63238206, 2.45530014, 2.52693243, 2.16325472, 1.80094043])"
      ]
     },
     "execution_count": 5,
     "metadata": {},
     "output_type": "execute_result"
    }
   ],
   "source": [
    "block_maxima"
   ]
  },
  {
   "cell_type": "markdown",
   "id": "38b3ce96-c462-48d6-984e-77160d62f985",
   "metadata": {},
   "source": [
    "## The Generalized Extreme Value Distribution (GEV)\n",
    "In this section, we will delve into the methodology of utilizing the Generalized Extreme Value (GEV) distribution to analyze the maximum value within each block, following the \"Block Maxima\" approach.\n",
    "\n",
    "The cornerstone of the Extreme Value Theory is the Generalized Extreme Value (GEV) distribution. This distribution describes the limiting behavior of block maxima sequences. The GEV distribution is characterized by three parameters:\n",
    "- location ($\\mu$), \n",
    "- scale ($\\sigma$), \n",
    "- and shape ($\\xi$).\n",
    "\n",
    "Mathematically, the probability density function (pdf) of the GEV distribution is given by:\n",
    "\n",
    "$$f(x; \\mu, \\sigma, \\xi) = \\frac{1}{\\sigma}g\\left(\\frac{x-\\mu}{\\sigma}\\right)h(\\xi)$$\n",
    "\n",
    "where $g(z)$ is the standard pdf of the type I extreme value distribution and $h(\\xi)$ is the shape function that depends on the parameter $\\xi$."
   ]
  },
  {
   "cell_type": "code",
   "execution_count": 6,
   "id": "410279f6-1c2d-4b60-b75d-176a631860a0",
   "metadata": {},
   "outputs": [],
   "source": [
    "from scipy.stats import genextreme"
   ]
  },
  {
   "cell_type": "code",
   "execution_count": 7,
   "id": "c08dd7c1-bc2e-4e48-893d-38cbee70bca1",
   "metadata": {},
   "outputs": [
    {
     "name": "stdout",
     "output_type": "stream",
     "text": [
      "Estimated parameters (mu, sigma, xi): -0.0183519383801833 2.098882046041276 0.3833962170762179\n"
     ]
    }
   ],
   "source": [
    "# Fit a Generalized Extreme Value (GEV) distribution to block maxima\n",
    "mu, sigma, xi = genextreme.fit(block_maxima)\n",
    "\n",
    "# Parameters of the GEV distribution\n",
    "print(\"Estimated parameters (mu, sigma, xi):\", mu, sigma, xi)"
   ]
  },
  {
   "cell_type": "code",
   "execution_count": 8,
   "id": "fa69c0a4-a351-4da3-bbad-10474cf64df5",
   "metadata": {},
   "outputs": [
    {
     "name": "stdout",
     "output_type": "stream",
     "text": [
      "100-year return level: 3.939148176546465\n"
     ]
    }
   ],
   "source": [
    "# Calculate return level for a given return period (e.g., 100-year return level)\n",
    "return_period = 100\n",
    "return_level = genextreme.ppf(1 - 1 / return_period, mu, sigma, xi)\n",
    "\n",
    "print(f\"{return_period}-year return level:\", return_level)"
   ]
  },
  {
   "cell_type": "markdown",
   "id": "a020c0eb-76ef-4af4-a4b4-869cf978a6d4",
   "metadata": {},
   "source": [
    "## Application"
   ]
  },
  {
   "cell_type": "code",
   "execution_count": 9,
   "id": "75d20357-0718-4c97-87c1-5843c8a550d1",
   "metadata": {},
   "outputs": [],
   "source": [
    "import yfinance as yf\n",
    "import datetime\n",
    "import pandas as pd"
   ]
  },
  {
   "cell_type": "code",
   "execution_count": 10,
   "id": "850ada78-0357-4373-91b3-270a3164a775",
   "metadata": {},
   "outputs": [
    {
     "name": "stdout",
     "output_type": "stream",
     "text": [
      "[*********************100%***********************]  1 of 1 completed\n"
     ]
    }
   ],
   "source": [
    "symbol = 'BTC-USD'\n",
    "period = '1wk'\n",
    "interval = '1m'\n",
    "prepost = True\n",
    "today = datetime.date.today()\n",
    "today_date_str = today.strftime(\"%Y-%m-%d\")\n",
    "\n",
    "#  NOTE: 7 days is the max allowed\n",
    "days = datetime.timedelta(7)\n",
    "start_date = today - days\n",
    "start_date_str = datetime.datetime.strftime(start_date, \"%Y-%m-%d\")\n",
    "\n",
    "df = yf.download(symbol, start=start_date_str, end=today_date_str, period=period, interval=interval, prepost=prepost)"
   ]
  },
  {
   "cell_type": "code",
   "execution_count": 11,
   "id": "245f3cf2-a7b3-4c0c-be76-3045ceeee3ca",
   "metadata": {},
   "outputs": [
    {
     "data": {
      "text/html": [
       "<div>\n",
       "<style scoped>\n",
       "    .dataframe tbody tr th:only-of-type {\n",
       "        vertical-align: middle;\n",
       "    }\n",
       "\n",
       "    .dataframe tbody tr th {\n",
       "        vertical-align: top;\n",
       "    }\n",
       "\n",
       "    .dataframe thead th {\n",
       "        text-align: right;\n",
       "    }\n",
       "</style>\n",
       "<table border=\"1\" class=\"dataframe\">\n",
       "  <thead>\n",
       "    <tr style=\"text-align: right;\">\n",
       "      <th></th>\n",
       "      <th>Open</th>\n",
       "      <th>High</th>\n",
       "      <th>Low</th>\n",
       "      <th>Close</th>\n",
       "      <th>Adj Close</th>\n",
       "      <th>Volume</th>\n",
       "    </tr>\n",
       "    <tr>\n",
       "      <th>Datetime</th>\n",
       "      <th></th>\n",
       "      <th></th>\n",
       "      <th></th>\n",
       "      <th></th>\n",
       "      <th></th>\n",
       "      <th></th>\n",
       "    </tr>\n",
       "  </thead>\n",
       "  <tbody>\n",
       "    <tr>\n",
       "      <th>2023-08-12 17:00:00+00:00</th>\n",
       "      <td>29448.470703</td>\n",
       "      <td>29448.470703</td>\n",
       "      <td>29448.470703</td>\n",
       "      <td>29448.470703</td>\n",
       "      <td>29448.470703</td>\n",
       "      <td>0</td>\n",
       "    </tr>\n",
       "    <tr>\n",
       "      <th>2023-08-12 17:01:00+00:00</th>\n",
       "      <td>29446.568359</td>\n",
       "      <td>29446.568359</td>\n",
       "      <td>29446.568359</td>\n",
       "      <td>29446.568359</td>\n",
       "      <td>29446.568359</td>\n",
       "      <td>0</td>\n",
       "    </tr>\n",
       "    <tr>\n",
       "      <th>2023-08-12 17:02:00+00:00</th>\n",
       "      <td>29446.740234</td>\n",
       "      <td>29446.740234</td>\n",
       "      <td>29446.740234</td>\n",
       "      <td>29446.740234</td>\n",
       "      <td>29446.740234</td>\n",
       "      <td>0</td>\n",
       "    </tr>\n",
       "    <tr>\n",
       "      <th>2023-08-12 17:03:00+00:00</th>\n",
       "      <td>29448.080078</td>\n",
       "      <td>29448.080078</td>\n",
       "      <td>29448.080078</td>\n",
       "      <td>29448.080078</td>\n",
       "      <td>29448.080078</td>\n",
       "      <td>0</td>\n",
       "    </tr>\n",
       "    <tr>\n",
       "      <th>2023-08-12 17:04:00+00:00</th>\n",
       "      <td>29447.566406</td>\n",
       "      <td>29447.566406</td>\n",
       "      <td>29447.566406</td>\n",
       "      <td>29447.566406</td>\n",
       "      <td>29447.566406</td>\n",
       "      <td>0</td>\n",
       "    </tr>\n",
       "  </tbody>\n",
       "</table>\n",
       "</div>"
      ],
      "text/plain": [
       "                                   Open          High           Low  \\\n",
       "Datetime                                                              \n",
       "2023-08-12 17:00:00+00:00  29448.470703  29448.470703  29448.470703   \n",
       "2023-08-12 17:01:00+00:00  29446.568359  29446.568359  29446.568359   \n",
       "2023-08-12 17:02:00+00:00  29446.740234  29446.740234  29446.740234   \n",
       "2023-08-12 17:03:00+00:00  29448.080078  29448.080078  29448.080078   \n",
       "2023-08-12 17:04:00+00:00  29447.566406  29447.566406  29447.566406   \n",
       "\n",
       "                                  Close     Adj Close  Volume  \n",
       "Datetime                                                       \n",
       "2023-08-12 17:00:00+00:00  29448.470703  29448.470703       0  \n",
       "2023-08-12 17:01:00+00:00  29446.568359  29446.568359       0  \n",
       "2023-08-12 17:02:00+00:00  29446.740234  29446.740234       0  \n",
       "2023-08-12 17:03:00+00:00  29448.080078  29448.080078       0  \n",
       "2023-08-12 17:04:00+00:00  29447.566406  29447.566406       0  "
      ]
     },
     "execution_count": 11,
     "metadata": {},
     "output_type": "execute_result"
    }
   ],
   "source": [
    "df.head()"
   ]
  },
  {
   "cell_type": "code",
   "execution_count": 12,
   "id": "3356ff49-6c6d-4843-90b4-b762694589f5",
   "metadata": {},
   "outputs": [],
   "source": [
    "pct_return = df['Close'].pct_change().dropna()\n",
    "block_maxima_series = pct_return.groupby(pd.Grouper(freq = 'H')).min()"
   ]
  },
  {
   "cell_type": "code",
   "execution_count": 13,
   "id": "64ca2317-0fa5-4016-8c85-538d76fd1bde",
   "metadata": {},
   "outputs": [
    {
     "data": {
      "text/plain": [
       "array([1.46489016e-04, 2.87416438e-04, 2.38095934e-04, 8.15523043e-05,\n",
       "       1.70415509e-04, 1.02405581e-04, 1.45394519e-04, 1.17326182e-04,\n",
       "       1.43419520e-04, 1.11137423e-04, 1.09780853e-03, 3.21699798e-04,\n",
       "       2.67397993e-04, 1.79350257e-04, 1.50982737e-04, 6.99922723e-05,\n",
       "       1.16015609e-04, 6.61831003e-05, 2.11640732e-04, 1.83768861e-04,\n",
       "       2.35949155e-04, 5.47487779e-05, 2.45130314e-04, 3.31170031e-04,\n",
       "       1.65960950e-04, 1.99687316e-04, 2.21743588e-04, 2.52013536e-04,\n",
       "       5.68887497e-04, 9.09878287e-04, 7.89557609e-04, 4.38978018e-04,\n",
       "       6.18430882e-04, 7.10527924e-04, 8.32469959e-04, 2.41886306e-04,\n",
       "       1.81478116e-04, 4.54900410e-04, 3.65392632e-04, 4.47354416e-04,\n",
       "       3.83950140e-04, 3.54051442e-04, 2.13990384e-04, 3.73737629e-04,\n",
       "       3.83349496e-04, 5.85410088e-04, 1.07485490e-03, 5.27247022e-04,\n",
       "       7.40857223e-04, 2.51605302e-03, 4.28067940e-04, 2.54634963e-04,\n",
       "       3.56484781e-04, 1.62355434e-04, 2.37589675e-04, 3.40885826e-04,\n",
       "       6.82375710e-04, 3.18459377e-04, 1.28245017e-04, 1.98428695e-04,\n",
       "       2.36468802e-04, 3.79408738e-04, 2.49030403e-04, 2.44371325e-04,\n",
       "       3.28427675e-04, 3.05175014e-04, 8.32136227e-04, 2.63282906e-04,\n",
       "       2.85760533e-04, 6.31071749e-04, 8.58365682e-04, 6.35547088e-04,\n",
       "       1.78982909e-04, 5.67640177e-04, 3.10248602e-03, 8.86262569e-04,\n",
       "       3.31821161e-04, 2.40618425e-04, 5.72380464e-04, 3.51097954e-04,\n",
       "       2.86928125e-04, 3.79059316e-04, 3.09540703e-04, 2.72010137e-04,\n",
       "       3.62098143e-04, 2.57288131e-04, 2.15705345e-04, 3.19123747e-04,\n",
       "       4.52552610e-04, 1.97065908e-04, 2.22410429e-04, 7.95583822e-04,\n",
       "       6.47112358e-04, 3.24478704e-04, 7.34923333e-04, 1.30151458e-03,\n",
       "       4.32089371e-04, 7.49404427e-04, 3.17601116e-04, 4.70360466e-03,\n",
       "       1.58677123e-03, 3.96307326e-04, 1.65391133e-03, 4.42227156e-03,\n",
       "       7.63340892e-04, 5.81670088e-04, 6.37569768e-04, 5.51443146e-04,\n",
       "       3.55905402e-04, 4.01787689e-04, 5.77570614e-04, 3.50230849e-04,\n",
       "       5.48121590e-04, 7.25244248e-04, 4.15788504e-04, 5.81899594e-04,\n",
       "       9.65098691e-04, 1.27006932e-03, 4.83739328e-03, 4.73399829e-03,\n",
       "       1.21279130e-03, 7.92223587e-04, 8.96149751e-04, 4.03527352e-03,\n",
       "       4.19946154e-02, 2.91336657e-03, 3.16353796e-03, 1.37908956e-03,\n",
       "       9.82664688e-04, 1.13314122e-03, 1.84204740e-03, 1.57729047e-03,\n",
       "       1.24926817e-03, 1.34862461e-03, 6.82578158e-04, 1.12616729e-03,\n",
       "       1.14062530e-03, 8.74205589e-04, 6.70202931e-04, 9.63083383e-04,\n",
       "       1.38746735e-03, 2.96916759e-03, 1.72247145e-03, 3.41259859e-03,\n",
       "       4.31254092e-03, 2.26721087e-03, 1.76618206e-03, 1.53348165e-03,\n",
       "       1.17550980e-03, 6.55333482e-04, 4.59304606e-04, 9.93686028e-04,\n",
       "       7.90332180e-04, 4.97525868e-04, 6.66514694e-04, 3.69188146e-04,\n",
       "       8.82988304e-04, 7.40253052e-04, 7.97723082e-04, 9.33095496e-04,\n",
       "       6.50361675e-04, 4.14868564e-04, 4.95788324e-04, 5.21446339e-04,\n",
       "       3.38222841e-04, 6.62412807e-04, 1.09648215e-03, 1.13773808e-03,\n",
       "       7.55124305e-04])"
      ]
     },
     "execution_count": 13,
     "metadata": {},
     "output_type": "execute_result"
    }
   ],
   "source": [
    "block_maxima = np.abs(block_maxima_series.values)\n",
    "block_maxima"
   ]
  },
  {
   "cell_type": "code",
   "execution_count": 14,
   "id": "5b86533a-2620-4983-b6f8-3915eaeee83a",
   "metadata": {},
   "outputs": [
    {
     "name": "stdout",
     "output_type": "stream",
     "text": [
      "Estimated parameters (mu, sigma, xi): -0.9136511356159176 0.00036167545103704885 0.00034155640134270323\n"
     ]
    }
   ],
   "source": [
    "# Fit a Generalized Extreme Value (GEV) distribution to block maxima\n",
    "mu, sigma, xi = genextreme.fit(block_maxima)\n",
    "\n",
    "# Parameters of the GEV distribution\n",
    "print(\"Estimated parameters (mu, sigma, xi):\", mu, sigma, xi)"
   ]
  },
  {
   "cell_type": "code",
   "execution_count": 15,
   "id": "a11fb019-2ba9-456e-894f-fabaf261dc9a",
   "metadata": {},
   "outputs": [
    {
     "name": "stdout",
     "output_type": "stream",
     "text": [
      "100-year return level: -0.024990832705387787\n"
     ]
    }
   ],
   "source": [
    "# Calculate return level for a given return period (e.g., 100-year return level)\n",
    "return_period = 100\n",
    "return_level = genextreme.ppf(1 - 1 / return_period, mu, sigma, xi)\n",
    "\n",
    "print(f\"{return_period}-year return level:\", -return_level)"
   ]
  },
  {
   "cell_type": "code",
   "execution_count": null,
   "id": "8c252010-4f87-4efc-88f0-0aa0d20bda2d",
   "metadata": {},
   "outputs": [],
   "source": []
  }
 ],
 "metadata": {
  "kernelspec": {
   "display_name": "AIML",
   "language": "python",
   "name": "aiml"
  },
  "language_info": {
   "codemirror_mode": {
    "name": "ipython",
    "version": 3
   },
   "file_extension": ".py",
   "mimetype": "text/x-python",
   "name": "python",
   "nbconvert_exporter": "python",
   "pygments_lexer": "ipython3",
   "version": "3.8.12"
  }
 },
 "nbformat": 4,
 "nbformat_minor": 5
}
