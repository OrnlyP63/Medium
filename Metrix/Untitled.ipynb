{
 "cells": [
  {
   "cell_type": "code",
   "execution_count": 1,
   "id": "b9411215-1a40-4014-8002-778f40f51144",
   "metadata": {},
   "outputs": [],
   "source": [
    "import numpy as np"
   ]
  },
  {
   "cell_type": "code",
   "execution_count": 4,
   "id": "89f69b9d-6f96-41cd-82d7-e4c40d8cdc27",
   "metadata": {},
   "outputs": [
    {
     "name": "stdout",
     "output_type": "stream",
     "text": [
      "[[1 2 3]\n",
      " [4 5 6]\n",
      " [7 8 9]]\n"
     ]
    }
   ],
   "source": [
    "a00 = 1\n",
    "a01 = 2\n",
    "a02 = 3\n",
    "a10 = 4\n",
    "a11 = 5\n",
    "a12 = 6\n",
    "a20 = 7\n",
    "a21 = 8\n",
    "a22 = 9\n",
    "\n",
    "A = np.array([[a00, a01, a02],\n",
    "              [a10, a11, a12],\n",
    "              [a20, a21, a22]])\n",
    "\n",
    "print(A)\n",
    "           \n",
    "# np.array([[1,2,3],\n",
    "#           [4,5,6],\n",
    "#           [7,8,9]]"
   ]
  },
  {
   "cell_type": "code",
   "execution_count": 12,
   "id": "521d511a-7ec5-43f0-a9d2-ee2691deec9c",
   "metadata": {},
   "outputs": [
    {
     "name": "stdout",
     "output_type": "stream",
     "text": [
      "1\n",
      "[3]\n",
      "[7]\n"
     ]
    }
   ],
   "source": [
    "print(A[0,0])\n",
    "# 1\n",
    "\n",
    "print(A[0:1, 2])\n",
    "# np.array([[3], [6]]) \n",
    "      \n",
    "print(A[2, 0:1])\n",
    "# np.array([[7, 8]]) "
   ]
  },
  {
   "cell_type": "code",
   "execution_count": 15,
   "id": "4938c9be-b239-4f92-9688-78cd157d9e83",
   "metadata": {},
   "outputs": [
    {
     "name": "stdout",
     "output_type": "stream",
     "text": [
      "(1, 3)\n",
      "(3, 1)\n"
     ]
    }
   ],
   "source": [
    "# Row Vector\n",
    "row = np.array([[0,1,2]])\n",
    "\n",
    "# Column Vector\n",
    "column = np.array([[0],\n",
    "                   [1],\n",
    "                   [2]])\n",
    "\n",
    "# Check Dimension of Array\n",
    "print(row.shape)\n",
    "# [1, 3]\n",
    "print(column.shape)\n",
    "# [3, 1]"
   ]
  },
  {
   "cell_type": "code",
   "execution_count": 17,
   "id": "7290e86f-ae62-483e-a011-4bbcedd3f785",
   "metadata": {},
   "outputs": [
    {
     "data": {
      "text/plain": [
       "array([[5]])"
      ]
     },
     "execution_count": 17,
     "metadata": {},
     "output_type": "execute_result"
    }
   ],
   "source": [
    "np.dot(row, column)"
   ]
  },
  {
   "cell_type": "code",
   "execution_count": 19,
   "id": "d966cb0f-8d54-4a50-a0d5-82c6cbb62621",
   "metadata": {},
   "outputs": [
    {
     "name": "stdout",
     "output_type": "stream",
     "text": [
      "(3, 3)\n",
      "(3, 3)\n",
      "[[2 3 4]\n",
      " [3 4 5]\n",
      " [4 5 6]]\n",
      "[[ 0 -1 -2]\n",
      " [ 1  0 -1]\n",
      " [ 2  1  0]]\n",
      "[[ 3  6  9]\n",
      " [ 6 12 18]\n",
      " [ 9 18 27]]\n",
      "[[ 5  5  5]\n",
      " [10 10 10]\n",
      " [15 15 15]]\n",
      "[[1 2 3]\n",
      " [1 2 3]\n",
      " [1 2 3]]\n"
     ]
    }
   ],
   "source": [
    "B = np.array([[1,1,1],\n",
    "              [2,2,2],\n",
    "              [3,3,3]])\n",
    "\n",
    "C = np.array([[1,2,3],\n",
    "              [1,2,3],\n",
    "              [1,2,3]])\n",
    "\n",
    "print(B.shape)\n",
    "print(C.shape)\n",
    "\n",
    "# Addition\n",
    "print(B + C)\n",
    "\n",
    "# subtraction\n",
    "print(B - C)\n",
    "\n",
    "# Dot\n",
    "print(np.dot(B, C))\n",
    "\n",
    "# Multiply Scalar\n",
    "print(5 * B)\n",
    "\n",
    "# Transpose\n",
    "print(B.T)"
   ]
  },
  {
   "cell_type": "code",
   "execution_count": 21,
   "id": "32c86316-7657-4876-b5d5-109aaff733e6",
   "metadata": {},
   "outputs": [
    {
     "name": "stdout",
     "output_type": "stream",
     "text": [
      "[[1 1 1]\n",
      " [2 2 2]\n",
      " [3 3 3]]\n"
     ]
    }
   ],
   "source": [
    "print(C.T)"
   ]
  },
  {
   "cell_type": "code",
   "execution_count": 20,
   "id": "bc8b5e5c-f409-4a8e-86af-f81d1971b04e",
   "metadata": {},
   "outputs": [
    {
     "name": "stdout",
     "output_type": "stream",
     "text": [
      "(1, 3)\n",
      "(3, 1)\n",
      "[[5]]\n",
      "(1, 1)\n",
      "[[0 0 0]\n",
      " [0 1 2]\n",
      " [0 2 4]]\n",
      "(3, 3)\n"
     ]
    }
   ],
   "source": [
    "row = np.array([[0,1,2]])\n",
    "\n",
    "# Column Vector\n",
    "column = np.array([[0],\n",
    "                   [1],\n",
    "                   [2]])\n",
    "print(row.shape) # (1, 3)\n",
    "print(column.shape) # (3, 1)\n",
    "\n",
    "# Dot\n",
    "res1 = np.dot(row, column)\n",
    "print(res1)\n",
    "# [[5]]\n",
    "print(res1.shape) # (1,1)\n",
    "\n",
    "res2 = np.dot(column, row)\n",
    "print(res2)\n",
    "# [[0 0 0]\n",
    "#  [0 1 2]\n",
    "#  [0 2 4]]\n",
    "print(res2.shape) # (3,3)"
   ]
  },
  {
   "cell_type": "code",
   "execution_count": null,
   "id": "13ba75a4-8ae2-499e-964b-dd8ee53d33ba",
   "metadata": {},
   "outputs": [],
   "source": []
  }
 ],
 "metadata": {
  "kernelspec": {
   "display_name": "Python 3",
   "language": "python",
   "name": "python3"
  },
  "language_info": {
   "codemirror_mode": {
    "name": "ipython",
    "version": 3
   },
   "file_extension": ".py",
   "mimetype": "text/x-python",
   "name": "python",
   "nbconvert_exporter": "python",
   "pygments_lexer": "ipython3",
   "version": "3.8.8"
  }
 },
 "nbformat": 4,
 "nbformat_minor": 5
}
