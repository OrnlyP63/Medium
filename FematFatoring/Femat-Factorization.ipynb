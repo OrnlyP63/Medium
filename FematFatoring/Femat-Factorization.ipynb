{
 "cells": [
  {
   "cell_type": "markdown",
   "id": "a195d6fe-38b7-47df-9899-09e8f047054c",
   "metadata": {},
   "source": [
    "# RSA "
   ]
  },
  {
   "cell_type": "code",
   "execution_count": 1,
   "id": "5c31cd04-1cf2-4f48-809c-ff9afbefcb45",
   "metadata": {},
   "outputs": [],
   "source": [
    "# Import importance libraries\n",
    "import libnum\n",
    "import Crypto\n",
    "import Crypto.Util.number"
   ]
  },
  {
   "cell_type": "code",
   "execution_count": 2,
   "id": "e9d7d128-b8db-49b2-9200-2222f7aa3424",
   "metadata": {},
   "outputs": [
    {
     "name": "stdout",
     "output_type": "stream",
     "text": [
      "p: 3547169749\n",
      "q: 3946752707\n"
     ]
    }
   ],
   "source": [
    "# Generate two large prime numbers\n",
    "bits = 32\n",
    "p = Crypto.Util.number.getPrime(bits, randfunc=Crypto.Random.get_random_bytes)\n",
    "q = Crypto.Util.number.getPrime(bits, randfunc=Crypto.Random.get_random_bytes)\n",
    "print(f'p: {p}\\nq: {q}')"
   ]
  },
  {
   "cell_type": "code",
   "execution_count": 3,
   "id": "0c59e9b9-54b3-42fb-abf2-078e346de47d",
   "metadata": {},
   "outputs": [
    {
     "name": "stdout",
     "output_type": "stream",
     "text": [
      "n: 13999801809054260543\n",
      "phi: 13999801801560338088\n",
      "e: 65537\n",
      "d: 4110413755063918481\n"
     ]
    }
   ],
   "source": [
    "# Compute n, Euler's toteint of n (phi), e, d\n",
    "n = p*q\n",
    "phi = (p-1)*(q-1)\n",
    "e = 65537\n",
    "d = libnum.invmod(e, phi)\n",
    "\n",
    "print(f'n: {n}\\nphi: {phi}\\ne: {e}\\nd: {d}')"
   ]
  },
  {
   "cell_type": "code",
   "execution_count": 4,
   "id": "50b229bf-c2da-4c7f-ba16-e71534dc04b7",
   "metadata": {},
   "outputs": [
    {
     "name": "stdout",
     "output_type": "stream",
     "text": [
      "The encryption mesaage is 2659532520323056303\n"
     ]
    }
   ],
   "source": [
    "# Let's define the m message.\n",
    "m = 100\n",
    "# Encrypt the message by the public key.\n",
    "encryption_message = pow(m, e, n)\n",
    "print(f'The encryption mesaage is {encryption_message}')"
   ]
  },
  {
   "cell_type": "code",
   "execution_count": 5,
   "id": "976b8589-f107-42cb-adb2-97a094a75ece",
   "metadata": {},
   "outputs": [
    {
     "name": "stdout",
     "output_type": "stream",
     "text": [
      "The decryption mesaage is 100\n"
     ]
    }
   ],
   "source": [
    "# Receive and decrypt the encryption message.\n",
    "decryption_message = pow(encryption_message, d, n)\n",
    "print(f'The decryption mesaage is {decryption_message}')"
   ]
  },
  {
   "cell_type": "markdown",
   "id": "6e55c4f5-7db2-4510-8359-70a482465513",
   "metadata": {},
   "source": [
    "# Femat's Factorization\n",
    "\n",
    "[replicate code from this link.](https://wiremask.eu/articles/fermats-prime-numbers-factorization/)"
   ]
  },
  {
   "cell_type": "code",
   "execution_count": 6,
   "id": "e85d8781-8698-4edf-94b3-ead3c9d478c5",
   "metadata": {},
   "outputs": [],
   "source": [
    "# The importance liberies \n",
    "from sympy.ntheory.primetest import is_square\n",
    "import math"
   ]
  },
  {
   "cell_type": "code",
   "execution_count": 7,
   "id": "5f5a776c-e3f5-477a-9202-8f914404e08f",
   "metadata": {
    "tags": []
   },
   "outputs": [
    {
     "name": "stdout",
     "output_type": "stream",
     "text": [
      "Wall time: 5.9 s\n"
     ]
    }
   ],
   "source": [
    "%%time\n",
    "a = math.ceil((n)**0.5)\n",
    "b_sq = a ** 2 - n\n",
    "\n",
    "while not is_square(b_sq):\n",
    "    a += 1\n",
    "    b_sq = a ** 2 - n\n",
    "    \n",
    "b = math.isqrt(b_sq)\n",
    "p_pred = a - b\n",
    "q_pred = a + b"
   ]
  },
  {
   "cell_type": "code",
   "execution_count": 8,
   "id": "812a5229-3552-428a-bb2e-2dddf0840cbb",
   "metadata": {},
   "outputs": [
    {
     "data": {
      "text/plain": [
       "True"
      ]
     },
     "execution_count": 8,
     "metadata": {},
     "output_type": "execute_result"
    }
   ],
   "source": [
    "p_pred == p"
   ]
  },
  {
   "cell_type": "code",
   "execution_count": 9,
   "id": "a342756c-eff4-444a-8037-75608cfab85a",
   "metadata": {},
   "outputs": [
    {
     "data": {
      "text/plain": [
       "True"
      ]
     },
     "execution_count": 9,
     "metadata": {},
     "output_type": "execute_result"
    }
   ],
   "source": [
    "q_pred == q"
   ]
  },
  {
   "cell_type": "code",
   "execution_count": null,
   "id": "1cba7158-8448-4b54-b9c2-83fbe80b2b4e",
   "metadata": {},
   "outputs": [],
   "source": []
  }
 ],
 "metadata": {
  "kernelspec": {
   "display_name": "AIML",
   "language": "python",
   "name": "aiml"
  },
  "language_info": {
   "codemirror_mode": {
    "name": "ipython",
    "version": 3
   },
   "file_extension": ".py",
   "mimetype": "text/x-python",
   "name": "python",
   "nbconvert_exporter": "python",
   "pygments_lexer": "ipython3",
   "version": "3.8.17"
  }
 },
 "nbformat": 4,
 "nbformat_minor": 5
}
