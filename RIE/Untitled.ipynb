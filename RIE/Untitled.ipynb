{
 "cells": [
  {
   "cell_type": "code",
   "execution_count": 1,
   "id": "754bb43c-6310-47c6-9dd5-dde795f3bc32",
   "metadata": {},
   "outputs": [],
   "source": [
    "import yfinance as yf\n",
    "import numpy as np\n",
    "\n",
    "from sklearn.covariance import LedoitWolf"
   ]
  },
  {
   "cell_type": "code",
   "execution_count": 11,
   "id": "6ab49fc8-1ef4-4f78-91e8-b3fe6b81c39c",
   "metadata": {},
   "outputs": [
    {
     "name": "stderr",
     "output_type": "stream",
     "text": [
      "[*********************100%***********************]  3 of 3 completed\n"
     ]
    }
   ],
   "source": [
    "df = yf.download('GC=F NVDA IONQ', start='2021-01-04')"
   ]
  },
  {
   "cell_type": "code",
   "execution_count": 17,
   "id": "881b72c1-e95a-4268-b016-0a7fef699d74",
   "metadata": {},
   "outputs": [
    {
     "data": {
      "text/plain": [
       "array([[6.39268102e+04, 9.08143245e+01, 8.78253100e+03],\n",
       "       [9.08143245e+01, 1.89140963e+01, 2.23801733e+01],\n",
       "       [8.78253100e+03, 2.23801733e+01, 1.35327885e+03]])"
      ]
     },
     "execution_count": 17,
     "metadata": {},
     "output_type": "execute_result"
    }
   ],
   "source": [
    "cov_matrix = df['Close'].cov().values\n",
    "cov_matrix"
   ]
  },
  {
   "cell_type": "code",
   "execution_count": 18,
   "id": "9c3377e7-bad1-439a-9d0f-f52882dd5908",
   "metadata": {},
   "outputs": [],
   "source": [
    "eigenvalues, eigenvectors = np.linalg.eigh(cov_matrix)"
   ]
  },
  {
   "cell_type": "code",
   "execution_count": 19,
   "id": "c3e8a7d7-1a96-4c62-8945-de81d7f78067",
   "metadata": {},
   "outputs": [
    {
     "data": {
      "text/plain": [
       "array([1.80213230e+01, 1.44734549e+02, 6.51362473e+04])"
      ]
     },
     "execution_count": 19,
     "metadata": {},
     "output_type": "execute_result"
    }
   ],
   "source": [
    "eigenvalues"
   ]
  },
  {
   "cell_type": "code",
   "execution_count": 20,
   "id": "3acb5292-e9a6-4931-9cfd-04e94173fb0a",
   "metadata": {},
   "outputs": [
    {
     "data": {
      "text/plain": [
       "array([[-0.00915256, -0.13610739, -0.99065181],\n",
       "       [-0.99699597,  0.07744022, -0.00142847],\n",
       "       [ 0.07691072,  0.98766279, -0.1364073 ]])"
      ]
     },
     "execution_count": 20,
     "metadata": {},
     "output_type": "execute_result"
    }
   ],
   "source": [
    "eigenvectors"
   ]
  },
  {
   "cell_type": "code",
   "execution_count": 21,
   "id": "45ef625a-1734-423a-ba07-a88c419b8458",
   "metadata": {},
   "outputs": [],
   "source": [
    "# Shrink eigenvalues (basic example)\n",
    "mean_eigenvalue = np.mean(eigenvalues)\n",
    "shrunk_eigenvalues = np.maximum(eigenvalues, mean_eigenvalue)"
   ]
  },
  {
   "cell_type": "code",
   "execution_count": 22,
   "id": "4b152141-6d6f-4658-b8ef-ca7de6f16313",
   "metadata": {},
   "outputs": [
    {
     "data": {
      "text/plain": [
       "21766.33438051346"
      ]
     },
     "execution_count": 22,
     "metadata": {},
     "output_type": "execute_result"
    }
   ],
   "source": [
    "mean_eigenvalue"
   ]
  },
  {
   "cell_type": "code",
   "execution_count": 23,
   "id": "67421e1d-3bb1-4b19-b311-aeb2d8b076e0",
   "metadata": {},
   "outputs": [
    {
     "data": {
      "text/plain": [
       "array([21766.33438051, 21766.33438051, 65136.24726926])"
      ]
     },
     "execution_count": 23,
     "metadata": {},
     "output_type": "execute_result"
    }
   ],
   "source": [
    "shrunk_eigenvalues"
   ]
  },
  {
   "cell_type": "code",
   "execution_count": 24,
   "id": "faa778bc-db3d-4279-a959-2620b2d7c81e",
   "metadata": {},
   "outputs": [],
   "source": [
    "# Reconstruct the covariance matrix with shrunk eigenvalues\n",
    "rie_cov_matrix = eigenvectors @ np.diag(shrunk_eigenvalues) @ eigenvectors.T"
   ]
  },
  {
   "cell_type": "code",
   "execution_count": 25,
   "id": "bec614fb-c590-4e0c-8206-74b2c464c76d",
   "metadata": {},
   "outputs": [
    {
     "data": {
      "text/plain": [
       "array([[6.43291770e+04, 6.13734990e+01, 5.86066888e+03],\n",
       "       [6.13734990e+01, 2.17664229e+04, 8.45079262e+00],\n",
       "       [5.86066888e+03, 8.45079262e+00, 2.25733162e+04]])"
      ]
     },
     "execution_count": 25,
     "metadata": {},
     "output_type": "execute_result"
    }
   ],
   "source": [
    "rie_cov_matrix"
   ]
  },
  {
   "cell_type": "code",
   "execution_count": 26,
   "id": "6d33c5f9-d5dd-4489-b982-8a6ca7a74a64",
   "metadata": {},
   "outputs": [],
   "source": [
    "data = df['Close'].values"
   ]
  },
  {
   "cell_type": "code",
   "execution_count": 27,
   "id": "22f8824a-cfaf-451d-91dc-e0450293aa8a",
   "metadata": {},
   "outputs": [],
   "source": [
    "# Compare with Ledoit-Wolf shrinkage\n",
    "lw = LedoitWolf()\n",
    "lw_cov = lw.fit(data).covariance_"
   ]
  },
  {
   "cell_type": "code",
   "execution_count": 28,
   "id": "74e6fa5c-a326-4ca4-ab4d-9b07439cf2b9",
   "metadata": {},
   "outputs": [
    {
     "data": {
      "text/plain": [
       "array([[6.36531042e+04, 9.02727954e+01, 8.73016045e+03],\n",
       "       [9.02727954e+01, 1.26293187e+02, 2.22467195e+01],\n",
       "       [8.73016045e+03, 2.22467195e+01, 1.45270107e+03]])"
      ]
     },
     "execution_count": 28,
     "metadata": {},
     "output_type": "execute_result"
    }
   ],
   "source": [
    "lw_cov"
   ]
  },
  {
   "cell_type": "code",
   "execution_count": 29,
   "id": "27ce6834-100d-4b04-8be6-ef159361ef65",
   "metadata": {},
   "outputs": [
    {
     "name": "stdout",
     "output_type": "stream",
     "text": [
      "Sample Covariance Matrix (first 3x3):\n",
      " [[ 8.77332186e-01  1.32027659e-01 -5.83556692e-04]\n",
      " [ 1.32027659e-01  1.04297554e+00 -2.48646417e-02]\n",
      " [-5.83556692e-04 -2.48646417e-02  9.65413725e-01]]\n",
      "\n",
      "RIE Covariance Matrix (first 3x3):\n",
      " [[ 1.4777527   0.12109452 -0.00254887]\n",
      " [ 0.12109452  1.60384943 -0.06827578]\n",
      " [-0.00254887 -0.06827578  1.54928346]]\n",
      "\n",
      "Ledoit-Wolf Covariance Matrix (first 3x3):\n",
      " [[ 9.67052462e-01  7.24149375e-03 -3.20070973e-05]\n",
      " [ 7.24149375e-03  9.76137719e-01 -1.36378353e-03]\n",
      " [-3.20070973e-05 -1.36378353e-03  9.71883585e-01]]\n"
     ]
    }
   ],
   "source": [
    "def compute_rie(cov_matrix):\n",
    "    \"\"\"\n",
    "    Computes the Rotation-Invariant Estimator (RIE) for a covariance matrix.\n",
    "\n",
    "    Parameters:\n",
    "    - cov_matrix (np.ndarray): The input covariance matrix (p x p).\n",
    "\n",
    "    Returns:\n",
    "    - np.ndarray: The improved RIE covariance matrix.\n",
    "    \"\"\"\n",
    "    # Eigen decomposition\n",
    "    eigenvalues, eigenvectors = np.linalg.eigh(cov_matrix)\n",
    "    \n",
    "    # Shrink eigenvalues (basic example)\n",
    "    mean_eigenvalue = np.mean(eigenvalues)\n",
    "    shrunk_eigenvalues = np.maximum(eigenvalues, mean_eigenvalue)\n",
    "    \n",
    "    # Reconstruct the covariance matrix with shrunk eigenvalues\n",
    "    rie_cov_matrix = eigenvectors @ np.diag(shrunk_eigenvalues) @ eigenvectors.T\n",
    "    \n",
    "    return rie_cov_matrix\n",
    "\n",
    "\n",
    "# Example usage\n",
    "if __name__ == \"__main__\":\n",
    "    # Generate random data (high-dimensional example: p > n)\n",
    "    np.random.seed(42)\n",
    "    n_samples = 50\n",
    "    n_features = 100\n",
    "    data = np.random.randn(n_samples, n_features)\n",
    "    \n",
    "    # Sample covariance matrix\n",
    "    sample_cov_matrix = np.cov(data, rowvar=False)\n",
    "    \n",
    "    # Apply RIE\n",
    "    rie_cov = compute_rie(sample_cov_matrix)\n",
    "    \n",
    "    # Compare with Ledoit-Wolf shrinkage\n",
    "    lw = LedoitWolf()\n",
    "    lw_cov = lw.fit(data).covariance_\n",
    "    \n",
    "    print(\"Sample Covariance Matrix (first 3x3):\\n\", sample_cov_matrix[:3, :3])\n",
    "    print(\"\\nRIE Covariance Matrix (first 3x3):\\n\", rie_cov[:3, :3])\n",
    "    print(\"\\nLedoit-Wolf Covariance Matrix (first 3x3):\\n\", lw_cov[:3, :3])"
   ]
  },
  {
   "cell_type": "code",
   "execution_count": null,
   "id": "318e872b-3655-4155-96ae-3f0ff58a994f",
   "metadata": {},
   "outputs": [],
   "source": []
  },
  {
   "cell_type": "code",
   "execution_count": null,
   "id": "35016319-694d-4e23-a31d-6f33a24f05a8",
   "metadata": {},
   "outputs": [],
   "source": []
  }
 ],
 "metadata": {
  "kernelspec": {
   "display_name": "machine learning",
   "language": "python",
   "name": "ml"
  },
  "language_info": {
   "codemirror_mode": {
    "name": "ipython",
    "version": 3
   },
   "file_extension": ".py",
   "mimetype": "text/x-python",
   "name": "python",
   "nbconvert_exporter": "python",
   "pygments_lexer": "ipython3",
   "version": "3.12.4"
  }
 },
 "nbformat": 4,
 "nbformat_minor": 5
}
