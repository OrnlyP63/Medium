{
 "cells": [
  {
   "cell_type": "code",
   "execution_count": 1,
   "id": "c36d941e-31a6-42ca-8da1-dcb342524d80",
   "metadata": {},
   "outputs": [],
   "source": [
    "import numpy as np\n",
    "import yfinance as yf\n",
    "from scipy.optimize import minimize"
   ]
  },
  {
   "cell_type": "code",
   "execution_count": 2,
   "id": "f51ca63e-dced-4d08-9dfb-c9cb421d17a5",
   "metadata": {},
   "outputs": [
    {
     "name": "stderr",
     "output_type": "stream",
     "text": [
      "[*********************100%***********************]  3 of 3 completed\n"
     ]
    }
   ],
   "source": [
    "df = yf.download('GC=F NVDA IONQ', start='2021-01-04')"
   ]
  },
  {
   "cell_type": "code",
   "execution_count": 3,
   "id": "38cf8db1-4586-40da-8ea5-6571762e7d43",
   "metadata": {},
   "outputs": [
    {
     "name": "stderr",
     "output_type": "stream",
     "text": [
      "C:\\Users\\User\\AppData\\Local\\Temp\\ipykernel_31684\\3412915546.py:1: FutureWarning: The default fill_method='pad' in DataFrame.pct_change is deprecated and will be removed in a future version. Either fill in any non-leading NA values prior to calling pct_change or specify 'fill_method=None' to not fill NA values.\n",
      "  returns = df['Close'].pct_change().dropna().values\n"
     ]
    }
   ],
   "source": [
    "returns = df['Close'].pct_change().dropna().values"
   ]
  },
  {
   "cell_type": "code",
   "execution_count": 4,
   "id": "07e5d0e3-ca6b-4447-add0-fb9d458e21cf",
   "metadata": {},
   "outputs": [
    {
     "data": {
      "text/plain": [
       "array([[8.35007970e-05, 3.48589543e-05, 1.41473726e-05],\n",
       "       [3.48589543e-05, 3.26223118e-03, 7.26937504e-04],\n",
       "       [1.41473726e-05, 7.26937504e-04, 1.12668070e-03]])"
      ]
     },
     "execution_count": 4,
     "metadata": {},
     "output_type": "execute_result"
    }
   ],
   "source": [
    "cov_matrix = np.cov(returns, rowvar=False)\n",
    "cov_matrix"
   ]
  },
  {
   "cell_type": "code",
   "execution_count": 5,
   "id": "3d3987c7-1f38-45f0-80e1-1fb8e57982aa",
   "metadata": {},
   "outputs": [],
   "source": [
    "expected_returns = np.mean(returns, axis=0)"
   ]
  },
  {
   "cell_type": "code",
   "execution_count": 6,
   "id": "88eaf92b-af7b-4f43-a57b-f1dd9319a936",
   "metadata": {},
   "outputs": [],
   "source": [
    "# Eigen decomposition\n",
    "eigenvalues, eigenvectors = np.linalg.eigh(cov_matrix)\n",
    "\n",
    "# Shrinkage: Replace small eigenvalues with the mean\n",
    "mean_eigenvalue = np.mean(eigenvalues)\n",
    "shrunk_eigenvalues = np.maximum(eigenvalues, mean_eigenvalue)\n",
    "\n",
    "# Reconstruct the covariance matrix\n",
    "rie_cov_matrix = eigenvectors @ np.diag(shrunk_eigenvalues) @ eigenvectors.T"
   ]
  },
  {
   "cell_type": "code",
   "execution_count": 7,
   "id": "e085fb68-361a-4674-b310-be7ad0c89e20",
   "metadata": {},
   "outputs": [],
   "source": [
    "num_assets = cov_matrix.shape[0]"
   ]
  },
  {
   "cell_type": "code",
   "execution_count": 8,
   "id": "27da9f73-67f4-42e0-b480-a02f10f0c25e",
   "metadata": {},
   "outputs": [],
   "source": [
    "# Define the optimization problem\n",
    "def portfolio_variance(weights):\n",
    "    return weights.T @ cov_matrix @ weights\n",
    "\n",
    "# Constraints: weights sum to 1\n",
    "constraints = {'type': 'eq', 'fun': lambda w: np.sum(w) - 1}\n",
    "\n",
    "# Bounds: weights between 0 and 1\n",
    "bounds = [(0, 1) for _ in range(num_assets)]\n",
    "\n",
    "# Initial guess: equal allocation\n",
    "initial_guess = np.ones(num_assets) / num_assets"
   ]
  },
  {
   "cell_type": "code",
   "execution_count": 9,
   "id": "4beca7e7-82cc-43a7-87ec-d1f289b551a2",
   "metadata": {},
   "outputs": [],
   "source": [
    "# Solve the optimization problem\n",
    "result = minimize(portfolio_variance, initial_guess, bounds=bounds, constraints=constraints)"
   ]
  },
  {
   "cell_type": "code",
   "execution_count": 10,
   "id": "1128e42a-657b-4e87-828a-1a5a2a0b453e",
   "metadata": {},
   "outputs": [
    {
     "data": {
      "text/plain": [
       "array([6.44867846e-01, 2.77555756e-17, 3.55132154e-01])"
      ]
     },
     "execution_count": 10,
     "metadata": {},
     "output_type": "execute_result"
    }
   ],
   "source": [
    "result.x"
   ]
  },
  {
   "cell_type": "code",
   "execution_count": 14,
   "id": "45d31d2f-e963-4b7f-9004-5fe3e3ccb6bd",
   "metadata": {},
   "outputs": [],
   "source": [
    "target_return = (expected_returns.min() + expected_returns.max()) / 2"
   ]
  },
  {
   "cell_type": "code",
   "execution_count": 16,
   "id": "fcfb235a-2e1a-4c0c-95d8-0588cd82cad7",
   "metadata": {},
   "outputs": [],
   "source": [
    "risk_aversion=0.1"
   ]
  },
  {
   "cell_type": "code",
   "execution_count": 17,
   "id": "8a856fe8-c260-47cc-b358-bfac3600e640",
   "metadata": {},
   "outputs": [],
   "source": [
    "# Objective function: minimize risk-adjusted return\n",
    "def objective_function(weights):\n",
    "    portfolio_variance = weights.T @ cov_matrix @ weights\n",
    "    portfolio_return = expected_returns @ weights\n",
    "    return risk_aversion * portfolio_variance - portfolio_return\n",
    "\n",
    "# Constraints\n",
    "constraints = [{'type': 'eq', 'fun': lambda w: np.sum(w) - 1}]  # weights sum to 1\n",
    "if target_return is not None:\n",
    "    constraints.append({'type': 'ineq', 'fun': lambda w: expected_returns @ w - target_return})\n",
    "\n",
    "# Bounds: weights between 0 and 1\n",
    "bounds = [(0, 1) for _ in range(num_assets)]\n",
    "\n",
    "# Initial guess: equal allocation\n",
    "initial_guess = np.ones(num_assets) / num_assets\n",
    "\n",
    "# Solve the optimization problem\n",
    "result = minimize(objective_function, initial_guess, bounds=bounds, constraints=constraints)"
   ]
  },
  {
   "cell_type": "code",
   "execution_count": 18,
   "id": "7d6d1b97-7a1b-44fa-95bf-d82a03fc3dd4",
   "metadata": {},
   "outputs": [
    {
     "data": {
      "text/plain": [
       "array([0.        , 0.42277697, 0.57722303])"
      ]
     },
     "execution_count": 18,
     "metadata": {},
     "output_type": "execute_result"
    }
   ],
   "source": [
    "result.x"
   ]
  },
  {
   "cell_type": "code",
   "execution_count": null,
   "id": "59ba42fc-a693-4b46-a904-988f9ffbd2e8",
   "metadata": {},
   "outputs": [],
   "source": []
  }
 ],
 "metadata": {
  "kernelspec": {
   "display_name": "machine learning",
   "language": "python",
   "name": "ml"
  },
  "language_info": {
   "codemirror_mode": {
    "name": "ipython",
    "version": 3
   },
   "file_extension": ".py",
   "mimetype": "text/x-python",
   "name": "python",
   "nbconvert_exporter": "python",
   "pygments_lexer": "ipython3",
   "version": "3.12.4"
  }
 },
 "nbformat": 4,
 "nbformat_minor": 5
}
