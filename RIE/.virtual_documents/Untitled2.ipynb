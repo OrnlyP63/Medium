import numpy as np
import yfinance as yf
import pandas as pd


df = yf.download('GC=F NLR MLPX', start='2021-01-04').dropna()


returns = df['Close'].pct_change().dropna().values


returns


cov_matrix = np.cov(returns, rowvar=False)
cov_matrix


# Eigen decomposition
eigenvalues, eigenvectors = np.linalg.eigh(cov_matrix)

# Shrinkage: Replace small eigenvalues with the mean
mean_eigenvalue = np.mean(eigenvalues)
shrunk_eigenvalues = np.maximum(eigenvalues, mean_eigenvalue)

# Reconstruct the covariance matrix
rie_cov_matrix = eigenvectors @ np.diag(shrunk_eigenvalues) @ eigenvectors.T


rie_cov_matrix


for t in df['Close']:
    print(t)


P = []
for t in df['Close']:

    data = df['Close'].loc[:, t]
    
    short_window=12
    long_window=26
    signal_window=9
    
    EMA_short = data.ewm(span=short_window, adjust=False).mean()
    EMA_long = data.ewm(span=long_window, adjust=False).mean()
    MACD = EMA_short - EMA_long
    
    P.append(MACD.ewm(span=signal_window, adjust=False).mean())


P = pd.concat(P, axis=1)


rie_eigenvalues, rie_eigenvectors = np.linalg.eigh(rie_cov_matrix)


C_neg_rie = np.zeros_like(rie_eigenvectors)


C_neg_rie


for i in range(3):
    C_neg_rie += 1 / np.sqrt(rie_eigenvalues[i]) * rie_eigenvectors[None, i].T @ rie_eigenvectors[None, i]


C_neg_rie


res = (P @ C_neg_rie).clip(lower=0)


weight_positions = res.apply(lambda x: x / x.sum(), axis=1).fillna(0)


weight_positions.tail(50)



